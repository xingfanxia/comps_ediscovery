{
"cells": [
{
"cell_type": "code",
"execution_count": 3,
"metadata": {
"collapsed": true
},
"outputs": [],
"source": [
"import sys\n",
"sys.path.append('..')\n",
"from lib import *\n",
"import pandas as pd\n",
"import numpy as np\n",
"\n",
"forest = RNF(None, None, None, None, None, None, None)\n",
"forest.load_rnf('scen1.first600.64trees.10depth.42rs.20maxfeats.600maxin.pickle')"
]
},
{
"cell_type": "markdown",
"metadata": {},
"source": [
"# Testing whole-forest importance"
]
},
{
"cell_type": "code",
"execution_count": null,
"metadata": {
"collapsed": true
},
"outputs": [],
"source": [
"d = forest.get_feature_importances()"
]
},
{
"cell_type": "code",
"execution_count": null,
"metadata": {
"collapsed": true
},
"outputs": [],
"source": [
"sorted([(d[key], key) for key in d.keys()], reverse=True)"
]
},
{
"cell_type": "markdown",
"metadata": {},
"source": [
"# Testing individual predict"
]
},
{
"cell_type": "code",
"execution_count": 4,
"metadata": {
"collapsed": true
},
"outputs": [],
"source": [
"lsa_np = np.load('../data/parsed/lsa_output.npy')\n",
"\n",
"metadata = pd.read_pickle('../data/parsed/pickles/pickled_data_test.pickle')\n",
"metadata = metadata.loc[metadata['Scenario'] == '401']\n",
"metadata = metadata.reset_index(drop=True)\n",
"\n",
"lsa_df = pd.DataFrame(lsa_np)\n",
"\n",
"df = pd.concat([metadata, lsa_df], axis=1, join_axes=[metadata.index])\n",
"df = df.loc[df['Label'] != '-1']\n",
"df = df.reset_index(drop=True)\n",
"\n",
"cat_features = ['To','From']\n",
"features = list(range(100))\n",
"features.extend(cat_features + ['Date'])\n",
"\n",
"df = df[features + ['Label', 'ID']]\n",
"\n",
"test_df = df[600:].reset_index(drop=True)"
]
},
{
"cell_type": "code",
"execution_count": 5,
"metadata": {
"collapsed": true
},
"outputs": [],
"source": [
"predictions = forest.predict_with_feat_imp(test_df)"
]
},
{
"cell_type": "code",
"execution_count": null,
"metadata": {
"collapsed": true
},
"outputs": [],
"source": [
"metadata.loc[metadata['ID']=='3.407765.PS41KHHMGYEA31NWW4S5W0SLOQLAU3WYA']['Message-Contents']"
]
},
{
"cell_type": "code",
"execution_count": 9,
"metadata": {},
"outputs": [
{
"data": {
"text/plain": [
"'3.409003.ILYTPFB35EUPQ0GB5TZWNWSDGEKRNVOPA'"
]
},
"execution_count": 9,
"metadata": {},
"output_type": "execute_result"
}
],
"source": [
"test_df.loc[1,'ID']"
]
},
{
"cell_type": "code",
"execution_count": 7,
"metadata": {},
"outputs": [
{
"data": {
"text/html": [
"<div>\n",
"<style>\n",
"    .dataframe thead tr:only-child th {\n",
"        text-align: right;\n",
"    }\n",
"\n",
"    .dataframe thead th {\n",
"        text-align: left;\n",
"    }\n",
"\n",
"    .dataframe tbody tr th {\n",
"        vertical-align: top;\n",
"    }\n",
"</style>\n",
"<table border=\"1\" class=\"dataframe\">\n",
"  <thead>\n",
"    <tr style=\"text-align: right;\">\n",
"      <th></th>\n",
"      <th>0</th>\n",
"      <th>1</th>\n",
"      <th>2</th>\n",
"      <th>3</th>\n",
"      <th>4</th>\n",
"      <th>5</th>\n",
"      <th>6</th>\n",
"      <th>7</th>\n",
"      <th>8</th>\n",
"      <th>9</th>\n",
"      <th>...</th>\n",
"      <th>95</th>\n",
"      <th>96</th>\n",
"      <th>97</th>\n",
"      <th>98</th>\n",
"      <th>99</th>\n",
"      <th>To</th>\n",
"      <th>From</th>\n",
"      <th>Date</th>\n",
"      <th>Label</th>\n",
"      <th>ID</th>\n",
"    </tr>\n",
"  </thead>\n",
"  <tbody>\n",
"    <tr>\n",
"      <th>0</th>\n",
"      <td>0.093741</td>\n",
"      <td>-0.126488</td>\n",
"      <td>-0.065405</td>\n",
"      <td>-0.004043</td>\n",
"      <td>0.045035</td>\n",
"      <td>-0.050174</td>\n",
"      <td>-0.064590</td>\n",
"      <td>0.004562</td>\n",
"      <td>-0.055888</td>\n",
"      <td>0.034650</td>\n",
"      <td>...</td>\n",
"      <td>-0.013066</td>\n",
"      <td>0.010517</td>\n",
"      <td>-0.001265</td>\n",
"      <td>-0.076770</td>\n",
"      <td>0.034415</td>\n",
"      <td>[dana.davis@enron.com,  mike.carson@enron.com,...</td>\n",
"      <td>[m..presto@enron.com]</td>\n",
"      <td>2001-09-28 08:12:58-07:00</td>\n",
"      <td>0</td>\n",
"      <td>3.407765.PS41KHHMGYEA31NWW4S5W0SLOQLAU3WYA</td>\n",
"    </tr>\n",
"    <tr>\n",
"      <th>1</th>\n",
"      <td>0.090775</td>\n",
"      <td>-0.059612</td>\n",
"      <td>-0.064171</td>\n",
"      <td>0.011959</td>\n",
"      <td>0.138535</td>\n",
"      <td>0.034246</td>\n",
"      <td>-0.023969</td>\n",
"      <td>-0.045525</td>\n",
"      <td>0.022183</td>\n",
"      <td>0.054270</td>\n",
"      <td>...</td>\n",
"      <td>-0.002251</td>\n",
"      <td>0.086652</td>\n",
"      <td>-0.003936</td>\n",
"      <td>0.000920</td>\n",
"      <td>0.011898</td>\n",
"      <td>[adam.johnson@enron.com]</td>\n",
"      <td>[m..presto@enron.com]</td>\n",
"      <td>2001-05-31 17:50:54-07:00</td>\n",
"      <td>1</td>\n",
"      <td>3.409003.ILYTPFB35EUPQ0GB5TZWNWSDGEKRNVOPA</td>\n",
"    </tr>\n",
"    <tr>\n",
"      <th>2</th>\n",
"      <td>0.096363</td>\n",
"      <td>-0.090933</td>\n",
"      <td>-0.030963</td>\n",
"      <td>-0.010002</td>\n",
"      <td>0.083191</td>\n",
"      <td>-0.064575</td>\n",
"      <td>-0.005209</td>\n",
"      <td>0.035190</td>\n",
"      <td>-0.057231</td>\n",
"      <td>-0.031811</td>\n",
"      <td>...</td>\n",
"      <td>0.065175</td>\n",
"      <td>0.028856</td>\n",
"      <td>-0.014752</td>\n",
"      <td>-0.025459</td>\n",
"      <td>0.030946</td>\n",
"      <td>[bryan.garrett@enron.com]</td>\n",
"      <td>[m..presto@enron.com]</td>\n",
"      <td>2001-06-14 11:13:42-07:00</td>\n",
"      <td>0</td>\n",
"      <td>3.409320.FHLHSXTTKLIOOBE35ASNSLLMDGHIVKOHB</td>\n",
"    </tr>\n",
"    <tr>\n",
"      <th>3</th>\n",
"      <td>0.233509</td>\n",
"      <td>-0.282491</td>\n",
"      <td>-0.005837</td>\n",
"      <td>-0.064291</td>\n",
"      <td>-0.048876</td>\n",
"      <td>-0.016049</td>\n",
"      <td>0.191338</td>\n",
"      <td>0.451776</td>\n",
"      <td>0.194354</td>\n",
"      <td>0.289672</td>\n",
"      <td>...</td>\n",
"      <td>-0.006734</td>\n",
"      <td>-0.021149</td>\n",
"      <td>0.026081</td>\n",
"      <td>0.016384</td>\n",
"      <td>-0.021385</td>\n",
"      <td>[joe.quenet@enron.com]</td>\n",
"      <td>[rebecca.quenet@eds.com]</td>\n",
"      <td>2001-10-22 10:44:43-07:00</td>\n",
"      <td>0</td>\n",
"      <td>3.273672.EOX4B3B2UPTKB4QXBY22HLFHGLAL3D3GA</td>\n",
"    </tr>\n",
"    <tr>\n",
"      <th>4</th>\n",
"      <td>0.098869</td>\n",
"      <td>-0.104493</td>\n",
"      <td>-0.062955</td>\n",
"      <td>0.027021</td>\n",
"      <td>0.083626</td>\n",
"      <td>-0.074546</td>\n",
"      <td>-0.072641</td>\n",
"      <td>-0.109721</td>\n",
"      <td>0.150989</td>\n",
"      <td>0.049980</td>\n",
"      <td>...</td>\n",
"      <td>-0.048538</td>\n",
"      <td>-0.078042</td>\n",
"      <td>0.014199</td>\n",
"      <td>-0.018502</td>\n",
"      <td>0.049561</td>\n",
"      <td>[orig.dl-eol@enron.com]</td>\n",
"      <td>[david.forster@enron.com]</td>\n",
"      <td>2002-01-11 16:03:53-08:00</td>\n",
"      <td>1</td>\n",
"      <td>3.306937.FKZCZAUZJJEVTK2QMSRY1BPRE1UCDVRHB</td>\n",
"    </tr>\n",
"  </tbody>\n",
"</table>\n",
"<p>5 rows × 105 columns</p>\n",
"</div>"
],
"text/plain": [
"          0         1         2         3         4         5         6  \\\n",
"0  0.093741 -0.126488 -0.065405 -0.004043  0.045035 -0.050174 -0.064590   \n",
"1  0.090775 -0.059612 -0.064171  0.011959  0.138535  0.034246 -0.023969   \n",
"2  0.096363 -0.090933 -0.030963 -0.010002  0.083191 -0.064575 -0.005209   \n",
"3  0.233509 -0.282491 -0.005837 -0.064291 -0.048876 -0.016049  0.191338   \n",
"4  0.098869 -0.104493 -0.062955  0.027021  0.083626 -0.074546 -0.072641   \n",
"\n",
"          7         8         9                     ...                      \\\n",
"0  0.004562 -0.055888  0.034650                     ...                       \n",
"1 -0.045525  0.022183  0.054270                     ...                       \n",
"2  0.035190 -0.057231 -0.031811                     ...                       \n",
"3  0.451776  0.194354  0.289672                     ...                       \n",
"4 -0.109721  0.150989  0.049980                     ...                       \n",
"\n",
"         95        96        97        98        99  \\\n",
"0 -0.013066  0.010517 -0.001265 -0.076770  0.034415   \n",
"1 -0.002251  0.086652 -0.003936  0.000920  0.011898   \n",
"2  0.065175  0.028856 -0.014752 -0.025459  0.030946   \n",
"3 -0.006734 -0.021149  0.026081  0.016384 -0.021385   \n",
"4 -0.048538 -0.078042  0.014199 -0.018502  0.049561   \n",
"\n",
"                                                  To  \\\n",
"0  [dana.davis@enron.com,  mike.carson@enron.com,...   \n",
"1                           [adam.johnson@enron.com]   \n",
"2                          [bryan.garrett@enron.com]   \n",
"3                             [joe.quenet@enron.com]   \n",
"4                            [orig.dl-eol@enron.com]   \n",
"\n",
"                        From                       Date  Label  \\\n",
"0      [m..presto@enron.com]  2001-09-28 08:12:58-07:00      0   \n",
"1      [m..presto@enron.com]  2001-05-31 17:50:54-07:00      1   \n",
"2      [m..presto@enron.com]  2001-06-14 11:13:42-07:00      0   \n",
"3   [rebecca.quenet@eds.com]  2001-10-22 10:44:43-07:00      0   \n",
"4  [david.forster@enron.com]  2002-01-11 16:03:53-08:00      1   \n",
"\n",
"                                           ID  \n",
"0  3.407765.PS41KHHMGYEA31NWW4S5W0SLOQLAU3WYA  \n",
"1  3.409003.ILYTPFB35EUPQ0GB5TZWNWSDGEKRNVOPA  \n",
"2  3.409320.FHLHSXTTKLIOOBE35ASNSLLMDGHIVKOHB  \n",
"3  3.273672.EOX4B3B2UPTKB4QXBY22HLFHGLAL3D3GA  \n",
"4  3.306937.FKZCZAUZJJEVTK2QMSRY1BPRE1UCDVRHB  \n",
"\n",
"[5 rows x 105 columns]"
]
},
"execution_count": 7,
"metadata": {},
"output_type": "execute_result"
}
],
"source": [
"test_df.head()"
]
},
{
"cell_type": "code",
"execution_count": 6,
"metadata": {},
"outputs": [
{
"data": {
"text/plain": [
"['1',\n",
" '1',\n",
" '0',\n",
" '0',\n",
" '1',\n",
" '1',\n",
" '1',\n",
" '0',\n",
" '1',\n",
" '1',\n",
" '1',\n",
" '1',\n",
" '1',\n",
" '1',\n",
" '1',\n",
" '1',\n",
" '0',\n",
" '1',\n",
" '1',\n",
" '1',\n",
" '1',\n",
" '0',\n",
" '0',\n",
" '0',\n",
" '0',\n",
" '1',\n",
" '1',\n",
" '1',\n",
" '1',\n",
" '1',\n",
" '1',\n",
" '0',\n",
" '1',\n",
" '1',\n",
" '1',\n",
" '1',\n",
" '1',\n",
" '1',\n",
" '1',\n",
" '0',\n",
" '1',\n",
" '1',\n",
" '0',\n",
" '1',\n",
" '0',\n",
" '0',\n",
" '0',\n",
" '0',\n",
" '0',\n",
" '0',\n",
" '0',\n",
" '1',\n",
" '0',\n",
" '0',\n",
" '0',\n",
" '1',\n",
" '1',\n",
" '1',\n",
" '1',\n",
" '1',\n",
" '1',\n",
" '1',\n",
" '1',\n",
" '1',\n",
" '1',\n",
" '1',\n",
" '1',\n",
" '1',\n",
" '0',\n",
" '1',\n",
" '1',\n",
" '1',\n",
" '1',\n",
" '1',\n",
" '1',\n",
" '1',\n",
" '0',\n",
" '1',\n",
" '1',\n",
" '1',\n",
" '1',\n",
" '1',\n",
" '1',\n",
" '0',\n",
" '1',\n",
" '1',\n",
" '1',\n",
" '0',\n",
" '0',\n",
" '1',\n",
" '1',\n",
" '0',\n",
" '0',\n",
" '0',\n",
" '0',\n",
" '1',\n",
" '0',\n",
" '0',\n",
" '0',\n",
" '0',\n",
" '0',\n",
" '1',\n",
" '0',\n",
" '0',\n",
" '0',\n",
" '1',\n",
" '0',\n",
" '1',\n",
" '1',\n",
" '1']"
]
},
"execution_count": 6,
"metadata": {},
"output_type": "execute_result"
}
],
"source": [
"predictions[1]"
]
},
{
"cell_type": "code",
"execution_count": 32,
"metadata": {},
"outputs": [
{
"data": {
"text/plain": [
"[(0.006911192756798783, 70),\n",
" (0.0030398955759813155, 74),\n",
" (0.0025636834600656954, 82),\n",
" (0.0020039419756239605, 3),\n",
" (0.0018675938507064574, 19)]"
]
},
"execution_count": 32,
"metadata": {},
"output_type": "execute_result"
}
],
"source": [
"doc_to_examine = 0\n",
"sorted([(predictions[2][doc_to_examine][key], key) for key in predictions[2][doc_to_examine].keys()], reverse=True)[:5]"
]
},
{
"cell_type": "code",
"execution_count": 34,
"metadata": {},
"outputs": [
{
"name": "stdout",
"output_type": "stream",
"text": [
"rod\n",
"week\n",
"org\n",
"plan\n",
"-----------\n",
"FYI.\n",
"\n",
"\n",
"\n",
"\n",
"\n",
"\n",
"\n",
"Some South East Power infomation \n",
"\n",
"\n",
"\n",
"\n",
"\n",
"\n",
"\n",
"\n",
"\n",
"\n",
"\n",
"\n",
"\n",
"Industry notes on curtailments and closures\n",
"\n",
"\n",
"RandomLengths\n",
"09/27/2001\n",
"\n",
"\n",
"Plywood/OSB\n",
"\n",
"\n",
"Advanced Wood Resources, Brownsville, Ore., will cease all operations as of November 20. \"Severe competition from the lower-priced OSB, combined with challenging economic conditions and rising costs associated with increased environmental standards,\" were cited as reasons for the closure.\n",
"\n",
"Ge***org***ia-Pacific has announced ***plan***s to shut down nine plywood mills in the South for one ***week*** starting October 1 to replenish log supplies.\n",
"\n",
"Hunt Forest P***rod***ucts will shut down its plywood mill in Natalbany, La., for one ***week*** starting October 1 due to tight log supplies.\n",
"\n",
"LP has announced market-related downtime at most of its U.S. and Canadian OSB mills. Most of the mills will be down a minimum of one ***week***, starting October 8. Plants in Sagola, Mich., and Jasper, Texas, will be down the ***week*** of October 1. Hayward, Wis., will be down the ***week*** of October 15. Carthage, Texas, will be down the ***week*** of September 24. And Silsbee, Texas, will be down the ***week*** of October 8 and for four to six ***week***s thereafter for a press rebuild.\n",
"\n",
"Willamette Industries' plywood mill in Dodson, La., will shut down the ***week*** of September 24 for scheduled maintenance.\n",
"\n",
"\n",
"LUMBER\n",
"\n",
"\n",
"Harwood P***rod***ucts, Branscomb, Calif., has cut p***rod***uction by 20% due to market conditions\n",
"\n",
"Weyerhaeuser will close its three Cedar sawmills in British Columbia for an indefinite duration beginning next ***week***. Market conditions were cited.\n",
"\n",
"Canadian Forest P***rod***ucts will reduce output at its sawmills in British Columbia and Alberta by an estimated 70 million board feet during October.\n",
"\n",
"Abitibi Consolidated ***plan***s to cut p***rod***uction by about 25% at all of its sawmills over the next four ***week***s. \"Market conditions and supplemental export costs\" were cited as reasons for the curtailments.\n",
"\n",
"Slocan Forest P***rod***ucts will reduce p***rod***uction by 30 million board feet by curtailing p***rod***uction the first ***week*** of October\n",
"\n",
"For more information, visit RandomLengths <http://www.randomlengths.com/>\n",
"\n",
" \n",
"Roger Dieringer\n",
"Corporate Supply Manager - Energy\n",
"936.788.9759  Phone\n",
"936.524.0609  Cellular Phone\n",
"888.710-0640  Pager\n"
]
}
],
"source": [
"import re\n",
"\n",
"\n",
"docstring = metadata.loc[metadata['ID'] == test_df.loc[doc_to_examine,'ID'], 'Message-Contents'].values[0]\n",
"important_words = ['image','joe','deals','tracy','daily','rod','elizabeth','week','wordsmith','org','geaccone','parks','scott','hayslett','sager','email','deal','plan','good','office']\n",
"for word in important_words:\n",
"    if word in docstring:\n",
"        print(word)\n",
"        docstring = docstring.replace(word, '***'+word+'***')\n",
"print('-----------')\n",
"print(docstring)"
]
},
{
"cell_type": "code",
"execution_count": 17,
"metadata": {},
"outputs": [
{
"data": {
"text/plain": [
"Series([], Name: Message-Contents, dtype: object)"
]
},
"execution_count": 17,
"metadata": {},
"output_type": "execute_result"
}
],
"source": [
"metadata.loc[metadata['ID'] == '3.438120.GTSTTLNTZ2LVIWQFALPJFBLRPP2UC0G4', 'Message-Contents']"
]
}
],
"metadata": {
"kernelspec": {
"display_name": "Python 3",
"language": "python",
"name": "python3"
},
"language_info": {
"codemirror_mode": {
"name": "ipython",
"version": 3
},
"file_extension": ".py",
"mimetype": "text/x-python",
"name": "python",
"nbconvert_exporter": "python",
"pygments_lexer": "ipython3",
"version": "3.6.2"
}
},
"nbformat": 4,
"nbformat_minor": 2
}
