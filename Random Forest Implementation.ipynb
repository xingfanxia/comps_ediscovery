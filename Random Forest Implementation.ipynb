{
 "cells": [
  {
   "cell_type": "markdown",
   "metadata": {
    "toc": "true"
   },
   "source": [
    " # Table of Contents\n",
    "<div class=\"toc\" style=\"margin-top: 1em;\"><ul class=\"toc-item\" id=\"toc-level0\"><li><span><a href=\"#What-is-Random-Forest\" data-toc-modified-id=\"What-is-Random-Forest-1\"><span class=\"toc-item-num\">1&nbsp;&nbsp;</span>What is Random Forest</a></span></li><li><span><a href=\"#The-algorithm\" data-toc-modified-id=\"The-algorithm-2\"><span class=\"toc-item-num\">2&nbsp;&nbsp;</span>The algorithm</a></span></li><li><span><a href=\"#Data-Prep\" data-toc-modified-id=\"Data-Prep-3\"><span class=\"toc-item-num\">3&nbsp;&nbsp;</span>Data Prep</a></span></li><li><span><a href=\"#Decision-Tree-and-Random-Forest\" data-toc-modified-id=\"Decision-Tree-and-Random-Forest-4\"><span class=\"toc-item-num\">4&nbsp;&nbsp;</span>Decision Tree and Random Forest</a></span><ul class=\"toc-item\"><li><span><a href=\"#Decision-tree-basics\" data-toc-modified-id=\"Decision-tree-basics-4.1\"><span class=\"toc-item-num\">4.1&nbsp;&nbsp;</span>Decision tree basics</a></span></li><li><span><a href=\"#Implementation-of-Tree\" data-toc-modified-id=\"Implementation-of-Tree-4.2\"><span class=\"toc-item-num\">4.2&nbsp;&nbsp;</span>Implementation of Tree</a></span></li></ul></li></ul></div>"
   ]
  },
  {
   "cell_type": "markdown",
   "metadata": {},
   "source": [
    "## What is Random Forest"
   ]
  },
  {
   "cell_type": "markdown",
   "metadata": {},
   "source": [
    ">Decision trees can suffer from high variance which makes their results fragile to the specific training data used.\n",
    "\n",
    ">Building multiple models from samples of your training data, called bagging, can reduce this variance, but the trees are highly correlated.\n",
    "\n",
    ">Random Forest is an extension of bagging that in addition to building trees based on multiple samples of your training data, it also constrains the features that can be used to build the trees, forcing trees to be different. This, in turn, can give a lift in performance."
   ]
  },
  {
   "cell_type": "markdown",
   "metadata": {},
   "source": [
    "## The algorithm"
   ]
  },
  {
   "cell_type": "markdown",
   "metadata": {},
   "source": [
    ">Decision trees involve the greedy selection of the best split point from the dataset at each step.\n",
    "\n",
    ">This algorithm makes decision trees susceptible to high variance if they are not pruned. This high variance can be harnessed and reduced by creating multiple trees with different samples of the training dataset (different views of the problem) and combining their predictions. This approach is called bootstrap aggregation or bagging for short.\n",
    "\n",
    ">A limitation of bagging is that the same greedy algorithm is used to create each tree, meaning that it is likely that the same or very similar split points will be chosen in each tree making the different trees very similar (trees will be correlated). This, in turn, makes their predictions similar, mitigating the variance originally sought.\n",
    "\n",
    ">We can force the decision trees to be different by limiting the features (rows) that the greedy algorithm can evaluate at each split point when creating the tree. This is called the Random Forest algorithm.\n",
    "\n",
    ">Like bagging, multiple samples of the training dataset are taken and a different tree trained on each. The difference is that at each point a split is made in the data and added to the tree, only a fixed subset of attributes can be considered.\n",
    "\n",
    ">For classification problems,  the number of attributes to be considered for the split is limited to the square root of the number of input features.\n",
    "\n",
    ">The result of this one small change are trees that are more different from each other (uncorrelated) resulting predictions that are more diverse and a combined prediction that often has better performance that single tree or bagging alone."
   ]
  },
  {
   "cell_type": "markdown",
   "metadata": {},
   "source": [
    "## Data Prep"
   ]
  },
  {
   "cell_type": "markdown",
   "metadata": {},
   "source": [
    "Sample data used is the sonar dataset."
   ]
  },
  {
   "cell_type": "code",
   "execution_count": 12,
   "metadata": {
    "ExecuteTime": {
     "end_time": "2017-10-17T17:02:47.502773Z",
     "start_time": "2017-10-17T17:02:47.386017Z"
    }
   },
   "outputs": [],
   "source": [
    "%mkdir -p data/research"
   ]
  },
  {
   "cell_type": "code",
   "execution_count": 14,
   "metadata": {
    "ExecuteTime": {
     "end_time": "2017-10-17T17:04:34.712910Z",
     "start_time": "2017-10-17T17:04:34.673041Z"
    }
   },
   "outputs": [
    {
     "data": {
      "text/plain": [
       "('data/research/sonar.all-data.csv', <http.client.HTTPMessage at 0x11043c2e8>)"
      ]
     },
     "execution_count": 14,
     "metadata": {},
     "output_type": "execute_result"
    }
   ],
   "source": [
    "import urllib.request as request\n",
    "file_path = 'data/research/sonar.all-data.csv'\n",
    "d_url = 'https://archive.ics.uci.edu/ml/machine-learning-databases/undocumented/connectionist-bench/sonar/sonar.all-data'\n",
    "request.urlretrieve(d_url, file_path)"
   ]
  },
  {
   "cell_type": "code",
   "execution_count": 15,
   "metadata": {
    "ExecuteTime": {
     "end_time": "2017-10-17T17:05:25.220917Z",
     "start_time": "2017-10-17T17:05:24.662241Z"
    },
    "collapsed": true
   },
   "outputs": [],
   "source": [
    "import pandas as pd\n",
    "df = pd.read_csv(file_path, header=None)"
   ]
  },
  {
   "cell_type": "code",
   "execution_count": 16,
   "metadata": {
    "ExecuteTime": {
     "end_time": "2017-10-17T17:05:25.824825Z",
     "start_time": "2017-10-17T17:05:25.814453Z"
    }
   },
   "outputs": [
    {
     "data": {
      "text/plain": [
       "(208, 61)"
      ]
     },
     "execution_count": 16,
     "metadata": {},
     "output_type": "execute_result"
    }
   ],
   "source": [
    "df.shape"
   ]
  },
  {
   "cell_type": "markdown",
   "metadata": {},
   "source": [
    "## Decision Tree and Random Forest"
   ]
  },
  {
   "cell_type": "markdown",
   "metadata": {},
   "source": [
    "### Decision tree basics"
   ]
  },
  {
   "cell_type": "markdown",
   "metadata": {},
   "source": [
    "In a decision tree, split points are chosed by finding the feature and the value of that feature which results in lowerst cost."
   ]
  },
  {
   "cell_type": "markdown",
   "metadata": {},
   "source": [
    "For classification problem, this cost is usually evaluated by a cost function called Gini index. Gini index calculates the purity of the group of data created by the split point.\n",
    "\n",
    "A tree node is pure (`gini = 0`) if all instances it applies to belong to the same class.\n",
    "\n",
    "*Gini Impurity* is measured as \n",
    "$$\n",
    "G_i = 1 - \\sum_{k=1}^n p_{i,k}^2\n",
    "$$\n",
    "\n",
    "where $p_{i,k}$ refers to the ratio of class $k$  instances among the whole input instances in the $i^{th}$ node.\n",
    "\n",
    "For example, assume there is a node with 54 input instances, 0 of them belong to class A, 49 of them belong to class B, and 5 of them belong to class C. Then the gini score is $1 - (0/54)^2 - (49/54)^2 - (5/54)^2 \\approx 0.168$\n",
    "\n",
    "In our case, we only want a binary classifier outputing `relevant (1)` or `irrelavent (0)`. So if a node perfectly separated the input into one class(leaf), the *gini impurity* will be 0.\n",
    "\n",
    "Another measure will be *Entropy*:\n",
    "$$H_i = - \\sum_{k=1 \\mid p_{i,k} \\neq 0}^n p_{i,k}log(p_{i,k})$$\n",
    "Note *Entropy* is more expensive as it uses $log$.\n",
    "\n",
    "> - Gini is intended for continuous attributes, and Entropy for attributes that occur in classes\n",
    "- Gini is to minimize misclassification\n",
    "- Entropy is for exploratory analysis\n",
    "- Entropy may be a little slower to compute"
   ]
  },
  {
   "cell_type": "markdown",
   "metadata": {
    "ExecuteTime": {
     "end_time": "2017-10-12T16:24:46.529728Z",
     "start_time": "2017-10-12T16:24:46.515712Z"
    }
   },
   "source": [
    "General Implementation of both:"
   ]
  },
  {
   "cell_type": "code",
   "execution_count": null,
   "metadata": {
    "ExecuteTime": {
     "end_time": "2017-10-17T17:05:38.380220Z",
     "start_time": "2017-10-17T17:05:38.365889Z"
    },
    "collapsed": true
   },
   "outputs": [],
   "source": [
    "def calc_shannon_entropy(self, left, right):\n",
    "        left_sum = sum(left.values())\n",
    "        right_sum = sum(right.values())\n",
    "        if 0 in left.values():\n",
    "            left_entropy = 0\n",
    "        else:\n",
    "            left_entropy = sum([-(i/left_sum)*np.log2(i/left_sum) for i in left.values()])\n",
    "\n",
    "        if 0 in right.values():\n",
    "            right_entropy = 0\n",
    "        else:\n",
    "            right_entropy = sum([-(i/right_sum)*np.log2(i/right_sum) for i in right.values()])\n",
    "        entropy = (left_entropy*left_sum + right_entropy*right_sum) / (left_sum + right_sum)\n",
    "        return entropy"
   ]
  },
  {
   "cell_type": "code",
   "execution_count": null,
   "metadata": {
    "ExecuteTime": {
     "end_time": "2017-10-17T17:05:38.658171Z",
     "start_time": "2017-10-17T17:05:38.654286Z"
    },
    "collapsed": true
   },
   "outputs": [],
   "source": [
    "def cal_gini_index(data):\n",
    "    pass"
   ]
  },
  {
   "cell_type": "markdown",
   "metadata": {},
   "source": [
    "### Implementation of Tree"
   ]
  },
  {
   "cell_type": "code",
   "execution_count": 17,
   "metadata": {
    "ExecuteTime": {
     "end_time": "2017-10-17T17:05:38.953897Z",
     "start_time": "2017-10-17T17:05:38.951196Z"
    },
    "collapsed": true
   },
   "outputs": [],
   "source": [
    "import math\n",
    "import numpy as np\n",
    "import random"
   ]
  },
  {
   "cell_type": "code",
   "execution_count": 79,
   "metadata": {
    "ExecuteTime": {
     "end_time": "2017-10-17T17:06:45.776850Z",
     "start_time": "2017-10-17T17:06:45.570177Z"
    },
    "collapsed": true
   },
   "outputs": [],
   "source": [
    "'''\n",
    "A dummy version of tree nodes\n",
    "'''\n",
    "class Node:\n",
    "      \n",
    "    def __init__(self, data, rows, features, depth, max_depth):\n",
    "        self.left = None\n",
    "        self.right = None\n",
    "        self.data = data\n",
    "        self.rows = rows\n",
    "        self.features = features\n",
    "        self.label_index = 60\n",
    "        self.labels = ['R', 'M']\n",
    "        self.spliting_feature_val = None\n",
    "        self.id = '%030x' % random.randrange(16**30)\n",
    "        self.depth = depth\n",
    "        self.max_depth = max_depth\n",
    "        self.min_feature = None\n",
    "\n",
    "    \n",
    "    def calc_shannon_entropy(self):\n",
    "        raw_val = 0\n",
    "        for label in self.labels:\n",
    "            members = self.data.loc[self.data[self.label_index] == label]\n",
    "            if len(members) <= 0: continue\n",
    "            filtered = [x for x in members.index.values if x in self.rows]\n",
    "            intermediate = len(filtered)/len(self.rows)\n",
    "            raw_val += -intermediate*np.log2(intermediate)\n",
    "        return raw_val\n",
    "    \n",
    "    def calc_gini_index(self):\n",
    "        raw_val = 1\n",
    "        for label in self.labels:\n",
    "            members = self.data.loc[self.data[self.label_index] == label]\n",
    "            filtered = [x for x in members.index.values if x in self.rows]\n",
    "#             filtered = members\n",
    "            raw_val -= (len(filtered)/len(self.rows))**2\n",
    "        return raw_val\n",
    "    \n",
    "        \n",
    "    '''\n",
    "    calculate info gain from gini/entropy\n",
    "    '''\n",
    "    def cal_info_gain():\n",
    "        pass\n",
    "    \n",
    "    \n",
    "    def find_break_points(self, df, feature):\n",
    "        breaks = []\n",
    "        for i in range(len(df)-1):\n",
    "            row = df[i:i+1]\n",
    "            next_row = df[i+1:i+2]\n",
    "#             print(row[self.label_index])\n",
    "            if row[self.label_index].values[0] != next_row[self.label_index].values[0]:\n",
    "                breaks.append(next_row[feature].values[0]) #float precision issue, care\n",
    "        return breaks\n",
    "    \n",
    "        \n",
    "    '''\n",
    "    Choose the best feature to split at this point\n",
    "    i.e. low gini/entropy, high infoGain\n",
    "    '''\n",
    "    \n",
    "    def split(self):\n",
    "        if len(self.rows) == 0:\n",
    "            raise ValueError('The node has no document feed, no more splitting')\n",
    "        elif self.calc_gini_index() == 0:\n",
    "            raise ValueError('The node is pure, no more splitting')\n",
    "        elif self.depth == self.max_depth:\n",
    "            raise ValueError('The node has reached max recursion depth, no more splitting')\n",
    "        min_gini, min_feature, min_break_point, new_left, new_right = 1, -999, -999, None, None\n",
    "        for feature in self.features:\n",
    "#             print('parsing')\n",
    "            to_parse = self.data[[feature, self.label_index]]\n",
    "            to_parse = to_parse.loc[to_parse.index.isin (self.rows)]\n",
    "            to_parse.sort_values(feature, inplace=True)\n",
    "#             print(to_parse)\n",
    "            break_points = self.find_break_points(to_parse, feature)\n",
    "            for break_point in break_points:\n",
    "                left = Node(self.data, to_parse.loc[to_parse[feature] < break_point].index.values, [x for x in self.features if x != feature], self.depth+1, self.max_depth)\n",
    "#                 left = Node(to_parse.loc[to_parse[feature] <break_point]\n",
    "                right = Node(self.data, to_parse.loc[to_parse[feature] >= break_point].index.values, [x for x in self.features if x != feature], self.depth+1, self.max_depth)\n",
    "                ## We should ajdust this so it pass self.data and reference of rows and cols\n",
    "#                 print(left.index.values)\n",
    "\n",
    "#                 print(self.calc_gini_index(left))\n",
    "                left_gini = left.calc_gini_index() if len(left.rows) > 0 else 0\n",
    "                right_gini = right.calc_gini_index() if len(right.rows) > 0 else 0\n",
    "                total_gini = (left_gini*len(left.rows) + right_gini*len(right.rows) )/(len(left.rows) + len(right.rows) )\n",
    "#                 min_gini = min(total_gini, min_gini)\n",
    "                if total_gini < min_gini:\n",
    "                    min_gini, min_break_point, min_feature, new_left, new_right = total_gini, break_point, feature, left, right\n",
    "        self.left = new_left\n",
    "        self.right = new_right\n",
    "        self.min_feature, self.min_break_point, self.min_gini = min_feature, min_break_point, min_gini\n",
    "        try:\n",
    "            self.left.split()\n",
    "        except ValueError: # probably need a customized error class\n",
    "            pass\n",
    "        try:\n",
    "            self.right.split()\n",
    "        except ValueError:\n",
    "            pass\n",
    "        \n",
    "    def __str__(self):\n",
    "        return \"[{ID}, {Feature}, {BP}, {Children}]\".format(ID=self.id, Feature=self.min_feature, \n",
    "                                                            BP=self.min_break_point,\n",
    "                                                           Children=[x.id for x in (self.left, self.right)]) if self.left and self.right else \"[{ID}, (Children=None)]\".format(ID=self.id)\n",
    "    \n",
    "    def get_proportions(self, target_label):\n",
    "        members = self.data.loc[self.data[self.label_index] == target_label]\n",
    "        filtered = [x for x in members.index.values if x in self.rows]\n",
    "        raw_val = (len(filtered)/len(self.rows))\n",
    "        return raw_val\n",
    "        "
   ]
  },
  {
   "cell_type": "code",
   "execution_count": 46,
   "metadata": {
    "ExecuteTime": {
     "end_time": "2017-10-17T17:07:21.996457Z",
     "start_time": "2017-10-17T17:06:46.020532Z"
    },
    "scrolled": true
   },
   "outputs": [],
   "source": [
    "ls = [x for x in range(60)]\n",
    "dummy = Node(df, range(df.shape[0]), ls, 0, 2)\n",
    "dummy.split()\n",
    "# print(dummy.left.split())"
   ]
  },
  {
   "cell_type": "code",
   "execution_count": 49,
   "metadata": {},
   "outputs": [
    {
     "name": "stdout",
     "output_type": "stream",
     "text": [
      "[a73fecbbde53d626e757c626e2da37, 10, 0.1989, ['b02e11a5493df86f509ed48a9b36b9', '6c0f022ca7ec88757ef1f3cad3d3d0']]\n",
      "\n",
      "--------------------------------------------------\n",
      "[b02e11a5493df86f509ed48a9b36b9, 3, 0.0525, ['54ca26b5e7bd1a0b91cf0758778a32', '11f9dd5ce829453671a4d810e08455']]\n",
      "[6c0f022ca7ec88757ef1f3cad3d3d0, 15, 0.6699, ['f4c75319cfa702b3ed559e62fea8e6', '090486d48a004e1ada3cb79e7287a1']]\n",
      "\n",
      "--------------------------------------------------\n",
      "[54ca26b5e7bd1a0b91cf0758778a32, (Children=None)]\n",
      "[11f9dd5ce829453671a4d810e08455, (Children=None)]\n",
      "[f4c75319cfa702b3ed559e62fea8e6, (Children=None)]\n",
      "[090486d48a004e1ada3cb79e7287a1, (Children=None)]\n",
      "\n",
      "--------------------------------------------------\n"
     ]
    }
   ],
   "source": [
    "nodes = [dummy]\n",
    "while(len(nodes) > 0):\n",
    "    new_nodes = []\n",
    "    level_str = ''\n",
    "    for node in nodes:\n",
    "        level_str += str(node) + \"\\n\"\n",
    "        if node.left:\n",
    "            new_nodes.append(node.left)\n",
    "        if node.right:\n",
    "            new_nodes.append(node.right)\n",
    "    print(level_str+\"\\n--------------------------------------------------\", end='\\n')\n",
    "    nodes = new_nodes"
   ]
  },
  {
   "cell_type": "code",
   "execution_count": null,
   "metadata": {
    "collapsed": true
   },
   "outputs": [],
   "source": []
  },
  {
   "cell_type": "code",
   "execution_count": 81,
   "metadata": {
    "ExecuteTime": {
     "end_time": "2017-10-15T03:09:58.069975Z",
     "start_time": "2017-10-15T03:09:58.052936Z"
    }
   },
   "outputs": [],
   "source": [
    "'''\n",
    "A dummy implementation of decision trees\n",
    "'''\n",
    "class Tree:\n",
    "    \n",
    "    '''\n",
    "    params:\n",
    "    train_data - training data to trainthe tree\n",
    "    depth - max recursion depth of the tree\n",
    "    benchmark - benchmark for geni/entropy\n",
    "    '''\n",
    "    def __init__(self, train_data, depth, benchmark, rows, features): #should we include data here\n",
    "        self.depth = depth\n",
    "        self.rows = rows\n",
    "        self.features = features\n",
    "        self.data = train_data\n",
    "        self.benchmark = benchmark\n",
    "        self.head = Node(train_data, rows, features, 0, depth)\n",
    "        \n",
    "    '''\n",
    "    Recursively split until geni/entropy benchmark met or max_depth reached\n",
    "    '''\n",
    "    def fit(self):\n",
    "        self.head.split()\n",
    "            \n",
    "    \n",
    "    '''\n",
    "    params: \n",
    "    test_data - test data to run the prediction on\n",
    "    \n",
    "    return: \n",
    "    outputs confidence/probability of each category\n",
    "    '''\n",
    "    def predict(self, test_data):\n",
    "#         assuming input data is a list right now\n",
    "        cur_node = self.head\n",
    "        while (cur_node.left and cur_node.right):\n",
    "            if (test_data[cur_node.min_feature].values[0] < cur_node.min_break_point):\n",
    "                cur_node = cur_node.left\n",
    "            else:\n",
    "                cur_node = cur_node.right\n",
    "        \n",
    "#         here, cur_node should be the leaf\n",
    "        r_confidence = cur_node.get_proportions('R')\n",
    "        m_confidence = cur_node.get_proportions('M')\n",
    "        \n",
    "        return (r_confidence, m_confidence)\n",
    "    \n",
    "    '''\n",
    "    params: \n",
    "    more_data - more training data to update the tree\n",
    "    \n",
    "    return: \n",
    "    Null or we can say something like which nodes are changed\n",
    "    '''\n",
    "    def update(more_data):\n",
    "        pass\n",
    "    \n",
    "    '''\n",
    "    Maybe we can use pickle for this\n",
    "    '''\n",
    "    def store_tree(file_path):\n",
    "        pass\n",
    "    \n",
    "    def load_tree(file_path):\n",
    "        pass"
   ]
  },
  {
   "cell_type": "code",
   "execution_count": 85,
   "metadata": {},
   "outputs": [],
   "source": [
    "\n",
    "ls = [x for x in range(60)]\n",
    "# dummy = Node(df, range(df.shape[0]-20), ls, 0, 2)\n",
    "\n"
   ]
  },
  {
   "cell_type": "code",
   "execution_count": 86,
   "metadata": {},
   "outputs": [
    {
     "data": {
      "text/plain": [
       "(0.3230769230769231, 0.676923076923077)"
      ]
     },
     "execution_count": 86,
     "metadata": {},
     "output_type": "execute_result"
    }
   ],
   "source": [
    "tree.predict(df[200:201])"
   ]
  },
  {
   "cell_type": "code",
   "execution_count": 84,
   "metadata": {
    "scrolled": true
   },
   "outputs": [
    {
     "data": {
      "text/plain": [
       "'M'"
      ]
     },
     "execution_count": 84,
     "metadata": {},
     "output_type": "execute_result"
    }
   ],
   "source": [
    "df[200:201][60].values[0]"
   ]
  },
  {
   "cell_type": "code",
   "execution_count": 99,
   "metadata": {},
   "outputs": [],
   "source": [
    "def cross_val(df, tries):\n",
    "    for i in range(tries):\n",
    "        shuffle = df.sample(frac=1)\n",
    "        tree = Tree(df, 3, None, range(shuffle.shape[0]-20), ls)\n",
    "        tree.fit()\n",
    "        score = 0\n",
    "        for i in range(188, 208):\n",
    "            actual = shuffle[i:i+1][60].values[0]\n",
    "            p = tree.predict(shuffle[i:i+1])\n",
    "            if p[0] > p[1]:\n",
    "        #         print('R/{}'.format(actual))\n",
    "                if 'R' == actual: \n",
    "                    score+=1\n",
    "            else:\n",
    "        #         print('M/{}'.format(actual))\n",
    "                if 'M' == actual: \n",
    "                    score+=1\n",
    "        print(score/(208-188))"
   ]
  },
  {
   "cell_type": "code",
   "execution_count": 101,
   "metadata": {},
   "outputs": [
    {
     "name": "stdout",
     "output_type": "stream",
     "text": [
      "0.95\n",
      "0.8\n",
      "0.95\n",
      "0.8\n",
      "1.0\n"
     ]
    }
   ],
   "source": [
    "cross_val(df, 5)"
   ]
  },
  {
   "cell_type": "code",
   "execution_count": 11,
   "metadata": {
    "ExecuteTime": {
     "end_time": "2017-10-15T03:09:58.617626Z",
     "start_time": "2017-10-15T03:09:58.578957Z"
    },
    "collapsed": true
   },
   "outputs": [],
   "source": [
    "'''\n",
    "Dummy Version of Random Forest\n",
    "'''\n",
    "class RNF: \n",
    "    '''\n",
    "    params:\n",
    "    train_data - training data to trainthe tree\n",
    "    n_trees - number of trees to setup\n",
    "    tree_depth - max recursive\n",
    "    random_seed - seed for random gen\n",
    "    n_max_features - max num of features to pass to each tree\n",
    "    n_max_input - max num of input to pass to each tree\n",
    "    '''\n",
    "    def __init__(train_data, n_trees, tree_depth, random_seed, n_max_features, n_max_input):\n",
    "        init(trees) \n",
    "        self.trees = trees\n",
    "        self.features = [()] #list of tuples like (tree, emails, features)\n",
    "        pass\n",
    "    \n",
    "    '''\n",
    "    Randomly select features and emails from the train_data \n",
    "    '''\n",
    "    def random_select(train_data):\n",
    "        pass\n",
    "        \n",
    "    '''\n",
    "    pass randomly selected emails and features to each tree\n",
    "    '''\n",
    "    def fit():\n",
    "        for tree in trees:\n",
    "            tree.fit(random_select(train_data))\n",
    "    \n",
    "    '''\n",
    "    calculate a proba from output of each tree's prediction\n",
    "    should ouput two arrays: probas and classfication\n",
    "    '''\n",
    "    def some_majority_count_metric():\n",
    "        pass\n",
    "    \n",
    "    def predict(test_data):\n",
    "        scores = [tree.predict(test_data) for tree in trees]\n",
    "        return some_majority_count_metric(scores)\n",
    "    \n",
    "    '''\n",
    "    params: \n",
    "    more_data - more training data to update the forest\n",
    "    \n",
    "    return: \n",
    "    Null or we can say something like which trees are changed\n",
    "    '''\n",
    "    def update(more_data):\n",
    "        pass\n",
    "    \n",
    "    '''\n",
    "    Maybe we can use pickle for this\n",
    "    '''\n",
    "    def store_rnf(file_path):\n",
    "        pass\n",
    "    \n",
    "    def load_rnf(file_path):\n",
    "        pass"
   ]
  },
  {
   "cell_type": "code",
   "execution_count": null,
   "metadata": {
    "collapsed": true
   },
   "outputs": [],
   "source": []
  }
 ],
 "metadata": {
  "kernelspec": {
   "display_name": "Python 3",
   "language": "python",
   "name": "python3"
  },
  "language_info": {
   "codemirror_mode": {
    "name": "ipython",
    "version": 3
   },
   "file_extension": ".py",
   "mimetype": "text/x-python",
   "name": "python",
   "nbconvert_exporter": "python",
   "pygments_lexer": "ipython3",
   "version": "3.6.2"
  },
  "toc": {
   "nav_menu": {},
   "number_sections": true,
   "sideBar": true,
   "skip_h1_title": true,
   "toc_cell": true,
   "toc_position": {},
   "toc_section_display": "block",
   "toc_window_display": true
  }
 },
 "nbformat": 4,
 "nbformat_minor": 2
}
