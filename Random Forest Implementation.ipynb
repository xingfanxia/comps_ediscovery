{
 "cells": [
  {
   "cell_type": "markdown",
   "metadata": {
    "toc": "true"
   },
   "source": [
    " # Table of Contents\n",
    "<div class=\"toc\" style=\"margin-top: 1em;\"><ul class=\"toc-item\" id=\"toc-level0\"><li><span><a href=\"#What-is-Random-Forest\" data-toc-modified-id=\"What-is-Random-Forest-1\"><span class=\"toc-item-num\">1&nbsp;&nbsp;</span>What is Random Forest</a></span></li><li><span><a href=\"#The-algorithm\" data-toc-modified-id=\"The-algorithm-2\"><span class=\"toc-item-num\">2&nbsp;&nbsp;</span>The algorithm</a></span></li><li><span><a href=\"#Data-Prep\" data-toc-modified-id=\"Data-Prep-3\"><span class=\"toc-item-num\">3&nbsp;&nbsp;</span>Data Prep</a></span></li><li><span><a href=\"#Decision-Tree-and-Random-Forest\" data-toc-modified-id=\"Decision-Tree-and-Random-Forest-4\"><span class=\"toc-item-num\">4&nbsp;&nbsp;</span>Decision Tree and Random Forest</a></span><ul class=\"toc-item\"><li><span><a href=\"#Decision-tree-basics\" data-toc-modified-id=\"Decision-tree-basics-4.1\"><span class=\"toc-item-num\">4.1&nbsp;&nbsp;</span>Decision tree basics</a></span></li><li><span><a href=\"#Implementation-of-Tree\" data-toc-modified-id=\"Implementation-of-Tree-4.2\"><span class=\"toc-item-num\">4.2&nbsp;&nbsp;</span>Implementation of Tree</a></span></li></ul></li></ul></div>"
   ]
  },
  {
   "cell_type": "markdown",
   "metadata": {},
   "source": [
    "## What is Random Forest"
   ]
  },
  {
   "cell_type": "markdown",
   "metadata": {},
   "source": [
    ">Decision trees can suffer from high variance which makes their results fragile to the specific training data used.\n",
    "\n",
    ">Building multiple models from samples of your training data, called bagging, can reduce this variance, but the trees are highly correlated.\n",
    "\n",
    ">Random Forest is an extension of bagging that in addition to building trees based on multiple samples of your training data, it also constrains the features that can be used to build the trees, forcing trees to be different. This, in turn, can give a lift in performance."
   ]
  },
  {
   "cell_type": "markdown",
   "metadata": {},
   "source": [
    "## The algorithm"
   ]
  },
  {
   "cell_type": "markdown",
   "metadata": {},
   "source": [
    ">Decision trees involve the greedy selection of the best split point from the dataset at each step.\n",
    "\n",
    ">This algorithm makes decision trees susceptible to high variance if they are not pruned. This high variance can be harnessed and reduced by creating multiple trees with different samples of the training dataset (different views of the problem) and combining their predictions. This approach is called bootstrap aggregation or bagging for short.\n",
    "\n",
    ">A limitation of bagging is that the same greedy algorithm is used to create each tree, meaning that it is likely that the same or very similar split points will be chosen in each tree making the different trees very similar (trees will be correlated). This, in turn, makes their predictions similar, mitigating the variance originally sought.\n",
    "\n",
    ">We can force the decision trees to be different by limiting the features (rows) that the greedy algorithm can evaluate at each split point when creating the tree. This is called the Random Forest algorithm.\n",
    "\n",
    ">Like bagging, multiple samples of the training dataset are taken and a different tree trained on each. The difference is that at each point a split is made in the data and added to the tree, only a fixed subset of attributes can be considered.\n",
    "\n",
    ">For classification problems,  the number of attributes to be considered for the split is limited to the square root of the number of input features.\n",
    "\n",
    ">The result of this one small change are trees that are more different from each other (uncorrelated) resulting predictions that are more diverse and a combined prediction that often has better performance that single tree or bagging alone."
   ]
  },
  {
   "cell_type": "markdown",
   "metadata": {},
   "source": [
    "## Data Prep"
   ]
  },
  {
   "cell_type": "markdown",
   "metadata": {},
   "source": [
    "Sample data used is the sonar dataset."
   ]
  },
  {
   "cell_type": "code",
   "execution_count": 4,
   "metadata": {
    "ExecuteTime": {
     "end_time": "2017-10-12T02:22:01.136765Z",
     "start_time": "2017-10-12T02:22:01.017905Z"
    },
    "collapsed": true
   },
   "outputs": [],
   "source": [
    "%mkdir data/research"
   ]
  },
  {
   "cell_type": "code",
   "execution_count": 6,
   "metadata": {
    "ExecuteTime": {
     "end_time": "2017-10-12T02:23:27.897799Z",
     "start_time": "2017-10-12T02:23:27.462909Z"
    }
   },
   "outputs": [
    {
     "data": {
      "text/plain": [
       "('data/research/sonar.all-data.csv', <http.client.HTTPMessage at 0x10cfb7f28>)"
      ]
     },
     "execution_count": 6,
     "metadata": {},
     "output_type": "execute_result"
    }
   ],
   "source": [
    "import urllib\n",
    "file_path = 'data/research/sonar.all-data.csv'\n",
    "d_url = 'https://archive.ics.uci.edu/ml/machine-learning-databases/undocumented/connectionist-bench/sonar/sonar.all-data'\n",
    "urllib.request.urlretrieve(d_url, file_path)"
   ]
  },
  {
   "cell_type": "code",
   "execution_count": 9,
   "metadata": {
    "ExecuteTime": {
     "end_time": "2017-10-12T02:24:03.599604Z",
     "start_time": "2017-10-12T02:24:03.590118Z"
    },
    "collapsed": true
   },
   "outputs": [],
   "source": [
    "import pandas as pd\n",
    "df = pd.read_csv(file_path, header=None)"
   ]
  },
  {
   "cell_type": "code",
   "execution_count": 10,
   "metadata": {
    "ExecuteTime": {
     "end_time": "2017-10-12T02:24:04.233917Z",
     "start_time": "2017-10-12T02:24:04.207604Z"
    }
   },
   "outputs": [
    {
     "data": {
      "text/html": [
       "<div>\n",
       "<style>\n",
       "    .dataframe thead tr:only-child th {\n",
       "        text-align: right;\n",
       "    }\n",
       "\n",
       "    .dataframe thead th {\n",
       "        text-align: left;\n",
       "    }\n",
       "\n",
       "    .dataframe tbody tr th {\n",
       "        vertical-align: top;\n",
       "    }\n",
       "</style>\n",
       "<table border=\"1\" class=\"dataframe\">\n",
       "  <thead>\n",
       "    <tr style=\"text-align: right;\">\n",
       "      <th></th>\n",
       "      <th>0</th>\n",
       "      <th>1</th>\n",
       "      <th>2</th>\n",
       "      <th>3</th>\n",
       "      <th>4</th>\n",
       "      <th>5</th>\n",
       "      <th>6</th>\n",
       "      <th>7</th>\n",
       "      <th>8</th>\n",
       "      <th>9</th>\n",
       "      <th>...</th>\n",
       "      <th>51</th>\n",
       "      <th>52</th>\n",
       "      <th>53</th>\n",
       "      <th>54</th>\n",
       "      <th>55</th>\n",
       "      <th>56</th>\n",
       "      <th>57</th>\n",
       "      <th>58</th>\n",
       "      <th>59</th>\n",
       "      <th>60</th>\n",
       "    </tr>\n",
       "  </thead>\n",
       "  <tbody>\n",
       "    <tr>\n",
       "      <th>0</th>\n",
       "      <td>0.0200</td>\n",
       "      <td>0.0371</td>\n",
       "      <td>0.0428</td>\n",
       "      <td>0.0207</td>\n",
       "      <td>0.0954</td>\n",
       "      <td>0.0986</td>\n",
       "      <td>0.1539</td>\n",
       "      <td>0.1601</td>\n",
       "      <td>0.3109</td>\n",
       "      <td>0.2111</td>\n",
       "      <td>...</td>\n",
       "      <td>0.0027</td>\n",
       "      <td>0.0065</td>\n",
       "      <td>0.0159</td>\n",
       "      <td>0.0072</td>\n",
       "      <td>0.0167</td>\n",
       "      <td>0.0180</td>\n",
       "      <td>0.0084</td>\n",
       "      <td>0.0090</td>\n",
       "      <td>0.0032</td>\n",
       "      <td>R</td>\n",
       "    </tr>\n",
       "    <tr>\n",
       "      <th>1</th>\n",
       "      <td>0.0453</td>\n",
       "      <td>0.0523</td>\n",
       "      <td>0.0843</td>\n",
       "      <td>0.0689</td>\n",
       "      <td>0.1183</td>\n",
       "      <td>0.2583</td>\n",
       "      <td>0.2156</td>\n",
       "      <td>0.3481</td>\n",
       "      <td>0.3337</td>\n",
       "      <td>0.2872</td>\n",
       "      <td>...</td>\n",
       "      <td>0.0084</td>\n",
       "      <td>0.0089</td>\n",
       "      <td>0.0048</td>\n",
       "      <td>0.0094</td>\n",
       "      <td>0.0191</td>\n",
       "      <td>0.0140</td>\n",
       "      <td>0.0049</td>\n",
       "      <td>0.0052</td>\n",
       "      <td>0.0044</td>\n",
       "      <td>R</td>\n",
       "    </tr>\n",
       "    <tr>\n",
       "      <th>2</th>\n",
       "      <td>0.0262</td>\n",
       "      <td>0.0582</td>\n",
       "      <td>0.1099</td>\n",
       "      <td>0.1083</td>\n",
       "      <td>0.0974</td>\n",
       "      <td>0.2280</td>\n",
       "      <td>0.2431</td>\n",
       "      <td>0.3771</td>\n",
       "      <td>0.5598</td>\n",
       "      <td>0.6194</td>\n",
       "      <td>...</td>\n",
       "      <td>0.0232</td>\n",
       "      <td>0.0166</td>\n",
       "      <td>0.0095</td>\n",
       "      <td>0.0180</td>\n",
       "      <td>0.0244</td>\n",
       "      <td>0.0316</td>\n",
       "      <td>0.0164</td>\n",
       "      <td>0.0095</td>\n",
       "      <td>0.0078</td>\n",
       "      <td>R</td>\n",
       "    </tr>\n",
       "    <tr>\n",
       "      <th>3</th>\n",
       "      <td>0.0100</td>\n",
       "      <td>0.0171</td>\n",
       "      <td>0.0623</td>\n",
       "      <td>0.0205</td>\n",
       "      <td>0.0205</td>\n",
       "      <td>0.0368</td>\n",
       "      <td>0.1098</td>\n",
       "      <td>0.1276</td>\n",
       "      <td>0.0598</td>\n",
       "      <td>0.1264</td>\n",
       "      <td>...</td>\n",
       "      <td>0.0121</td>\n",
       "      <td>0.0036</td>\n",
       "      <td>0.0150</td>\n",
       "      <td>0.0085</td>\n",
       "      <td>0.0073</td>\n",
       "      <td>0.0050</td>\n",
       "      <td>0.0044</td>\n",
       "      <td>0.0040</td>\n",
       "      <td>0.0117</td>\n",
       "      <td>R</td>\n",
       "    </tr>\n",
       "    <tr>\n",
       "      <th>4</th>\n",
       "      <td>0.0762</td>\n",
       "      <td>0.0666</td>\n",
       "      <td>0.0481</td>\n",
       "      <td>0.0394</td>\n",
       "      <td>0.0590</td>\n",
       "      <td>0.0649</td>\n",
       "      <td>0.1209</td>\n",
       "      <td>0.2467</td>\n",
       "      <td>0.3564</td>\n",
       "      <td>0.4459</td>\n",
       "      <td>...</td>\n",
       "      <td>0.0031</td>\n",
       "      <td>0.0054</td>\n",
       "      <td>0.0105</td>\n",
       "      <td>0.0110</td>\n",
       "      <td>0.0015</td>\n",
       "      <td>0.0072</td>\n",
       "      <td>0.0048</td>\n",
       "      <td>0.0107</td>\n",
       "      <td>0.0094</td>\n",
       "      <td>R</td>\n",
       "    </tr>\n",
       "  </tbody>\n",
       "</table>\n",
       "<p>5 rows × 61 columns</p>\n",
       "</div>"
      ],
      "text/plain": [
       "       0       1       2       3       4       5       6       7       8   \\\n",
       "0  0.0200  0.0371  0.0428  0.0207  0.0954  0.0986  0.1539  0.1601  0.3109   \n",
       "1  0.0453  0.0523  0.0843  0.0689  0.1183  0.2583  0.2156  0.3481  0.3337   \n",
       "2  0.0262  0.0582  0.1099  0.1083  0.0974  0.2280  0.2431  0.3771  0.5598   \n",
       "3  0.0100  0.0171  0.0623  0.0205  0.0205  0.0368  0.1098  0.1276  0.0598   \n",
       "4  0.0762  0.0666  0.0481  0.0394  0.0590  0.0649  0.1209  0.2467  0.3564   \n",
       "\n",
       "       9  ...      51      52      53      54      55      56      57      58  \\\n",
       "0  0.2111 ...  0.0027  0.0065  0.0159  0.0072  0.0167  0.0180  0.0084  0.0090   \n",
       "1  0.2872 ...  0.0084  0.0089  0.0048  0.0094  0.0191  0.0140  0.0049  0.0052   \n",
       "2  0.6194 ...  0.0232  0.0166  0.0095  0.0180  0.0244  0.0316  0.0164  0.0095   \n",
       "3  0.1264 ...  0.0121  0.0036  0.0150  0.0085  0.0073  0.0050  0.0044  0.0040   \n",
       "4  0.4459 ...  0.0031  0.0054  0.0105  0.0110  0.0015  0.0072  0.0048  0.0107   \n",
       "\n",
       "       59  60  \n",
       "0  0.0032   R  \n",
       "1  0.0044   R  \n",
       "2  0.0078   R  \n",
       "3  0.0117   R  \n",
       "4  0.0094   R  \n",
       "\n",
       "[5 rows x 61 columns]"
      ]
     },
     "execution_count": 10,
     "metadata": {},
     "output_type": "execute_result"
    }
   ],
   "source": [
    "df.head(5)"
   ]
  },
  {
   "cell_type": "markdown",
   "metadata": {},
   "source": [
    "## Decision Tree and Random Forest"
   ]
  },
  {
   "cell_type": "markdown",
   "metadata": {},
   "source": [
    "### Decision tree basics"
   ]
  },
  {
   "cell_type": "markdown",
   "metadata": {},
   "source": [
    "In a decision tree, split points are chosed by finding the feature and the value of that feature which results in lowerst cost."
   ]
  },
  {
   "cell_type": "markdown",
   "metadata": {},
   "source": [
    "For classification problem, this cost is usually evaluated by a cost function called Gini index. Gini index calculates the purity of the group of data created by the split point.\n",
    "\n",
    "A tree node is pure (`gini = 0`) if all instances it applies to belong to the same class.\n",
    "\n",
    "*Gini Impurity* is measured as \n",
    "$$\n",
    "G_i = 1 - \\sum_{k=1}^n p_{i,k}^2\n",
    "$$\n",
    "\n",
    "where $p_{i,k}$ refers to the ratio of class $k$  instances among the whole input instances in the $i^{th}$ node.\n",
    "\n",
    "For example, assume there is a node with 54 input instances, 0 of them belong to class A, 49 of them belong to class B, and 5 of them belong to class C. Then the gini score is $1 - (0/54)^2 - (49/54)^2 - (5/54)^2 \\approx 0.168$\n",
    "\n",
    "In our case, we only want a binary classifier outputing `relevant (1)` or `irrelavent (0)`. So if a node perfectly separated the input into one class(leaf), the *gini impurity* will be 0.\n",
    "\n",
    "Another measure will be *Entropy*:\n",
    "$$H_i = - \\sum_{k=1 \\mid p_{i,k} \\neq 0}^n p_{i,k}log(p_{i,k})$$\n",
    "Note *Entropy* is more expensive as it uses $log$.\n",
    "\n",
    "> - Gini is intended for continuous attributes, and Entropy for attributes that occur in classes\n",
    "- Gini is to minimize misclassification\n",
    "- Entropy is for exploratory analysis\n",
    "- Entropy may be a little slower to compute"
   ]
  },
  {
   "cell_type": "markdown",
   "metadata": {
    "ExecuteTime": {
     "end_time": "2017-10-12T16:24:46.529728Z",
     "start_time": "2017-10-12T16:24:46.515712Z"
    }
   },
   "source": [
    "General Implementation of both:"
   ]
  },
  {
   "cell_type": "code",
   "execution_count": 2,
   "metadata": {
    "ExecuteTime": {
     "end_time": "2017-10-15T01:32:44.812863Z",
     "start_time": "2017-10-15T01:32:44.810018Z"
    },
    "collapsed": true
   },
   "outputs": [],
   "source": [
    "def calc_shannon_entropy(data):\n",
    "    pass"
   ]
  },
  {
   "cell_type": "code",
   "execution_count": 1,
   "metadata": {
    "ExecuteTime": {
     "end_time": "2017-10-15T01:32:43.383486Z",
     "start_time": "2017-10-15T01:32:43.373072Z"
    },
    "collapsed": true
   },
   "outputs": [],
   "source": [
    "def cal_gini_index(data):\n",
    "    pass"
   ]
  },
  {
   "cell_type": "markdown",
   "metadata": {},
   "source": [
    "### Implementation of Tree"
   ]
  },
  {
   "cell_type": "code",
   "execution_count": 7,
   "metadata": {
    "ExecuteTime": {
     "end_time": "2017-10-15T03:08:51.110540Z",
     "start_time": "2017-10-15T03:08:51.101966Z"
    },
    "collapsed": true
   },
   "outputs": [],
   "source": [
    "'''\n",
    "A dummy version of tree nodes\n",
    "'''\n",
    "class Node:\n",
    "    def __init__():\n",
    "        self.left = None\n",
    "        self.right = None\n",
    "        pass\n",
    "    \n",
    "    def calc_shannon_entropy(data):\n",
    "        pass\n",
    "    \n",
    "    def cal_gini_index(data):\n",
    "        pass\n",
    "    \n",
    "    '''\n",
    "    calculate info gain from gini/entropy\n",
    "    '''\n",
    "    def cal_info_gain():\n",
    "    \n",
    "    '''\n",
    "    Choose the best feature to split at this point\n",
    "    i.e. low gini/entropy, high infoGain\n",
    "    '''\n",
    "    def split():\n",
    "        pass"
   ]
  },
  {
   "cell_type": "code",
   "execution_count": 10,
   "metadata": {
    "ExecuteTime": {
     "end_time": "2017-10-15T03:09:58.069975Z",
     "start_time": "2017-10-15T03:09:58.052936Z"
    },
    "collapsed": true
   },
   "outputs": [],
   "source": [
    "'''\n",
    "A dummy implementation of decision trees\n",
    "'''\n",
    "class Tree:\n",
    "    \n",
    "    '''\n",
    "    params:\n",
    "    train_data - training data to trainthe tree\n",
    "    depth - max recursion depth of the tree\n",
    "    benchmark - benchmark for geni/entropy\n",
    "    '''\n",
    "    def __init__(train_data, depth, benchmark): #should we include data here\n",
    "        self.depth = depth\n",
    "        \n",
    "    '''\n",
    "    Recursively split until geni/entropy benchmark met or max_depth reached\n",
    "    '''\n",
    "    def fit(train_data):\n",
    "        pass\n",
    "    \n",
    "    '''\n",
    "    params: \n",
    "    test_data - test data to run the prediction on\n",
    "    \n",
    "    return: \n",
    "    outputs confidence/probability of each category\n",
    "    '''\n",
    "    def predict(test_data):\n",
    "        pass\n",
    "    \n",
    "    '''\n",
    "    params: \n",
    "    more_data - more training data to update the tree\n",
    "    \n",
    "    return: \n",
    "    Null or we can say something like which nodes are changed\n",
    "    '''\n",
    "    def update(more_data):\n",
    "        pass\n",
    "    \n",
    "    '''\n",
    "    Maybe we can use pickle for this\n",
    "    '''\n",
    "    def store_tree(file_path):\n",
    "        pass\n",
    "    \n",
    "    def load_tree(file_path):\n",
    "        pass"
   ]
  },
  {
   "cell_type": "code",
   "execution_count": 11,
   "metadata": {
    "ExecuteTime": {
     "end_time": "2017-10-15T03:09:58.617626Z",
     "start_time": "2017-10-15T03:09:58.578957Z"
    },
    "collapsed": true
   },
   "outputs": [],
   "source": [
    "'''\n",
    "Dummy Version of Random Forest\n",
    "'''\n",
    "class RNF: \n",
    "    '''\n",
    "    params:\n",
    "    train_data - training data to trainthe tree\n",
    "    n_trees - number of trees to setup\n",
    "    tree_depth - max recursive\n",
    "    random_seed - seed for random gen\n",
    "    n_max_features - max num of features to pass to each tree\n",
    "    n_max_input - max num of input to pass to each tree\n",
    "    '''\n",
    "    def __init__(train_data, n_trees, tree_depth, random_seed, n_max_features, n_max_input):\n",
    "        init(trees) \n",
    "        self.trees = trees\n",
    "        self.features = [()] #list of tuples like (tree, emails, features)\n",
    "        pass\n",
    "    \n",
    "    '''\n",
    "    Randomly select features and emails from the train_data \n",
    "    '''\n",
    "    def random_select(train_data):\n",
    "        pass\n",
    "        \n",
    "    '''\n",
    "    pass randomly selected emails and features to each tree\n",
    "    '''\n",
    "    def fit():\n",
    "        for tree in trees:\n",
    "            tree.fit(random_select(train_data))\n",
    "    \n",
    "    '''\n",
    "    calculate a proba from output of each tree's prediction\n",
    "    should ouput two arrays: probas and classfication\n",
    "    '''\n",
    "    def some_majority_count_metric():\n",
    "        pass\n",
    "    \n",
    "    def predict(test_data):\n",
    "        scores = [tree.predict(test_data) for tree in trees]\n",
    "        return some_majority_count_metric(scores)\n",
    "    \n",
    "    '''\n",
    "    params: \n",
    "    more_data - more training data to update the forest\n",
    "    \n",
    "    return: \n",
    "    Null or we can say something like which trees are changed\n",
    "    '''\n",
    "    def update(more_data):\n",
    "        pass\n",
    "    \n",
    "    '''\n",
    "    Maybe we can use pickle for this\n",
    "    '''\n",
    "    def store_rnf(file_path):\n",
    "        pass\n",
    "    \n",
    "    def load_rnf(file_path):\n",
    "        pass"
   ]
  },
  {
   "cell_type": "code",
   "execution_count": null,
   "metadata": {
    "collapsed": true
   },
   "outputs": [],
   "source": []
  }
 ],
 "metadata": {
  "kernelspec": {
   "display_name": "Python 3",
   "language": "python",
   "name": "python3"
  },
  "language_info": {
   "codemirror_mode": {
    "name": "ipython",
    "version": 3
   },
   "file_extension": ".py",
   "mimetype": "text/x-python",
   "name": "python",
   "nbconvert_exporter": "python",
   "pygments_lexer": "ipython3",
   "version": "3.6.2"
  },
  "toc": {
   "nav_menu": {},
   "number_sections": true,
   "sideBar": true,
   "skip_h1_title": true,
   "toc_cell": true,
   "toc_position": {},
   "toc_section_display": "block",
   "toc_window_display": true
  }
 },
 "nbformat": 4,
 "nbformat_minor": 2
}
