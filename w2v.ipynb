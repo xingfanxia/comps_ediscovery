{
 "cells": [
  {
   "cell_type": "markdown",
   "metadata": {
    "toc": "true"
   },
   "source": [
    " # Table of Contents\n",
    "<div class=\"toc\" style=\"margin-top: 1em;\"><ul class=\"toc-item\" id=\"toc-level0\"><li><span><a href=\"#Data-Preparation\" data-toc-modified-id=\"Data-Preparation-1\"><span class=\"toc-item-num\">1&nbsp;&nbsp;</span>Data Preparation</a></span></li><li><span><a href=\"#Match-ID\" data-toc-modified-id=\"Match-ID-2\"><span class=\"toc-item-num\">2&nbsp;&nbsp;</span>Match ID</a></span></li><li><span><a href=\"#Extract-words\" data-toc-modified-id=\"Extract-words-3\"><span class=\"toc-item-num\">3&nbsp;&nbsp;</span>Extract words</a></span></li><li><span><a href=\"#Running-W2V\" data-toc-modified-id=\"Running-W2V-4\"><span class=\"toc-item-num\">4&nbsp;&nbsp;</span>Running W2V</a></span></li></ul></div>"
   ]
  },
  {
   "cell_type": "markdown",
   "metadata": {},
   "source": [
    "## Data Preparation"
   ]
  },
  {
   "cell_type": "code",
   "execution_count": 1,
   "metadata": {
    "ExecuteTime": {
     "end_time": "2017-10-03T17:01:24.165703Z",
     "start_time": "2017-10-03T17:01:23.595036Z"
    },
    "collapsed": true
   },
   "outputs": [],
   "source": [
    "import pandas as pd"
   ]
  },
  {
   "cell_type": "code",
   "execution_count": 2,
   "metadata": {
    "ExecuteTime": {
     "end_time": "2017-10-03T17:01:35.751516Z",
     "start_time": "2017-10-03T17:01:24.167786Z"
    },
    "collapsed": true
   },
   "outputs": [],
   "source": [
    "df = pd.read_csv(\"data/emails.csv\")"
   ]
  },
  {
   "cell_type": "code",
   "execution_count": 3,
   "metadata": {
    "ExecuteTime": {
     "end_time": "2017-10-03T17:01:35.768895Z",
     "start_time": "2017-10-03T17:01:35.753513Z"
    }
   },
   "outputs": [
    {
     "data": {
      "text/html": [
       "<div>\n",
       "<style>\n",
       "    .dataframe thead tr:only-child th {\n",
       "        text-align: right;\n",
       "    }\n",
       "\n",
       "    .dataframe thead th {\n",
       "        text-align: left;\n",
       "    }\n",
       "\n",
       "    .dataframe tbody tr th {\n",
       "        vertical-align: top;\n",
       "    }\n",
       "</style>\n",
       "<table border=\"1\" class=\"dataframe\">\n",
       "  <thead>\n",
       "    <tr style=\"text-align: right;\">\n",
       "      <th></th>\n",
       "      <th>file</th>\n",
       "      <th>message</th>\n",
       "    </tr>\n",
       "  </thead>\n",
       "  <tbody>\n",
       "    <tr>\n",
       "      <th>0</th>\n",
       "      <td>allen-p/_sent_mail/1.</td>\n",
       "      <td>Message-ID: &lt;18782981.1075855378110.JavaMail.e...</td>\n",
       "    </tr>\n",
       "    <tr>\n",
       "      <th>1</th>\n",
       "      <td>allen-p/_sent_mail/10.</td>\n",
       "      <td>Message-ID: &lt;15464986.1075855378456.JavaMail.e...</td>\n",
       "    </tr>\n",
       "    <tr>\n",
       "      <th>2</th>\n",
       "      <td>allen-p/_sent_mail/100.</td>\n",
       "      <td>Message-ID: &lt;24216240.1075855687451.JavaMail.e...</td>\n",
       "    </tr>\n",
       "    <tr>\n",
       "      <th>3</th>\n",
       "      <td>allen-p/_sent_mail/1000.</td>\n",
       "      <td>Message-ID: &lt;13505866.1075863688222.JavaMail.e...</td>\n",
       "    </tr>\n",
       "    <tr>\n",
       "      <th>4</th>\n",
       "      <td>allen-p/_sent_mail/1001.</td>\n",
       "      <td>Message-ID: &lt;30922949.1075863688243.JavaMail.e...</td>\n",
       "    </tr>\n",
       "  </tbody>\n",
       "</table>\n",
       "</div>"
      ],
      "text/plain": [
       "                       file                                            message\n",
       "0     allen-p/_sent_mail/1.  Message-ID: <18782981.1075855378110.JavaMail.e...\n",
       "1    allen-p/_sent_mail/10.  Message-ID: <15464986.1075855378456.JavaMail.e...\n",
       "2   allen-p/_sent_mail/100.  Message-ID: <24216240.1075855687451.JavaMail.e...\n",
       "3  allen-p/_sent_mail/1000.  Message-ID: <13505866.1075863688222.JavaMail.e...\n",
       "4  allen-p/_sent_mail/1001.  Message-ID: <30922949.1075863688243.JavaMail.e..."
      ]
     },
     "execution_count": 3,
     "metadata": {},
     "output_type": "execute_result"
    }
   ],
   "source": [
    "df.head()"
   ]
  },
  {
   "cell_type": "code",
   "execution_count": 4,
   "metadata": {
    "ExecuteTime": {
     "end_time": "2017-10-03T17:01:35.774491Z",
     "start_time": "2017-10-03T17:01:35.770520Z"
    },
    "scrolled": false
   },
   "outputs": [
    {
     "name": "stdout",
     "output_type": "stream",
     "text": [
      "Message-ID: <15464986.1075855378456.JavaMail.evans@thyme>\n",
      "Date: Fri, 4 May 2001 13:51:00 -0700 (PDT)\n",
      "From: phillip.allen@enron.com\n",
      "To: john.lavorato@enron.com\n",
      "Subject: Re:\n",
      "Mime-Version: 1.0\n",
      "Content-Type: text/plain; charset=us-ascii\n",
      "Content-Transfer-Encoding: 7bit\n",
      "X-From: Phillip K Allen\n",
      "X-To: John J Lavorato <John J Lavorato/ENRON@enronXgate@ENRON>\n",
      "X-cc: \n",
      "X-bcc: \n",
      "X-Folder: \\Phillip_Allen_Jan2002_1\\Allen, Phillip K.\\'Sent Mail\n",
      "X-Origin: Allen-P\n",
      "X-FileName: pallen (Non-Privileged).pst\n",
      "\n",
      "Traveling to have a business meeting takes the fun out of the trip.  Especially if you have to prepare a presentation.  I would suggest holding the business plan meetings here then take a trip without any formal business meetings.  I would even try and get some honest opinions on whether a trip is even desired or necessary.\n",
      "\n",
      "As far as the business meetings, I think it would be more productive to try and stimulate discussions across the different groups about what is working and what is not.  Too often the presenter speaks and the others are quiet just waiting for their turn.   The meetings might be better if held in a round table discussion format.  \n",
      "\n",
      "My suggestion for where to go is Austin.  Play golf and rent a ski boat and jet ski's.  Flying somewhere takes too much time.\n",
      "\n"
     ]
    }
   ],
   "source": [
    "print(df[1:2]['message'][1])"
   ]
  },
  {
   "cell_type": "markdown",
   "metadata": {},
   "source": [
    "## Match ID"
   ]
  },
  {
   "cell_type": "code",
   "execution_count": 14,
   "metadata": {
    "ExecuteTime": {
     "end_time": "2017-10-03T17:01:35.778526Z",
     "start_time": "2017-10-03T17:01:35.776139Z"
    },
    "collapsed": true
   },
   "outputs": [],
   "source": [
    "import csv, sys, os, re, glob"
   ]
  },
  {
   "cell_type": "code",
   "execution_count": 68,
   "metadata": {
    "ExecuteTime": {
     "end_time": "2017-10-03T17:01:35.785095Z",
     "start_time": "2017-10-03T17:01:35.780335Z"
    },
    "collapsed": true
   },
   "outputs": [],
   "source": [
    "def list_files(dir):\n",
    "    r = []\n",
    "    for f in glob.iglob('data/enron_set/**/*.txt', recursive=True):\n",
    "        usable_f = f.replace('\\\\','/')\n",
    "        if re.match(r'[\\w\\d/.-]*3\\.[0-9]*\\.[A-Z0-9]*\\.txt', usable_f):\n",
    "            r.append(usable_f)\n",
    "    return r"
   ]
  },
  {
   "cell_type": "code",
   "execution_count": 108,
   "metadata": {
    "ExecuteTime": {
     "end_time": "2017-10-03T17:01:35.791191Z",
     "start_time": "2017-10-03T17:01:35.786914Z"
    },
    "collapsed": true
   },
   "outputs": [],
   "source": [
    "def is_empty_email(contents):\n",
    "    empty_pattern = re.compile(\"X-ZLID:.*(\\r|\\n)*\\*{11}[\\r\\n]EDRM Enron Email\", re.MULTILINE)\n",
    "    if empty_pattern.search(contents):\n",
    "         return True\n",
    "    return False"
   ]
  },
  {
   "cell_type": "code",
   "execution_count": 109,
   "metadata": {
    "ExecuteTime": {
     "end_time": "2017-10-03T17:01:35.811650Z",
     "start_time": "2017-10-03T17:01:35.793154Z"
    },
    "collapsed": true
   },
   "outputs": [],
   "source": [
    "def match_trec(file):\n",
    "#     to_pattern = r\"To:.*<(.*)>\"\n",
    "    from_pattern = r\"From:(.*)\"\n",
    "    contents_pattern = re.compile(\"X-ZLID:.*[\\r\\n]((?:.|\\r|\\n)*)\\*{11}[\\r\\n]EDRM Enron Email\", re.MULTILINE)\n",
    "    from_name = file.split('/')[-3][14:-8]\n",
    "    email_id = file.split('/')[-1][:-4]\n",
    "    date_pattern = r\"Date: (.*)\"\n",
    "    with open(file, 'r') as text:\n",
    "        string = text.read()\n",
    "#         if not is_empty_email(string):\n",
    "        try:\n",
    "#             to_string = re.search(to_pattern, string).group(1)\n",
    "#                 from_string = re.search(from_pattern, string).group(1)\n",
    "            contents = re.search(contents_pattern, string)\n",
    "            if contents:\n",
    "                contents = contents.group(1).replace('\\n','').strip()\n",
    "            else:\n",
    "                contents = ''\n",
    "#                 contents = re.search(contents_pattern, string).group(1).replace('\\n','').strip()\n",
    "            date_string = re.search(date_pattern, string).group(1)\n",
    "            return [from_name, date_string, contents, email_id]\n",
    "        except:\n",
    "            print('match_trec error:')\n",
    "            print(file)\n",
    "            print(string)\n",
    "            print('-----------------')"
   ]
  },
  {
   "cell_type": "code",
   "execution_count": 28,
   "metadata": {
    "ExecuteTime": {
     "end_time": "2017-10-03T17:01:35.816932Z",
     "start_time": "2017-10-03T17:01:35.814347Z"
    },
    "collapsed": true
   },
   "outputs": [],
   "source": [
    "working_path = 'data/enron_set/'"
   ]
  },
  {
   "cell_type": "code",
   "execution_count": 72,
   "metadata": {
    "ExecuteTime": {
     "end_time": "2017-10-03T17:01:35.845179Z",
     "start_time": "2017-10-03T17:01:35.819180Z"
    }
   },
   "outputs": [],
   "source": [
    "file_list = list_files(working_path)"
   ]
  },
  {
   "cell_type": "code",
   "execution_count": 73,
   "metadata": {},
   "outputs": [
    {
     "data": {
      "text/plain": [
       "['data/enron_set/edrm-enron-v2_allen-p_xml.zip/text_000/3.818885.JLRYP3ARLIIYUC4AX14ZJE3A1RAPULBFA.txt',\n",
       " 'data/enron_set/edrm-enron-v2_allen-p_xml.zip/text_000/3.818886.LDZQSGT5FQLDRLO1WBHN2MK2DFSDVTACA.txt',\n",
       " 'data/enron_set/edrm-enron-v2_allen-p_xml.zip/text_000/3.818896.IVOAU4ATG11DYDPDLW5BEB0LXJEL14TGB.txt',\n",
       " 'data/enron_set/edrm-enron-v2_allen-p_xml.zip/text_000/3.818908.A0CV1HWH4CFTZMBCQWRRDZRJFIKDBFYJB.txt',\n",
       " 'data/enron_set/edrm-enron-v2_allen-p_xml.zip/text_000/3.818913.HRJLOFPA325QON43Q0PAAXW0NGI11IR2B.txt',\n",
       " 'data/enron_set/edrm-enron-v2_allen-p_xml.zip/text_000/3.818914.H0JO0RYAUKPP32YFJ0ICJQDTKFZ40POUA.txt',\n",
       " 'data/enron_set/edrm-enron-v2_allen-p_xml.zip/text_000/3.818915.DVZB12GWTWPMSUO2NGZ31PLQBTMN2I3OB.txt',\n",
       " 'data/enron_set/edrm-enron-v2_allen-p_xml.zip/text_000/3.818917.LHBZH0YQ2IA3FFF1LTS23GR1VFGSQLDLB.txt',\n",
       " 'data/enron_set/edrm-enron-v2_allen-p_xml.zip/text_000/3.818937.KUIKG5EH0XMXL4NLHHHTLNKELYHDH3FTB.txt',\n",
       " 'data/enron_set/edrm-enron-v2_allen-p_xml.zip/text_000/3.818952.KHTELI4FF4CEDZSFPHHGSCEBZ4E4O4SHB.txt']"
      ]
     },
     "execution_count": 73,
     "metadata": {},
     "output_type": "execute_result"
    }
   ],
   "source": [
    "file_list[:10]"
   ]
  },
  {
   "cell_type": "code",
   "execution_count": 110,
   "metadata": {
    "ExecuteTime": {
     "end_time": "2017-10-03T17:01:37.517788Z",
     "start_time": "2017-10-03T17:01:35.846958Z"
    }
   },
   "outputs": [
    {
     "name": "stdout",
     "output_type": "stream",
     "text": [
      "files, errors, no info: 455449 331 0\n"
     ]
    }
   ],
   "source": [
    "from_names, dates, contents, email_ids = [], [], [], []\n",
    "error_cnt = 0\n",
    "no_info_cnt = 0\n",
    "for f in file_list:\n",
    "    trecid = f[:-4]\n",
    "    try:\n",
    "        info = match_trec(f)\n",
    "        if info:\n",
    "            from_names.append(info[0])\n",
    "            dates.append(info[1])\n",
    "            contents.append(info[2])\n",
    "            email_ids.append(info[3])\n",
    "        else:\n",
    "            no_info_cnt += 1\n",
    "    except UnicodeDecodeError:\n",
    "        error_cnt += 1\n",
    "print(\"files, errors, no info:\",len(file_list),error_cnt, no_info_cnt)"
   ]
  },
  {
   "cell_type": "code",
   "execution_count": 112,
   "metadata": {
    "ExecuteTime": {
     "end_time": "2017-10-03T17:01:37.524115Z",
     "start_time": "2017-10-03T17:01:37.519540Z"
    },
    "collapsed": true
   },
   "outputs": [],
   "source": [
    "contents = pd.DataFrame(\n",
    "        {\n",
    "            'id': email_ids,\n",
    "            'sender': from_names,\n",
    "            'dates': dates,\n",
    "            'message': contents\n",
    "        }\n",
    ")"
   ]
  },
  {
   "cell_type": "code",
   "execution_count": 111,
   "metadata": {},
   "outputs": [
    {
     "data": {
      "text/plain": [
       "455118"
      ]
     },
     "execution_count": 111,
     "metadata": {},
     "output_type": "execute_result"
    }
   ],
   "source": [
    "len(dates)"
   ]
  },
  {
   "cell_type": "code",
   "execution_count": 113,
   "metadata": {
    "ExecuteTime": {
     "end_time": "2017-10-03T17:01:37.552479Z",
     "start_time": "2017-10-03T17:01:37.525995Z"
    }
   },
   "outputs": [
    {
     "data": {
      "text/html": [
       "<div>\n",
       "<style>\n",
       "    .dataframe thead tr:only-child th {\n",
       "        text-align: right;\n",
       "    }\n",
       "\n",
       "    .dataframe thead th {\n",
       "        text-align: left;\n",
       "    }\n",
       "\n",
       "    .dataframe tbody tr th {\n",
       "        vertical-align: top;\n",
       "    }\n",
       "</style>\n",
       "<table border=\"1\" class=\"dataframe\">\n",
       "  <thead>\n",
       "    <tr style=\"text-align: right;\">\n",
       "      <th></th>\n",
       "      <th>dates</th>\n",
       "      <th>id</th>\n",
       "      <th>message</th>\n",
       "      <th>sender</th>\n",
       "    </tr>\n",
       "  </thead>\n",
       "  <tbody>\n",
       "    <tr>\n",
       "      <th>0</th>\n",
       "      <td>Thu, 10 May 2001 12:50:00 -0700 (PDT)</td>\n",
       "      <td>3.818885.JLRYP3ARLIIYUC4AX14ZJE3A1RAPULBFA</td>\n",
       "      <td>Jeff,Jacques Craig will draw up a release.  Wh...</td>\n",
       "      <td>allen-p</td>\n",
       "    </tr>\n",
       "    <tr>\n",
       "      <th>1</th>\n",
       "      <td>Mon, 25 Sep 2000 07:01:00 -0700 (PDT)</td>\n",
       "      <td>3.818886.LDZQSGT5FQLDRLO1WBHN2MK2DFSDVTACA</td>\n",
       "      <td>---------------------- Forwarded by Phillip K ...</td>\n",
       "      <td>allen-p</td>\n",
       "    </tr>\n",
       "    <tr>\n",
       "      <th>2</th>\n",
       "      <td>Wed, 9 May 2001 17:13:00 -0700 (PDT)</td>\n",
       "      <td>3.818896.IVOAU4ATG11DYDPDLW5BEB0LXJEL14TGB</td>\n",
       "      <td>The west desk would like 2 analysts.</td>\n",
       "      <td>allen-p</td>\n",
       "    </tr>\n",
       "    <tr>\n",
       "      <th>3</th>\n",
       "      <td>Mon, 11 Sep 2000 09:19:00 -0700 (PDT)</td>\n",
       "      <td>3.818908.A0CV1HWH4CFTZMBCQWRRDZRJFIKDBFYJB</td>\n",
       "      <td></td>\n",
       "      <td>allen-p</td>\n",
       "    </tr>\n",
       "    <tr>\n",
       "      <th>4</th>\n",
       "      <td>Mon, 7 May 2001 16:23:00 -0700 (PDT)</td>\n",
       "      <td>3.818913.HRJLOFPA325QON43Q0PAAXW0NGI11IR2B</td>\n",
       "      <td>---------------------- Forwarded by Phillip K ...</td>\n",
       "      <td>allen-p</td>\n",
       "    </tr>\n",
       "    <tr>\n",
       "      <th>5</th>\n",
       "      <td>Mon, 30 Apr 2001 13:37:00 -0700 (PDT)</td>\n",
       "      <td>3.818914.H0JO0RYAUKPP32YFJ0ICJQDTKFZ40POUA</td>\n",
       "      <td>---------------------- Forwarded by Phillip K ...</td>\n",
       "      <td>allen-p</td>\n",
       "    </tr>\n",
       "    <tr>\n",
       "      <th>6</th>\n",
       "      <td>Tue, 14 Nov 2000 06:33:00 -0800 (PST)</td>\n",
       "      <td>3.818915.DVZB12GWTWPMSUO2NGZ31PLQBTMN2I3OB</td>\n",
       "      <td>Ina, Where can we put Barry T.?Phillip--------...</td>\n",
       "      <td>allen-p</td>\n",
       "    </tr>\n",
       "    <tr>\n",
       "      <th>7</th>\n",
       "      <td>Mon, 13 Nov 2000 05:25:00 -0800 (PST)</td>\n",
       "      <td>3.818917.LHBZH0YQ2IA3FFF1LTS23GR1VFGSQLDLB</td>\n",
       "      <td>Faith, Regarding the 2001 plan, the members of...</td>\n",
       "      <td>allen-p</td>\n",
       "    </tr>\n",
       "    <tr>\n",
       "      <th>8</th>\n",
       "      <td>Tue, 26 Sep 2000 09:27:00 -0700 (PDT)</td>\n",
       "      <td>3.818937.KUIKG5EH0XMXL4NLHHHTLNKELYHDH3FTB</td>\n",
       "      <td></td>\n",
       "      <td>allen-p</td>\n",
       "    </tr>\n",
       "    <tr>\n",
       "      <th>9</th>\n",
       "      <td>Tue, 19 Sep 2000 09:35:00 -0700 (PDT)</td>\n",
       "      <td>3.818952.KHTELI4FF4CEDZSFPHHGSCEBZ4E4O4SHB</td>\n",
       "      <td>---------------------- Forwarded by Phillip K ...</td>\n",
       "      <td>allen-p</td>\n",
       "    </tr>\n",
       "    <tr>\n",
       "      <th>10</th>\n",
       "      <td>Tue, 12 Sep 2000 06:42:00 -0700 (PDT)</td>\n",
       "      <td>3.818955.CX4LT4GP3XH3MGLL51IB2BVAZ2U2VXNVA</td>\n",
       "      <td>Brenda, I checked my records and I mailed chec...</td>\n",
       "      <td>allen-p</td>\n",
       "    </tr>\n",
       "    <tr>\n",
       "      <th>11</th>\n",
       "      <td>Tue, 12 Sep 2000 00:27:00 -0700 (PDT)</td>\n",
       "      <td>3.818957.CCB4EO20FNJBHYWDQ0DUH2DRRF0CIRE3B</td>\n",
       "      <td>http://www.hearme.com/vc2/?chnlOwnr=pallen@enr...</td>\n",
       "      <td>allen-p</td>\n",
       "    </tr>\n",
       "    <tr>\n",
       "      <th>12</th>\n",
       "      <td>Wed, 6 Sep 2000 03:46:00 -0700 (PDT)</td>\n",
       "      <td>3.818983.AJTCDVX1PR5DGEUMZMH4KXKFGNP2UUDMA</td>\n",
       "      <td>Ina, Can you pull Tori K.'s and Martin Cuilla'...</td>\n",
       "      <td>allen-p</td>\n",
       "    </tr>\n",
       "    <tr>\n",
       "      <th>13</th>\n",
       "      <td>Fri, 1 Sep 2000 06:08:00 -0700 (PDT)</td>\n",
       "      <td>3.818990.HXASVSDZI3XLP4DZ0VQF1S2GQFR3BG55A</td>\n",
       "      <td>---------------------- Forwarded by Phillip K ...</td>\n",
       "      <td>allen-p</td>\n",
       "    </tr>\n",
       "    <tr>\n",
       "      <th>14</th>\n",
       "      <td>Fri, 8 Sep 2000 05:30:00 -0700 (PDT)</td>\n",
       "      <td>3.818991.JXSK0DM5APL4XLMGSWNSF5URF11ND32HB</td>\n",
       "      <td>---------------------- Forwarded by Phillip K ...</td>\n",
       "      <td>allen-p</td>\n",
       "    </tr>\n",
       "    <tr>\n",
       "      <th>15</th>\n",
       "      <td>Mon, 11 Sep 2000 02:19:00 -0700 (PDT)</td>\n",
       "      <td>3.818992.JHCA5VRZRKMZL3YYMH2FVAQVMYZPEYD4B</td>\n",
       "      <td>Jeff, You would clearly receive a commission o...</td>\n",
       "      <td>allen-p</td>\n",
       "    </tr>\n",
       "    <tr>\n",
       "      <th>16</th>\n",
       "      <td>Mon, 11 Sep 2000 07:16:00 -0700 (PDT)</td>\n",
       "      <td>3.818996.A2TUD1PEWFP2G5WHOYR2VRR4AD2TRNWEB</td>\n",
       "      <td>why is aeco basis so low on the list?  Is NWPL...</td>\n",
       "      <td>allen-p</td>\n",
       "    </tr>\n",
       "    <tr>\n",
       "      <th>17</th>\n",
       "      <td>Fri, 17 Nov 2000 00:27:00 -0800 (PST)</td>\n",
       "      <td>3.818999.PWQ5W34PNUFQVBMM0NO1ZHNHDXTFEEKAA</td>\n",
       "      <td>---------------------- Forwarded by Phillip K ...</td>\n",
       "      <td>allen-p</td>\n",
       "    </tr>\n",
       "    <tr>\n",
       "      <th>18</th>\n",
       "      <td>Wed, 6 Dec 2000 04:41:00 -0800 (PST)</td>\n",
       "      <td>3.819008.B3YCL35XITHSEYS3VDUECANBQWG3RNS3B</td>\n",
       "      <td>please remove my name and information from the...</td>\n",
       "      <td>allen-p</td>\n",
       "    </tr>\n",
       "    <tr>\n",
       "      <th>19</th>\n",
       "      <td>Wed, 6 Dec 2000 04:43:00 -0800 (PST)</td>\n",
       "      <td>3.819009.K24GSVNII032TC5PEKSWQYYAZTQO0CD0A</td>\n",
       "      <td>I would support Matt Lenhart's promotion to th...</td>\n",
       "      <td>allen-p</td>\n",
       "    </tr>\n",
       "    <tr>\n",
       "      <th>20</th>\n",
       "      <td>Wed, 13 Dec 2000 03:28:00 -0800 (PST)</td>\n",
       "      <td>3.819018.LKPJJANNJNBTQME0XJH0HVYKQBPA2C4LA</td>\n",
       "      <td>---------------------- Forwarded by Phillip K ...</td>\n",
       "      <td>allen-p</td>\n",
       "    </tr>\n",
       "    <tr>\n",
       "      <th>21</th>\n",
       "      <td>Fri, 15 Dec 2000 07:38:00 -0800 (PST)</td>\n",
       "      <td>3.819020.AUCADJS2ZQNEQCKRQLKRYQPH3KTBCXZLB</td>\n",
       "      <td>Larry, 10 AM tomorrow is good for me.  If you ...</td>\n",
       "      <td>allen-p</td>\n",
       "    </tr>\n",
       "    <tr>\n",
       "      <th>22</th>\n",
       "      <td>Thu, 14 Dec 2000 06:15:00 -0800 (PST)</td>\n",
       "      <td>3.819027.P0IHU1RSVVKDPEMTB3ZVIZBA0XY5L0D0B</td>\n",
       "      <td>Lucy,Here is a new file for 12/15.For the rent...</td>\n",
       "      <td>allen-p</td>\n",
       "    </tr>\n",
       "    <tr>\n",
       "      <th>23</th>\n",
       "      <td>Tue, 19 Dec 2000 23:20:00 -0800 (PST)</td>\n",
       "      <td>3.819029.OEBQPMBTBZDNPPMGOYB2PQUAG0TDRFHWB</td>\n",
       "      <td>Fax number 713-646-2391</td>\n",
       "      <td>allen-p</td>\n",
       "    </tr>\n",
       "    <tr>\n",
       "      <th>24</th>\n",
       "      <td>Fri, 22 Dec 2000 01:54:00 -0800 (PST)</td>\n",
       "      <td>3.819034.GFNE2EXF5JOTW3DGJAHDUJDVYYJGFZBQB</td>\n",
       "      <td>Monique SanchezJay ReitmeyerRandy GayMatt Lenhart</td>\n",
       "      <td>allen-p</td>\n",
       "    </tr>\n",
       "    <tr>\n",
       "      <th>25</th>\n",
       "      <td>Wed, 27 Dec 2000 08:27:00 -0800 (PST)</td>\n",
       "      <td>3.819037.D1JWOWRCMRFHBJVO40DERFJFZT3VX300B</td>\n",
       "      <td>Gentlemen, I continue to speak to an attorney ...</td>\n",
       "      <td>allen-p</td>\n",
       "    </tr>\n",
       "    <tr>\n",
       "      <th>26</th>\n",
       "      <td>Fri, 22 Dec 2000 07:06:00 -0800 (PST)</td>\n",
       "      <td>3.819039.NR3KTUYD1GTO1DJ5MWH14RWNJC5CH2YLA</td>\n",
       "      <td>Steve,I am sending you a variety of charts wit...</td>\n",
       "      <td>allen-p</td>\n",
       "    </tr>\n",
       "    <tr>\n",
       "      <th>27</th>\n",
       "      <td>Fri, 29 Dec 2000 02:14:00 -0800 (PST)</td>\n",
       "      <td>3.819044.E0ASK23N3VXEYSBG4VIRSWKGPZOX23ZDB</td>\n",
       "      <td>---------------------- Forwarded by Phillip K ...</td>\n",
       "      <td>allen-p</td>\n",
       "    </tr>\n",
       "    <tr>\n",
       "      <th>28</th>\n",
       "      <td>Thu, 4 Jan 2001 04:01:00 -0800 (PST)</td>\n",
       "      <td>3.819045.FPJ0DNNGKZWMBT3AGWR2DN4EBSFGZ1YQB</td>\n",
       "      <td>I can't open a winmail.dat file.  can you send...</td>\n",
       "      <td>allen-p</td>\n",
       "    </tr>\n",
       "    <tr>\n",
       "      <th>29</th>\n",
       "      <td>Thu, 4 Jan 2001 06:40:00 -0800 (PST)</td>\n",
       "      <td>3.819050.OP11EIYO5D2HEIPQO05UYQHSBD5YIVTQA</td>\n",
       "      <td></td>\n",
       "      <td>allen-p</td>\n",
       "    </tr>\n",
       "    <tr>\n",
       "      <th>...</th>\n",
       "      <td>...</td>\n",
       "      <td>...</td>\n",
       "      <td>...</td>\n",
       "      <td>...</td>\n",
       "    </tr>\n",
       "    <tr>\n",
       "      <th>455088</th>\n",
       "      <td>Tue, 12 Jun 2001 11:54:51 -0700 (PDT)</td>\n",
       "      <td>3.136389.GG12MT3IWBNNO5ZEOSARWL0FFEIIHGN2B</td>\n",
       "      <td>-----Original Message-----From: \\t\"Ritter, Fre...</td>\n",
       "      <td>zufferli-j</td>\n",
       "    </tr>\n",
       "    <tr>\n",
       "      <th>455089</th>\n",
       "      <td>Wed, 13 Jun 2001 05:54:39 -0700 (PDT)</td>\n",
       "      <td>3.136390.BDMWQQIO2TU4AWKTIENDRSB42H3UYPSQB</td>\n",
       "      <td>Does this information reflect the additions of...</td>\n",
       "      <td>zufferli-j</td>\n",
       "    </tr>\n",
       "    <tr>\n",
       "      <th>455090</th>\n",
       "      <td>Mon, 27 Aug 2001 10:23:54 -0700 (PDT)</td>\n",
       "      <td>3.136391.JR3DHDJINZAGYAXXTJRPYLFQCW12NQBMA</td>\n",
       "      <td>-----Original Message-----From: \\t\"Suzy Elster...</td>\n",
       "      <td>zufferli-j</td>\n",
       "    </tr>\n",
       "    <tr>\n",
       "      <th>455091</th>\n",
       "      <td>Wed, 13 Jun 2001 06:33:52 -0700 (PDT)</td>\n",
       "      <td>3.136392.MO5B4YJ21QWWX0YLKN45YCZGEPJLKVD4B</td>\n",
       "      <td>-----Original Message-----From: \\tZufferli, Jo...</td>\n",
       "      <td>zufferli-j</td>\n",
       "    </tr>\n",
       "    <tr>\n",
       "      <th>455092</th>\n",
       "      <td>Wed, 13 Jun 2001 06:33:06 -0700 (PDT)</td>\n",
       "      <td>3.136393.PVYYAIHNV0JBORWQR5LA2HZMFZZRVRXNB</td>\n",
       "      <td>If you look at the Cal 03-Cal 10 period, you s...</td>\n",
       "      <td>zufferli-j</td>\n",
       "    </tr>\n",
       "    <tr>\n",
       "      <th>455093</th>\n",
       "      <td>Wed, 13 Jun 2001 07:19:27 -0700 (PDT)</td>\n",
       "      <td>3.136394.AYKWWJ3QWS52251H2WPPQQBYX3RKO3BMB</td>\n",
       "      <td>Here is the spreadsheet that I sent you at the...</td>\n",
       "      <td>zufferli-j</td>\n",
       "    </tr>\n",
       "    <tr>\n",
       "      <th>455094</th>\n",
       "      <td>Wed, 13 Jun 2001 10:04:17 -0700 (PDT)</td>\n",
       "      <td>3.136395.NZKGNU2W1DGIXR2ISLM4PR4CY1IPFB2AB</td>\n",
       "      <td>Here are my comments on the original guarantee...</td>\n",
       "      <td>zufferli-j</td>\n",
       "    </tr>\n",
       "    <tr>\n",
       "      <th>455095</th>\n",
       "      <td>Thu, 14 Jun 2001 12:31:54 -0700 (PDT)</td>\n",
       "      <td>3.136396.DNHYGIV20SIFMUO45HWP3YVN5CSMMTRMA</td>\n",
       "      <td>John Lavorato already said that he would make ...</td>\n",
       "      <td>zufferli-j</td>\n",
       "    </tr>\n",
       "    <tr>\n",
       "      <th>455096</th>\n",
       "      <td>Fri, 15 Jun 2001 15:13:29 -0700 (PDT)</td>\n",
       "      <td>3.136397.FKS2WSJE33G4RIGZM1I5AEFSB1WXF122A</td>\n",
       "      <td>I was meaning to give you a call this week and...</td>\n",
       "      <td>zufferli-j</td>\n",
       "    </tr>\n",
       "    <tr>\n",
       "      <th>455097</th>\n",
       "      <td>Wed, 13 Jun 2001 08:07:06 -0700 (PDT)</td>\n",
       "      <td>3.136398.NXJ3LYJNQKEAAZ1VVCAEZGK241R4MZHNA</td>\n",
       "      <td>-----Original Message-----From: \\t\"J&amp;J Zufferl...</td>\n",
       "      <td>zufferli-j</td>\n",
       "    </tr>\n",
       "    <tr>\n",
       "      <th>455098</th>\n",
       "      <td>Wed, 13 Jun 2001 08:17:43 -0700 (PDT)</td>\n",
       "      <td>3.136399.B33LK2UXQJXNGBLRYM0OFZTL0Z5URI2VB</td>\n",
       "      <td>-----Original Message-----From: \\t\"J&amp;J Zufferl...</td>\n",
       "      <td>zufferli-j</td>\n",
       "    </tr>\n",
       "    <tr>\n",
       "      <th>455099</th>\n",
       "      <td>Wed, 20 Jun 2001 12:13:05 -0700 (PDT)</td>\n",
       "      <td>3.136400.JAGD01ONXEHMQOH4XMY4FM35C5BB5DWUB</td>\n",
       "      <td>-----Original Message-----From: \\t\"Travelocity...</td>\n",
       "      <td>zufferli-j</td>\n",
       "    </tr>\n",
       "    <tr>\n",
       "      <th>455100</th>\n",
       "      <td>Tue, 19 Jun 2001 06:11:18 -0700 (PDT)</td>\n",
       "      <td>3.136401.AFM13LYYLN0I3FHVMWNIBS1X34FHU3A2A</td>\n",
       "      <td>-----Original Message-----From: \\tWilliams III...</td>\n",
       "      <td>zufferli-j</td>\n",
       "    </tr>\n",
       "    <tr>\n",
       "      <th>455101</th>\n",
       "      <td>Mon, 18 Jun 2001 07:26:56 -0700 (PDT)</td>\n",
       "      <td>3.136402.OH3OO3KHGKFX5UPQLXRBQB2POYVHF54NA</td>\n",
       "      <td>-----Original Message-----From: \\t\"Ritter, Fre...</td>\n",
       "      <td>zufferli-j</td>\n",
       "    </tr>\n",
       "    <tr>\n",
       "      <th>455102</th>\n",
       "      <td>Wed, 20 Jun 2001 13:17:46 -0700 (PDT)</td>\n",
       "      <td>3.136403.BYYWGPFQ0OIX0SIEUCXTZS1L1H3MVYUGA</td>\n",
       "      <td>Please give Enpower access to Murray Fichten, ...</td>\n",
       "      <td>zufferli-j</td>\n",
       "    </tr>\n",
       "    <tr>\n",
       "      <th>455103</th>\n",
       "      <td>Tue, 19 Jun 2001 07:49:47 -0700 (PDT)</td>\n",
       "      <td>3.136404.DJ4HTFO3D0X20RYG0I4EV0IDH1UDRUBBA</td>\n",
       "      <td>-----Original Message-----From: \\tHillis, Kimb...</td>\n",
       "      <td>zufferli-j</td>\n",
       "    </tr>\n",
       "    <tr>\n",
       "      <th>455104</th>\n",
       "      <td>Fri, 22 Jun 2001 13:07:34 -0700 (PDT)</td>\n",
       "      <td>3.136405.HCUESMJQHC3UDD11VIWRSTEICORMJVZFB</td>\n",
       "      <td>I will attend -----Original Message-----From: ...</td>\n",
       "      <td>zufferli-j</td>\n",
       "    </tr>\n",
       "    <tr>\n",
       "      <th>455105</th>\n",
       "      <td>Mon, 25 Jun 2001 06:38:16 -0700 (PDT)</td>\n",
       "      <td>3.136406.IZA4E4GFGV5JIV30FC5KZ530L50L3FRCA</td>\n",
       "      <td>Financial settlement occurs between Enron and ...</td>\n",
       "      <td>zufferli-j</td>\n",
       "    </tr>\n",
       "    <tr>\n",
       "      <th>455106</th>\n",
       "      <td>Mon, 25 Jun 2001 06:40:56 -0700 (PDT)</td>\n",
       "      <td>3.136407.LOJWOGM1CSU41IZNNVDG4UMEQN5L2NK0A</td>\n",
       "      <td>-----Original Message-----From: \\tdsmith@ptc.c...</td>\n",
       "      <td>zufferli-j</td>\n",
       "    </tr>\n",
       "    <tr>\n",
       "      <th>455107</th>\n",
       "      <td>Mon, 25 Jun 2001 07:39:57 -0700 (PDT)</td>\n",
       "      <td>3.136408.I0DWIFAMRCD0XBZZBYKWG3NEW0H2FBS4A</td>\n",
       "      <td>-----Original Message-----From: \\tHemstock, Ro...</td>\n",
       "      <td>zufferli-j</td>\n",
       "    </tr>\n",
       "    <tr>\n",
       "      <th>455108</th>\n",
       "      <td>Wed, 13 Jun 2001 08:16:08 -0700 (PDT)</td>\n",
       "      <td>3.136409.BX4MF0BVHGIS4PPP1BWBK423RD3YWAWWB</td>\n",
       "      <td>-----Original Message-----From: \\t\"J&amp;J Zufferl...</td>\n",
       "      <td>zufferli-j</td>\n",
       "    </tr>\n",
       "    <tr>\n",
       "      <th>455109</th>\n",
       "      <td>Wed, 20 Jun 2001 14:07:00 -0700 (PDT)</td>\n",
       "      <td>3.136410.OBTLECW4I0UP2E4Z2R4KCX1RFVZIEC4OA</td>\n",
       "      <td>I hope stock goes to $35 so I can buy it at re...</td>\n",
       "      <td>zufferli-j</td>\n",
       "    </tr>\n",
       "    <tr>\n",
       "      <th>455110</th>\n",
       "      <td>Wed, 23 Jan 2002 14:26:36 -0800 (PST)</td>\n",
       "      <td>3.136411.P5SIXCGH13MXQCG5PEKJS0F1NPQKKRXHA</td>\n",
       "      <td>Hi John,The attached are the pictures of the 1...</td>\n",
       "      <td>zufferli-j</td>\n",
       "    </tr>\n",
       "    <tr>\n",
       "      <th>455111</th>\n",
       "      <td>Thu, 24 Jan 2002 13:26:31 -0800 (PST)</td>\n",
       "      <td>3.136412.BGX4IZYUKQE403NLM3A5BRINTYKDRU34B</td>\n",
       "      <td></td>\n",
       "      <td>zufferli-j</td>\n",
       "    </tr>\n",
       "    <tr>\n",
       "      <th>455112</th>\n",
       "      <td>Thu, 24 Jan 2002 06:40:20 -0800 (PST)</td>\n",
       "      <td>3.136413.IM3P1SH3KV0100H5LG5DL0YYVHHAX11NA</td>\n",
       "      <td>i lifted it last night for 82,000 -----Origina...</td>\n",
       "      <td>zufferli-j</td>\n",
       "    </tr>\n",
       "    <tr>\n",
       "      <th>455113</th>\n",
       "      <td>Thu, 24 Jan 2002 08:12:25 -0800 (PST)</td>\n",
       "      <td>3.136414.OPXOGAV51OT1F4RJHQTSMFWTOEGC2MHGA</td>\n",
       "      <td>-----Original Message-----From: \\t\"Edward Chan...</td>\n",
       "      <td>zufferli-j</td>\n",
       "    </tr>\n",
       "    <tr>\n",
       "      <th>455114</th>\n",
       "      <td>Thu, 24 Jan 2002 12:45:49 -0800 (PST)</td>\n",
       "      <td>3.136415.AAL4TDSLQZXFKHLKEJBIIQ3I5WNMTHUZB</td>\n",
       "      <td>-----Original Message-----From: \\t\"Edward Chan...</td>\n",
       "      <td>zufferli-j</td>\n",
       "    </tr>\n",
       "    <tr>\n",
       "      <th>455115</th>\n",
       "      <td>Fri, 29 Jun 2001 08:42:41 -0700 (PDT)</td>\n",
       "      <td>3.136416.FY5YS5I5O10KIQGTJ0MGUE3YT3CPB4Z2A</td>\n",
       "      <td>-----Original Message-----From: \\tBarry Rushfo...</td>\n",
       "      <td>zufferli-j</td>\n",
       "    </tr>\n",
       "    <tr>\n",
       "      <th>455116</th>\n",
       "      <td>Fri, 29 Jun 2001 08:48:24 -0700 (PDT)</td>\n",
       "      <td>3.136417.M4W3J5JJMFKESSEDPC4IP5WYGUORG2K1B</td>\n",
       "      <td>-----Original Message-----From: \\tBarry Rushfo...</td>\n",
       "      <td>zufferli-j</td>\n",
       "    </tr>\n",
       "    <tr>\n",
       "      <th>455117</th>\n",
       "      <td>Thu, 4 May 2000 11:10:00 -0700 (PDT)</td>\n",
       "      <td>3.136418.NOE2NRSHTLIPPDS4AP11EEOCFAFZXBIKB</td>\n",
       "      <td>John,Thank you for your interest in one of my ...</td>\n",
       "      <td>zufferli-j</td>\n",
       "    </tr>\n",
       "  </tbody>\n",
       "</table>\n",
       "<p>455118 rows × 4 columns</p>\n",
       "</div>"
      ],
      "text/plain": [
       "                                        dates  \\\n",
       "0       Thu, 10 May 2001 12:50:00 -0700 (PDT)   \n",
       "1       Mon, 25 Sep 2000 07:01:00 -0700 (PDT)   \n",
       "2        Wed, 9 May 2001 17:13:00 -0700 (PDT)   \n",
       "3       Mon, 11 Sep 2000 09:19:00 -0700 (PDT)   \n",
       "4        Mon, 7 May 2001 16:23:00 -0700 (PDT)   \n",
       "5       Mon, 30 Apr 2001 13:37:00 -0700 (PDT)   \n",
       "6       Tue, 14 Nov 2000 06:33:00 -0800 (PST)   \n",
       "7       Mon, 13 Nov 2000 05:25:00 -0800 (PST)   \n",
       "8       Tue, 26 Sep 2000 09:27:00 -0700 (PDT)   \n",
       "9       Tue, 19 Sep 2000 09:35:00 -0700 (PDT)   \n",
       "10      Tue, 12 Sep 2000 06:42:00 -0700 (PDT)   \n",
       "11      Tue, 12 Sep 2000 00:27:00 -0700 (PDT)   \n",
       "12       Wed, 6 Sep 2000 03:46:00 -0700 (PDT)   \n",
       "13       Fri, 1 Sep 2000 06:08:00 -0700 (PDT)   \n",
       "14       Fri, 8 Sep 2000 05:30:00 -0700 (PDT)   \n",
       "15      Mon, 11 Sep 2000 02:19:00 -0700 (PDT)   \n",
       "16      Mon, 11 Sep 2000 07:16:00 -0700 (PDT)   \n",
       "17      Fri, 17 Nov 2000 00:27:00 -0800 (PST)   \n",
       "18       Wed, 6 Dec 2000 04:41:00 -0800 (PST)   \n",
       "19       Wed, 6 Dec 2000 04:43:00 -0800 (PST)   \n",
       "20      Wed, 13 Dec 2000 03:28:00 -0800 (PST)   \n",
       "21      Fri, 15 Dec 2000 07:38:00 -0800 (PST)   \n",
       "22      Thu, 14 Dec 2000 06:15:00 -0800 (PST)   \n",
       "23      Tue, 19 Dec 2000 23:20:00 -0800 (PST)   \n",
       "24      Fri, 22 Dec 2000 01:54:00 -0800 (PST)   \n",
       "25      Wed, 27 Dec 2000 08:27:00 -0800 (PST)   \n",
       "26      Fri, 22 Dec 2000 07:06:00 -0800 (PST)   \n",
       "27      Fri, 29 Dec 2000 02:14:00 -0800 (PST)   \n",
       "28       Thu, 4 Jan 2001 04:01:00 -0800 (PST)   \n",
       "29       Thu, 4 Jan 2001 06:40:00 -0800 (PST)   \n",
       "...                                       ...   \n",
       "455088  Tue, 12 Jun 2001 11:54:51 -0700 (PDT)   \n",
       "455089  Wed, 13 Jun 2001 05:54:39 -0700 (PDT)   \n",
       "455090  Mon, 27 Aug 2001 10:23:54 -0700 (PDT)   \n",
       "455091  Wed, 13 Jun 2001 06:33:52 -0700 (PDT)   \n",
       "455092  Wed, 13 Jun 2001 06:33:06 -0700 (PDT)   \n",
       "455093  Wed, 13 Jun 2001 07:19:27 -0700 (PDT)   \n",
       "455094  Wed, 13 Jun 2001 10:04:17 -0700 (PDT)   \n",
       "455095  Thu, 14 Jun 2001 12:31:54 -0700 (PDT)   \n",
       "455096  Fri, 15 Jun 2001 15:13:29 -0700 (PDT)   \n",
       "455097  Wed, 13 Jun 2001 08:07:06 -0700 (PDT)   \n",
       "455098  Wed, 13 Jun 2001 08:17:43 -0700 (PDT)   \n",
       "455099  Wed, 20 Jun 2001 12:13:05 -0700 (PDT)   \n",
       "455100  Tue, 19 Jun 2001 06:11:18 -0700 (PDT)   \n",
       "455101  Mon, 18 Jun 2001 07:26:56 -0700 (PDT)   \n",
       "455102  Wed, 20 Jun 2001 13:17:46 -0700 (PDT)   \n",
       "455103  Tue, 19 Jun 2001 07:49:47 -0700 (PDT)   \n",
       "455104  Fri, 22 Jun 2001 13:07:34 -0700 (PDT)   \n",
       "455105  Mon, 25 Jun 2001 06:38:16 -0700 (PDT)   \n",
       "455106  Mon, 25 Jun 2001 06:40:56 -0700 (PDT)   \n",
       "455107  Mon, 25 Jun 2001 07:39:57 -0700 (PDT)   \n",
       "455108  Wed, 13 Jun 2001 08:16:08 -0700 (PDT)   \n",
       "455109  Wed, 20 Jun 2001 14:07:00 -0700 (PDT)   \n",
       "455110  Wed, 23 Jan 2002 14:26:36 -0800 (PST)   \n",
       "455111  Thu, 24 Jan 2002 13:26:31 -0800 (PST)   \n",
       "455112  Thu, 24 Jan 2002 06:40:20 -0800 (PST)   \n",
       "455113  Thu, 24 Jan 2002 08:12:25 -0800 (PST)   \n",
       "455114  Thu, 24 Jan 2002 12:45:49 -0800 (PST)   \n",
       "455115  Fri, 29 Jun 2001 08:42:41 -0700 (PDT)   \n",
       "455116  Fri, 29 Jun 2001 08:48:24 -0700 (PDT)   \n",
       "455117   Thu, 4 May 2000 11:10:00 -0700 (PDT)   \n",
       "\n",
       "                                                id  \\\n",
       "0       3.818885.JLRYP3ARLIIYUC4AX14ZJE3A1RAPULBFA   \n",
       "1       3.818886.LDZQSGT5FQLDRLO1WBHN2MK2DFSDVTACA   \n",
       "2       3.818896.IVOAU4ATG11DYDPDLW5BEB0LXJEL14TGB   \n",
       "3       3.818908.A0CV1HWH4CFTZMBCQWRRDZRJFIKDBFYJB   \n",
       "4       3.818913.HRJLOFPA325QON43Q0PAAXW0NGI11IR2B   \n",
       "5       3.818914.H0JO0RYAUKPP32YFJ0ICJQDTKFZ40POUA   \n",
       "6       3.818915.DVZB12GWTWPMSUO2NGZ31PLQBTMN2I3OB   \n",
       "7       3.818917.LHBZH0YQ2IA3FFF1LTS23GR1VFGSQLDLB   \n",
       "8       3.818937.KUIKG5EH0XMXL4NLHHHTLNKELYHDH3FTB   \n",
       "9       3.818952.KHTELI4FF4CEDZSFPHHGSCEBZ4E4O4SHB   \n",
       "10      3.818955.CX4LT4GP3XH3MGLL51IB2BVAZ2U2VXNVA   \n",
       "11      3.818957.CCB4EO20FNJBHYWDQ0DUH2DRRF0CIRE3B   \n",
       "12      3.818983.AJTCDVX1PR5DGEUMZMH4KXKFGNP2UUDMA   \n",
       "13      3.818990.HXASVSDZI3XLP4DZ0VQF1S2GQFR3BG55A   \n",
       "14      3.818991.JXSK0DM5APL4XLMGSWNSF5URF11ND32HB   \n",
       "15      3.818992.JHCA5VRZRKMZL3YYMH2FVAQVMYZPEYD4B   \n",
       "16      3.818996.A2TUD1PEWFP2G5WHOYR2VRR4AD2TRNWEB   \n",
       "17      3.818999.PWQ5W34PNUFQVBMM0NO1ZHNHDXTFEEKAA   \n",
       "18      3.819008.B3YCL35XITHSEYS3VDUECANBQWG3RNS3B   \n",
       "19      3.819009.K24GSVNII032TC5PEKSWQYYAZTQO0CD0A   \n",
       "20      3.819018.LKPJJANNJNBTQME0XJH0HVYKQBPA2C4LA   \n",
       "21      3.819020.AUCADJS2ZQNEQCKRQLKRYQPH3KTBCXZLB   \n",
       "22      3.819027.P0IHU1RSVVKDPEMTB3ZVIZBA0XY5L0D0B   \n",
       "23      3.819029.OEBQPMBTBZDNPPMGOYB2PQUAG0TDRFHWB   \n",
       "24      3.819034.GFNE2EXF5JOTW3DGJAHDUJDVYYJGFZBQB   \n",
       "25      3.819037.D1JWOWRCMRFHBJVO40DERFJFZT3VX300B   \n",
       "26      3.819039.NR3KTUYD1GTO1DJ5MWH14RWNJC5CH2YLA   \n",
       "27      3.819044.E0ASK23N3VXEYSBG4VIRSWKGPZOX23ZDB   \n",
       "28      3.819045.FPJ0DNNGKZWMBT3AGWR2DN4EBSFGZ1YQB   \n",
       "29      3.819050.OP11EIYO5D2HEIPQO05UYQHSBD5YIVTQA   \n",
       "...                                            ...   \n",
       "455088  3.136389.GG12MT3IWBNNO5ZEOSARWL0FFEIIHGN2B   \n",
       "455089  3.136390.BDMWQQIO2TU4AWKTIENDRSB42H3UYPSQB   \n",
       "455090  3.136391.JR3DHDJINZAGYAXXTJRPYLFQCW12NQBMA   \n",
       "455091  3.136392.MO5B4YJ21QWWX0YLKN45YCZGEPJLKVD4B   \n",
       "455092  3.136393.PVYYAIHNV0JBORWQR5LA2HZMFZZRVRXNB   \n",
       "455093  3.136394.AYKWWJ3QWS52251H2WPPQQBYX3RKO3BMB   \n",
       "455094  3.136395.NZKGNU2W1DGIXR2ISLM4PR4CY1IPFB2AB   \n",
       "455095  3.136396.DNHYGIV20SIFMUO45HWP3YVN5CSMMTRMA   \n",
       "455096  3.136397.FKS2WSJE33G4RIGZM1I5AEFSB1WXF122A   \n",
       "455097  3.136398.NXJ3LYJNQKEAAZ1VVCAEZGK241R4MZHNA   \n",
       "455098  3.136399.B33LK2UXQJXNGBLRYM0OFZTL0Z5URI2VB   \n",
       "455099  3.136400.JAGD01ONXEHMQOH4XMY4FM35C5BB5DWUB   \n",
       "455100  3.136401.AFM13LYYLN0I3FHVMWNIBS1X34FHU3A2A   \n",
       "455101  3.136402.OH3OO3KHGKFX5UPQLXRBQB2POYVHF54NA   \n",
       "455102  3.136403.BYYWGPFQ0OIX0SIEUCXTZS1L1H3MVYUGA   \n",
       "455103  3.136404.DJ4HTFO3D0X20RYG0I4EV0IDH1UDRUBBA   \n",
       "455104  3.136405.HCUESMJQHC3UDD11VIWRSTEICORMJVZFB   \n",
       "455105  3.136406.IZA4E4GFGV5JIV30FC5KZ530L50L3FRCA   \n",
       "455106  3.136407.LOJWOGM1CSU41IZNNVDG4UMEQN5L2NK0A   \n",
       "455107  3.136408.I0DWIFAMRCD0XBZZBYKWG3NEW0H2FBS4A   \n",
       "455108  3.136409.BX4MF0BVHGIS4PPP1BWBK423RD3YWAWWB   \n",
       "455109  3.136410.OBTLECW4I0UP2E4Z2R4KCX1RFVZIEC4OA   \n",
       "455110  3.136411.P5SIXCGH13MXQCG5PEKJS0F1NPQKKRXHA   \n",
       "455111  3.136412.BGX4IZYUKQE403NLM3A5BRINTYKDRU34B   \n",
       "455112  3.136413.IM3P1SH3KV0100H5LG5DL0YYVHHAX11NA   \n",
       "455113  3.136414.OPXOGAV51OT1F4RJHQTSMFWTOEGC2MHGA   \n",
       "455114  3.136415.AAL4TDSLQZXFKHLKEJBIIQ3I5WNMTHUZB   \n",
       "455115  3.136416.FY5YS5I5O10KIQGTJ0MGUE3YT3CPB4Z2A   \n",
       "455116  3.136417.M4W3J5JJMFKESSEDPC4IP5WYGUORG2K1B   \n",
       "455117  3.136418.NOE2NRSHTLIPPDS4AP11EEOCFAFZXBIKB   \n",
       "\n",
       "                                                  message      sender  \n",
       "0       Jeff,Jacques Craig will draw up a release.  Wh...     allen-p  \n",
       "1       ---------------------- Forwarded by Phillip K ...     allen-p  \n",
       "2                    The west desk would like 2 analysts.     allen-p  \n",
       "3                                                             allen-p  \n",
       "4       ---------------------- Forwarded by Phillip K ...     allen-p  \n",
       "5       ---------------------- Forwarded by Phillip K ...     allen-p  \n",
       "6       Ina, Where can we put Barry T.?Phillip--------...     allen-p  \n",
       "7       Faith, Regarding the 2001 plan, the members of...     allen-p  \n",
       "8                                                             allen-p  \n",
       "9       ---------------------- Forwarded by Phillip K ...     allen-p  \n",
       "10      Brenda, I checked my records and I mailed chec...     allen-p  \n",
       "11      http://www.hearme.com/vc2/?chnlOwnr=pallen@enr...     allen-p  \n",
       "12      Ina, Can you pull Tori K.'s and Martin Cuilla'...     allen-p  \n",
       "13      ---------------------- Forwarded by Phillip K ...     allen-p  \n",
       "14      ---------------------- Forwarded by Phillip K ...     allen-p  \n",
       "15      Jeff, You would clearly receive a commission o...     allen-p  \n",
       "16      why is aeco basis so low on the list?  Is NWPL...     allen-p  \n",
       "17      ---------------------- Forwarded by Phillip K ...     allen-p  \n",
       "18      please remove my name and information from the...     allen-p  \n",
       "19      I would support Matt Lenhart's promotion to th...     allen-p  \n",
       "20      ---------------------- Forwarded by Phillip K ...     allen-p  \n",
       "21      Larry, 10 AM tomorrow is good for me.  If you ...     allen-p  \n",
       "22      Lucy,Here is a new file for 12/15.For the rent...     allen-p  \n",
       "23                                Fax number 713-646-2391     allen-p  \n",
       "24      Monique SanchezJay ReitmeyerRandy GayMatt Lenhart     allen-p  \n",
       "25      Gentlemen, I continue to speak to an attorney ...     allen-p  \n",
       "26      Steve,I am sending you a variety of charts wit...     allen-p  \n",
       "27      ---------------------- Forwarded by Phillip K ...     allen-p  \n",
       "28      I can't open a winmail.dat file.  can you send...     allen-p  \n",
       "29                                                            allen-p  \n",
       "...                                                   ...         ...  \n",
       "455088  -----Original Message-----From: \\t\"Ritter, Fre...  zufferli-j  \n",
       "455089  Does this information reflect the additions of...  zufferli-j  \n",
       "455090  -----Original Message-----From: \\t\"Suzy Elster...  zufferli-j  \n",
       "455091  -----Original Message-----From: \\tZufferli, Jo...  zufferli-j  \n",
       "455092  If you look at the Cal 03-Cal 10 period, you s...  zufferli-j  \n",
       "455093  Here is the spreadsheet that I sent you at the...  zufferli-j  \n",
       "455094  Here are my comments on the original guarantee...  zufferli-j  \n",
       "455095  John Lavorato already said that he would make ...  zufferli-j  \n",
       "455096  I was meaning to give you a call this week and...  zufferli-j  \n",
       "455097  -----Original Message-----From: \\t\"J&J Zufferl...  zufferli-j  \n",
       "455098  -----Original Message-----From: \\t\"J&J Zufferl...  zufferli-j  \n",
       "455099  -----Original Message-----From: \\t\"Travelocity...  zufferli-j  \n",
       "455100  -----Original Message-----From: \\tWilliams III...  zufferli-j  \n",
       "455101  -----Original Message-----From: \\t\"Ritter, Fre...  zufferli-j  \n",
       "455102  Please give Enpower access to Murray Fichten, ...  zufferli-j  \n",
       "455103  -----Original Message-----From: \\tHillis, Kimb...  zufferli-j  \n",
       "455104  I will attend -----Original Message-----From: ...  zufferli-j  \n",
       "455105  Financial settlement occurs between Enron and ...  zufferli-j  \n",
       "455106  -----Original Message-----From: \\tdsmith@ptc.c...  zufferli-j  \n",
       "455107  -----Original Message-----From: \\tHemstock, Ro...  zufferli-j  \n",
       "455108  -----Original Message-----From: \\t\"J&J Zufferl...  zufferli-j  \n",
       "455109  I hope stock goes to $35 so I can buy it at re...  zufferli-j  \n",
       "455110  Hi John,The attached are the pictures of the 1...  zufferli-j  \n",
       "455111                                                     zufferli-j  \n",
       "455112  i lifted it last night for 82,000 -----Origina...  zufferli-j  \n",
       "455113  -----Original Message-----From: \\t\"Edward Chan...  zufferli-j  \n",
       "455114  -----Original Message-----From: \\t\"Edward Chan...  zufferli-j  \n",
       "455115  -----Original Message-----From: \\tBarry Rushfo...  zufferli-j  \n",
       "455116  -----Original Message-----From: \\tBarry Rushfo...  zufferli-j  \n",
       "455117  John,Thank you for your interest in one of my ...  zufferli-j  \n",
       "\n",
       "[455118 rows x 4 columns]"
      ]
     },
     "execution_count": 113,
     "metadata": {},
     "output_type": "execute_result"
    }
   ],
   "source": [
    "contents"
   ]
  },
  {
   "cell_type": "code",
   "execution_count": 114,
   "metadata": {
    "ExecuteTime": {
     "end_time": "2017-10-03T17:01:37.651385Z",
     "start_time": "2017-10-03T17:01:37.554420Z"
    },
    "collapsed": true
   },
   "outputs": [],
   "source": [
    "contents.to_csv('parsed_id_message_date_sender.csv')"
   ]
  },
  {
   "cell_type": "code",
   "execution_count": 125,
   "metadata": {
    "ExecuteTime": {
     "end_time": "2017-10-03T17:05:49.249380Z",
     "start_time": "2017-10-03T17:05:39.047923Z"
    },
    "scrolled": true
   },
   "outputs": [
    {
     "name": "stderr",
     "output_type": "stream",
     "text": [
      "C:\\Users\\Micah\\Anaconda3\\envs\\comps\\lib\\site-packages\\ipykernel_launcher.py:1: ParserWarning: Falling back to the 'python' engine because the 'c' engine does not support regex separators (separators > 1 char and different from '\\s+' are interpreted as regex); you can avoid this warning by specifying engine='python'.\n",
      "  \"\"\"Entry point for launching an IPython kernel.\n"
     ]
    }
   ],
   "source": [
    "ids = pd.read_csv('data/qrels.txt', sep=r'\\s', header=None, names=['id', 'stratum', 'label'])"
   ]
  },
  {
   "cell_type": "code",
   "execution_count": 126,
   "metadata": {
    "ExecuteTime": {
     "end_time": "2017-10-03T17:06:01.309436Z",
     "start_time": "2017-10-03T17:06:01.305761Z"
    }
   },
   "outputs": [
    {
     "data": {
      "text/plain": [
       "(2056776, 3)"
      ]
     },
     "execution_count": 126,
     "metadata": {},
     "output_type": "execute_result"
    }
   ],
   "source": [
    "ids.shape"
   ]
  },
  {
   "cell_type": "code",
   "execution_count": 127,
   "metadata": {
    "ExecuteTime": {
     "end_time": "2017-10-03T17:06:14.993782Z",
     "start_time": "2017-10-03T17:06:14.990951Z"
    },
    "collapsed": true
   },
   "outputs": [],
   "source": [
    "def extract_senario(string):\n",
    "    return string[:3]"
   ]
  },
  {
   "cell_type": "code",
   "execution_count": 128,
   "metadata": {
    "ExecuteTime": {
     "end_time": "2017-10-03T17:06:15.399451Z",
     "start_time": "2017-10-03T17:06:15.396774Z"
    },
    "collapsed": true
   },
   "outputs": [],
   "source": [
    "def clean_id(string):\n",
    "    return string[4:]"
   ]
  },
  {
   "cell_type": "code",
   "execution_count": 129,
   "metadata": {
    "ExecuteTime": {
     "end_time": "2017-10-03T17:06:19.360734Z",
     "start_time": "2017-10-03T17:06:18.677925Z"
    },
    "collapsed": true
   },
   "outputs": [],
   "source": [
    "ids['scenario'] = ids.id.apply(extract_senario)"
   ]
  },
  {
   "cell_type": "code",
   "execution_count": 130,
   "metadata": {
    "ExecuteTime": {
     "end_time": "2017-10-03T17:06:20.364782Z",
     "start_time": "2017-10-03T17:06:19.583165Z"
    },
    "collapsed": true
   },
   "outputs": [],
   "source": [
    "ids['id'] = ids.id.apply(clean_id)"
   ]
  },
  {
   "cell_type": "code",
   "execution_count": null,
   "metadata": {
    "ExecuteTime": {
     "end_time": "2017-10-03T17:01:49.562602Z",
     "start_time": "2017-10-03T17:01:49.558689Z"
    },
    "collapsed": true
   },
   "outputs": [],
   "source": [
    "'3.1000065.D2M301CFHC2HMASPQRHGTH3GT0JNYH3GA.6'.count('.')"
   ]
  },
  {
   "cell_type": "code",
   "execution_count": 131,
   "metadata": {
    "ExecuteTime": {
     "end_time": "2017-10-03T17:08:16.761083Z",
     "start_time": "2017-10-03T17:08:16.701438Z"
    },
    "collapsed": true
   },
   "outputs": [],
   "source": [
    "test_pd = ids"
   ]
  },
  {
   "cell_type": "code",
   "execution_count": 132,
   "metadata": {
    "ExecuteTime": {
     "end_time": "2017-10-03T17:08:38.673371Z",
     "start_time": "2017-10-03T17:08:37.228359Z"
    },
    "collapsed": true
   },
   "outputs": [],
   "source": [
    "test_pd = test_pd[test_pd['id'].map(lambda x: x.count('.')) == 2]"
   ]
  },
  {
   "cell_type": "code",
   "execution_count": 133,
   "metadata": {
    "ExecuteTime": {
     "end_time": "2017-10-03T17:08:43.312643Z",
     "start_time": "2017-10-03T17:08:43.308684Z"
    }
   },
   "outputs": [
    {
     "data": {
      "text/plain": [
       "(1366347, 4)"
      ]
     },
     "execution_count": 133,
     "metadata": {},
     "output_type": "execute_result"
    }
   ],
   "source": [
    "test_pd.shape"
   ]
  },
  {
   "cell_type": "code",
   "execution_count": 134,
   "metadata": {
    "ExecuteTime": {
     "end_time": "2017-10-03T17:09:20.357527Z",
     "start_time": "2017-10-03T17:09:20.355023Z"
    },
    "collapsed": true
   },
   "outputs": [],
   "source": [
    "ids = test_pd"
   ]
  },
  {
   "cell_type": "code",
   "execution_count": 135,
   "metadata": {
    "ExecuteTime": {
     "end_time": "2017-10-03T17:09:21.002520Z",
     "start_time": "2017-10-03T17:09:20.954637Z"
    },
    "collapsed": true
   },
   "outputs": [],
   "source": [
    "to_join_left = ids[['id', 'label', 'scenario']]"
   ]
  },
  {
   "cell_type": "code",
   "execution_count": 136,
   "metadata": {
    "ExecuteTime": {
     "end_time": "2017-10-03T17:09:22.042387Z",
     "start_time": "2017-10-03T17:09:21.536587Z"
    },
    "collapsed": true
   },
   "outputs": [],
   "source": [
    "merged = pd.merge(to_join_left, contents)"
   ]
  },
  {
   "cell_type": "code",
   "execution_count": 137,
   "metadata": {
    "ExecuteTime": {
     "end_time": "2017-10-03T17:09:23.378198Z",
     "start_time": "2017-10-03T17:09:23.367114Z"
    }
   },
   "outputs": [
    {
     "data": {
      "text/html": [
       "<div>\n",
       "<style>\n",
       "    .dataframe thead tr:only-child th {\n",
       "        text-align: right;\n",
       "    }\n",
       "\n",
       "    .dataframe thead th {\n",
       "        text-align: left;\n",
       "    }\n",
       "\n",
       "    .dataframe tbody tr th {\n",
       "        vertical-align: top;\n",
       "    }\n",
       "</style>\n",
       "<table border=\"1\" class=\"dataframe\">\n",
       "  <thead>\n",
       "    <tr style=\"text-align: right;\">\n",
       "      <th></th>\n",
       "      <th>id</th>\n",
       "      <th>label</th>\n",
       "      <th>scenario</th>\n",
       "      <th>dates</th>\n",
       "      <th>message</th>\n",
       "      <th>sender</th>\n",
       "    </tr>\n",
       "  </thead>\n",
       "  <tbody>\n",
       "    <tr>\n",
       "      <th>0</th>\n",
       "      <td>3.10.DIE5L1APTGWLVTCIYE0KHRVQAV3CTGO5B</td>\n",
       "      <td>-1</td>\n",
       "      <td>401</td>\n",
       "      <td>Fri, 10 Nov 2000 07:00:00 -0800 (PST)</td>\n",
       "      <td></td>\n",
       "      <td>buy-r</td>\n",
       "    </tr>\n",
       "    <tr>\n",
       "      <th>1</th>\n",
       "      <td>3.10.DIE5L1APTGWLVTCIYE0KHRVQAV3CTGO5B</td>\n",
       "      <td>-1</td>\n",
       "      <td>402</td>\n",
       "      <td>Fri, 10 Nov 2000 07:00:00 -0800 (PST)</td>\n",
       "      <td></td>\n",
       "      <td>buy-r</td>\n",
       "    </tr>\n",
       "    <tr>\n",
       "      <th>2</th>\n",
       "      <td>3.10.DIE5L1APTGWLVTCIYE0KHRVQAV3CTGO5B</td>\n",
       "      <td>-1</td>\n",
       "      <td>403</td>\n",
       "      <td>Fri, 10 Nov 2000 07:00:00 -0800 (PST)</td>\n",
       "      <td></td>\n",
       "      <td>buy-r</td>\n",
       "    </tr>\n",
       "    <tr>\n",
       "      <th>3</th>\n",
       "      <td>3.100.KK30VAAWQC5IX4YJBRVXMCMH3WL2Y5WAA</td>\n",
       "      <td>-1</td>\n",
       "      <td>401</td>\n",
       "      <td>Fri, 20 Oct 2000 01:00:00 -0700 (PDT)</td>\n",
       "      <td></td>\n",
       "      <td>buy-r</td>\n",
       "    </tr>\n",
       "    <tr>\n",
       "      <th>4</th>\n",
       "      <td>3.100.KK30VAAWQC5IX4YJBRVXMCMH3WL2Y5WAA</td>\n",
       "      <td>-1</td>\n",
       "      <td>402</td>\n",
       "      <td>Fri, 20 Oct 2000 01:00:00 -0700 (PDT)</td>\n",
       "      <td></td>\n",
       "      <td>buy-r</td>\n",
       "    </tr>\n",
       "  </tbody>\n",
       "</table>\n",
       "</div>"
      ],
      "text/plain": [
       "                                        id  label scenario  \\\n",
       "0   3.10.DIE5L1APTGWLVTCIYE0KHRVQAV3CTGO5B     -1      401   \n",
       "1   3.10.DIE5L1APTGWLVTCIYE0KHRVQAV3CTGO5B     -1      402   \n",
       "2   3.10.DIE5L1APTGWLVTCIYE0KHRVQAV3CTGO5B     -1      403   \n",
       "3  3.100.KK30VAAWQC5IX4YJBRVXMCMH3WL2Y5WAA     -1      401   \n",
       "4  3.100.KK30VAAWQC5IX4YJBRVXMCMH3WL2Y5WAA     -1      402   \n",
       "\n",
       "                                   dates message sender  \n",
       "0  Fri, 10 Nov 2000 07:00:00 -0800 (PST)          buy-r  \n",
       "1  Fri, 10 Nov 2000 07:00:00 -0800 (PST)          buy-r  \n",
       "2  Fri, 10 Nov 2000 07:00:00 -0800 (PST)          buy-r  \n",
       "3  Fri, 20 Oct 2000 01:00:00 -0700 (PDT)          buy-r  \n",
       "4  Fri, 20 Oct 2000 01:00:00 -0700 (PDT)          buy-r  "
      ]
     },
     "execution_count": 137,
     "metadata": {},
     "output_type": "execute_result"
    }
   ],
   "source": [
    "merged.head(5)"
   ]
  },
  {
   "cell_type": "code",
   "execution_count": 138,
   "metadata": {
    "ExecuteTime": {
     "end_time": "2017-10-03T17:09:47.221017Z",
     "start_time": "2017-10-03T17:09:47.075171Z"
    },
    "scrolled": true
   },
   "outputs": [
    {
     "data": {
      "text/html": [
       "<div>\n",
       "<style>\n",
       "    .dataframe thead tr:only-child th {\n",
       "        text-align: right;\n",
       "    }\n",
       "\n",
       "    .dataframe thead th {\n",
       "        text-align: left;\n",
       "    }\n",
       "\n",
       "    .dataframe tbody tr th {\n",
       "        vertical-align: top;\n",
       "    }\n",
       "</style>\n",
       "<table border=\"1\" class=\"dataframe\">\n",
       "  <thead>\n",
       "    <tr style=\"text-align: right;\">\n",
       "      <th></th>\n",
       "      <th>id</th>\n",
       "      <th>stratum</th>\n",
       "      <th>label</th>\n",
       "      <th>scenario</th>\n",
       "    </tr>\n",
       "  </thead>\n",
       "  <tbody>\n",
       "    <tr>\n",
       "      <th>595318</th>\n",
       "      <td>3.818885.JLRYP3ARLIIYUC4AX14ZJE3A1RAPULBFA</td>\n",
       "      <td>1000</td>\n",
       "      <td>-1</td>\n",
       "      <td>401</td>\n",
       "    </tr>\n",
       "    <tr>\n",
       "      <th>1280910</th>\n",
       "      <td>3.818885.JLRYP3ARLIIYUC4AX14ZJE3A1RAPULBFA</td>\n",
       "      <td>1000</td>\n",
       "      <td>-1</td>\n",
       "      <td>402</td>\n",
       "    </tr>\n",
       "    <tr>\n",
       "      <th>1966502</th>\n",
       "      <td>3.818885.JLRYP3ARLIIYUC4AX14ZJE3A1RAPULBFA</td>\n",
       "      <td>1000</td>\n",
       "      <td>-1</td>\n",
       "      <td>403</td>\n",
       "    </tr>\n",
       "  </tbody>\n",
       "</table>\n",
       "</div>"
      ],
      "text/plain": [
       "                                                 id  stratum  label scenario\n",
       "595318   3.818885.JLRYP3ARLIIYUC4AX14ZJE3A1RAPULBFA     1000     -1      401\n",
       "1280910  3.818885.JLRYP3ARLIIYUC4AX14ZJE3A1RAPULBFA     1000     -1      402\n",
       "1966502  3.818885.JLRYP3ARLIIYUC4AX14ZJE3A1RAPULBFA     1000     -1      403"
      ]
     },
     "execution_count": 138,
     "metadata": {},
     "output_type": "execute_result"
    }
   ],
   "source": [
    "ids.loc[ids['id'] == '3.818885.JLRYP3ARLIIYUC4AX14ZJE3A1RAPULBFA']"
   ]
  },
  {
   "cell_type": "code",
   "execution_count": 141,
   "metadata": {},
   "outputs": [
    {
     "data": {
      "text/html": [
       "<div>\n",
       "<style>\n",
       "    .dataframe thead tr:only-child th {\n",
       "        text-align: right;\n",
       "    }\n",
       "\n",
       "    .dataframe thead th {\n",
       "        text-align: left;\n",
       "    }\n",
       "\n",
       "    .dataframe tbody tr th {\n",
       "        vertical-align: top;\n",
       "    }\n",
       "</style>\n",
       "<table border=\"1\" class=\"dataframe\">\n",
       "  <thead>\n",
       "    <tr style=\"text-align: right;\">\n",
       "      <th></th>\n",
       "      <th>id</th>\n",
       "      <th>label</th>\n",
       "      <th>scenario</th>\n",
       "      <th>dates</th>\n",
       "      <th>message</th>\n",
       "      <th>sender</th>\n",
       "    </tr>\n",
       "  </thead>\n",
       "  <tbody>\n",
       "    <tr>\n",
       "      <th>1190649</th>\n",
       "      <td>3.818885.JLRYP3ARLIIYUC4AX14ZJE3A1RAPULBFA</td>\n",
       "      <td>-1</td>\n",
       "      <td>401</td>\n",
       "      <td>Thu, 10 May 2001 12:50:00 -0700 (PDT)</td>\n",
       "      <td>Jeff,Jacques Craig will draw up a release.  Wh...</td>\n",
       "      <td>allen-p</td>\n",
       "    </tr>\n",
       "    <tr>\n",
       "      <th>1190650</th>\n",
       "      <td>3.818885.JLRYP3ARLIIYUC4AX14ZJE3A1RAPULBFA</td>\n",
       "      <td>-1</td>\n",
       "      <td>402</td>\n",
       "      <td>Thu, 10 May 2001 12:50:00 -0700 (PDT)</td>\n",
       "      <td>Jeff,Jacques Craig will draw up a release.  Wh...</td>\n",
       "      <td>allen-p</td>\n",
       "    </tr>\n",
       "    <tr>\n",
       "      <th>1190651</th>\n",
       "      <td>3.818885.JLRYP3ARLIIYUC4AX14ZJE3A1RAPULBFA</td>\n",
       "      <td>-1</td>\n",
       "      <td>403</td>\n",
       "      <td>Thu, 10 May 2001 12:50:00 -0700 (PDT)</td>\n",
       "      <td>Jeff,Jacques Craig will draw up a release.  Wh...</td>\n",
       "      <td>allen-p</td>\n",
       "    </tr>\n",
       "  </tbody>\n",
       "</table>\n",
       "</div>"
      ],
      "text/plain": [
       "                                                 id  label scenario  \\\n",
       "1190649  3.818885.JLRYP3ARLIIYUC4AX14ZJE3A1RAPULBFA     -1      401   \n",
       "1190650  3.818885.JLRYP3ARLIIYUC4AX14ZJE3A1RAPULBFA     -1      402   \n",
       "1190651  3.818885.JLRYP3ARLIIYUC4AX14ZJE3A1RAPULBFA     -1      403   \n",
       "\n",
       "                                         dates  \\\n",
       "1190649  Thu, 10 May 2001 12:50:00 -0700 (PDT)   \n",
       "1190650  Thu, 10 May 2001 12:50:00 -0700 (PDT)   \n",
       "1190651  Thu, 10 May 2001 12:50:00 -0700 (PDT)   \n",
       "\n",
       "                                                   message   sender  \n",
       "1190649  Jeff,Jacques Craig will draw up a release.  Wh...  allen-p  \n",
       "1190650  Jeff,Jacques Craig will draw up a release.  Wh...  allen-p  \n",
       "1190651  Jeff,Jacques Craig will draw up a release.  Wh...  allen-p  "
      ]
     },
     "execution_count": 141,
     "metadata": {},
     "output_type": "execute_result"
    }
   ],
   "source": [
    "merged.loc[merged['id'] == '3.818885.JLRYP3ARLIIYUC4AX14ZJE3A1RAPULBFA']"
   ]
  },
  {
   "cell_type": "code",
   "execution_count": 142,
   "metadata": {
    "ExecuteTime": {
     "end_time": "2017-10-03T17:09:56.867905Z",
     "start_time": "2017-10-03T17:09:56.586658Z"
    },
    "collapsed": true
   },
   "outputs": [],
   "source": [
    "merged.to_csv('merged_id_label_senario_dates_message_sender.csv')"
   ]
  },
  {
   "cell_type": "code",
   "execution_count": 143,
   "metadata": {},
   "outputs": [
    {
     "name": "stdout",
     "output_type": "stream",
     "text": [
      "9708\n"
     ]
    }
   ],
   "source": [
    "gold_standard = merged.loc[merged['label'].isin([0,1])]\n",
    "print(len(gold_standard))"
   ]
  },
  {
   "cell_type": "code",
   "execution_count": 144,
   "metadata": {},
   "outputs": [
    {
     "name": "stdout",
     "output_type": "stream",
     "text": [
      "3244 3205 3259\n"
     ]
    }
   ],
   "source": [
    "first = gold_standard.loc[gold_standard['scenario'] == '401']\n",
    "second = gold_standard.loc[gold_standard['scenario'] == '402']\n",
    "third = gold_standard.loc[gold_standard['scenario'] == '403']\n",
    "print(len(first), len(second), len(third))"
   ]
  },
  {
   "cell_type": "code",
   "execution_count": null,
   "metadata": {
    "ExecuteTime": {
     "end_time": "2017-10-03T17:09:57.130305Z",
     "start_time": "2017-10-03T17:09:56.980113Z"
    },
    "collapsed": true
   },
   "outputs": [],
   "source": [
    "%cp merged_id_label_senario_dates_message_sender.csv data/"
   ]
  },
  {
   "cell_type": "code",
   "execution_count": null,
   "metadata": {
    "ExecuteTime": {
     "end_time": "2017-10-03T17:09:57.177570Z",
     "start_time": "2017-10-03T17:09:57.173046Z"
    },
    "collapsed": true
   },
   "outputs": [],
   "source": [
    "mapping_dict = dict()"
   ]
  },
  {
   "cell_type": "code",
   "execution_count": null,
   "metadata": {
    "ExecuteTime": {
     "end_time": "2017-10-03T17:10:01.187193Z",
     "start_time": "2017-10-03T17:10:01.160554Z"
    },
    "collapsed": true
   },
   "outputs": [],
   "source": [
    "meaning_ids = ids.loc[ids['label'].isin([0,1])]"
   ]
  },
  {
   "cell_type": "code",
   "execution_count": null,
   "metadata": {
    "ExecuteTime": {
     "end_time": "2017-10-03T17:10:01.730174Z",
     "start_time": "2017-10-03T17:10:01.502634Z"
    },
    "collapsed": true
   },
   "outputs": [],
   "source": [
    "len(meaning_ids.loc[ids['id'] == 'apple']) is 0"
   ]
  },
  {
   "cell_type": "code",
   "execution_count": null,
   "metadata": {
    "ExecuteTime": {
     "end_time": "2017-10-03T17:10:01.976295Z",
     "start_time": "2017-10-03T17:10:01.972183Z"
    },
    "collapsed": true
   },
   "outputs": [],
   "source": [
    "merged.shape"
   ]
  },
  {
   "cell_type": "markdown",
   "metadata": {},
   "source": [
    "## Extract words"
   ]
  },
  {
   "cell_type": "code",
   "execution_count": null,
   "metadata": {
    "ExecuteTime": {
     "end_time": "2017-09-19T16:32:12.636293Z",
     "start_time": "2017-09-19T16:32:12.632400Z"
    },
    "collapsed": true
   },
   "outputs": [],
   "source": [
    "def extract_message(string):\n",
    "    start = string.find('FileName:')\n",
    "    sub = string[start: ].find('\\n')\n",
    "    return string[start: ][sub:]"
   ]
  },
  {
   "cell_type": "code",
   "execution_count": null,
   "metadata": {
    "ExecuteTime": {
     "end_time": "2017-09-19T16:32:14.287149Z",
     "start_time": "2017-09-19T16:32:12.637854Z"
    },
    "collapsed": true
   },
   "outputs": [],
   "source": [
    "df['content'] = df.message.apply(extract_message)"
   ]
  },
  {
   "cell_type": "code",
   "execution_count": null,
   "metadata": {
    "ExecuteTime": {
     "end_time": "2017-09-19T16:32:14.297947Z",
     "start_time": "2017-09-19T16:32:14.288948Z"
    },
    "collapsed": true
   },
   "outputs": [],
   "source": [
    "df.content.head(5)"
   ]
  },
  {
   "cell_type": "code",
   "execution_count": null,
   "metadata": {
    "ExecuteTime": {
     "end_time": "2017-09-19T16:32:14.304639Z",
     "start_time": "2017-09-19T16:32:14.300600Z"
    },
    "collapsed": true
   },
   "outputs": [],
   "source": [
    "import re\n",
    "def getWords(text):\n",
    "    return \" \".join(re.compile('\\w*[A-Za-z]\\w*').findall(text))"
   ]
  },
  {
   "cell_type": "code",
   "execution_count": null,
   "metadata": {
    "ExecuteTime": {
     "end_time": "2017-09-19T16:32:15.206044Z",
     "start_time": "2017-09-19T16:32:14.307238Z"
    },
    "collapsed": true
   },
   "outputs": [],
   "source": [
    "from nltk.tokenize import TreebankWordTokenizer\n",
    "def token(text):\n",
    "    tokenizer = TreebankWordTokenizer()\n",
    "    return tokenizer.tokenize(text)"
   ]
  },
  {
   "cell_type": "code",
   "execution_count": null,
   "metadata": {
    "ExecuteTime": {
     "end_time": "2017-09-19T16:32:15.211205Z",
     "start_time": "2017-09-19T16:32:15.208130Z"
    },
    "collapsed": true
   },
   "outputs": [],
   "source": [
    "df_test = df[1:50]"
   ]
  },
  {
   "cell_type": "code",
   "execution_count": null,
   "metadata": {
    "ExecuteTime": {
     "end_time": "2017-09-19T16:32:15.255934Z",
     "start_time": "2017-09-19T16:32:15.213119Z"
    },
    "collapsed": true
   },
   "outputs": [],
   "source": [
    "df_test['words'] = df_test.content.apply(getWords)"
   ]
  },
  {
   "cell_type": "code",
   "execution_count": null,
   "metadata": {
    "ExecuteTime": {
     "end_time": "2017-09-19T16:32:15.339910Z",
     "start_time": "2017-09-19T16:32:15.257691Z"
    },
    "collapsed": true
   },
   "outputs": [],
   "source": [
    "df_test['words'] = df_test.content.apply(token)"
   ]
  },
  {
   "cell_type": "code",
   "execution_count": null,
   "metadata": {
    "ExecuteTime": {
     "end_time": "2017-09-19T16:32:15.347756Z",
     "start_time": "2017-09-19T16:32:15.341571Z"
    },
    "collapsed": true
   },
   "outputs": [],
   "source": [
    "df_test.words.head()"
   ]
  },
  {
   "cell_type": "code",
   "execution_count": null,
   "metadata": {
    "ExecuteTime": {
     "end_time": "2017-09-19T16:33:28.220887Z",
     "start_time": "2017-09-19T16:32:15.350421Z"
    },
    "collapsed": true
   },
   "outputs": [],
   "source": [
    "df['words'] = df.content.apply(getWords)"
   ]
  },
  {
   "cell_type": "code",
   "execution_count": null,
   "metadata": {
    "ExecuteTime": {
     "end_time": "2017-09-19T16:33:28.227394Z",
     "start_time": "2017-09-19T16:33:28.222674Z"
    },
    "collapsed": true
   },
   "outputs": [],
   "source": [
    "df.words.head()"
   ]
  },
  {
   "cell_type": "code",
   "execution_count": null,
   "metadata": {
    "ExecuteTime": {
     "end_time": "2017-09-19T16:33:28.905247Z",
     "start_time": "2017-09-19T16:33:28.229445Z"
    },
    "collapsed": true
   },
   "outputs": [],
   "source": [
    "df_shuffled = df.sample(frac=1).reset_index(drop=True)"
   ]
  },
  {
   "cell_type": "code",
   "execution_count": null,
   "metadata": {
    "ExecuteTime": {
     "end_time": "2017-09-19T16:33:42.040619Z",
     "start_time": "2017-09-19T16:33:42.038213Z"
    },
    "collapsed": true
   },
   "outputs": [],
   "source": [
    "test = df_shuffled[0:1000]"
   ]
  },
  {
   "cell_type": "markdown",
   "metadata": {},
   "source": [
    "## Running W2V"
   ]
  },
  {
   "cell_type": "code",
   "execution_count": null,
   "metadata": {
    "ExecuteTime": {
     "end_time": "2017-09-19T16:34:19.032864Z",
     "start_time": "2017-09-19T16:34:19.030017Z"
    },
    "collapsed": true
   },
   "outputs": [],
   "source": [
    "from sklearn.feature_extraction.text import TfidfVectorizer, CountVectorizer"
   ]
  },
  {
   "cell_type": "code",
   "execution_count": null,
   "metadata": {
    "ExecuteTime": {
     "end_time": "2017-09-19T16:34:19.222051Z",
     "start_time": "2017-09-19T16:34:19.219635Z"
    },
    "collapsed": true
   },
   "outputs": [],
   "source": [
    "n_features = 1000"
   ]
  },
  {
   "cell_type": "code",
   "execution_count": null,
   "metadata": {
    "ExecuteTime": {
     "end_time": "2017-09-19T16:34:19.619394Z",
     "start_time": "2017-09-19T16:34:19.382032Z"
    },
    "collapsed": true
   },
   "outputs": [],
   "source": [
    "tf_vectorizer = CountVectorizer(strip_accents = 'unicode',\n",
    "                                max_features=n_features,\n",
    "                                stop_words='english',\n",
    "                                max_df = 0.5,\n",
    "                                min_df = 10)\n",
    "tf = tf_vectorizer.fit_transform(test.words)"
   ]
  },
  {
   "cell_type": "code",
   "execution_count": null,
   "metadata": {
    "ExecuteTime": {
     "end_time": "2017-09-19T16:34:20.231134Z",
     "start_time": "2017-09-19T16:34:20.213713Z"
    },
    "collapsed": true
   },
   "outputs": [],
   "source": [
    "from sklearn.decomposition import LatentDirichletAllocation"
   ]
  },
  {
   "cell_type": "code",
   "execution_count": null,
   "metadata": {
    "ExecuteTime": {
     "end_time": "2017-09-19T16:38:50.649499Z",
     "start_time": "2017-09-19T16:38:50.645701Z"
    },
    "collapsed": true
   },
   "outputs": [],
   "source": [
    "n_topics = 10\n",
    "lda = LatentDirichletAllocation(n_topics=n_topics, max_iter=50,\n",
    "                                learning_method='batch',\n",
    "                                learning_offset=50.,\n",
    "                                random_state=42)"
   ]
  },
  {
   "cell_type": "code",
   "execution_count": null,
   "metadata": {
    "ExecuteTime": {
     "end_time": "2017-09-19T16:39:06.489702Z",
     "start_time": "2017-09-19T16:38:50.899985Z"
    },
    "collapsed": true
   },
   "outputs": [],
   "source": [
    "lda.fit(tf)"
   ]
  },
  {
   "cell_type": "code",
   "execution_count": null,
   "metadata": {
    "ExecuteTime": {
     "end_time": "2017-09-19T16:39:06.497537Z",
     "start_time": "2017-09-19T16:39:06.491570Z"
    },
    "collapsed": true
   },
   "outputs": [],
   "source": [
    "def print_top_words(model, feature_names, n_top_words):\n",
    "    for topic_idx, topic in enumerate(model.components_):\n",
    "        print(\"Topic #%d:\" % topic_idx)\n",
    "        print(\" \".join([feature_names[i]\n",
    "                        for i in topic.argsort()[:-n_top_words - 1:-1]]))\n",
    "    print()"
   ]
  },
  {
   "cell_type": "code",
   "execution_count": null,
   "metadata": {
    "ExecuteTime": {
     "end_time": "2017-09-19T16:39:06.502123Z",
     "start_time": "2017-09-19T16:39:06.499408Z"
    },
    "collapsed": true
   },
   "outputs": [],
   "source": [
    "n_top_words = 20"
   ]
  },
  {
   "cell_type": "code",
   "execution_count": null,
   "metadata": {
    "ExecuteTime": {
     "end_time": "2017-09-19T16:39:06.511117Z",
     "start_time": "2017-09-19T16:39:06.504048Z"
    },
    "collapsed": true
   },
   "outputs": [],
   "source": [
    "tf_feature_names = tf_vectorizer.get_feature_names()\n",
    "print_top_words(lda, tf_feature_names, n_top_words)"
   ]
  },
  {
   "cell_type": "code",
   "execution_count": null,
   "metadata": {
    "ExecuteTime": {
     "end_time": "2017-09-19T16:39:07.252037Z",
     "start_time": "2017-09-19T16:39:06.512947Z"
    },
    "collapsed": true
   },
   "outputs": [],
   "source": [
    "import pyLDAvis\n",
    "import pyLDAvis.sklearn\n",
    "pyLDAvis.enable_notebook()\n",
    "pyLDAvis.sklearn.prepare(lda, tf, tf_vectorizer)"
   ]
  },
  {
   "cell_type": "code",
   "execution_count": null,
   "metadata": {
    "collapsed": true
   },
   "outputs": [],
   "source": []
  }
 ],
 "metadata": {
  "kernelspec": {
   "display_name": "Python 3",
   "language": "python",
   "name": "python3"
  },
  "language_info": {
   "codemirror_mode": {
    "name": "ipython",
    "version": 3
   },
   "file_extension": ".py",
   "mimetype": "text/x-python",
   "name": "python",
   "nbconvert_exporter": "python",
   "pygments_lexer": "ipython3",
   "version": "3.6.2"
  },
  "toc": {
   "nav_menu": {},
   "number_sections": true,
   "sideBar": true,
   "skip_h1_title": true,
   "toc_cell": true,
   "toc_position": {},
   "toc_section_display": "block",
   "toc_window_display": true
  }
 },
 "nbformat": 4,
 "nbformat_minor": 2
}
