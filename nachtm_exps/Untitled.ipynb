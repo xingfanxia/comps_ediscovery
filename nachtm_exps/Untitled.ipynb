{
 "cells": [
  {
   "cell_type": "markdown",
   "metadata": {
    "toc": "true"
   },
   "source": [
    " # Table of Contents\n",
    "<div class=\"toc\" style=\"margin-top: 1em;\"><ul class=\"toc-item\" id=\"toc-level0\"></ul></div>"
   ]
  },
  {
   "cell_type": "code",
   "execution_count": 1,
   "metadata": {
    "ExecuteTime": {
     "end_time": "2017-11-10T04:53:20.904372Z",
     "start_time": "2017-11-10T04:53:20.430298Z"
    },
    "collapsed": true
   },
   "outputs": [],
   "source": [
    "import pandas as pd\n",
    "import sys\n",
    "sys.path.append('..')\n",
    "from lib import Node\n",
    "from lib import Tree"
   ]
  },
  {
   "cell_type": "code",
   "execution_count": 2,
   "metadata": {
    "ExecuteTime": {
     "end_time": "2017-11-10T04:53:23.921415Z",
     "start_time": "2017-11-10T04:53:20.907030Z"
    },
    "collapsed": true
   },
   "outputs": [],
   "source": [
    "df = pd.read_pickle('../data/parsed/pickled_data_test.pickle')"
   ]
  },
  {
   "cell_type": "code",
   "execution_count": 3,
   "metadata": {},
   "outputs": [
    {
     "name": "stdout",
     "output_type": "stream",
     "text": [
      "Rows: range(0, 100)\n",
      "\n",
      "\n",
      "split_cat: splitting on address: david.forster@enron.com\n",
      "split_cat: num left: 3\n",
      "split_cat: num right: 97\n",
      "\n",
      "\n",
      "best_breakpoint_this_feature: david.forster@enron.com\n",
      "No options left\n",
      "UNR ['registrar.isc@enron.com' 'monika.causholli@enron.com'\n",
      " 'emily.sellers@enron.com' 'steve.hotte@enron.com' 'rita.houston@enron.com'\n",
      " 'grs4ferc@starpower.net' 'debbie.doyle@enron.com' 'tim.cooper@enron.com'\n",
      " 'shelley.corman@enron.com' 'wkaseme@enron.com' 'martin.cuilla@enron.com'\n",
      " 'james.steffes@enron.com' 'amosher@appanet.org' 'jeff.dasovich@enron.com'\n",
      " 'ann.schmidt@enron.com' 'bcherry@sempra.com' 'jennifer.rudolph@enron.com'\n",
      " 'susan.mara@enron.com' 'jermeier@earthlink.net'\n",
      " 'rebecca.cantrell@enron.com' 'sgovenar@govadv.com' 'kathy.franz@enron.com'\n",
      " 'hcameron@uclink.berkeley.edu' 'rcarroll@bracepatt.com'\n",
      " 'jkelly@fairisaac.com' 'rob.bradley@enron.com' 'cameron@perfect.com'\n",
      " 'sharonda.stephens@enron.com' 'sarah.novosel@enron.com'\n",
      " 'douglass@arterhadden.com' 'wayne.gardner@enron.com'\n",
      " 'owner-eveningmba@haas.berkeley.edu' 'staw@haas.berkeley.edu'\n",
      " 'dwindham@uclink4.berkeley.edu' 'lora.sullivan@enron.com'\n",
      " 'mark_guinney@watsonwyatt.com' 'lgoldseth@svmg.org'\n",
      " 'lester@haas.berkeley.edu' 'izioautoemail@convene.com'\n",
      " 'joseph.alamo@enron.com' 'paul.kaufman@enron.com'\n",
      " 'stacey.burnett@enron.com' 'joe.s@my2way.com' 'no.address@enron.com'\n",
      " 'dana.davis@enron.com' 'david.delainey@enron.com'\n",
      " 'angela.mcculloch@enron.com' 'james.derrick@enron.com'\n",
      " 'c..williams@enron.com' 'john@pgsenergy.com' 'lindy.donoho@enron.com'\n",
      " '40enron@enron.com' 'herbl@amerexenergy.com' 'chris.dorland@enron.com'\n",
      " 'migeorge@deloitte.ca' 'frank.ermis@enron.com' 'daren.farmer@enron.com'\n",
      " 'robert.lloyd@enron.com' 'jackie.young@enron.com' 'tjfarmer@juno.com'\n",
      " 'ami.chokshi@enron.com' 'mjones7@txu.com']\n",
      "Now splitting children\n",
      "I'm left!\n",
      "Rows: [84 89 98]\n",
      "The node is pure, no more splitting\n",
      "I'm right!\n",
      "Rows: [ 0  1  2  3  4  5  6  7  8  9 10 11 12 13 14 15 16 17 18 19 20 21 22 23 24\n",
      " 25 26 27 28 29 30 31 32 33 34 35 36 37 38 39 40 41 42 43 44 45 46 47 48 49\n",
      " 50 51 52 53 54 55 56 57 58 59 60 61 62 63 64 65 66 67 68 69 70 71 72 73 74\n",
      " 75 76 77 78 79 80 81 82 83 85 86 87 88 90 91 92 93 94 95 96 97 99]\n",
      "\n",
      "\n",
      "split_cat: splitting on address: chris.dorland@enron.com\n",
      "split_cat: num left: 7\n",
      "split_cat: num right: 90\n",
      "\n",
      "\n",
      "best_breakpoint_this_feature: chris.dorland@enron.com\n",
      "No options left\n",
      "UNR ['registrar.isc@enron.com' 'monika.causholli@enron.com'\n",
      " 'emily.sellers@enron.com' 'steve.hotte@enron.com' 'rita.houston@enron.com'\n",
      " 'grs4ferc@starpower.net' 'debbie.doyle@enron.com' 'tim.cooper@enron.com'\n",
      " 'shelley.corman@enron.com' 'wkaseme@enron.com' 'martin.cuilla@enron.com'\n",
      " 'james.steffes@enron.com' 'amosher@appanet.org' 'jeff.dasovich@enron.com'\n",
      " 'ann.schmidt@enron.com' 'bcherry@sempra.com' 'jennifer.rudolph@enron.com'\n",
      " 'susan.mara@enron.com' 'jermeier@earthlink.net'\n",
      " 'rebecca.cantrell@enron.com' 'sgovenar@govadv.com' 'kathy.franz@enron.com'\n",
      " 'hcameron@uclink.berkeley.edu' 'rcarroll@bracepatt.com'\n",
      " 'jkelly@fairisaac.com' 'rob.bradley@enron.com' 'cameron@perfect.com'\n",
      " 'sharonda.stephens@enron.com' 'sarah.novosel@enron.com'\n",
      " 'douglass@arterhadden.com' 'wayne.gardner@enron.com'\n",
      " 'owner-eveningmba@haas.berkeley.edu' 'staw@haas.berkeley.edu'\n",
      " 'dwindham@uclink4.berkeley.edu' 'lora.sullivan@enron.com'\n",
      " 'mark_guinney@watsonwyatt.com' 'lgoldseth@svmg.org'\n",
      " 'lester@haas.berkeley.edu' 'izioautoemail@convene.com'\n",
      " 'joseph.alamo@enron.com' 'paul.kaufman@enron.com'\n",
      " 'stacey.burnett@enron.com' 'joe.s@my2way.com' 'no.address@enron.com'\n",
      " 'dana.davis@enron.com' 'david.delainey@enron.com'\n",
      " 'angela.mcculloch@enron.com' 'james.derrick@enron.com'\n",
      " 'c..williams@enron.com' 'john@pgsenergy.com' 'lindy.donoho@enron.com'\n",
      " '40enron@enron.com' 'herbl@amerexenergy.com' 'migeorge@deloitte.ca'\n",
      " 'frank.ermis@enron.com' 'daren.farmer@enron.com' 'robert.lloyd@enron.com'\n",
      " 'jackie.young@enron.com' 'tjfarmer@juno.com' 'ami.chokshi@enron.com'\n",
      " 'mjones7@txu.com']\n",
      "Now splitting children\n",
      "I'm left!\n",
      "Rows: [80 81 82 85 86 87 88]\n",
      "There are no more features to split on.\n",
      "I'm right!\n",
      "Rows: [ 0  1  2  3  4  5  6  7  8  9 10 11 12 13 14 15 16 17 18 19 20 21 22 23 24\n",
      " 25 26 27 28 29 30 31 32 33 34 35 36 37 38 39 40 41 42 43 44 45 46 47 48 49\n",
      " 50 51 52 53 54 55 56 57 58 59 60 61 62 63 64 65 66 67 68 69 70 71 72 73 74\n",
      " 75 76 77 78 79 83 90 91 92 93 94 95 96 97 99]\n",
      "\n",
      "\n",
      "split_cat: splitting on address: ann.schmidt@enron.com\n",
      "split_cat: num left: 3\n",
      "split_cat: num right: 87\n",
      "\n",
      "\n",
      "best_breakpoint_this_feature: ann.schmidt@enron.com\n",
      "No options left\n",
      "UNR ['registrar.isc@enron.com' 'monika.causholli@enron.com'\n",
      " 'emily.sellers@enron.com' 'steve.hotte@enron.com' 'rita.houston@enron.com'\n",
      " 'grs4ferc@starpower.net' 'debbie.doyle@enron.com' 'tim.cooper@enron.com'\n",
      " 'shelley.corman@enron.com' 'wkaseme@enron.com' 'martin.cuilla@enron.com'\n",
      " 'james.steffes@enron.com' 'amosher@appanet.org' 'jeff.dasovich@enron.com'\n",
      " 'bcherry@sempra.com' 'jennifer.rudolph@enron.com' 'susan.mara@enron.com'\n",
      " 'jermeier@earthlink.net' 'rebecca.cantrell@enron.com'\n",
      " 'sgovenar@govadv.com' 'kathy.franz@enron.com'\n",
      " 'hcameron@uclink.berkeley.edu' 'rcarroll@bracepatt.com'\n",
      " 'jkelly@fairisaac.com' 'rob.bradley@enron.com' 'cameron@perfect.com'\n",
      " 'sharonda.stephens@enron.com' 'sarah.novosel@enron.com'\n",
      " 'douglass@arterhadden.com' 'wayne.gardner@enron.com'\n",
      " 'owner-eveningmba@haas.berkeley.edu' 'staw@haas.berkeley.edu'\n",
      " 'dwindham@uclink4.berkeley.edu' 'lora.sullivan@enron.com'\n",
      " 'mark_guinney@watsonwyatt.com' 'lgoldseth@svmg.org'\n",
      " 'lester@haas.berkeley.edu' 'izioautoemail@convene.com'\n",
      " 'joseph.alamo@enron.com' 'paul.kaufman@enron.com'\n",
      " 'stacey.burnett@enron.com' 'joe.s@my2way.com' 'no.address@enron.com'\n",
      " 'dana.davis@enron.com' 'david.delainey@enron.com'\n",
      " 'angela.mcculloch@enron.com' 'james.derrick@enron.com'\n",
      " 'c..williams@enron.com' 'john@pgsenergy.com' 'lindy.donoho@enron.com'\n",
      " '40enron@enron.com' 'herbl@amerexenergy.com' 'migeorge@deloitte.ca'\n",
      " 'frank.ermis@enron.com' 'daren.farmer@enron.com' 'robert.lloyd@enron.com'\n",
      " 'jackie.young@enron.com' 'tjfarmer@juno.com' 'ami.chokshi@enron.com'\n",
      " 'mjones7@txu.com']\n",
      "Now splitting children\n",
      "I'm left!\n",
      "Rows: [15 17 20]\n",
      "There are no more features to split on.\n",
      "I'm right!\n",
      "Rows: [ 0  1  2  3  4  5  6  7  8  9 10 11 12 13 14 16 18 19 21 22 23 24 25 26 27\n",
      " 28 29 30 31 32 33 34 35 36 37 38 39 40 41 42 43 44 45 46 47 48 49 50 51 52\n",
      " 53 54 55 56 57 58 59 60 61 62 63 64 65 66 67 68 69 70 71 72 73 74 75 76 77\n",
      " 78 79 83 90 91 92 93 94 95 96 97 99]\n",
      "\n",
      "\n",
      "split_cat: splitting on address: bcherry@sempra.com\n",
      "split_cat: num left: 1\n",
      "split_cat: num right: 86\n",
      "\n",
      "\n",
      "best_breakpoint_this_feature: bcherry@sempra.com\n",
      "No options left\n",
      "UNR ['registrar.isc@enron.com' 'monika.causholli@enron.com'\n",
      " 'emily.sellers@enron.com' 'steve.hotte@enron.com' 'rita.houston@enron.com'\n",
      " 'grs4ferc@starpower.net' 'debbie.doyle@enron.com' 'tim.cooper@enron.com'\n",
      " 'shelley.corman@enron.com' 'wkaseme@enron.com' 'martin.cuilla@enron.com'\n",
      " 'james.steffes@enron.com' 'amosher@appanet.org' 'jeff.dasovich@enron.com'\n",
      " 'jennifer.rudolph@enron.com' 'susan.mara@enron.com'\n",
      " 'jermeier@earthlink.net' 'rebecca.cantrell@enron.com'\n",
      " 'sgovenar@govadv.com' 'kathy.franz@enron.com'\n",
      " 'hcameron@uclink.berkeley.edu' 'rcarroll@bracepatt.com'\n",
      " 'jkelly@fairisaac.com' 'rob.bradley@enron.com' 'cameron@perfect.com'\n",
      " 'sharonda.stephens@enron.com' 'sarah.novosel@enron.com'\n",
      " 'douglass@arterhadden.com' 'wayne.gardner@enron.com'\n",
      " 'owner-eveningmba@haas.berkeley.edu' 'staw@haas.berkeley.edu'\n",
      " 'dwindham@uclink4.berkeley.edu' 'lora.sullivan@enron.com'\n",
      " 'mark_guinney@watsonwyatt.com' 'lgoldseth@svmg.org'\n",
      " 'lester@haas.berkeley.edu' 'izioautoemail@convene.com'\n",
      " 'joseph.alamo@enron.com' 'paul.kaufman@enron.com'\n",
      " 'stacey.burnett@enron.com' 'joe.s@my2way.com' 'no.address@enron.com'\n",
      " 'dana.davis@enron.com' 'david.delainey@enron.com'\n",
      " 'angela.mcculloch@enron.com' 'james.derrick@enron.com'\n",
      " 'c..williams@enron.com' 'john@pgsenergy.com' 'lindy.donoho@enron.com'\n",
      " '40enron@enron.com' 'herbl@amerexenergy.com' 'migeorge@deloitte.ca'\n",
      " 'frank.ermis@enron.com' 'daren.farmer@enron.com' 'robert.lloyd@enron.com'\n",
      " 'jackie.young@enron.com' 'tjfarmer@juno.com' 'ami.chokshi@enron.com'\n",
      " 'mjones7@txu.com']\n",
      "Now splitting children\n",
      "I'm left!\n",
      "Rows: [18]\n",
      "The node is pure, no more splitting\n",
      "I'm right!\n",
      "Rows: [ 0  1  2  3  4  5  6  7  8  9 10 11 12 13 14 16 19 21 22 23 24 25 26 27 28\n",
      " 29 30 31 32 33 34 35 36 37 38 39 40 41 42 43 44 45 46 47 48 49 50 51 52 53\n",
      " 54 55 56 57 58 59 60 61 62 63 64 65 66 67 68 69 70 71 72 73 74 75 76 77 78\n",
      " 79 83 90 91 92 93 94 95 96 97 99]\n",
      "The node has reached max recursion depth, no more splitting\n",
      "['From']\n",
      "[6726094237, 0.28220000000000006, 100, From, david.forster@enron.com, [('l', 9827249364), ('r', 7595181944)]]\n",
      "\n",
      "--------------------------------------------------\n",
      "[9827249364, 0.0, 3, None, None, []]\n",
      "[7595181944, 0.24699755553193753, 97, From, chris.dorland@enron.com, [('l', 3457940608), ('r', 6470886121)]]\n",
      "\n",
      "--------------------------------------------------\n",
      "[3457940608, 0.489795918367347, 7, None, None, []]\n",
      "[6470886121, 0.1975308641975309, 90, From, ann.schmidt@enron.com, [('l', 4812199121), ('r', 4242174399)]]\n",
      "\n",
      "--------------------------------------------------\n",
      "[4812199121, 0.4444444444444444, 3, None, None, []]\n",
      "[4242174399, 0.1669969612894702, 87, From, bcherry@sempra.com, [('l', 6126427653), ('r', 4310333141)]]\n",
      "\n",
      "--------------------------------------------------\n",
      "[6126427653, 0.0, 1, None, None, []]\n",
      "[4310333141, 0.14954029204975666, 86, None, None, []]\n",
      "\n",
      "--------------------------------------------------\n",
      "\n"
     ]
    }
   ],
   "source": [
    "### Ju Yun's test suite 11-11\n",
    "\n",
    "test = df.loc[df['Scenario'] == '401']\n",
    "test_labeled = test.loc[test['Label'] != '-1']\n",
    "test = test_labeled[0:100]\n",
    "#test = test.sample(frac=1)\n",
    "test = test.reset_index(drop=True)\n",
    "\n",
    "# print(test.loc[test['From'].apply(lambda x: x[0]) == 'david.forster@enron.com'].index.values)\n",
    "# print(test.loc[test['From'])\n",
    "ls = ['From']\n",
    "#data, depth, benchmark, rows, features, cat_features)\n",
    "tree = Tree(test, 4, None, range(test.shape[0]), ls, ls)\n",
    "tree.fit()\n",
    "print(tree)\n",
    "\n"
   ]
  },
  {
   "cell_type": "code",
   "execution_count": null,
   "metadata": {
    "ExecuteTime": {
     "end_time": "2017-11-10T04:53:23.927177Z",
     "start_time": "2017-11-10T04:53:23.923646Z"
    },
    "collapsed": true
   },
   "outputs": [],
   "source": [
    "rows = [1, 30, 32, 43, 46]"
   ]
  },
  {
   "cell_type": "code",
   "execution_count": null,
   "metadata": {
    "ExecuteTime": {
     "end_time": "2017-11-10T04:53:23.947876Z",
     "start_time": "2017-11-10T04:53:23.929835Z"
    },
    "collapsed": true
   },
   "outputs": [],
   "source": [
    "members = df.loc[rows]['Label'].values"
   ]
  },
  {
   "cell_type": "code",
   "execution_count": null,
   "metadata": {
    "ExecuteTime": {
     "end_time": "2017-11-10T04:53:23.962355Z",
     "start_time": "2017-11-10T04:53:23.949789Z"
    },
    "collapsed": true
   },
   "outputs": [],
   "source": [
    "members"
   ]
  },
  {
   "cell_type": "code",
   "execution_count": null,
   "metadata": {
    "ExecuteTime": {
     "end_time": "2017-11-10T04:53:23.969247Z",
     "start_time": "2017-11-10T04:53:23.964887Z"
    },
    "collapsed": true
   },
   "outputs": [],
   "source": [
    "members == '-1'"
   ]
  },
  {
   "cell_type": "code",
   "execution_count": null,
   "metadata": {
    "ExecuteTime": {
     "end_time": "2017-11-10T04:53:23.978209Z",
     "start_time": "2017-11-10T04:53:23.971848Z"
    },
    "collapsed": true
   },
   "outputs": [],
   "source": [
    "a = members[members == '-1']\n",
    "a"
   ]
  },
  {
   "cell_type": "markdown",
   "metadata": {},
   "source": [
    "TODO:\n",
    "\n",
    "- Dates to some kind of number\n",
    "- from, to: split using membership\n",
    "- dates: split on number\n",
    "- subject: find subjects that are equal, or lsa matrix\n"
   ]
  },
  {
   "cell_type": "code",
   "execution_count": null,
   "metadata": {
    "ExecuteTime": {
     "end_time": "2017-11-10T04:53:24.083203Z",
     "start_time": "2017-11-10T04:53:23.980586Z"
    },
    "collapsed": true
   },
   "outputs": [],
   "source": [
    "one = df.loc[df['Scenario'] == '401']\n",
    "one_labeled = one.loc[one['Label'] != '-1']\n",
    "one_labeled.shape"
   ]
  },
  {
   "cell_type": "code",
   "execution_count": null,
   "metadata": {
    "ExecuteTime": {
     "end_time": "2017-11-10T04:53:24.088608Z",
     "start_time": "2017-11-10T04:53:24.085583Z"
    },
    "collapsed": true
   },
   "outputs": [],
   "source": [
    "def get_first(l):\n",
    "    return l[0]"
   ]
  },
  {
   "cell_type": "code",
   "execution_count": null,
   "metadata": {
    "ExecuteTime": {
     "end_time": "2017-11-10T04:53:24.196827Z",
     "start_time": "2017-11-10T04:53:24.091823Z"
    },
    "collapsed": true,
    "scrolled": true
   },
   "outputs": [],
   "source": [
    "df['From'].apply(lambda x: x[0]).unique()[0]"
   ]
  },
  {
   "cell_type": "code",
   "execution_count": null,
   "metadata": {
    "ExecuteTime": {
     "end_time": "2017-11-10T04:53:24.201291Z",
     "start_time": "2017-11-10T04:53:24.198720Z"
    },
    "collapsed": true
   },
   "outputs": [],
   "source": [
    "##test.loc[test['From'].apply(lambda x: x[0]) == 'david.forster@enron.com'].index.valuestest[0:1]"
   ]
  },
  {
   "cell_type": "code",
   "execution_count": null,
   "metadata": {
    "ExecuteTime": {
     "end_time": "2017-11-10T04:53:24.303954Z",
     "start_time": "2017-11-10T04:53:24.203181Z"
    },
    "collapsed": true
   },
   "outputs": [],
   "source": [
    "test = df.loc[df['Scenario'] == '401']\n",
    "test_labeled = test.loc[test['Label'] != '-1']\n",
    "test = test_labeled[0:100]"
   ]
  },
  {
   "cell_type": "code",
   "execution_count": null,
   "metadata": {
    "ExecuteTime": {
     "end_time": "2017-11-10T04:53:24.312357Z",
     "start_time": "2017-11-10T04:53:24.306474Z"
    }
   },
   "outputs": [],
   "source": [
    "test.shape"
   ]
  },
  {
   "cell_type": "code",
   "execution_count": null,
   "metadata": {
    "ExecuteTime": {
     "end_time": "2017-11-10T04:53:24.318079Z",
     "start_time": "2017-11-10T04:53:24.314506Z"
    },
    "collapsed": true
   },
   "outputs": [],
   "source": [
    "# test = test.sample(frac=1)\n",
    "test = test.reset_index(drop=True)"
   ]
  },
  {
   "cell_type": "code",
   "execution_count": null,
   "metadata": {
    "ExecuteTime": {
     "end_time": "2017-11-10T04:53:24.322399Z",
     "start_time": "2017-11-10T04:53:24.319734Z"
    },
    "collapsed": true
   },
   "outputs": [],
   "source": [
    "ls = ['From']"
   ]
  },
  {
   "cell_type": "code",
   "execution_count": null,
   "metadata": {},
   "outputs": [],
   "source": [
    "rows = [80, 81, 82, 85, 86, 87, 88]\n",
    "address = 'registrar.isc@enron.com'\n",
    "feature = 'From'\n",
    "# uniques = test[feature].apply(lambda x: x[0]).unique()\n",
    "# to_parse = [(test['From'][x],test['Label'][x]) for x in rows]\n",
    "# to_parse = pd.DataFrame(to_parse, columns=('From','Label'), index=rows)\n",
    "uniques = test.loc[rows]['From'].apply(lambda x: x[0]).unique()\n",
    "# to_parse.loc[to_parse['From'].apply(lambda x: x[0]) == address].index.values\n",
    "uniques"
   ]
  },
  {
   "cell_type": "code",
   "execution_count": null,
   "metadata": {
    "ExecuteTime": {
     "end_time": "2017-11-10T04:53:24.327528Z",
     "start_time": "2017-11-10T04:53:24.324334Z"
    },
    "collapsed": true
   },
   "outputs": [],
   "source": [
    "#data, depth, benchmark, rows, features, cat_features)\n",
    "tree = Tree(test, 4, None, range(test.shape[0]), ls, ls)"
   ]
  },
  {
   "cell_type": "code",
   "execution_count": null,
   "metadata": {
    "ExecuteTime": {
     "end_time": "2017-11-10T04:53:25.070481Z",
     "start_time": "2017-11-10T04:53:24.329325Z"
    },
    "collapsed": true
   },
   "outputs": [],
   "source": [
    "tree.fit()\n",
    "print(tree)"
   ]
  },
  {
   "cell_type": "code",
   "execution_count": null,
   "metadata": {
    "ExecuteTime": {
     "end_time": "2017-11-10T04:53:25.181367Z",
     "start_time": "2017-11-10T04:53:25.073011Z"
    },
    "collapsed": true,
    "scrolled": true
   },
   "outputs": [],
   "source": [
    "tree.visualize()"
   ]
  },
  {
   "cell_type": "code",
   "execution_count": null,
   "metadata": {
    "ExecuteTime": {
     "end_time": "2017-11-10T04:53:25.182413Z",
     "start_time": "2017-11-10T04:53:20.440Z"
    },
    "collapsed": true
   },
   "outputs": [],
   "source": [
    "%%bash\n",
    "cd vis\n",
    "dot -Tpng tree.dot -o tree.png\n",
    "dot -Tsvg tree.dot -o tree.svg"
   ]
  },
  {
   "cell_type": "code",
   "execution_count": null,
   "metadata": {
    "ExecuteTime": {
     "end_time": "2017-11-10T04:53:25.183304Z",
     "start_time": "2017-11-10T04:53:20.441Z"
    },
    "collapsed": true
   },
   "outputs": [],
   "source": [
    "from IPython.display import Image\n",
    "Image(filename='vis/tree.png')"
   ]
  },
  {
   "cell_type": "code",
   "execution_count": null,
   "metadata": {
    "ExecuteTime": {
     "end_time": "2017-11-10T04:53:25.184160Z",
     "start_time": "2017-11-10T04:53:20.442Z"
    },
    "collapsed": true
   },
   "outputs": [],
   "source": [
    "test.loc[test['From'].apply(lambda x: x[0]) == 'david.forster@enron.com'].index.values"
   ]
  },
  {
   "cell_type": "code",
   "execution_count": null,
   "metadata": {
    "ExecuteTime": {
     "end_time": "2017-11-10T04:53:25.185399Z",
     "start_time": "2017-11-10T04:53:20.443Z"
    },
    "collapsed": true
   },
   "outputs": [],
   "source": [
    "members = test.loc[range(0,100)]\n",
    "left_members = members.loc[members['From'] == 'david.forster@enron.com'].index.values\n",
    "members.loc[members['From'].apply(lambda x: x [0] == 'david.forster@enron.com')]"
   ]
  },
  {
   "cell_type": "code",
   "execution_count": null,
   "metadata": {
    "collapsed": true
   },
   "outputs": [],
   "source": []
  }
 ],
 "metadata": {
  "kernelspec": {
   "display_name": "Python 3",
   "language": "python",
   "name": "python3"
  },
  "language_info": {
   "codemirror_mode": {
    "name": "ipython",
    "version": 3
   },
   "file_extension": ".py",
   "mimetype": "text/x-python",
   "name": "python",
   "nbconvert_exporter": "python",
   "pygments_lexer": "ipython3",
   "version": "3.6.2"
  },
  "toc": {
   "nav_menu": {},
   "number_sections": true,
   "sideBar": true,
   "skip_h1_title": true,
   "toc_cell": true,
   "toc_position": {
    "height": "944px",
    "left": "0px",
    "right": "934px",
    "top": "92px",
    "width": "26px"
   },
   "toc_section_display": "block",
   "toc_window_display": true
  }
 },
 "nbformat": 4,
 "nbformat_minor": 2
}
