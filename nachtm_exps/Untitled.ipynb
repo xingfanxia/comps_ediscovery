{
 "cells": [
  {
   "cell_type": "markdown",
   "metadata": {
    "toc": "true"
   },
   "source": [
    " # Table of Contents\n",
    "<div class=\"toc\" style=\"margin-top: 1em;\"><ul class=\"toc-item\" id=\"toc-level0\"></ul></div>"
   ]
  },
  {
   "cell_type": "code",
   "execution_count": 1,
   "metadata": {
    "ExecuteTime": {
     "end_time": "2017-11-10T04:53:20.904372Z",
     "start_time": "2017-11-10T04:53:20.430298Z"
    }
   },
   "outputs": [],
   "source": [
    "import pandas as pd\n",
    "import sys\n",
    "sys.path.append('..')\n",
    "from lib import Node\n",
    "from lib import Tree"
   ]
  },
  {
   "cell_type": "code",
   "execution_count": 2,
   "metadata": {
    "ExecuteTime": {
     "end_time": "2017-11-10T04:53:23.921415Z",
     "start_time": "2017-11-10T04:53:20.907030Z"
    },
    "collapsed": true
   },
   "outputs": [],
   "source": [
    "df = pd.read_pickle('../data/parsed/pickled_data_test.pickle')"
   ]
  },
  {
   "cell_type": "code",
   "execution_count": 7,
   "metadata": {},
   "outputs": [
    {
     "name": "stdout",
     "output_type": "stream",
     "text": [
      "feature we used: Date\n",
      "I'm left!\n",
      "There are no more features to split on.\n",
      "I'm right!\n",
      "There are no more features to split on.\n",
      "['Date']\n",
      "[5068045361, 0.28220000000000006, 100, Date, 2001-09-17 09:29:34-07:00, [('l', 4460544738), ('r', 3651800617)]]\n",
      "\n",
      "--------------------------------------------------\n",
      "[4460544738, 0.35622768325981946, 69, None, None, []]\n",
      "[3651800617, 0.06243496357960448, 31, None, None, []]\n",
      "\n",
      "--------------------------------------------------\n",
      "\n"
     ]
    }
   ],
   "source": [
    "### Ju Yun's test suite 11-11\n",
    "\n",
    "test = df.loc[df['Scenario'] == '401']\n",
    "test_labeled = test.loc[test['Label'] != '-1']\n",
    "test = test_labeled[0:100]\n",
    "#test = test.sample(frac=1)\n",
    "test = test.reset_index(drop=True)\n",
    "\n",
    "# print(test.loc[test['From'].apply(lambda x: x[0]) == 'david.forster@enron.com'].index.values)\n",
    "# print(test.loc[test['From'])\n",
    "ls = ['Date']\n",
    "cat = ['From', 'To']\n",
    "#data, depth, benchmark, rows, features, cat_features)\n",
    "tree = Tree(test, 100, None, range(test.shape[0]), ls, cat)\n",
    "tree.fit()\n",
    "print(tree)\n",
    "\n",
    "# print(type(test['Date'][0]))"
   ]
  },
  {
   "cell_type": "code",
   "execution_count": 7,
   "metadata": {},
   "outputs": [
    {
     "data": {
      "text/plain": [
       "34    [cameron@perfect.com]\n",
       "39    [cameron@perfect.com]\n",
       "56    [cameron@perfect.com]\n",
       "Name: To, dtype: object"
      ]
     },
     "execution_count": 7,
     "metadata": {},
     "output_type": "execute_result"
    }
   ],
   "source": [
    "rows = [34, 39, 56]\n",
    "feature = 'To'\n",
    "test.loc[rows][feature]"
   ]
  },
  {
   "cell_type": "code",
   "execution_count": 7,
   "metadata": {},
   "outputs": [
    {
     "data": {
      "text/plain": [
       "array([84, 89, 98])"
      ]
     },
     "execution_count": 7,
     "metadata": {},
     "output_type": "execute_result"
    }
   ],
   "source": [
    "test.loc[test['From'].apply(lambda x: 'david.forster@enron.com' in x)].index.values"
   ]
  },
  {
   "cell_type": "code",
   "execution_count": 13,
   "metadata": {},
   "outputs": [
    {
     "data": {
      "text/plain": [
       "array([ 0,  1,  2,  3,  4,  5,  6,  7,  8,  9, 10, 11, 12, 13, 14, 15, 16,\n",
       "       17, 18, 19, 20, 21, 22, 23, 24, 25, 26, 27, 28, 29, 30, 31, 32, 33,\n",
       "       34, 35, 36, 37, 38, 39, 40, 41, 42, 43, 44, 45, 46, 47, 48, 49, 50,\n",
       "       51, 52, 53, 54, 55, 56, 57, 58, 59, 60, 61, 62, 63, 64, 65, 66, 67,\n",
       "       68, 69, 70, 71, 72, 73, 74, 75, 76, 77, 78, 79, 80, 81, 82, 83, 85,\n",
       "       86, 87, 88, 90, 91, 92, 93, 94, 95, 96, 97, 99])"
      ]
     },
     "execution_count": 13,
     "metadata": {},
     "output_type": "execute_result"
    }
   ],
   "source": [
    "test.loc[test['From'].apply(lambda x: 'david.forster@enron.com' not in x)].index.values"
   ]
  },
  {
   "cell_type": "code",
   "execution_count": null,
   "metadata": {
    "ExecuteTime": {
     "end_time": "2017-11-10T04:53:23.927177Z",
     "start_time": "2017-11-10T04:53:23.923646Z"
    },
    "collapsed": true
   },
   "outputs": [],
   "source": [
    "rows = [1, 30, 32, 43, 46]"
   ]
  },
  {
   "cell_type": "code",
   "execution_count": null,
   "metadata": {
    "ExecuteTime": {
     "end_time": "2017-11-10T04:53:23.947876Z",
     "start_time": "2017-11-10T04:53:23.929835Z"
    },
    "collapsed": true
   },
   "outputs": [],
   "source": [
    "members = df.loc[rows]['Label'].values"
   ]
  },
  {
   "cell_type": "code",
   "execution_count": null,
   "metadata": {
    "ExecuteTime": {
     "end_time": "2017-11-10T04:53:23.962355Z",
     "start_time": "2017-11-10T04:53:23.949789Z"
    },
    "collapsed": true
   },
   "outputs": [],
   "source": [
    "members"
   ]
  },
  {
   "cell_type": "code",
   "execution_count": null,
   "metadata": {
    "ExecuteTime": {
     "end_time": "2017-11-10T04:53:23.969247Z",
     "start_time": "2017-11-10T04:53:23.964887Z"
    },
    "collapsed": true
   },
   "outputs": [],
   "source": [
    "members == '-1'"
   ]
  },
  {
   "cell_type": "code",
   "execution_count": null,
   "metadata": {
    "ExecuteTime": {
     "end_time": "2017-11-10T04:53:23.978209Z",
     "start_time": "2017-11-10T04:53:23.971848Z"
    },
    "collapsed": true
   },
   "outputs": [],
   "source": [
    "a = members[members == '-1']\n",
    "a"
   ]
  },
  {
   "cell_type": "markdown",
   "metadata": {},
   "source": [
    "TODO:\n",
    "\n",
    "- Dates to some kind of number\n",
    "- ~~from, to: split using membership~~\n",
    "- dates: split on number\n",
    "- think about whether numerical (or dates specifically) should be \n",
    "- subject: find subjects that are equal, or lsa matrix\n"
   ]
  },
  {
   "cell_type": "code",
   "execution_count": null,
   "metadata": {
    "ExecuteTime": {
     "end_time": "2017-11-10T04:53:24.083203Z",
     "start_time": "2017-11-10T04:53:23.980586Z"
    },
    "collapsed": true
   },
   "outputs": [],
   "source": [
    "one = df.loc[df['Scenario'] == '401']\n",
    "one_labeled = one.loc[one['Label'] != '-1']\n",
    "one_labeled.shape"
   ]
  },
  {
   "cell_type": "code",
   "execution_count": null,
   "metadata": {
    "ExecuteTime": {
     "end_time": "2017-11-10T04:53:24.088608Z",
     "start_time": "2017-11-10T04:53:24.085583Z"
    },
    "collapsed": true
   },
   "outputs": [],
   "source": [
    "def get_first(l):\n",
    "    return l[0]"
   ]
  },
  {
   "cell_type": "code",
   "execution_count": null,
   "metadata": {
    "ExecuteTime": {
     "end_time": "2017-11-10T04:53:24.196827Z",
     "start_time": "2017-11-10T04:53:24.091823Z"
    },
    "collapsed": true,
    "scrolled": true
   },
   "outputs": [],
   "source": [
    "df['From'].apply(lambda x: x[0]).unique()[0]"
   ]
  },
  {
   "cell_type": "code",
   "execution_count": null,
   "metadata": {
    "ExecuteTime": {
     "end_time": "2017-11-10T04:53:24.201291Z",
     "start_time": "2017-11-10T04:53:24.198720Z"
    },
    "collapsed": true
   },
   "outputs": [],
   "source": [
    "##test.loc[test['From'].apply(lambda x: x[0]) == 'david.forster@enron.com'].index.valuestest[0:1]"
   ]
  },
  {
   "cell_type": "code",
   "execution_count": null,
   "metadata": {
    "ExecuteTime": {
     "end_time": "2017-11-10T04:53:24.303954Z",
     "start_time": "2017-11-10T04:53:24.203181Z"
    },
    "collapsed": true
   },
   "outputs": [],
   "source": [
    "test = df.loc[df['Scenario'] == '401']\n",
    "test_labeled = test.loc[test['Label'] != '-1']\n",
    "test = test_labeled[0:100]"
   ]
  },
  {
   "cell_type": "code",
   "execution_count": null,
   "metadata": {
    "ExecuteTime": {
     "end_time": "2017-11-10T04:53:24.312357Z",
     "start_time": "2017-11-10T04:53:24.306474Z"
    },
    "collapsed": true
   },
   "outputs": [],
   "source": [
    "test.shape"
   ]
  },
  {
   "cell_type": "code",
   "execution_count": null,
   "metadata": {
    "ExecuteTime": {
     "end_time": "2017-11-10T04:53:24.318079Z",
     "start_time": "2017-11-10T04:53:24.314506Z"
    },
    "collapsed": true
   },
   "outputs": [],
   "source": [
    "# test = test.sample(frac=1)\n",
    "test = test.reset_index(drop=True)"
   ]
  },
  {
   "cell_type": "code",
   "execution_count": null,
   "metadata": {
    "ExecuteTime": {
     "end_time": "2017-11-10T04:53:24.322399Z",
     "start_time": "2017-11-10T04:53:24.319734Z"
    },
    "collapsed": true
   },
   "outputs": [],
   "source": [
    "ls = ['From']"
   ]
  },
  {
   "cell_type": "code",
   "execution_count": null,
   "metadata": {
    "collapsed": true
   },
   "outputs": [],
   "source": [
    "rows = [80, 81, 82, 85, 86, 87, 88]\n",
    "address = 'registrar.isc@enron.com'\n",
    "feature = 'From'\n",
    "# uniques = test[feature].apply(lambda x: x[0]).unique()\n",
    "# to_parse = [(test['From'][x],test['Label'][x]) for x in rows]\n",
    "# to_parse = pd.DataFrame(to_parse, columns=('From','Label'), index=rows)\n",
    "uniques = test.loc[rows]['From'].apply(lambda x: x[0]).unique()\n",
    "# to_parse.loc[to_parse['From'].apply(lambda x: x[0]) == address].index.values\n",
    "uniques"
   ]
  },
  {
   "cell_type": "code",
   "execution_count": null,
   "metadata": {
    "ExecuteTime": {
     "end_time": "2017-11-10T04:53:24.327528Z",
     "start_time": "2017-11-10T04:53:24.324334Z"
    },
    "collapsed": true
   },
   "outputs": [],
   "source": [
    "#data, depth, benchmark, rows, features, cat_features)\n",
    "tree = Tree(test, 4, None, range(test.shape[0]), ls, ls)"
   ]
  },
  {
   "cell_type": "code",
   "execution_count": null,
   "metadata": {
    "ExecuteTime": {
     "end_time": "2017-11-10T04:53:25.070481Z",
     "start_time": "2017-11-10T04:53:24.329325Z"
    },
    "collapsed": true
   },
   "outputs": [],
   "source": [
    "tree.fit()\n",
    "print(tree)"
   ]
  },
  {
   "cell_type": "code",
   "execution_count": 8,
   "metadata": {
    "ExecuteTime": {
     "end_time": "2017-11-10T04:53:25.181367Z",
     "start_time": "2017-11-10T04:53:25.073011Z"
    },
    "scrolled": true
   },
   "outputs": [
    {
     "data": {
      "text/plain": [
       "'digraph Tree {\\nnode [shape=box];\\n5068045361 [label=\"X[Date] < 2001-09-17 09:29:34-07:00\\ngini = 0.2651519401589528\\nsamples = 100\\ndistribution = [69, 31]\"];\\n4460544738 [label=\"samples = 69\\nratio = [0.7681159420289855, 0.2318840579710145]\"];\\n5068045361 -> 4460544738 [labeldistance=8, labelangle=30, xlabel=\"True\"]\\n3651800617 [label=\"samples = 31\\nratio = [0.967741935483871, 0.03225806451612903]\"];\\n5068045361 -> 3651800617 [labeldistance=8, labelangle=-30, xlabel=\"False\"]\\n}'"
      ]
     },
     "execution_count": 8,
     "metadata": {},
     "output_type": "execute_result"
    }
   ],
   "source": [
    "tree.visualize()"
   ]
  },
  {
   "cell_type": "code",
   "execution_count": 9,
   "metadata": {
    "ExecuteTime": {
     "end_time": "2017-11-10T04:53:25.182413Z",
     "start_time": "2017-11-10T04:53:20.440Z"
    },
    "collapsed": true
   },
   "outputs": [],
   "source": [
    "%%bash\n",
    "cd vis\n",
    "dot -Tpng tree.dot -o tree.png\n",
    "dot -Tsvg tree.dot -o tree.svg"
   ]
  },
  {
   "cell_type": "code",
   "execution_count": 10,
   "metadata": {
    "ExecuteTime": {
     "end_time": "2017-11-10T04:53:25.183304Z",
     "start_time": "2017-11-10T04:53:20.441Z"
    },
    "scrolled": true
   },
   "outputs": [
    {
     "data": {
      "image/png": "[encoded data removed]",
      "text/plain": [
       "<IPython.core.display.Image object>"
      ]
     },
     "execution_count": 10,
     "metadata": {},
     "output_type": "execute_result"
    }
   ],
   "source": [
    "from IPython.display import Image\n",
    "Image(filename='vis/tree.png')"
   ]
  },
  {
   "cell_type": "code",
   "execution_count": null,
   "metadata": {
    "ExecuteTime": {
     "end_time": "2017-11-10T04:53:25.184160Z",
     "start_time": "2017-11-10T04:53:20.442Z"
    },
    "collapsed": true
   },
   "outputs": [],
   "source": [
    "test.loc[test['From'].apply(lambda x: x[0]) == 'david.forster@enron.com'].index.values"
   ]
  },
  {
   "cell_type": "code",
   "execution_count": null,
   "metadata": {
    "ExecuteTime": {
     "end_time": "2017-11-10T04:53:25.185399Z",
     "start_time": "2017-11-10T04:53:20.443Z"
    },
    "collapsed": true
   },
   "outputs": [],
   "source": [
    "members = test.loc[range(0,100)]\n",
    "left_members = members.loc[members['From'] == 'david.forster@enron.com'].index.values\n",
    "members.loc[members['From'].apply(lambda x: x [0] == 'david.forster@enron.com')]"
   ]
  },
  {
   "cell_type": "code",
   "execution_count": null,
   "metadata": {
    "collapsed": true
   },
   "outputs": [],
   "source": []
  }
 ],
 "metadata": {
  "kernelspec": {
   "display_name": "Python 3",
   "language": "python",
   "name": "python3"
  },
  "language_info": {
   "codemirror_mode": {
    "name": "ipython",
    "version": 3
   },
   "file_extension": ".py",
   "mimetype": "text/x-python",
   "name": "python",
   "nbconvert_exporter": "python",
   "pygments_lexer": "ipython3",
   "version": "3.6.2"
  },
  "toc": {
   "nav_menu": {},
   "number_sections": true,
   "sideBar": true,
   "skip_h1_title": true,
   "toc_cell": true,
   "toc_position": {
    "height": "944px",
    "left": "0px",
    "right": "934px",
    "top": "92px",
    "width": "26px"
   },
   "toc_section_display": "block",
   "toc_window_display": true
  }
 },
 "nbformat": 4,
 "nbformat_minor": 2
}
