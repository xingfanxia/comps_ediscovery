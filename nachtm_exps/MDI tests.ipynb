{
 "cells": [
  {
   "cell_type": "code",
   "execution_count": 2,
   "metadata": {
    "collapsed": true
   },
   "outputs": [],
   "source": [
    "import sys\n",
    "sys.path.append('..')\n",
    "from lib import *\n",
    "import pandas as pd\n",
    "import numpy as np\n",
    "\n",
    "forest = RNF(None, None, None, None, None, None, None)\n",
    "forest.load_rnf('scen1.first600.64trees.10depth.42rs.20maxfeats.600maxin.pickle')"
   ]
  },
  {
   "cell_type": "markdown",
   "metadata": {},
   "source": [
    "# Testing whole-forest importance"
   ]
  },
  {
   "cell_type": "code",
   "execution_count": null,
   "metadata": {
    "collapsed": true
   },
   "outputs": [],
   "source": [
    "d = forest.get_feature_importances()"
   ]
  },
  {
   "cell_type": "code",
   "execution_count": null,
   "metadata": {
    "collapsed": true
   },
   "outputs": [],
   "source": [
    "sorted([(d[key], key) for key in d.keys()], reverse=True)"
   ]
  },
  {
   "cell_type": "markdown",
   "metadata": {},
   "source": [
    "# Testing individual predict"
   ]
  },
  {
   "cell_type": "markdown",
   "metadata": {},
   "source": [
    "## Testing individual predict on fake forest"
   ]
  },
  {
   "cell_type": "markdown",
   "metadata": {},
   "source": [
    "Forest consisting of two trees:\n",
    "```\n",
    "train_data = [.1,.99,1],[.3,.15,0],[.75,.1,0],[.9,.55,1]\n",
    "\n",
    "        A<.5\n",
    "       /    \\\n",
    "     B<.25  B<.5\n",
    "     /  \\   / \\\n",
    "    1   0  0   1\n",
    "    \n",
    "        B<.25\n",
    "       /   \\\n",
    "      1     0\n",
    "```"
   ]
  },
  {
   "cell_type": "code",
   "execution_count": null,
   "metadata": {},
   "outputs": [],
   "source": [
    "train_data_dummy = pd.DataFrame([[.1,.99,.75,'1'],[.3,.15,.5,'0'],[.75,.1,.4,'0'],[.9,.55,.1,'1']], columns=[\"A\",\"B\",\"C\",\"Label\"])"
   ]
  },
  {
   "cell_type": "code",
   "execution_count": null,
   "metadata": {},
   "outputs": [],
   "source": [
    "train_data_dummy"
   ]
  },
  {
   "cell_type": "code",
   "execution_count": null,
   "metadata": {},
   "outputs": [],
   "source": [
    "forest_dummy = RNF(train_data_dummy, 2, 2, 43, 2, 4, [])"
   ]
  },
  {
   "cell_type": "code",
   "execution_count": null,
   "metadata": {},
   "outputs": [],
   "source": [
    "forest_dummy.fit()"
   ]
  },
  {
   "cell_type": "code",
   "execution_count": null,
   "metadata": {},
   "outputs": [],
   "source": [
    "[t.features for t in forest_dummy.trees]"
   ]
  },
  {
   "cell_type": "code",
   "execution_count": null,
   "metadata": {},
   "outputs": [],
   "source": [
    "print(\"{}<{}\".format(forest_dummy.trees[1].head.min_feature, forest_dummy.trees[1].head.min_break_point))"
   ]
  },
  {
   "cell_type": "code",
   "execution_count": null,
   "metadata": {},
   "outputs": [],
   "source": [
    "train_data_dummy.loc[0,\"Label\"]"
   ]
  },
  {
   "cell_type": "code",
   "execution_count": null,
   "metadata": {},
   "outputs": [],
   "source": [
    "[train_data_dummy.loc[x,\"Label\"] for x in forest_dummy.trees[0].head.left.right.rows]"
   ]
  },
  {
   "cell_type": "markdown",
   "metadata": {},
   "source": [
    "```\n",
    "   A<.9\n",
    "   /    \\\n",
    "  C<.75  [1]\n",
    "  / \\\n",
    " [0] [1,1]\n",
    " \n",
    "   B<.55\n",
    "   /    \\\n",
    " [0]     [1,1,1]\n",
    "```"
   ]
  },
  {
   "cell_type": "code",
   "execution_count": null,
   "metadata": {
    "collapsed": true
   },
   "outputs": [],
   "source": [
    "test_data_dummy = pd.DataFrame([[.95,.65,.3,'1'], [.1,.6,.4,'0']], columns=[\"A\",\"B\",\"C\",\"Label\"])"
   ]
  },
  {
   "cell_type": "code",
   "execution_count": null,
   "metadata": {},
   "outputs": [],
   "source": [
    "test_data_dummy"
   ]
  },
  {
   "cell_type": "code",
   "execution_count": null,
   "metadata": {},
   "outputs": [],
   "source": [
    "predictions_dummy = forest_dummy.predict_with_feat_imp(test_data_dummy)"
   ]
  },
  {
   "cell_type": "code",
   "execution_count": null,
   "metadata": {},
   "outputs": [],
   "source": [
    "predictions_dummy"
   ]
  },
  {
   "cell_type": "code",
   "execution_count": null,
   "metadata": {},
   "outputs": [],
   "source": [
    "play_with = predictions_dummy[2][1]\n",
    "print((play_with['A_low'] + play_with['C_low']) * 2)\n",
    "print((play_with['B_high']) * 2)"
   ]
  },
  {
   "cell_type": "markdown",
   "metadata": {},
   "source": [
    "## Testing individual predict on real data"
   ]
  },
  {
   "cell_type": "code",
   "execution_count": 3,
   "metadata": {
    "collapsed": true
   },
   "outputs": [],
   "source": [
    "lsa_np = np.load('../data/parsed/lsa_output.npy')\n",
    "\n",
    "metadata = pd.read_pickle('../data/parsed/pickles/pickled_data_test.pickle')\n",
    "metadata = metadata.loc[metadata['Scenario'] == '401']\n",
    "metadata = metadata.reset_index(drop=True)\n",
    "\n",
    "lsa_df = pd.DataFrame(lsa_np)\n",
    "\n",
    "df = pd.concat([metadata, lsa_df], axis=1, join_axes=[metadata.index])\n",
    "df = df.loc[df['Label'] != '-1']\n",
    "df = df.reset_index(drop=True)\n",
    "\n",
    "cat_features = ['To','From']\n",
    "features = list(range(100))\n",
    "features.extend(cat_features + ['Date'])\n",
    "\n",
    "df = df[features + ['Label', 'ID']]\n",
    "\n",
    "test_df = df[600:].reset_index(drop=True)"
   ]
  },
  {
   "cell_type": "code",
   "execution_count": 4,
   "metadata": {
    "collapsed": true
   },
   "outputs": [],
   "source": [
    "predictions = forest.predict_with_feat_imp(test_df)"
   ]
  },
  {
   "cell_type": "code",
   "execution_count": null,
   "metadata": {
    "collapsed": true
   },
   "outputs": [],
   "source": [
    "metadata.loc[metadata['ID']=='3.407765.PS41KHHMGYEA31NWW4S5W0SLOQLAU3WYA']['Message-Contents']"
   ]
  },
  {
   "cell_type": "code",
   "execution_count": null,
   "metadata": {},
   "outputs": [],
   "source": [
    "test_df.loc[1,'ID']"
   ]
  },
  {
   "cell_type": "code",
   "execution_count": 6,
   "metadata": {},
   "outputs": [
    {
     "data": {
      "text/plain": [
       "['1',\n",
       " '1',\n",
       " '0',\n",
       " '0',\n",
       " '1',\n",
       " '1',\n",
       " '1',\n",
       " '0',\n",
       " '1',\n",
       " '1',\n",
       " '1',\n",
       " '1',\n",
       " '1',\n",
       " '1',\n",
       " '0',\n",
       " '1',\n",
       " '0',\n",
       " '1',\n",
       " '1',\n",
       " '1',\n",
       " '1',\n",
       " '0',\n",
       " '0',\n",
       " '0',\n",
       " '0',\n",
       " '1',\n",
       " '1',\n",
       " '1',\n",
       " '1',\n",
       " '1',\n",
       " '1',\n",
       " '0',\n",
       " '1',\n",
       " '1',\n",
       " '1',\n",
       " '1',\n",
       " '1',\n",
       " '1',\n",
       " '1',\n",
       " '1',\n",
       " '1',\n",
       " '1',\n",
       " '0',\n",
       " '1',\n",
       " '0',\n",
       " '0',\n",
       " '0',\n",
       " '0',\n",
       " '0',\n",
       " '0',\n",
       " '1',\n",
       " '1',\n",
       " '0',\n",
       " '0',\n",
       " '0',\n",
       " '1',\n",
       " '1',\n",
       " '1',\n",
       " '1',\n",
       " '1',\n",
       " '1',\n",
       " '1',\n",
       " '1',\n",
       " '1',\n",
       " '1',\n",
       " '1',\n",
       " '1',\n",
       " '1',\n",
       " '0',\n",
       " '1',\n",
       " '1',\n",
       " '1',\n",
       " '1',\n",
       " '1',\n",
       " '1',\n",
       " '1',\n",
       " '0',\n",
       " '1',\n",
       " '1',\n",
       " '1',\n",
       " '1',\n",
       " '1',\n",
       " '1',\n",
       " '0',\n",
       " '1',\n",
       " '1',\n",
       " '1',\n",
       " '0',\n",
       " '0',\n",
       " '1',\n",
       " '1',\n",
       " '0',\n",
       " '1',\n",
       " '0',\n",
       " '0',\n",
       " '0',\n",
       " '0',\n",
       " '0',\n",
       " '0',\n",
       " '0',\n",
       " '0',\n",
       " '1',\n",
       " '0',\n",
       " '0',\n",
       " '0',\n",
       " '1',\n",
       " '0',\n",
       " '1',\n",
       " '1',\n",
       " '1']"
      ]
     },
     "execution_count": 6,
     "metadata": {},
     "output_type": "execute_result"
    }
   ],
   "source": [
    "predictions[1]"
   ]
  },
  {
   "cell_type": "code",
   "execution_count": 27,
   "metadata": {},
   "outputs": [
    {
     "data": {
      "text/plain": [
       "[(0.03393769307488133, '23_high'),\n",
       " (0.012539125591909856, '52_high'),\n",
       " (0.008208878889236156, '74_low'),\n",
       " (0.0060261885431230865, '88_high'),\n",
       " (0.005573647294589179, '43_high'),\n",
       " (0.004767762987643139, '38_high'),\n",
       " (0.0028004683434429863, '19_low'),\n",
       " (0.0027933068029699915, '3_low'),\n",
       " (0.0024263994971781676, 'Date_low'),\n",
       " (0.002283580274162857, '82_low'),\n",
       " (0.0019219915533190291, '59_low'),\n",
       " (0.00191348525635952, '93_low'),\n",
       " (0.0015941997837759566, '50_low'),\n",
       " (0.0012218442126708433, '42_low'),\n",
       " (0.0011976015017782313, '2_low'),\n",
       " (0.0009801855656699238, '36_low'),\n",
       " (0.0008925789172365885, '17_low'),\n",
       " (0.000876507614834255, '34_low'),\n",
       " (0.0008161664828548708, '49_low'),\n",
       " (0.0007335170928886338, '80_low'),\n",
       " (0.0006739769385836793, '66_low'),\n",
       " (0.0005872752469244305, '11_low'),\n",
       " (0.0005789057271739263, '67_low'),\n",
       " (0.0005736835888205255, '20_low'),\n",
       " (0.0005724361159986022, '96_low'),\n",
       " (0.0005080219682107485, '97_low'),\n",
       " (0.00048013167687911695, '10_low'),\n",
       " (0.00047726917719339776, '55_low'),\n",
       " (0.0004312703482874051, '22_low'),\n",
       " (0.00041130278515747604, '62_low'),\n",
       " (0.0004102544504945363, '35_low'),\n",
       " (0.00037074568384506436, '7_low'),\n",
       " (0.00035712148954116125, '53_low'),\n",
       " (0.0003345458101868641, '83_low'),\n",
       " (0.0003325835622996053, '12_low'),\n",
       " (0.0003082697558166661, '64_low'),\n",
       " (0.0003046648523013871, '9_low'),\n",
       " (0.000284235118928073, '56_low'),\n",
       " (0.0002818338468946451, '70_low'),\n",
       " (0.00025118407704603253, '5_low'),\n",
       " (0.0002459160232165195, '60_low'),\n",
       " (0.00022393555972155792, '46_low'),\n",
       " (0.0002081661994615229, '78_low'),\n",
       " (0.00019832585622059362, '13_low'),\n",
       " (0.00017527786286950647, '71_low'),\n",
       " (0.00016918441235162437, '16_low'),\n",
       " (0.00015967344982419085, '37_low'),\n",
       " (0.00015589202209459127, '32_low'),\n",
       " (0.00014990457800776943, '39_low'),\n",
       " (0.00014284559893273582, '15_low'),\n",
       " (0.00013366300456316496, '63_low'),\n",
       " (0.00012691705859792755, '14_low'),\n",
       " (0.00011812872812181144, '68_low'),\n",
       " (0.00010250561788044052, '92_low'),\n",
       " (6.523931834441672e-05, '91_low'),\n",
       " (5.5645982088124366e-05, '61_low'),\n",
       " (5.507141736704139e-05, '27_low'),\n",
       " (4.571103361425931e-05, '90_low'),\n",
       " (4.10125696843084e-05, '65_low'),\n",
       " (3.663870851370807e-05, '21_low'),\n",
       " (3.564371354566019e-05, '43_low'),\n",
       " (3.227685189710443e-05, '29_low'),\n",
       " (3.098949553095431e-05, '58_low'),\n",
       " (3.090746588269369e-05, '77_low'),\n",
       " (2.3357041289251423e-05, '8_low'),\n",
       " (-2.3945290548565284e-07, '57_low'),\n",
       " (-6.418882270466109e-07, '25_low'),\n",
       " (-6.818559168573005e-06, '6_low'),\n",
       " (-2.003772699492399e-05, '94_low'),\n",
       " (-2.6655889150989376e-05, '76_low'),\n",
       " (-3.7169572918133165e-05, '89_low'),\n",
       " (-7.324690605731154e-05, '28_low'),\n",
       " (-0.0001279777782270163, '48_low'),\n",
       " (-0.0001515207633952763, '87_low'),\n",
       " (-0.0001523336956577772, '44_low'),\n",
       " (-0.00016824317034402556, '41_low'),\n",
       " (-0.00019473146535898406, '98_low'),\n",
       " (-0.00021537290222049723, '51_low'),\n",
       " (-0.00022079135176372028, '75_low'),\n",
       " (-0.00022890552082881557, '4_low'),\n",
       " (-0.00024297229319862612, '79_low'),\n",
       " (-0.0002467766403231285, '73_low'),\n",
       " (-0.00044533842008935565, '31_low'),\n",
       " (-0.0004577967463622592, '33_low'),\n",
       " (-0.0004966791883520109, '99_low'),\n",
       " (-0.0006025506011627432, '18_low'),\n",
       " (-0.0006034563001043134, '30_low'),\n",
       " (-0.0006370968515826267, '54_low'),\n",
       " (-0.0008013954398031296, '95_low'),\n",
       " (-0.0008090349351113513, '24_low'),\n",
       " (-0.0008535475987234802, '26_low'),\n",
       " (-0.0010900323890207508, '47_low'),\n",
       " (-0.0013100576669852412, '85_low'),\n",
       " (-0.0016038000790193473, '69_low'),\n",
       " (-0.0016353691982799465, '72_low'),\n",
       " (-0.0016586575713547613, '45_low'),\n",
       " (-0.0020005644378357345, '0_low'),\n",
       " (-0.002650108187890737, '1_low'),\n",
       " (-0.00338458969328623, '40_low'),\n",
       " (-0.005968184968259386, '86_low'),\n",
       " (-0.01563610680108842, '34_high'),\n",
       " (-0.025481088696000742, '60_high'),\n",
       " (-0.026519204157222167, '59_high')]"
      ]
     },
     "execution_count": 27,
     "metadata": {},
     "output_type": "execute_result"
    }
   ],
   "source": [
    "doc_to_examine = 5\n",
    "sorted([(predictions[2][doc_to_examine][key], key) for key in predictions[2][doc_to_examine].keys()], reverse=predictions[1][doc_to_examine]=='1')"
   ]
  },
  {
   "cell_type": "code",
   "execution_count": 26,
   "metadata": {},
   "outputs": [
    {
     "name": "stdout",
     "output_type": "stream",
     "text": [
      "rod\n",
      "week\n",
      "plan\n",
      "-----------\n",
      "We are getting ready for the launch of \"NetcoOnline\" and have been preparing new documentation, a refreshed site design and cleaned p***rod***ucts to reflect our Gas and Power focus.\n",
      "\n",
      "The following timetable could change, but the general sequence should apply in any case:\n",
      "\n",
      "Week of Jan 14:\n",
      "\n",
      "Upon approval by the new buyer of the PA and ETA formats, we will contact the Master Users at our Top 50 customers and send them copies of the final PA and ETA forms with our new buyer's name filled in. During this ***week***, we will be working hard to get as many of the PA's returned as possible. Once we have an approved PA, we can send the customer their new User ID, which will allow them to start trading on the day we launch \"NetCoOnline\".\n",
      "\n",
      "A Splash page will be available within two business days of knowing our new company name, on a web page reached via an automatic redirect from www.enrononline.com. This page will tell customers about the pending launch of \"NetCoOnline\" and provide links to the PA and Registration screens and also to the User Admin screens, which will allow customer Master Users to start setting up their Sub users.\n",
      "\n",
      "The Splash page will look something like the following:\n",
      "\n",
      " \n",
      "\n",
      "\n",
      "A Press Release will be issued which will include the ***plan***ned launch date of \"NetcoOnline\"\n",
      "\n",
      "Week of Jan. 21:\n",
      "\n",
      "If all goes well, \"NetcoOnline\" will be launched on Tuesday, January 22, with at least financial p***rod***ucts (timing for gas physical and power physical to be determined according to regulatory issues).\n",
      "\n",
      "We will send out a mass mailing to approx. 3,000 individuals at 450 companies inviting them to sign up for NetcoOnline. Included in the package will be a simple brochure, copies of the PA and ETA, key messages and a list of Frequently Asked Questions.\n",
      "\n",
      "General Terms and Conditions (GTC's) will be available online and must be accepted online before a company can start to trade a particular commodity.\n",
      "\t\t\n",
      "\n",
      "Trading/Origination Coordination\n",
      "\n",
      "Certain individuals in the Trading and Origination groups will be contacting customers on our Top 50 list to int***rod***uce the new company and begin the process of getting signed PA's. The NetcoOnline marketing team will work with Trading and Origination groups to make sure that all Master Users that previously had EnronOnline North American Gas and Power execution rights are contacted within one ***week*** of the PA and ETA being approved by the new buyer.  NetcoOnline Marketing will follow up with the Master Users to make sure PA's are signed and returned.\n",
      "\n",
      "\n",
      "NetcoOnline Marketing Contacts:\n",
      "\n",
      "For Marketing-specific questions, please use the following contacts. For other questions, please contact Bob Shults (30397) or Dave Forster (31861).\t\t\n",
      "\n",
      "Teresa Mandola (39807) - Power\n",
      "Kara Boudreau (30570) - Gas\n",
      "Jennifer McQuade (53614) - Power\n",
      "Dan Diamond (39673) - Gas\n",
      "\n",
      "\n",
      "Definitions:\n",
      "\t\n",
      "Password Application (PA) - Only document where a physical signature is required  by an authorized person (Master User)\n",
      "\n",
      "Electronic Trading Agreement (ETA) - Must be accepted online by the Master User before they can proceed into NetcoOnline\n",
      "\n",
      "Master User - Typically the company authorized signatory that signed the Password Application. Establishes transaction rights for each trader (sub-users)\n",
      "\n",
      "Sub-User - Trader, assigned either execute or read only status \n",
      "\n",
      "General Terms & Conditions (GTC) - Document that governs online trades unless a Master Agreement is in place\n",
      "\n",
      "Master Agreement - Document that governs online and offline trades and supersedes the GTC\n",
      "\n",
      "\n",
      "\n",
      "\n",
      "\n",
      "<Embedded Paintbrush Picture>\n"
     ]
    }
   ],
   "source": [
    "import re\n",
    "\n",
    "\n",
    "docstring = metadata.loc[metadata['ID'] == test_df.loc[doc_to_examine,'ID'], 'Message-Contents'].values[0]\n",
    "important_words_70 = ['image','joe','deals','tracy','daily','rod','elizabeth','week','wordsmith','org','geaccone','parks','scott','hayslett','sager','email','deal','plan','good','office']\n",
    "important_words_74 = ['letter','thank','need','feedback','pep','help','password','ca','access','isda','gas','eol','file','org','energy','like','rod','kevin','jpg','regards']\n",
    "important_words_82 = ['today','tomorrow','credit','number','feedback','enronxgate','questions','price','pep','dan','contract','rod','comments','wordsmith','conference','time','november','ll','going','nymex']\n",
    "important_words_3 = ['schedules','final','detected','variances','hourahead','hour','westdesk','parsing','awarded','txt','ancillary','iso','log','messages','scheduling','portland','start','file','california','schedule']\n",
    "important_words_50 = ['gerald','hpl','nyiso','market','nemec','list','berkeley','teco','haas','tap','et','edu','mark','sellers','htm','meeting','power','prices','information','iferc']\n",
    "for word in important_words_70:\n",
    "    if word in docstring:\n",
    "        print(word)\n",
    "        docstring = docstring.replace(word, '***'+word+'***')\n",
    "print('-----------')\n",
    "print(docstring)"
   ]
  },
  {
   "cell_type": "code",
   "execution_count": null,
   "metadata": {},
   "outputs": [],
   "source": [
    "metadata.loc[metadata['ID'] == '3.438120.GTSTTLNTZ2LVIWQFALPJFBLRPP2UC0G4', 'Message-Contents']"
   ]
  }
 ],
 "metadata": {
  "kernelspec": {
   "display_name": "Python 3",
   "language": "python",
   "name": "python3"
  },
  "language_info": {
   "codemirror_mode": {
    "name": "ipython",
    "version": 3
   },
   "file_extension": ".py",
   "mimetype": "text/x-python",
   "name": "python",
   "nbconvert_exporter": "python",
   "pygments_lexer": "ipython3",
   "version": "3.6.2"
  }
 },
 "nbformat": 4,
 "nbformat_minor": 2
}
