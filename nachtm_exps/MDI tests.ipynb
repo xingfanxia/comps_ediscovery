{
 "cells": [
  {
   "cell_type": "code",
   "execution_count": 1,
   "metadata": {
    "collapsed": true
   },
   "outputs": [],
   "source": [
    "import sys\n",
    "sys.path.append('..')\n",
    "from lib import *\n",
    "import pandas as pd\n",
    "import numpy as np\n",
    "\n",
    "forest = RNF(None, None, None, None, None, None, None)\n",
    "forest.load_rnf('scen1.first600.64trees.10depth.42rs.20maxfeats.600maxin.pickle')"
   ]
  },
  {
   "cell_type": "markdown",
   "metadata": {},
   "source": [
    "# Testing whole-forest importance"
   ]
  },
  {
   "cell_type": "code",
   "execution_count": null,
   "metadata": {
    "collapsed": true
   },
   "outputs": [],
   "source": [
    "d = forest.get_feature_importances()"
   ]
  },
  {
   "cell_type": "code",
   "execution_count": null,
   "metadata": {
    "collapsed": true
   },
   "outputs": [],
   "source": [
    "sorted([(d[key], key) for key in d.keys()], reverse=True)"
   ]
  },
  {
   "cell_type": "markdown",
   "metadata": {},
   "source": [
    "# Testing individual predict"
   ]
  },
  {
   "cell_type": "markdown",
   "metadata": {},
   "source": [
    "## Testing individual predict on fake forest"
   ]
  },
  {
   "cell_type": "markdown",
   "metadata": {},
   "source": [
    "Forest consisting of two trees:\n",
    "```\n",
    "train_data = [.1,.99,1],[.3,.15,0],[.75,.1,0],[.9,.55,1]\n",
    "\n",
    "        A<.5\n",
    "       /    \\\n",
    "     B<.25  B<.5\n",
    "     /  \\   / \\\n",
    "    1   0  0   1\n",
    "    \n",
    "        B<.25\n",
    "       /   \\\n",
    "      1     0\n",
    "```"
   ]
  },
  {
   "cell_type": "code",
   "execution_count": null,
   "metadata": {
    "collapsed": true
   },
   "outputs": [],
   "source": [
    "train_data_dummy = pd.DataFrame([[.1,.99,.75,'1'],[.3,.15,.5,'0'],[.75,.1,.4,'0'],[.9,.55,.1,'1']], columns=[\"A\",\"B\",\"C\",\"Label\"])"
   ]
  },
  {
   "cell_type": "code",
   "execution_count": null,
   "metadata": {
    "collapsed": true
   },
   "outputs": [],
   "source": [
    "train_data_dummy"
   ]
  },
  {
   "cell_type": "code",
   "execution_count": null,
   "metadata": {
    "collapsed": true
   },
   "outputs": [],
   "source": [
    "forest_dummy = RNF(train_data_dummy, 2, 2, 43, 2, 4, [])"
   ]
  },
  {
   "cell_type": "code",
   "execution_count": null,
   "metadata": {
    "collapsed": true
   },
   "outputs": [],
   "source": [
    "forest_dummy.fit()"
   ]
  },
  {
   "cell_type": "code",
   "execution_count": null,
   "metadata": {
    "collapsed": true
   },
   "outputs": [],
   "source": [
    "[t.features for t in forest_dummy.trees]"
   ]
  },
  {
   "cell_type": "code",
   "execution_count": null,
   "metadata": {
    "collapsed": true
   },
   "outputs": [],
   "source": [
    "print(\"{}<{}\".format(forest_dummy.trees[1].head.min_feature, forest_dummy.trees[1].head.min_break_point))"
   ]
  },
  {
   "cell_type": "code",
   "execution_count": null,
   "metadata": {
    "collapsed": true
   },
   "outputs": [],
   "source": [
    "train_data_dummy.loc[0,\"Label\"]"
   ]
  },
  {
   "cell_type": "code",
   "execution_count": null,
   "metadata": {
    "collapsed": true
   },
   "outputs": [],
   "source": [
    "[train_data_dummy.loc[x,\"Label\"] for x in forest_dummy.trees[0].head.left.right.rows]"
   ]
  },
  {
   "cell_type": "markdown",
   "metadata": {},
   "source": [
    "```\n",
    "   A<.9\n",
    "   /    \\\n",
    "  C<.75  [1]\n",
    "  / \\\n",
    " [0] [1,1]\n",
    " \n",
    "   B<.55\n",
    "   /    \\\n",
    " [0]     [1,1,1]\n",
    "```"
   ]
  },
  {
   "cell_type": "code",
   "execution_count": null,
   "metadata": {
    "collapsed": true
   },
   "outputs": [],
   "source": [
    "test_data_dummy = pd.DataFrame([[.95,.65,.3,'1'], [.1,.6,.4,'0']], columns=[\"A\",\"B\",\"C\",\"Label\"])"
   ]
  },
  {
   "cell_type": "code",
   "execution_count": null,
   "metadata": {
    "collapsed": true
   },
   "outputs": [],
   "source": [
    "test_data_dummy"
   ]
  },
  {
   "cell_type": "code",
   "execution_count": null,
   "metadata": {
    "collapsed": true
   },
   "outputs": [],
   "source": [
    "predictions_dummy = forest_dummy.predict_with_feat_imp(test_data_dummy)"
   ]
  },
  {
   "cell_type": "code",
   "execution_count": null,
   "metadata": {
    "collapsed": true
   },
   "outputs": [],
   "source": [
    "predictions_dummy"
   ]
  },
  {
   "cell_type": "code",
   "execution_count": null,
   "metadata": {
    "collapsed": true
   },
   "outputs": [],
   "source": [
    "play_with = predictions_dummy[2][1]\n",
    "print((play_with['A_low'] + play_with['C_low']) * 2)\n",
    "print((play_with['B_high']) * 2)"
   ]
  },
  {
   "cell_type": "markdown",
   "metadata": {},
   "source": [
    "## Testing individual predict on real data"
   ]
  },
  {
   "cell_type": "code",
   "execution_count": 2,
   "metadata": {
    "collapsed": true
   },
   "outputs": [],
   "source": [
    "lsa_np = np.load('../data/parsed/lsa_output_Jan25.npy')\n",
    "\n",
    "metadata = pd.read_pickle('../data/parsed/pickles/pickled_data_test.pickle')\n",
    "metadata = metadata.loc[metadata['Scenario'] == '401']\n",
    "metadata = metadata.reset_index(drop=True)\n",
    "\n",
    "lsa_df = pd.DataFrame(lsa_np)\n",
    "\n",
    "df = pd.concat([metadata, lsa_df], axis=1, join_axes=[metadata.index])\n",
    "df = df.loc[df['Label'] != '-1']\n",
    "df = df.reset_index(drop=True)\n",
    "\n",
    "cat_features = ['To','From']\n",
    "features = list(range(100))\n",
    "features.extend(cat_features + ['Date'])\n",
    "\n",
    "df = df[features + ['Label', 'ID']]\n",
    "\n",
    "test_df = df[600:].reset_index(drop=True)"
   ]
  },
  {
   "cell_type": "code",
   "execution_count": 3,
   "metadata": {
    "collapsed": true
   },
   "outputs": [],
   "source": [
    "predictions = forest.predict_with_feat_imp(test_df)"
   ]
  },
  {
   "cell_type": "code",
   "execution_count": null,
   "metadata": {
    "collapsed": true
   },
   "outputs": [],
   "source": [
    "metadata.loc[metadata['ID']=='3.407765.PS41KHHMGYEA31NWW4S5W0SLOQLAU3WYA']['Message-Contents']"
   ]
  },
  {
   "cell_type": "code",
   "execution_count": null,
   "metadata": {
    "collapsed": true
   },
   "outputs": [],
   "source": [
    "test_df.loc[1,'ID']"
   ]
  },
  {
   "cell_type": "code",
   "execution_count": 5,
   "metadata": {},
   "outputs": [
    {
     "data": {
      "text/plain": [
       "['1',\n",
       " '1',\n",
       " '1',\n",
       " '0',\n",
       " '1',\n",
       " '0',\n",
       " '1',\n",
       " '0',\n",
       " '1',\n",
       " '1',\n",
       " '1',\n",
       " '0',\n",
       " '1',\n",
       " '1',\n",
       " '0',\n",
       " '1',\n",
       " '0',\n",
       " '1',\n",
       " '1',\n",
       " '0',\n",
       " '1',\n",
       " '1',\n",
       " '0',\n",
       " '1',\n",
       " '0',\n",
       " '1',\n",
       " '1',\n",
       " '1',\n",
       " '1',\n",
       " '1',\n",
       " '1',\n",
       " '1',\n",
       " '1',\n",
       " '1',\n",
       " '1',\n",
       " '1',\n",
       " '1',\n",
       " '1',\n",
       " '1',\n",
       " '1',\n",
       " '1',\n",
       " '1',\n",
       " '0',\n",
       " '1',\n",
       " '1',\n",
       " '1',\n",
       " '0',\n",
       " '0',\n",
       " '0',\n",
       " '0',\n",
       " '1',\n",
       " '1',\n",
       " '0',\n",
       " '0',\n",
       " '0',\n",
       " '1',\n",
       " '1',\n",
       " '1',\n",
       " '1',\n",
       " '1',\n",
       " '1',\n",
       " '1',\n",
       " '1',\n",
       " '1',\n",
       " '1',\n",
       " '1',\n",
       " '1',\n",
       " '1',\n",
       " '1',\n",
       " '1',\n",
       " '1',\n",
       " '1',\n",
       " '1',\n",
       " '1',\n",
       " '1',\n",
       " '1',\n",
       " '1',\n",
       " '1',\n",
       " '1',\n",
       " '1',\n",
       " '1',\n",
       " '1',\n",
       " '1',\n",
       " '1',\n",
       " '1',\n",
       " '1',\n",
       " '1',\n",
       " '1',\n",
       " '1',\n",
       " '0',\n",
       " '1',\n",
       " '0',\n",
       " '0',\n",
       " '0',\n",
       " '0',\n",
       " '0',\n",
       " '0',\n",
       " '1',\n",
       " '1',\n",
       " '0',\n",
       " '1',\n",
       " '1',\n",
       " '1',\n",
       " '1',\n",
       " '1',\n",
       " '1',\n",
       " '1',\n",
       " '1',\n",
       " '1',\n",
       " '1']"
      ]
     },
     "execution_count": 5,
     "metadata": {},
     "output_type": "execute_result"
    }
   ],
   "source": [
    "predictions[1]"
   ]
  },
  {
   "cell_type": "code",
   "execution_count": 11,
   "metadata": {},
   "outputs": [
    {
     "data": {
      "text/plain": [
       "[(0.013696175259174328, '93_high'),\n",
       " (0.0027138670105706034, '3_low'),\n",
       " (0.0023064307091865176, 'Date_low'),\n",
       " (0.0019521631657085673, '47_low'),\n",
       " (0.0017404860835385973, '11_low'),\n",
       " (0.001517988345231226, '70_low'),\n",
       " (0.0014968343623712422, '87_low'),\n",
       " (0.0014384736370519312, '37_low'),\n",
       " (0.0013951715224815569, '2_low'),\n",
       " (0.0013213392407243445, '64_low'),\n",
       " (0.0013027608531380004, '88_low'),\n",
       " (0.00127264346417345, '86_low'),\n",
       " (0.001184347145230174, '92_low'),\n",
       " (0.0011166036711707673, '94_low'),\n",
       " (0.0010813480821077921, '16_low'),\n",
       " (0.001031507839123618, '90_low'),\n",
       " (0.0009123753732901297, '34_low'),\n",
       " (0.0008946454225134438, '5_low'),\n",
       " (0.0008847090569120124, '91_low'),\n",
       " (0.0008690773334408038, '50_low'),\n",
       " (0.0008493749849778059, '79_low'),\n",
       " (0.0007636953143489687, '43_low'),\n",
       " (0.0006988730215000492, '38_low'),\n",
       " (0.0006745685430539251, '17_low'),\n",
       " (0.0006218538643722998, '6_low'),\n",
       " (0.0006055923530986669, '85_low'),\n",
       " (0.0005932636449903807, '30_low'),\n",
       " (0.0005516610458422208, '15_low'),\n",
       " (0.0005478424867540153, '59_low'),\n",
       " (0.0005147666860008705, '62_low'),\n",
       " (0.0004677484466726334, '23_low'),\n",
       " (0.00046514396558464816, '74_low'),\n",
       " (0.0004499497992820657, '45_low'),\n",
       " (0.0004249895024931536, '35_low'),\n",
       " (0.0004019490835360708, '51_low'),\n",
       " (0.00034091944628230134, '57_low'),\n",
       " (0.0003132415235942033, '18_low'),\n",
       " (0.00031013540172563324, '69_low'),\n",
       " (0.0002796028744406643, '10_low'),\n",
       " (0.0002725715005877155, '66_low'),\n",
       " (0.0002630179975478576, '29_low'),\n",
       " (0.0002573043727960699, '48_low'),\n",
       " (0.00023108613828575104, '83_low'),\n",
       " (0.0002107829850015279, '20_low'),\n",
       " (0.0001984616644349806, '19_low'),\n",
       " (0.00017277082129354276, '65_low'),\n",
       " (0.00016987835658558315, '56_low'),\n",
       " (0.00016465804814444485, '33_low'),\n",
       " (0.00015782552063217312, '99_low'),\n",
       " (0.00012969435423042935, '31_low'),\n",
       " (0.00012402492017326606, '12_low'),\n",
       " (0.00011860605910147572, '32_low'),\n",
       " (0.00010717191813503293, '39_low'),\n",
       " (9.982914788745755e-05, '68_low'),\n",
       " (9.240403484410929e-05, '36_low'),\n",
       " (8.557767292012575e-05, '13_low'),\n",
       " (6.128760444712358e-05, '14_low'),\n",
       " (4.778007662841442e-05, '26_low'),\n",
       " (3.568700411910215e-05, '71_low'),\n",
       " (2.9909698718305275e-05, '7_low'),\n",
       " (2.5314613840209804e-05, '52_low'),\n",
       " (1.4300386436789762e-05, '44_low'),\n",
       " (9.67296212491496e-06, '82_low'),\n",
       " (3.1688936044157318e-06, '53_low'),\n",
       " (-1.633422171399418e-06, '77_low'),\n",
       " (-1.44192035099475e-05, '22_low'),\n",
       " (-2.1380165057063166e-05, '25_low'),\n",
       " (-2.6009722020136836e-05, '78_low'),\n",
       " (-2.7124300380114777e-05, '9_low'),\n",
       " (-3.905222309918445e-05, '8_low'),\n",
       " (-4.974327897457227e-05, '40_low'),\n",
       " (-5.609604297693912e-05, '49_low'),\n",
       " (-8.53934795555511e-05, '84_low'),\n",
       " (-0.00011143718274111633, '89_low'),\n",
       " (-0.0001422650037263863, '28_low'),\n",
       " (-0.00015347304007980872, '27_low'),\n",
       " (-0.00016465704889961127, '97_low'),\n",
       " (-0.00016533761656498894, '58_low'),\n",
       " (-0.00018060686094866288, '60_low'),\n",
       " (-0.0001957896655075328, '24_low'),\n",
       " (-0.00021907303216141434, '80_low'),\n",
       " (-0.00024158878708495542, '46_low'),\n",
       " (-0.0002607519672115366, '61_low'),\n",
       " (-0.00031683066595342667, '21_low'),\n",
       " (-0.0003924688758963502, '72_low'),\n",
       " (-0.00042343900610309314, '76_low'),\n",
       " (-0.00042590421402458056, '4_low'),\n",
       " (-0.000469607494024981, '93_low'),\n",
       " (-0.0005970461642882778, '42_low'),\n",
       " (-0.0008181263878037359, '95_low'),\n",
       " (-0.000978061587730436, '81_low'),\n",
       " (-0.0009804345095987856, '98_low'),\n",
       " (-0.0012558592112776384, '67_low'),\n",
       " (-0.0014009224752912003, '55_low'),\n",
       " (-0.0016860818805128517, '75_low'),\n",
       " (-0.0017652192696069628, '0_low'),\n",
       " (-0.0022700844744740897, '63_low'),\n",
       " (-0.002591905586937863, '41_low'),\n",
       " (-0.0038307495528872347, '73_low'),\n",
       " (-0.004567949712812612, '1_low')]"
      ]
     },
     "execution_count": 11,
     "metadata": {},
     "output_type": "execute_result"
    }
   ],
   "source": [
    "doc_to_examine = 4\n",
    "sorted([(predictions[2][doc_to_examine][key], key) for key in predictions[2][doc_to_examine].keys() if 'high' in key], reverse=predictions[1][doc_to_examine]=='1')"
   ]
  },
  {
   "cell_type": "code",
   "execution_count": null,
   "metadata": {},
   "outputs": [],
   "source": [
    "import re\n",
    "\n",
    "\n",
    "docstring = metadata.loc[metadata['ID'] == test_df.loc[doc_to_examine,'ID'], 'Message-Contents'].values[0]\n",
    "important_words_70 = ['image','joe','deals','tracy','daily','rod','elizabeth','week','wordsmith','org','geaccone','parks','scott','hayslett','sager','email','deal','plan','good','office']\n",
    "important_words_74 = ['letter','thank','need','feedback','pep','help','password','ca','access','isda','gas','eol','file','org','energy','like','rod','kevin','jpg','regards']\n",
    "important_words_82 = ['today','tomorrow','credit','number','feedback','enronxgate','questions','price','pep','dan','contract','rod','comments','wordsmith','conference','time','november','ll','going','nymex']\n",
    "important_words_3 = ['schedules','final','detected','variances','hourahead','hour','westdesk','parsing','awarded','txt','ancillary','iso','log','messages','scheduling','portland','start','file','california','schedule']\n",
    "important_words_50 = ['gerald','hpl','nyiso','market','nemec','list','berkeley','teco','haas','tap','et','edu','mark','sellers','htm','meeting','power','prices','information','iferc']\n",
    "for word in important_words_70:\n",
    "    if word in docstring:\n",
    "        print(word)\n",
    "        docstring = docstring.replace(word, '***'+word+'***')\n",
    "print('-----------')\n",
    "print(docstring)"
   ]
  },
  {
   "cell_type": "code",
   "execution_count": null,
   "metadata": {
    "collapsed": true
   },
   "outputs": [],
   "source": [
    "metadata.loc[metadata['ID'] == '3.438120.GTSTTLNTZ2LVIWQFALPJFBLRPP2UC0G4', 'Message-Contents']"
   ]
  }
 ],
 "metadata": {
  "kernelspec": {
   "display_name": "Python 3",
   "language": "python",
   "name": "python3"
  },
  "language_info": {
   "codemirror_mode": {
    "name": "ipython",
    "version": 3
   },
   "file_extension": ".py",
   "mimetype": "text/x-python",
   "name": "python",
   "nbconvert_exporter": "python",
   "pygments_lexer": "ipython3",
   "version": "3.6.2"
  }
 },
 "nbformat": 4,
 "nbformat_minor": 2
}
