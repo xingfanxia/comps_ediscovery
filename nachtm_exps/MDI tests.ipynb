{
 "cells": [
  {
   "cell_type": "code",
   "execution_count": 1,
   "metadata": {
    "collapsed": true
   },
   "outputs": [],
   "source": [
    "import sys\n",
    "sys.path.append('..')\n",
    "from lib import *\n",
    "import pandas as pd\n",
    "import numpy as np\n",
    "\n",
    "forest = RNF(None, None, None, None, None, None, None)\n",
    "forest.load_rnf('scen1.first600.64trees.10depth.42rs.20maxfeats.600maxin.pickle')"
   ]
  },
  {
   "cell_type": "markdown",
   "metadata": {},
   "source": [
    "# Testing whole-forest importance"
   ]
  },
  {
   "cell_type": "code",
   "execution_count": null,
   "metadata": {
    "collapsed": true
   },
   "outputs": [],
   "source": [
    "d = forest.get_feature_importances()"
   ]
  },
  {
   "cell_type": "code",
   "execution_count": null,
   "metadata": {
    "collapsed": true
   },
   "outputs": [],
   "source": [
    "sorted([(d[key], key) for key in d.keys()], reverse=True)"
   ]
  },
  {
   "cell_type": "markdown",
   "metadata": {},
   "source": [
    "# Testing individual predict"
   ]
  },
  {
   "cell_type": "markdown",
   "metadata": {},
   "source": [
    "## Testing individual predict on fake forest"
   ]
  },
  {
   "cell_type": "markdown",
   "metadata": {},
   "source": [
    "Forest consisting of two trees:\n",
    "```\n",
    "train_data = [.1,.99,1],[.3,.15,0],[.75,.1,0],[.9,.55,1]\n",
    "\n",
    "        A<.5\n",
    "       /    \\\n",
    "     B<.25  B<.5\n",
    "     /  \\   / \\\n",
    "    1   0  0   1\n",
    "    \n",
    "        B<.25\n",
    "       /   \\\n",
    "      1     0\n",
    "```"
   ]
  },
  {
   "cell_type": "code",
   "execution_count": 91,
   "metadata": {},
   "outputs": [],
   "source": [
    "train_data_dummy = pd.DataFrame([[.1,.99,.75,'1'],[.3,.15,.5,'0'],[.75,.1,.4,'0'],[.9,.55,.1,'1']], columns=[\"A\",\"B\",\"C\",\"Label\"])"
   ]
  },
  {
   "cell_type": "code",
   "execution_count": 92,
   "metadata": {},
   "outputs": [
    {
     "data": {
      "text/html": [
       "<div>\n",
       "<style>\n",
       "    .dataframe thead tr:only-child th {\n",
       "        text-align: right;\n",
       "    }\n",
       "\n",
       "    .dataframe thead th {\n",
       "        text-align: left;\n",
       "    }\n",
       "\n",
       "    .dataframe tbody tr th {\n",
       "        vertical-align: top;\n",
       "    }\n",
       "</style>\n",
       "<table border=\"1\" class=\"dataframe\">\n",
       "  <thead>\n",
       "    <tr style=\"text-align: right;\">\n",
       "      <th></th>\n",
       "      <th>A</th>\n",
       "      <th>B</th>\n",
       "      <th>C</th>\n",
       "      <th>Label</th>\n",
       "    </tr>\n",
       "  </thead>\n",
       "  <tbody>\n",
       "    <tr>\n",
       "      <th>0</th>\n",
       "      <td>0.10</td>\n",
       "      <td>0.99</td>\n",
       "      <td>0.75</td>\n",
       "      <td>1</td>\n",
       "    </tr>\n",
       "    <tr>\n",
       "      <th>1</th>\n",
       "      <td>0.30</td>\n",
       "      <td>0.15</td>\n",
       "      <td>0.50</td>\n",
       "      <td>0</td>\n",
       "    </tr>\n",
       "    <tr>\n",
       "      <th>2</th>\n",
       "      <td>0.75</td>\n",
       "      <td>0.10</td>\n",
       "      <td>0.40</td>\n",
       "      <td>0</td>\n",
       "    </tr>\n",
       "    <tr>\n",
       "      <th>3</th>\n",
       "      <td>0.90</td>\n",
       "      <td>0.55</td>\n",
       "      <td>0.10</td>\n",
       "      <td>1</td>\n",
       "    </tr>\n",
       "  </tbody>\n",
       "</table>\n",
       "</div>"
      ],
      "text/plain": [
       "      A     B     C Label\n",
       "0  0.10  0.99  0.75     1\n",
       "1  0.30  0.15  0.50     0\n",
       "2  0.75  0.10  0.40     0\n",
       "3  0.90  0.55  0.10     1"
      ]
     },
     "execution_count": 92,
     "metadata": {},
     "output_type": "execute_result"
    }
   ],
   "source": [
    "train_data_dummy"
   ]
  },
  {
   "cell_type": "code",
   "execution_count": 93,
   "metadata": {},
   "outputs": [],
   "source": [
    "forest_dummy = RNF(train_data_dummy, 2, 2, 43, 2, 4, [])"
   ]
  },
  {
   "cell_type": "code",
   "execution_count": 94,
   "metadata": {},
   "outputs": [
    {
     "name": "stdout",
     "output_type": "stream",
     "text": [
      "fitting the 1th tree.\n",
      "fitting the 2th tree.\n"
     ]
    }
   ],
   "source": [
    "forest_dummy.fit()"
   ]
  },
  {
   "cell_type": "code",
   "execution_count": 95,
   "metadata": {},
   "outputs": [
    {
     "data": {
      "text/plain": [
       "[array(['C', 'A'], dtype=object), array(['B', 'A'], dtype=object)]"
      ]
     },
     "execution_count": 95,
     "metadata": {},
     "output_type": "execute_result"
    }
   ],
   "source": [
    "[t.features for t in forest_dummy.trees]"
   ]
  },
  {
   "cell_type": "code",
   "execution_count": 96,
   "metadata": {},
   "outputs": [
    {
     "name": "stdout",
     "output_type": "stream",
     "text": [
      "B<0.55\n"
     ]
    }
   ],
   "source": [
    "print(\"{}<{}\".format(forest_dummy.trees[1].head.min_feature, forest_dummy.trees[1].head.min_break_point))"
   ]
  },
  {
   "cell_type": "code",
   "execution_count": 97,
   "metadata": {},
   "outputs": [
    {
     "data": {
      "text/plain": [
       "'1'"
      ]
     },
     "execution_count": 97,
     "metadata": {},
     "output_type": "execute_result"
    }
   ],
   "source": [
    "train_data_dummy.loc[0,\"Label\"]"
   ]
  },
  {
   "cell_type": "code",
   "execution_count": 98,
   "metadata": {},
   "outputs": [
    {
     "data": {
      "text/plain": [
       "['1', '1']"
      ]
     },
     "execution_count": 98,
     "metadata": {},
     "output_type": "execute_result"
    }
   ],
   "source": [
    "[train_data_dummy.loc[x,\"Label\"] for x in forest_dummy.trees[0].head.left.right.rows]"
   ]
  },
  {
   "cell_type": "markdown",
   "metadata": {},
   "source": [
    "```\n",
    "   A<.9\n",
    "   /    \\\n",
    "  C<.75  [1]\n",
    "  / \\\n",
    " [0] [1,1]\n",
    " \n",
    "   B<.55\n",
    "   /    \\\n",
    " [0]     [1,1,1]\n",
    "```"
   ]
  },
  {
   "cell_type": "code",
   "execution_count": 102,
   "metadata": {
    "collapsed": true
   },
   "outputs": [],
   "source": [
    "test_data_dummy = pd.DataFrame([[.95,.65,.3,'1'], [.1,.6,.4,'0']], columns=[\"A\",\"B\",\"C\",\"Label\"])"
   ]
  },
  {
   "cell_type": "code",
   "execution_count": 103,
   "metadata": {},
   "outputs": [
    {
     "data": {
      "text/html": [
       "<div>\n",
       "<style>\n",
       "    .dataframe thead tr:only-child th {\n",
       "        text-align: right;\n",
       "    }\n",
       "\n",
       "    .dataframe thead th {\n",
       "        text-align: left;\n",
       "    }\n",
       "\n",
       "    .dataframe tbody tr th {\n",
       "        vertical-align: top;\n",
       "    }\n",
       "</style>\n",
       "<table border=\"1\" class=\"dataframe\">\n",
       "  <thead>\n",
       "    <tr style=\"text-align: right;\">\n",
       "      <th></th>\n",
       "      <th>A</th>\n",
       "      <th>B</th>\n",
       "      <th>C</th>\n",
       "      <th>Label</th>\n",
       "    </tr>\n",
       "  </thead>\n",
       "  <tbody>\n",
       "    <tr>\n",
       "      <th>0</th>\n",
       "      <td>0.95</td>\n",
       "      <td>0.65</td>\n",
       "      <td>0.3</td>\n",
       "      <td>1</td>\n",
       "    </tr>\n",
       "    <tr>\n",
       "      <th>1</th>\n",
       "      <td>0.10</td>\n",
       "      <td>0.60</td>\n",
       "      <td>0.4</td>\n",
       "      <td>0</td>\n",
       "    </tr>\n",
       "  </tbody>\n",
       "</table>\n",
       "</div>"
      ],
      "text/plain": [
       "      A     B    C Label\n",
       "0  0.95  0.65  0.3     1\n",
       "1  0.10  0.60  0.4     0"
      ]
     },
     "execution_count": 103,
     "metadata": {},
     "output_type": "execute_result"
    }
   ],
   "source": [
    "test_data_dummy"
   ]
  },
  {
   "cell_type": "code",
   "execution_count": 106,
   "metadata": {},
   "outputs": [],
   "source": [
    "predictions_dummy = forest_dummy.predict_with_feat_imp(test_data_dummy)"
   ]
  },
  {
   "cell_type": "code",
   "execution_count": 107,
   "metadata": {},
   "outputs": [
    {
     "data": {
      "text/plain": [
       "([array([ 1.,  0.]), array([ 0.5,  0.5])],\n",
       " ['1', '0'],\n",
       " [{'A_high': 0.125, 'B_high': 0.125},\n",
       "  {'A_low': -0.041666666666666685,\n",
       "   'B_high': 0.125,\n",
       "   'C_low': -0.3333333333333333}])"
      ]
     },
     "execution_count": 107,
     "metadata": {},
     "output_type": "execute_result"
    }
   ],
   "source": [
    "predictions_dummy"
   ]
  },
  {
   "cell_type": "code",
   "execution_count": 113,
   "metadata": {},
   "outputs": [
    {
     "name": "stdout",
     "output_type": "stream",
     "text": [
      "-0.75\n",
      "0.25\n"
     ]
    }
   ],
   "source": [
    "play_with = predictions_dummy[2][1]\n",
    "print((play_with['A_low'] + play_with['C_low']) * 2)\n",
    "print((play_with['B_high']) * 2)"
   ]
  },
  {
   "cell_type": "markdown",
   "metadata": {},
   "source": [
    "## Testing individual predict on real data"
   ]
  },
  {
   "cell_type": "code",
   "execution_count": 2,
   "metadata": {
    "collapsed": true
   },
   "outputs": [],
   "source": [
    "lsa_np = np.load('../data/parsed/lsa_output.npy')\n",
    "\n",
    "metadata = pd.read_pickle('../data/parsed/pickles/pickled_data_test.pickle')\n",
    "metadata = metadata.loc[metadata['Scenario'] == '401']\n",
    "metadata = metadata.reset_index(drop=True)\n",
    "\n",
    "lsa_df = pd.DataFrame(lsa_np)\n",
    "\n",
    "df = pd.concat([metadata, lsa_df], axis=1, join_axes=[metadata.index])\n",
    "df = df.loc[df['Label'] != '-1']\n",
    "df = df.reset_index(drop=True)\n",
    "\n",
    "cat_features = ['To','From']\n",
    "features = list(range(100))\n",
    "features.extend(cat_features + ['Date'])\n",
    "\n",
    "df = df[features + ['Label', 'ID']]\n",
    "\n",
    "test_df = df[600:].reset_index(drop=True)"
   ]
  },
  {
   "cell_type": "code",
   "execution_count": 3,
   "metadata": {
    "collapsed": true
   },
   "outputs": [],
   "source": [
    "predictions = forest.predict_with_feat_imp(test_df)"
   ]
  },
  {
   "cell_type": "code",
   "execution_count": null,
   "metadata": {
    "collapsed": true
   },
   "outputs": [],
   "source": [
    "metadata.loc[metadata['ID']=='3.407765.PS41KHHMGYEA31NWW4S5W0SLOQLAU3WYA']['Message-Contents']"
   ]
  },
  {
   "cell_type": "code",
   "execution_count": null,
   "metadata": {},
   "outputs": [],
   "source": [
    "test_df.loc[1,'ID']"
   ]
  },
  {
   "cell_type": "code",
   "execution_count": 5,
   "metadata": {},
   "outputs": [
    {
     "data": {
      "text/html": [
       "<div>\n",
       "<style>\n",
       "    .dataframe thead tr:only-child th {\n",
       "        text-align: right;\n",
       "    }\n",
       "\n",
       "    .dataframe thead th {\n",
       "        text-align: left;\n",
       "    }\n",
       "\n",
       "    .dataframe tbody tr th {\n",
       "        vertical-align: top;\n",
       "    }\n",
       "</style>\n",
       "<table border=\"1\" class=\"dataframe\">\n",
       "  <thead>\n",
       "    <tr style=\"text-align: right;\">\n",
       "      <th></th>\n",
       "      <th>0</th>\n",
       "      <th>1</th>\n",
       "      <th>2</th>\n",
       "      <th>3</th>\n",
       "      <th>4</th>\n",
       "      <th>5</th>\n",
       "      <th>6</th>\n",
       "      <th>7</th>\n",
       "      <th>8</th>\n",
       "      <th>9</th>\n",
       "      <th>...</th>\n",
       "      <th>95</th>\n",
       "      <th>96</th>\n",
       "      <th>97</th>\n",
       "      <th>98</th>\n",
       "      <th>99</th>\n",
       "      <th>To</th>\n",
       "      <th>From</th>\n",
       "      <th>Date</th>\n",
       "      <th>Label</th>\n",
       "      <th>ID</th>\n",
       "    </tr>\n",
       "  </thead>\n",
       "  <tbody>\n",
       "    <tr>\n",
       "      <th>0</th>\n",
       "      <td>0.093741</td>\n",
       "      <td>-0.126488</td>\n",
       "      <td>-0.065405</td>\n",
       "      <td>-0.004043</td>\n",
       "      <td>0.045035</td>\n",
       "      <td>-0.050174</td>\n",
       "      <td>-0.064590</td>\n",
       "      <td>0.004562</td>\n",
       "      <td>-0.055888</td>\n",
       "      <td>0.034650</td>\n",
       "      <td>...</td>\n",
       "      <td>-0.013066</td>\n",
       "      <td>0.010517</td>\n",
       "      <td>-0.001265</td>\n",
       "      <td>-0.076770</td>\n",
       "      <td>0.034415</td>\n",
       "      <td>[dana.davis@enron.com,  mike.carson@enron.com,...</td>\n",
       "      <td>[m..presto@enron.com]</td>\n",
       "      <td>2001-09-28 08:12:58-07:00</td>\n",
       "      <td>0</td>\n",
       "      <td>3.407765.PS41KHHMGYEA31NWW4S5W0SLOQLAU3WYA</td>\n",
       "    </tr>\n",
       "    <tr>\n",
       "      <th>1</th>\n",
       "      <td>0.090775</td>\n",
       "      <td>-0.059612</td>\n",
       "      <td>-0.064171</td>\n",
       "      <td>0.011959</td>\n",
       "      <td>0.138535</td>\n",
       "      <td>0.034246</td>\n",
       "      <td>-0.023969</td>\n",
       "      <td>-0.045525</td>\n",
       "      <td>0.022183</td>\n",
       "      <td>0.054270</td>\n",
       "      <td>...</td>\n",
       "      <td>-0.002251</td>\n",
       "      <td>0.086652</td>\n",
       "      <td>-0.003936</td>\n",
       "      <td>0.000920</td>\n",
       "      <td>0.011898</td>\n",
       "      <td>[adam.johnson@enron.com]</td>\n",
       "      <td>[m..presto@enron.com]</td>\n",
       "      <td>2001-05-31 17:50:54-07:00</td>\n",
       "      <td>1</td>\n",
       "      <td>3.409003.ILYTPFB35EUPQ0GB5TZWNWSDGEKRNVOPA</td>\n",
       "    </tr>\n",
       "    <tr>\n",
       "      <th>2</th>\n",
       "      <td>0.096363</td>\n",
       "      <td>-0.090933</td>\n",
       "      <td>-0.030963</td>\n",
       "      <td>-0.010002</td>\n",
       "      <td>0.083191</td>\n",
       "      <td>-0.064575</td>\n",
       "      <td>-0.005209</td>\n",
       "      <td>0.035190</td>\n",
       "      <td>-0.057231</td>\n",
       "      <td>-0.031811</td>\n",
       "      <td>...</td>\n",
       "      <td>0.065175</td>\n",
       "      <td>0.028856</td>\n",
       "      <td>-0.014752</td>\n",
       "      <td>-0.025459</td>\n",
       "      <td>0.030946</td>\n",
       "      <td>[bryan.garrett@enron.com]</td>\n",
       "      <td>[m..presto@enron.com]</td>\n",
       "      <td>2001-06-14 11:13:42-07:00</td>\n",
       "      <td>0</td>\n",
       "      <td>3.409320.FHLHSXTTKLIOOBE35ASNSLLMDGHIVKOHB</td>\n",
       "    </tr>\n",
       "    <tr>\n",
       "      <th>3</th>\n",
       "      <td>0.233509</td>\n",
       "      <td>-0.282491</td>\n",
       "      <td>-0.005837</td>\n",
       "      <td>-0.064291</td>\n",
       "      <td>-0.048876</td>\n",
       "      <td>-0.016049</td>\n",
       "      <td>0.191338</td>\n",
       "      <td>0.451776</td>\n",
       "      <td>0.194354</td>\n",
       "      <td>0.289672</td>\n",
       "      <td>...</td>\n",
       "      <td>-0.006734</td>\n",
       "      <td>-0.021149</td>\n",
       "      <td>0.026081</td>\n",
       "      <td>0.016384</td>\n",
       "      <td>-0.021385</td>\n",
       "      <td>[joe.quenet@enron.com]</td>\n",
       "      <td>[rebecca.quenet@eds.com]</td>\n",
       "      <td>2001-10-22 10:44:43-07:00</td>\n",
       "      <td>0</td>\n",
       "      <td>3.273672.EOX4B3B2UPTKB4QXBY22HLFHGLAL3D3GA</td>\n",
       "    </tr>\n",
       "    <tr>\n",
       "      <th>4</th>\n",
       "      <td>0.098869</td>\n",
       "      <td>-0.104493</td>\n",
       "      <td>-0.062955</td>\n",
       "      <td>0.027021</td>\n",
       "      <td>0.083626</td>\n",
       "      <td>-0.074546</td>\n",
       "      <td>-0.072641</td>\n",
       "      <td>-0.109721</td>\n",
       "      <td>0.150989</td>\n",
       "      <td>0.049980</td>\n",
       "      <td>...</td>\n",
       "      <td>-0.048538</td>\n",
       "      <td>-0.078042</td>\n",
       "      <td>0.014199</td>\n",
       "      <td>-0.018502</td>\n",
       "      <td>0.049561</td>\n",
       "      <td>[orig.dl-eol@enron.com]</td>\n",
       "      <td>[david.forster@enron.com]</td>\n",
       "      <td>2002-01-11 16:03:53-08:00</td>\n",
       "      <td>1</td>\n",
       "      <td>3.306937.FKZCZAUZJJEVTK2QMSRY1BPRE1UCDVRHB</td>\n",
       "    </tr>\n",
       "  </tbody>\n",
       "</table>\n",
       "<p>5 rows × 105 columns</p>\n",
       "</div>"
      ],
      "text/plain": [
       "          0         1         2         3         4         5         6  \\\n",
       "0  0.093741 -0.126488 -0.065405 -0.004043  0.045035 -0.050174 -0.064590   \n",
       "1  0.090775 -0.059612 -0.064171  0.011959  0.138535  0.034246 -0.023969   \n",
       "2  0.096363 -0.090933 -0.030963 -0.010002  0.083191 -0.064575 -0.005209   \n",
       "3  0.233509 -0.282491 -0.005837 -0.064291 -0.048876 -0.016049  0.191338   \n",
       "4  0.098869 -0.104493 -0.062955  0.027021  0.083626 -0.074546 -0.072641   \n",
       "\n",
       "          7         8         9                     ...                      \\\n",
       "0  0.004562 -0.055888  0.034650                     ...                       \n",
       "1 -0.045525  0.022183  0.054270                     ...                       \n",
       "2  0.035190 -0.057231 -0.031811                     ...                       \n",
       "3  0.451776  0.194354  0.289672                     ...                       \n",
       "4 -0.109721  0.150989  0.049980                     ...                       \n",
       "\n",
       "         95        96        97        98        99  \\\n",
       "0 -0.013066  0.010517 -0.001265 -0.076770  0.034415   \n",
       "1 -0.002251  0.086652 -0.003936  0.000920  0.011898   \n",
       "2  0.065175  0.028856 -0.014752 -0.025459  0.030946   \n",
       "3 -0.006734 -0.021149  0.026081  0.016384 -0.021385   \n",
       "4 -0.048538 -0.078042  0.014199 -0.018502  0.049561   \n",
       "\n",
       "                                                  To  \\\n",
       "0  [dana.davis@enron.com,  mike.carson@enron.com,...   \n",
       "1                           [adam.johnson@enron.com]   \n",
       "2                          [bryan.garrett@enron.com]   \n",
       "3                             [joe.quenet@enron.com]   \n",
       "4                            [orig.dl-eol@enron.com]   \n",
       "\n",
       "                        From                       Date  Label  \\\n",
       "0      [m..presto@enron.com]  2001-09-28 08:12:58-07:00      0   \n",
       "1      [m..presto@enron.com]  2001-05-31 17:50:54-07:00      1   \n",
       "2      [m..presto@enron.com]  2001-06-14 11:13:42-07:00      0   \n",
       "3   [rebecca.quenet@eds.com]  2001-10-22 10:44:43-07:00      0   \n",
       "4  [david.forster@enron.com]  2002-01-11 16:03:53-08:00      1   \n",
       "\n",
       "                                           ID  \n",
       "0  3.407765.PS41KHHMGYEA31NWW4S5W0SLOQLAU3WYA  \n",
       "1  3.409003.ILYTPFB35EUPQ0GB5TZWNWSDGEKRNVOPA  \n",
       "2  3.409320.FHLHSXTTKLIOOBE35ASNSLLMDGHIVKOHB  \n",
       "3  3.273672.EOX4B3B2UPTKB4QXBY22HLFHGLAL3D3GA  \n",
       "4  3.306937.FKZCZAUZJJEVTK2QMSRY1BPRE1UCDVRHB  \n",
       "\n",
       "[5 rows x 105 columns]"
      ]
     },
     "execution_count": 5,
     "metadata": {},
     "output_type": "execute_result"
    }
   ],
   "source": [
    "test_df.head()"
   ]
  },
  {
   "cell_type": "code",
   "execution_count": 6,
   "metadata": {},
   "outputs": [
    {
     "data": {
      "text/plain": [
       "['1',\n",
       " '1',\n",
       " '0',\n",
       " '0',\n",
       " '1',\n",
       " '1',\n",
       " '1',\n",
       " '0',\n",
       " '1',\n",
       " '1',\n",
       " '1',\n",
       " '1',\n",
       " '1',\n",
       " '1',\n",
       " '1',\n",
       " '1',\n",
       " '0',\n",
       " '1',\n",
       " '1',\n",
       " '1',\n",
       " '1',\n",
       " '0',\n",
       " '0',\n",
       " '0',\n",
       " '0',\n",
       " '1',\n",
       " '1',\n",
       " '1',\n",
       " '1',\n",
       " '1',\n",
       " '1',\n",
       " '0',\n",
       " '1',\n",
       " '1',\n",
       " '1',\n",
       " '1',\n",
       " '1',\n",
       " '1',\n",
       " '1',\n",
       " '0',\n",
       " '1',\n",
       " '1',\n",
       " '0',\n",
       " '1',\n",
       " '0',\n",
       " '0',\n",
       " '0',\n",
       " '0',\n",
       " '0',\n",
       " '0',\n",
       " '0',\n",
       " '1',\n",
       " '0',\n",
       " '0',\n",
       " '0',\n",
       " '1',\n",
       " '1',\n",
       " '1',\n",
       " '1',\n",
       " '1',\n",
       " '1',\n",
       " '1',\n",
       " '1',\n",
       " '1',\n",
       " '1',\n",
       " '1',\n",
       " '1',\n",
       " '1',\n",
       " '0',\n",
       " '1',\n",
       " '1',\n",
       " '1',\n",
       " '1',\n",
       " '1',\n",
       " '1',\n",
       " '1',\n",
       " '0',\n",
       " '1',\n",
       " '1',\n",
       " '1',\n",
       " '1',\n",
       " '1',\n",
       " '1',\n",
       " '0',\n",
       " '1',\n",
       " '1',\n",
       " '1',\n",
       " '0',\n",
       " '0',\n",
       " '1',\n",
       " '1',\n",
       " '0',\n",
       " '0',\n",
       " '0',\n",
       " '0',\n",
       " '1',\n",
       " '0',\n",
       " '0',\n",
       " '0',\n",
       " '0',\n",
       " '0',\n",
       " '1',\n",
       " '0',\n",
       " '0',\n",
       " '0',\n",
       " '1',\n",
       " '0',\n",
       " '1',\n",
       " '1',\n",
       " '1']"
      ]
     },
     "execution_count": 6,
     "metadata": {},
     "output_type": "execute_result"
    }
   ],
   "source": [
    "predictions[1]"
   ]
  },
  {
   "cell_type": "code",
   "execution_count": 13,
   "metadata": {},
   "outputs": [
    {
     "data": {
      "text/plain": [
       "[(0.0030398955759813155, '74_low'),\n",
       " (0.0025636834600656954, '82_low'),\n",
       " (0.0020039419756239605, '3_low'),\n",
       " (0.001918029884959923, '50_low'),\n",
       " (0.0018675938507064574, '19_low'),\n",
       " (0.0018610204795643723, '59_low'),\n",
       " (0.0015205381643968296, '34_low'),\n",
       " (0.0012352524552462574, '36_low'),\n",
       " (0.0011957949272733536, '93_low'),\n",
       " (0.001153266815479322, '20_low'),\n",
       " (0.0011394838616557096, 'Date_low'),\n",
       " (0.0011004612914014885, '66_low'),\n",
       " (0.001018006670097783, '60_low'),\n",
       " (0.0009687223541931999, '80_low'),\n",
       " (0.0009673333568589095, '49_low'),\n",
       " (0.0009171713467908803, '17_low'),\n",
       " (0.000869513225824365, '22_low'),\n",
       " (0.0008339467713016392, '11_low'),\n",
       " (0.0008283539683156919, '32_low'),\n",
       " (0.0008155226698578766, '2_low'),\n",
       " (0.0007864133267148025, '13_low'),\n",
       " (0.0007130121235558173, '42_low'),\n",
       " (0.0007113941537520846, '35_low'),\n",
       " (0.0006978306160016993, '96_low'),\n",
       " (0.0006839871919648976, '78_low'),\n",
       " (0.0006625941735492556, '67_low'),\n",
       " (0.0006299882094524013, '12_low'),\n",
       " (0.0006290787201151029, '55_low'),\n",
       " (0.0006100584881235643, '62_low'),\n",
       " (0.0005422434559122346, '46_low'),\n",
       " (0.0005248458214030752, '9_low'),\n",
       " (0.0005197340847353793, '64_low'),\n",
       " (0.00042399478841079023, '37_low'),\n",
       " (0.0004015971666913049, '44_low'),\n",
       " (0.0003513903306669678, '7_low'),\n",
       " (0.0003405214834061379, '16_low'),\n",
       " (0.00033142383048781476, '57_low'),\n",
       " (0.00031379307085179636, '70_low'),\n",
       " (0.00028396985349899567, '27_low'),\n",
       " (0.00028277757186764233, '10_low'),\n",
       " (0.0002570156442158198, '97_low'),\n",
       " (0.00021130618754811557, '53_low'),\n",
       " (0.00018762293546482033, '25_low'),\n",
       " (0.0001815496109487478, '94_low'),\n",
       " (0.0001791372302607213, '29_low'),\n",
       " (0.00014273190711928258, '61_low'),\n",
       " (0.00013959390862944114, '56_low'),\n",
       " (0.00013183984334478455, '68_low'),\n",
       " (0.00012143346897451612, '84_low'),\n",
       " (0.00012124731237454778, '83_low'),\n",
       " (0.00010770450994334897, '6_low'),\n",
       " (0.00010419237196254358, '15_low'),\n",
       " (9.195972287759369e-05, '79_low'),\n",
       " (8.628253277107034e-05, '90_low'),\n",
       " (6.399334954382101e-05, '48_low'),\n",
       " (5.782092530455876e-05, '81_low'),\n",
       " (5.3257256769669026e-05, '63_low'),\n",
       " (2.4255496574065658e-05, '41_low'),\n",
       " (-1.4945421036673123e-05, '77_low'),\n",
       " (-2.841730179967486e-05, '14_low'),\n",
       " (-2.8802138672788177e-05, '91_low'),\n",
       " (-3.677381394772555e-05, '58_low'),\n",
       " (-3.897120785933267e-05, '92_low'),\n",
       " (-6.81832101197613e-05, '8_low'),\n",
       " (-0.00010858605522549424, '52_low'),\n",
       " (-0.00011404880179965125, '65_low'),\n",
       " (-0.00013570484008089499, '39_low'),\n",
       " (-0.00014102762729641116, '43_low'),\n",
       " (-0.00016030279753402252, '89_low'),\n",
       " (-0.0001774823569508999, '75_low'),\n",
       " (-0.00020581334731159008, '71_low'),\n",
       " (-0.000235652199824906, '88_low'),\n",
       " (-0.00026490923679239366, '99_low'),\n",
       " (-0.0002652832889835557, '95_low'),\n",
       " (-0.00029560147290961895, '76_low'),\n",
       " (-0.00031766755251928964, '54_low'),\n",
       " (-0.00034125344804200423, '51_low'),\n",
       " (-0.0003462496267264831, '24_low'),\n",
       " (-0.00047131727459975153, '87_low'),\n",
       " (-0.000474315823056232, '30_low'),\n",
       " (-0.0005940559669200471, '18_low'),\n",
       " (-0.000596569338576756, '98_low'),\n",
       " (-0.0006205414309544063, '69_low'),\n",
       " (-0.0006812997633852333, '73_low'),\n",
       " (-0.0008654921172149312, '47_low'),\n",
       " (-0.0009611633445187739, '85_low'),\n",
       " (-0.0010027391695266764, '31_low'),\n",
       " (-0.0010958682829956615, '33_low'),\n",
       " (-0.0015448085470821035, '23_low'),\n",
       " (-0.0022828863494866215, '26_low'),\n",
       " (-0.0024580074284603183, '1_low'),\n",
       " (-0.0026160483317570517, '72_low'),\n",
       " (-0.0028729626864849537, '0_low'),\n",
       " (-0.003715876031318747, '45_low'),\n",
       " (-0.004525028718818399, '40_low'),\n",
       " (-0.00532542917104999, '86_low')]"
      ]
     },
     "execution_count": 13,
     "metadata": {},
     "output_type": "execute_result"
    }
   ],
   "source": [
    "doc_to_examine = 4\n",
    "sorted([(predictions[2][doc_to_examine][key], key) for key in predictions[2][doc_to_examine].keys()], reverse=predictions[1][doc_to_examine]=='1')"
   ]
  },
  {
   "cell_type": "code",
   "execution_count": 14,
   "metadata": {},
   "outputs": [
    {
     "name": "stdout",
     "output_type": "stream",
     "text": [
      "rod\n",
      "week\n",
      "plan\n",
      "-----------\n",
      "We are getting ready for the launch of \"NetcoOnline\" and have been preparing new documentation, a refreshed site design and cleaned p***rod***ucts to reflect our Gas and Power focus.\n",
      "\n",
      "The following timetable could change, but the general sequence should apply in any case:\n",
      "\n",
      "Week of Jan 14:\n",
      "\n",
      "Upon approval by the new buyer of the PA and ETA formats, we will contact the Master Users at our Top 50 customers and send them copies of the final PA and ETA forms with our new buyer's name filled in. During this ***week***, we will be working hard to get as many of the PA's returned as possible. Once we have an approved PA, we can send the customer their new User ID, which will allow them to start trading on the day we launch \"NetCoOnline\".\n",
      "\n",
      "A Splash page will be available within two business days of knowing our new company name, on a web page reached via an automatic redirect from www.enrononline.com. This page will tell customers about the pending launch of \"NetCoOnline\" and provide links to the PA and Registration screens and also to the User Admin screens, which will allow customer Master Users to start setting up their Sub users.\n",
      "\n",
      "The Splash page will look something like the following:\n",
      "\n",
      " \n",
      "\n",
      "\n",
      "A Press Release will be issued which will include the ***plan***ned launch date of \"NetcoOnline\"\n",
      "\n",
      "Week of Jan. 21:\n",
      "\n",
      "If all goes well, \"NetcoOnline\" will be launched on Tuesday, January 22, with at least financial p***rod***ucts (timing for gas physical and power physical to be determined according to regulatory issues).\n",
      "\n",
      "We will send out a mass mailing to approx. 3,000 individuals at 450 companies inviting them to sign up for NetcoOnline. Included in the package will be a simple brochure, copies of the PA and ETA, key messages and a list of Frequently Asked Questions.\n",
      "\n",
      "General Terms and Conditions (GTC's) will be available online and must be accepted online before a company can start to trade a particular commodity.\n",
      "\t\t\n",
      "\n",
      "Trading/Origination Coordination\n",
      "\n",
      "Certain individuals in the Trading and Origination groups will be contacting customers on our Top 50 list to int***rod***uce the new company and begin the process of getting signed PA's. The NetcoOnline marketing team will work with Trading and Origination groups to make sure that all Master Users that previously had EnronOnline North American Gas and Power execution rights are contacted within one ***week*** of the PA and ETA being approved by the new buyer.  NetcoOnline Marketing will follow up with the Master Users to make sure PA's are signed and returned.\n",
      "\n",
      "\n",
      "NetcoOnline Marketing Contacts:\n",
      "\n",
      "For Marketing-specific questions, please use the following contacts. For other questions, please contact Bob Shults (30397) or Dave Forster (31861).\t\t\n",
      "\n",
      "Teresa Mandola (39807) - Power\n",
      "Kara Boudreau (30570) - Gas\n",
      "Jennifer McQuade (53614) - Power\n",
      "Dan Diamond (39673) - Gas\n",
      "\n",
      "\n",
      "Definitions:\n",
      "\t\n",
      "Password Application (PA) - Only document where a physical signature is required  by an authorized person (Master User)\n",
      "\n",
      "Electronic Trading Agreement (ETA) - Must be accepted online by the Master User before they can proceed into NetcoOnline\n",
      "\n",
      "Master User - Typically the company authorized signatory that signed the Password Application. Establishes transaction rights for each trader (sub-users)\n",
      "\n",
      "Sub-User - Trader, assigned either execute or read only status \n",
      "\n",
      "General Terms & Conditions (GTC) - Document that governs online trades unless a Master Agreement is in place\n",
      "\n",
      "Master Agreement - Document that governs online and offline trades and supersedes the GTC\n",
      "\n",
      "\n",
      "\n",
      "\n",
      "\n",
      "<Embedded Paintbrush Picture>\n"
     ]
    }
   ],
   "source": [
    "import re\n",
    "\n",
    "\n",
    "docstring = metadata.loc[metadata['ID'] == test_df.loc[doc_to_examine,'ID'], 'Message-Contents'].values[0]\n",
    "important_words_70 = ['image','joe','deals','tracy','daily','rod','elizabeth','week','wordsmith','org','geaccone','parks','scott','hayslett','sager','email','deal','plan','good','office']\n",
    "important_words_74 = ['letter','thank','need','feedback','pep','help','password','ca','access','isda','gas','eol','file','org','energy','like','rod','kevin','jpg','regards']\n",
    "important_words_82 = ['today','tomorrow','credit','number','feedback','enronxgate','questions','price','pep','dan','contract','rod','comments','wordsmith','conference','time','november','ll','going','nymex']\n",
    "important_words_3 = ['schedules','final','detected','variances','hourahead','hour','westdesk','parsing','awarded','txt','ancillary','iso','log','messages','scheduling','portland','start','file','california','schedule']\n",
    "important_words_50 = ['gerald','hpl','nyiso','market','nemec','list','berkeley','teco','haas','tap','et','edu','mark','sellers','htm','meeting','power','prices','information','iferc']\n",
    "for word in important_words_70:\n",
    "    if word in docstring:\n",
    "        print(word)\n",
    "        docstring = docstring.replace(word, '***'+word+'***')\n",
    "print('-----------')\n",
    "print(docstring)"
   ]
  },
  {
   "cell_type": "code",
   "execution_count": null,
   "metadata": {},
   "outputs": [],
   "source": [
    "metadata.loc[metadata['ID'] == '3.438120.GTSTTLNTZ2LVIWQFALPJFBLRPP2UC0G4', 'Message-Contents']"
   ]
  }
 ],
 "metadata": {
  "kernelspec": {
   "display_name": "Python 3",
   "language": "python",
   "name": "python3"
  },
  "language_info": {
   "codemirror_mode": {
    "name": "ipython",
    "version": 3
   },
   "file_extension": ".py",
   "mimetype": "text/x-python",
   "name": "python",
   "nbconvert_exporter": "python",
   "pygments_lexer": "ipython3",
   "version": "3.6.2"
  }
 },
 "nbformat": 4,
 "nbformat_minor": 2
}
