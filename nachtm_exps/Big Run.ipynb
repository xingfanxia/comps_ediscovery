{
 "cells": [
  {
   "cell_type": "markdown",
   "metadata": {},
   "source": [
    "# Dataframe setup\n",
    "\n",
    "In this section, we want to:\n",
    "* import all of the dependencies we need\n",
    "* join the lsa and the metadata"
   ]
  },
  {
   "cell_type": "code",
   "execution_count": 1,
   "metadata": {
    "collapsed": true
   },
   "outputs": [],
   "source": [
    "import sys\n",
    "sys.path.append('..')\n",
    "from lib import *\n",
    "import pandas as pd\n",
    "import numpy as np"
   ]
  },
  {
   "cell_type": "code",
   "execution_count": 2,
   "metadata": {
    "collapsed": true
   },
   "outputs": [],
   "source": [
    "lsa_np = np.load('../data/parsed/lsa_output.npy')"
   ]
  },
  {
   "cell_type": "code",
   "execution_count": 3,
   "metadata": {
    "collapsed": true
   },
   "outputs": [],
   "source": [
    "metadata = pd.read_pickle('../data/parsed/pickles/pickled_data_test.pickle')\n",
    "metadata = metadata.loc[metadata['Scenario'] == '401']\n",
    "metadata = metadata.reset_index(drop=True)"
   ]
  },
  {
   "cell_type": "code",
   "execution_count": 4,
   "metadata": {
    "collapsed": true
   },
   "outputs": [],
   "source": [
    "lsa_df = pd.DataFrame(lsa_np)"
   ]
  },
  {
   "cell_type": "code",
   "execution_count": 6,
   "metadata": {
    "collapsed": true
   },
   "outputs": [],
   "source": [
    "df = pd.concat([metadata, lsa_df], axis=1, join_axes=[metadata.index])\n",
    "df = df.loc[df['Label'] != '-1']\n",
    "df = df.reset_index(drop=True)"
   ]
  },
  {
   "cell_type": "code",
   "execution_count": 7,
   "metadata": {
    "collapsed": true
   },
   "outputs": [],
   "source": [
    "cat_features = ['To','From']\n",
    "features = list(range(100))\n",
    "features.extend(cat_features + ['Date'])\n",
    "\n",
    "df = df[features + ['Label']]"
   ]
  },
  {
   "cell_type": "markdown",
   "metadata": {},
   "source": [
    "# Fitting and saving a new model\n",
    "\n",
    "Run this section to create a new model `forest` and write it to disc."
   ]
  },
  {
   "cell_type": "code",
   "execution_count": 8,
   "metadata": {},
   "outputs": [
    {
     "name": "stdout",
     "output_type": "stream",
     "text": [
      "fitting the 1th tree.\n",
      "fitting the 2th tree.\n",
      "fitting the 3th tree.\n",
      "fitting the 4th tree.\n",
      "fitting the 5th tree.\n",
      "fitting the 6th tree.\n",
      "fitting the 7th tree.\n",
      "fitting the 8th tree.\n",
      "fitting the 9th tree.\n",
      "fitting the 10th tree.\n",
      "fitting the 11th tree.\n",
      "fitting the 12th tree.\n",
      "fitting the 13th tree.\n",
      "fitting the 14th tree.\n",
      "fitting the 15th tree.\n",
      "fitting the 16th tree.\n",
      "fitting the 17th tree.\n",
      "fitting the 18th tree.\n",
      "fitting the 19th tree.\n",
      "fitting the 20th tree.\n",
      "fitting the 21th tree.\n",
      "fitting the 22th tree.\n",
      "fitting the 23th tree.\n",
      "fitting the 24th tree.\n",
      "fitting the 25th tree.\n",
      "fitting the 26th tree.\n",
      "fitting the 27th tree.\n",
      "fitting the 28th tree.\n",
      "fitting the 29th tree.\n",
      "fitting the 30th tree.\n",
      "fitting the 31th tree.\n",
      "fitting the 32th tree.\n",
      "fitting the 33th tree.\n",
      "fitting the 34th tree.\n",
      "fitting the 35th tree.\n",
      "fitting the 36th tree.\n",
      "fitting the 37th tree.\n",
      "fitting the 38th tree.\n",
      "fitting the 39th tree.\n",
      "fitting the 40th tree.\n",
      "fitting the 41th tree.\n",
      "fitting the 42th tree.\n",
      "fitting the 43th tree.\n",
      "fitting the 44th tree.\n",
      "fitting the 45th tree.\n",
      "fitting the 46th tree.\n",
      "fitting the 47th tree.\n",
      "fitting the 48th tree.\n",
      "fitting the 49th tree.\n",
      "fitting the 50th tree.\n",
      "fitting the 51th tree.\n",
      "fitting the 52th tree.\n",
      "fitting the 53th tree.\n",
      "fitting the 54th tree.\n",
      "fitting the 55th tree.\n",
      "fitting the 56th tree.\n",
      "fitting the 57th tree.\n",
      "fitting the 58th tree.\n",
      "fitting the 59th tree.\n",
      "fitting the 60th tree.\n",
      "fitting the 61th tree.\n",
      "fitting the 62th tree.\n",
      "fitting the 63th tree.\n",
      "fitting the 64th tree.\n"
     ]
    }
   ],
   "source": [
    "#__init__(self, train_data, n_trees, tree_depth, random_seed, n_max_features, n_max_input):\n",
    "train_df = df[:600]\n",
    "test_df = df[600:].reset_index(drop=True)\n",
    "n_trees = 64\n",
    "tree_depth = 10\n",
    "random_seed = 42\n",
    "n_max_features = 20\n",
    "n_max_input = train_df.shape[0]\n",
    "benchmark = None\n",
    "rows = range(df.shape[0])\n",
    "\n",
    "# tree = Tree(df, tree_depth, benchmark, rows, features, cat_features)\n",
    "# tree.fit()\n",
    "#train_data, n_trees, tree_depth, random_seed, n_max_features, n_max_input, cat_features):\n",
    "forest = RNF(train_df, n_trees, tree_depth, random_seed, n_max_features, n_max_input, cat_features)\n",
    "forest.fit()"
   ]
  },
  {
   "cell_type": "code",
   "execution_count": 9,
   "metadata": {
    "collapsed": true
   },
   "outputs": [],
   "source": [
    "forest.store_rnf('scen1.first600.64trees.10depth.42rs.20maxfeats.600maxin.pickle')"
   ]
  },
  {
   "cell_type": "markdown",
   "metadata": {},
   "source": [
    "# Loading a forest from memory\n",
    "\n",
    "Use this section to load a forest from memory, so you don't have to fit a new one."
   ]
  },
  {
   "cell_type": "code",
   "execution_count": null,
   "metadata": {
    "collapsed": true
   },
   "outputs": [],
   "source": [
    "forest2 = RNF(None, None, None, None, None, None, None)\n",
    "forest2.load_rnf('forest.pickle')"
   ]
  },
  {
   "cell_type": "markdown",
   "metadata": {},
   "source": [
    "# Predicting"
   ]
  },
  {
   "cell_type": "code",
   "execution_count": null,
   "metadata": {
    "collapsed": true
   },
   "outputs": [],
   "source": [
    "forest2.predict(df[0:1])"
   ]
  },
  {
   "cell_type": "markdown",
   "metadata": {},
   "source": [
    "# Visualizing a Tree from the forest\n",
    "\n",
    "Below is the code to visualize a tree from the forest. Note that this doesn't work smoothly on Windows, though it should theoretically be possible. "
   ]
  },
  {
   "cell_type": "code",
   "execution_count": null,
   "metadata": {
    "collapsed": true
   },
   "outputs": [],
   "source": [
    "forest.trees[1].visualize()"
   ]
  },
  {
   "cell_type": "code",
   "execution_count": null,
   "metadata": {
    "collapsed": true
   },
   "outputs": [],
   "source": [
    "%%bash \n",
    "cd vis\n",
    "# mac xargs syntax seems different from linux\n",
    "ls *.dot | xargs -I '{}' dot '{}' -Tpng -O\n",
    "ls *.dot | xargs -I '{}' dot '{}' -Tsvg -O\n",
    "dot -Tpng tree.dot -o tree.png\n",
    "dot -Tsvg tree.dot -o tree.svg"
   ]
  },
  {
   "cell_type": "code",
   "execution_count": null,
   "metadata": {
    "collapsed": true
   },
   "outputs": [],
   "source": [
    "from IPython.display import Image\n",
    "Image(filename='vis/tree.png')"
   ]
  },
  {
   "cell_type": "code",
   "execution_count": null,
   "metadata": {
    "collapsed": true
   },
   "outputs": [],
   "source": [
    "type(df.columns.values[0])"
   ]
  }
 ],
 "metadata": {
  "kernelspec": {
   "display_name": "Python 3",
   "language": "python",
   "name": "python3"
  },
  "language_info": {
   "codemirror_mode": {
    "name": "ipython",
    "version": 3
   },
   "file_extension": ".py",
   "mimetype": "text/x-python",
   "name": "python",
   "nbconvert_exporter": "python",
   "pygments_lexer": "ipython3",
   "version": "3.6.2"
  }
 },
 "nbformat": 4,
 "nbformat_minor": 2
}
