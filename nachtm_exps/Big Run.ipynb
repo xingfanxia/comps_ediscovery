{
 "cells": [
  {
   "cell_type": "code",
   "execution_count": 4,
   "metadata": {
    "collapsed": true
   },
   "outputs": [],
   "source": [
    "import sys\n",
    "sys.path.append('..')\n",
    "from lib import *\n",
    "import pandas as pd\n",
    "import numpy as np"
   ]
  },
  {
   "cell_type": "code",
   "execution_count": 5,
   "metadata": {
    "collapsed": true
   },
   "outputs": [],
   "source": [
    "lsa_np = np.load('../data/parsed/lsa_output.npy')"
   ]
  },
  {
   "cell_type": "code",
   "execution_count": 6,
   "metadata": {
    "collapsed": true
   },
   "outputs": [],
   "source": [
    "metadata = pd.read_pickle('../data/parsed/pickles/pickled_data_test.pickle')\n",
    "metadata = metadata.loc[metadata['Scenario'] == '401']\n",
    "metadata = metadata.reset_index(drop=True)"
   ]
  },
  {
   "cell_type": "code",
   "execution_count": 7,
   "metadata": {},
   "outputs": [],
   "source": [
    "lsa_df = pd.DataFrame(lsa_np)"
   ]
  },
  {
   "cell_type": "code",
   "execution_count": 8,
   "metadata": {
    "collapsed": true
   },
   "outputs": [],
   "source": [
    "df = pd.concat([metadata, lsa_df], axis=1, join_axes=[metadata.index])\n",
    "df = df.loc[df['Label'] != '-1']\n",
    "df = df.reset_index(drop=True)"
   ]
  },
  {
   "cell_type": "code",
   "execution_count": 9,
   "metadata": {
    "collapsed": true
   },
   "outputs": [],
   "source": [
    "cat_features = ['To','From']\n",
    "features = list(range(100))\n",
    "features.extend(cat_features + ['Date'])\n",
    "\n",
    "df = df[features + ['Label']]"
   ]
  },
  {
   "cell_type": "code",
   "execution_count": 10,
   "metadata": {},
   "outputs": [
    {
     "name": "stdout",
     "output_type": "stream",
     "text": [
      "\n",
      "------------------------------------\n",
      "fitting the 1th tree.\n",
      "------------------------------------\n",
      "\n",
      "\n",
      "------------------------------------\n",
      "fitting the 2th tree.\n",
      "------------------------------------\n",
      "\n",
      "\n",
      "------------------------------------\n",
      "fitting the 3th tree.\n",
      "------------------------------------\n",
      "\n",
      "\n",
      "------------------------------------\n",
      "fitting the 4th tree.\n",
      "------------------------------------\n",
      "\n",
      "\n",
      "------------------------------------\n",
      "fitting the 5th tree.\n",
      "------------------------------------\n",
      "\n",
      "\n",
      "------------------------------------\n",
      "fitting the 6th tree.\n",
      "------------------------------------\n",
      "\n",
      "nothing found: [487 464]\n",
      "nothing found: [605 456 605 605 458]\n",
      "nothing found: [335 300 388 335 335]\n",
      "nothing found: [ 20 670]\n",
      "\n",
      "------------------------------------\n",
      "fitting the 7th tree.\n",
      "------------------------------------\n",
      "\n",
      "nothing found: [243 431]\n",
      "nothing found: [627 162 627 162 655 162]\n",
      "nothing found: [191 191 183 176 191 183 176 183 182 191 191]\n",
      "nothing found: [405 405 363 267 433 363 363]\n",
      "nothing found: [375 432 334 375 375 334]\n",
      "nothing found: [392 497 400 392]\n",
      "\n",
      "------------------------------------\n",
      "fitting the 8th tree.\n",
      "------------------------------------\n",
      "\n",
      "nothing found: [267 176 176 267]\n",
      "nothing found: [447 288]\n",
      "nothing found: [479 479 135 129 129]\n",
      "nothing found: [343 380 380 322 343 380]\n",
      "nothing found: [186 146 146 182 182]\n",
      "nothing found: [375 366 366 375 366]\n",
      "nothing found: [600 600 421 421]\n",
      "\n",
      "------------------------------------\n",
      "fitting the 9th tree.\n",
      "------------------------------------\n",
      "\n",
      "\n",
      "------------------------------------\n",
      "fitting the 10th tree.\n",
      "------------------------------------\n",
      "\n",
      "\n",
      "------------------------------------\n",
      "fitting the 11th tree.\n",
      "------------------------------------\n",
      "\n",
      "\n",
      "------------------------------------\n",
      "fitting the 12th tree.\n",
      "------------------------------------\n",
      "\n",
      "\n",
      "------------------------------------\n",
      "fitting the 13th tree.\n",
      "------------------------------------\n",
      "\n",
      "\n",
      "------------------------------------\n",
      "fitting the 14th tree.\n",
      "------------------------------------\n",
      "\n",
      "\n",
      "------------------------------------\n",
      "fitting the 15th tree.\n",
      "------------------------------------\n",
      "\n",
      "\n",
      "------------------------------------\n",
      "fitting the 16th tree.\n",
      "------------------------------------\n",
      "\n",
      "\n",
      "------------------------------------\n",
      "fitting the 17th tree.\n",
      "------------------------------------\n",
      "\n",
      "\n",
      "------------------------------------\n",
      "fitting the 18th tree.\n",
      "------------------------------------\n",
      "\n",
      "\n",
      "------------------------------------\n",
      "fitting the 19th tree.\n",
      "------------------------------------\n",
      "\n",
      "\n",
      "------------------------------------\n",
      "fitting the 20th tree.\n",
      "------------------------------------\n",
      "\n",
      "\n",
      "------------------------------------\n",
      "fitting the 21th tree.\n",
      "------------------------------------\n",
      "\n",
      "\n",
      "------------------------------------\n",
      "fitting the 22th tree.\n",
      "------------------------------------\n",
      "\n",
      "\n",
      "------------------------------------\n",
      "fitting the 23th tree.\n",
      "------------------------------------\n",
      "\n",
      "\n",
      "------------------------------------\n",
      "fitting the 24th tree.\n",
      "------------------------------------\n",
      "\n",
      "\n",
      "------------------------------------\n",
      "fitting the 25th tree.\n",
      "------------------------------------\n",
      "\n",
      "\n",
      "------------------------------------\n",
      "fitting the 26th tree.\n",
      "------------------------------------\n",
      "\n",
      "nothing found: [605 605 435 572 605 605 435 572]\n",
      "nothing found: [540 422]\n",
      "\n",
      "------------------------------------\n",
      "fitting the 27th tree.\n",
      "------------------------------------\n",
      "\n",
      "\n",
      "------------------------------------\n",
      "fitting the 28th tree.\n",
      "------------------------------------\n",
      "\n",
      "\n",
      "------------------------------------\n",
      "fitting the 29th tree.\n",
      "------------------------------------\n",
      "\n",
      "\n",
      "------------------------------------\n",
      "fitting the 30th tree.\n",
      "------------------------------------\n",
      "\n",
      "nothing found: [627 162 162 655 162]\n",
      "\n",
      "------------------------------------\n",
      "fitting the 31th tree.\n",
      "------------------------------------\n",
      "\n",
      "\n",
      "------------------------------------\n",
      "fitting the 32th tree.\n",
      "------------------------------------\n",
      "\n",
      "\n",
      "------------------------------------\n",
      "fitting the 33th tree.\n",
      "------------------------------------\n",
      "\n",
      "nothing found: [282 396]\n",
      "\n",
      "------------------------------------\n",
      "fitting the 34th tree.\n",
      "------------------------------------\n",
      "\n",
      "\n",
      "------------------------------------\n",
      "fitting the 35th tree.\n",
      "------------------------------------\n",
      "\n",
      "\n",
      "------------------------------------\n",
      "fitting the 36th tree.\n",
      "------------------------------------\n",
      "\n",
      "\n",
      "------------------------------------\n",
      "fitting the 37th tree.\n",
      "------------------------------------\n",
      "\n",
      "nothing found: [318 445 356 356 445]\n",
      "nothing found: [176 176 183]\n",
      "nothing found: [331  86 331  86 331 415  86 331]\n",
      "nothing found: [555 319]\n",
      "nothing found: [204 338  89 338  89]\n",
      "nothing found: [396 396 368 368]\n",
      "nothing found: [162 655 655]\n",
      "\n",
      "------------------------------------\n",
      "fitting the 38th tree.\n",
      "------------------------------------\n",
      "\n",
      "nothing found: [655 162 655]\n",
      "nothing found: [268 288 288]\n",
      "\n",
      "------------------------------------\n",
      "fitting the 39th tree.\n",
      "------------------------------------\n",
      "\n",
      "\n",
      "------------------------------------\n",
      "fitting the 40th tree.\n",
      "------------------------------------\n",
      "\n",
      "nothing found: [306 288 433 288 288 306]\n",
      "\n",
      "------------------------------------\n",
      "fitting the 41th tree.\n",
      "------------------------------------\n",
      "\n",
      "nothing found: [405 433 433]\n",
      "\n",
      "------------------------------------\n",
      "fitting the 42th tree.\n",
      "------------------------------------\n",
      "\n",
      "\n",
      "------------------------------------\n",
      "fitting the 43th tree.\n",
      "------------------------------------\n",
      "\n",
      "\n",
      "------------------------------------\n",
      "fitting the 44th tree.\n",
      "------------------------------------\n",
      "\n",
      "\n",
      "------------------------------------\n",
      "fitting the 45th tree.\n",
      "------------------------------------\n",
      "\n",
      "\n",
      "------------------------------------\n",
      "fitting the 46th tree.\n",
      "------------------------------------\n",
      "\n",
      "\n",
      "------------------------------------\n",
      "fitting the 47th tree.\n",
      "------------------------------------\n",
      "\n",
      "\n",
      "------------------------------------\n",
      "fitting the 48th tree.\n",
      "------------------------------------\n",
      "\n",
      "\n",
      "------------------------------------\n",
      "fitting the 49th tree.\n",
      "------------------------------------\n",
      "\n",
      "nothing found: [345 345 420]\n",
      "nothing found: [183 180 180 183]\n",
      "nothing found: [426 426 426 426 377]\n",
      "nothing found: [487 487 394 487]\n",
      "\n",
      "------------------------------------\n",
      "fitting the 50th tree.\n",
      "------------------------------------\n",
      "\n",
      "nothing found: [376 332]\n",
      "nothing found: [ 18 123 125 123 125 540]\n",
      "nothing found: [336 336 348 348]\n",
      "\n",
      "------------------------------------\n",
      "fitting the 51th tree.\n",
      "------------------------------------\n",
      "\n",
      "\n",
      "------------------------------------\n",
      "fitting the 52th tree.\n",
      "------------------------------------\n",
      "\n",
      "\n",
      "------------------------------------\n",
      "fitting the 53th tree.\n",
      "------------------------------------\n",
      "\n",
      "nothing found: [448 448 448 455]\n",
      "nothing found: [258 561]\n",
      "\n",
      "------------------------------------\n",
      "fitting the 54th tree.\n",
      "------------------------------------\n",
      "\n",
      "\n",
      "------------------------------------\n",
      "fitting the 55th tree.\n",
      "------------------------------------\n",
      "\n",
      "nothing found: [ 71 258  71  71 258 258]\n",
      "nothing found: [135 290 436 290 135 436 436 290]\n",
      "nothing found: [660 637 112 206 252 206 251 102 252 101 206  78 112 677 660 547 112  78\n",
      " 571 101 206 571 252 525]\n",
      "\n",
      "------------------------------------\n",
      "fitting the 56th tree.\n",
      "------------------------------------\n",
      "\n",
      "\n",
      "------------------------------------\n",
      "fitting the 57th tree.\n",
      "------------------------------------\n",
      "\n",
      "\n",
      "------------------------------------\n",
      "fitting the 58th tree.\n",
      "------------------------------------\n",
      "\n",
      "nothing found: [258  64  64 258  64]\n",
      "\n",
      "------------------------------------\n",
      "fitting the 59th tree.\n",
      "------------------------------------\n",
      "\n",
      "\n",
      "------------------------------------\n",
      "fitting the 60th tree.\n",
      "------------------------------------\n",
      "\n",
      "\n",
      "------------------------------------\n",
      "fitting the 61th tree.\n",
      "------------------------------------\n",
      "\n",
      "\n",
      "------------------------------------\n",
      "fitting the 62th tree.\n",
      "------------------------------------\n",
      "\n",
      "\n",
      "------------------------------------\n",
      "fitting the 63th tree.\n",
      "------------------------------------\n",
      "\n",
      "\n",
      "------------------------------------\n",
      "fitting the 64th tree.\n",
      "------------------------------------\n",
      "\n"
     ]
    }
   ],
   "source": [
    "#__init__(self, train_data, n_trees, tree_depth, random_seed, n_max_features, n_max_input):\n",
    "n_trees = 64\n",
    "tree_depth = 50\n",
    "random_seed = 42\n",
    "n_max_features = 11\n",
    "n_max_input = df.shape[0]\n",
    "benchmark = None\n",
    "rows = range(df.shape[0])\n",
    "\n",
    "# tree = Tree(df, tree_depth, benchmark, rows, features, cat_features)\n",
    "# tree.fit()\n",
    "#train_data, n_trees, tree_depth, random_seed, n_max_features, n_max_input, cat_features):\n",
    "forest = RNF(df, n_trees, tree_depth, random_seed, n_max_features, n_max_input, cat_features)\n",
    "forest.fit()"
   ]
  },
  {
   "cell_type": "code",
   "execution_count": 15,
   "metadata": {},
   "outputs": [],
   "source": [
    "import pickle\n",
    "with open('forest_sc01_64trees_11maxfeat_50maxdepth.pickle', 'wb') as f:\n",
    "    pickle.dump(forest, f)"
   ]
  },
  {
   "cell_type": "code",
   "execution_count": 16,
   "metadata": {},
   "outputs": [
    {
     "name": "stdout",
     "output_type": "stream",
     "text": [
      "<lib.forest.RNF object at 0x0000020072802DD8>\n"
     ]
    }
   ],
   "source": [
    "with open('forest_sc01_64trees_11maxfeat_50maxdepth.pickle', 'rb') as f:\n",
    "    forest2 = pickle.load(f)\n",
    "print(forest2)"
   ]
  },
  {
   "cell_type": "code",
   "execution_count": 28,
   "metadata": {},
   "outputs": [
    {
     "ename": "AttributeError",
     "evalue": "'numpy.ndarray' object has no attribute 'iterrows'",
     "output_type": "error",
     "traceback": [
      "\u001b[1;31m---------------------------------------------------------------------------\u001b[0m",
      "\u001b[1;31mAttributeError\u001b[0m                            Traceback (most recent call last)",
      "\u001b[1;32m<ipython-input-28-904d2941efea>\u001b[0m in \u001b[0;36m<module>\u001b[1;34m()\u001b[0m\n\u001b[1;32m----> 1\u001b[1;33m \u001b[0mforest\u001b[0m\u001b[1;33m.\u001b[0m\u001b[0mpredict\u001b[0m\u001b[1;33m(\u001b[0m\u001b[0mdf\u001b[0m\u001b[1;33m[\u001b[0m\u001b[1;36m0\u001b[0m\u001b[1;33m:\u001b[0m\u001b[1;36m1\u001b[0m\u001b[1;33m]\u001b[0m\u001b[1;33m.\u001b[0m\u001b[0mvalues\u001b[0m\u001b[1;33m)\u001b[0m\u001b[1;33m\u001b[0m\u001b[0m\n\u001b[0m",
      "\u001b[1;32m~\\Documents\\comps\\comps_ediscovery\\lib\\forest.py\u001b[0m in \u001b[0;36mpredict\u001b[1;34m(self, test_data)\u001b[0m\n\u001b[0;32m     70\u001b[0m \u001b[1;33m\u001b[0m\u001b[0m\n\u001b[0;32m     71\u001b[0m     \u001b[1;32mdef\u001b[0m \u001b[0mpredict\u001b[0m\u001b[1;33m(\u001b[0m\u001b[0mself\u001b[0m\u001b[1;33m,\u001b[0m \u001b[0mtest_data\u001b[0m\u001b[1;33m)\u001b[0m\u001b[1;33m:\u001b[0m\u001b[1;33m\u001b[0m\u001b[0m\n\u001b[1;32m---> 72\u001b[1;33m         \u001b[0mtrees\u001b[0m\u001b[1;33m=\u001b[0m \u001b[1;33m[\u001b[0m\u001b[0mtree\u001b[0m\u001b[1;33m.\u001b[0m\u001b[0mpredict\u001b[0m\u001b[1;33m(\u001b[0m\u001b[0mtest_data\u001b[0m\u001b[1;33m)\u001b[0m \u001b[1;32mfor\u001b[0m \u001b[0mtree\u001b[0m \u001b[1;32min\u001b[0m \u001b[0mself\u001b[0m\u001b[1;33m.\u001b[0m\u001b[0mtrees\u001b[0m\u001b[1;33m]\u001b[0m\u001b[1;33m\u001b[0m\u001b[0m\n\u001b[0m\u001b[0;32m     73\u001b[0m         \u001b[0mscores\u001b[0m \u001b[1;33m=\u001b[0m \u001b[1;33m[\u001b[0m \u001b[0mlist\u001b[0m\u001b[1;33m(\u001b[0m\u001b[1;33m)\u001b[0m \u001b[1;32mfor\u001b[0m \u001b[0mdoc\u001b[0m \u001b[1;32min\u001b[0m \u001b[0mtrees\u001b[0m\u001b[1;33m[\u001b[0m\u001b[1;36m0\u001b[0m\u001b[1;33m]\u001b[0m\u001b[1;33m]\u001b[0m\u001b[1;33m\u001b[0m\u001b[0m\n\u001b[0;32m     74\u001b[0m         \u001b[1;32mfor\u001b[0m \u001b[0mdoc\u001b[0m \u001b[1;32min\u001b[0m \u001b[0mrange\u001b[0m\u001b[1;33m(\u001b[0m\u001b[0mlen\u001b[0m\u001b[1;33m(\u001b[0m\u001b[0mtrees\u001b[0m\u001b[1;33m[\u001b[0m\u001b[1;36m0\u001b[0m\u001b[1;33m]\u001b[0m\u001b[1;33m)\u001b[0m\u001b[1;33m)\u001b[0m\u001b[1;33m:\u001b[0m\u001b[1;33m\u001b[0m\u001b[0m\n",
      "\u001b[1;32m~\\Documents\\comps\\comps_ediscovery\\lib\\forest.py\u001b[0m in \u001b[0;36m<listcomp>\u001b[1;34m(.0)\u001b[0m\n\u001b[0;32m     70\u001b[0m \u001b[1;33m\u001b[0m\u001b[0m\n\u001b[0;32m     71\u001b[0m     \u001b[1;32mdef\u001b[0m \u001b[0mpredict\u001b[0m\u001b[1;33m(\u001b[0m\u001b[0mself\u001b[0m\u001b[1;33m,\u001b[0m \u001b[0mtest_data\u001b[0m\u001b[1;33m)\u001b[0m\u001b[1;33m:\u001b[0m\u001b[1;33m\u001b[0m\u001b[0m\n\u001b[1;32m---> 72\u001b[1;33m         \u001b[0mtrees\u001b[0m\u001b[1;33m=\u001b[0m \u001b[1;33m[\u001b[0m\u001b[0mtree\u001b[0m\u001b[1;33m.\u001b[0m\u001b[0mpredict\u001b[0m\u001b[1;33m(\u001b[0m\u001b[0mtest_data\u001b[0m\u001b[1;33m)\u001b[0m \u001b[1;32mfor\u001b[0m \u001b[0mtree\u001b[0m \u001b[1;32min\u001b[0m \u001b[0mself\u001b[0m\u001b[1;33m.\u001b[0m\u001b[0mtrees\u001b[0m\u001b[1;33m]\u001b[0m\u001b[1;33m\u001b[0m\u001b[0m\n\u001b[0m\u001b[0;32m     73\u001b[0m         \u001b[0mscores\u001b[0m \u001b[1;33m=\u001b[0m \u001b[1;33m[\u001b[0m \u001b[0mlist\u001b[0m\u001b[1;33m(\u001b[0m\u001b[1;33m)\u001b[0m \u001b[1;32mfor\u001b[0m \u001b[0mdoc\u001b[0m \u001b[1;32min\u001b[0m \u001b[0mtrees\u001b[0m\u001b[1;33m[\u001b[0m\u001b[1;36m0\u001b[0m\u001b[1;33m]\u001b[0m\u001b[1;33m]\u001b[0m\u001b[1;33m\u001b[0m\u001b[0m\n\u001b[0;32m     74\u001b[0m         \u001b[1;32mfor\u001b[0m \u001b[0mdoc\u001b[0m \u001b[1;32min\u001b[0m \u001b[0mrange\u001b[0m\u001b[1;33m(\u001b[0m\u001b[0mlen\u001b[0m\u001b[1;33m(\u001b[0m\u001b[0mtrees\u001b[0m\u001b[1;33m[\u001b[0m\u001b[1;36m0\u001b[0m\u001b[1;33m]\u001b[0m\u001b[1;33m)\u001b[0m\u001b[1;33m)\u001b[0m\u001b[1;33m:\u001b[0m\u001b[1;33m\u001b[0m\u001b[0m\n",
      "\u001b[1;32m~\\Documents\\comps\\comps_ediscovery\\lib\\tree.py\u001b[0m in \u001b[0;36mpredict\u001b[1;34m(self, test_data)\u001b[0m\n\u001b[0;32m     76\u001b[0m         \u001b[1;32mif\u001b[0m \u001b[1;32mnot\u001b[0m \u001b[0mos\u001b[0m\u001b[1;33m.\u001b[0m\u001b[0mpath\u001b[0m\u001b[1;33m.\u001b[0m\u001b[0mexists\u001b[0m\u001b[1;33m(\u001b[0m\u001b[1;34m'vis'\u001b[0m\u001b[1;33m)\u001b[0m\u001b[1;33m:\u001b[0m\u001b[1;33m\u001b[0m\u001b[0m\n\u001b[0;32m     77\u001b[0m             \u001b[0mos\u001b[0m\u001b[1;33m.\u001b[0m\u001b[0mmakedirs\u001b[0m\u001b[1;33m(\u001b[0m\u001b[1;34m'vis'\u001b[0m\u001b[1;33m)\u001b[0m\u001b[1;33m\u001b[0m\u001b[0m\n\u001b[1;32m---> 78\u001b[1;33m         \u001b[1;32mfor\u001b[0m \u001b[0mindex\u001b[0m\u001b[1;33m,\u001b[0m \u001b[0mrow\u001b[0m \u001b[1;32min\u001b[0m \u001b[0mtest_data\u001b[0m\u001b[1;33m.\u001b[0m\u001b[0miterrows\u001b[0m\u001b[1;33m(\u001b[0m\u001b[1;33m)\u001b[0m\u001b[1;33m:\u001b[0m\u001b[1;33m\u001b[0m\u001b[0m\n\u001b[0m\u001b[0;32m     79\u001b[0m             \u001b[0mto_put\u001b[0m \u001b[1;33m=\u001b[0m \u001b[1;33m[\u001b[0m\u001b[1;33m]\u001b[0m\u001b[1;33m\u001b[0m\u001b[0m\n\u001b[0;32m     80\u001b[0m             \u001b[0mcur_node\u001b[0m \u001b[1;33m=\u001b[0m \u001b[0mself\u001b[0m\u001b[1;33m.\u001b[0m\u001b[0mhead\u001b[0m\u001b[1;33m\u001b[0m\u001b[0m\n",
      "\u001b[1;31mAttributeError\u001b[0m: 'numpy.ndarray' object has no attribute 'iterrows'"
     ]
    }
   ],
   "source": [
    "forest.predict(df[0:1].values)"
   ]
  },
  {
   "cell_type": "code",
   "execution_count": null,
   "metadata": {},
   "outputs": [],
   "source": [
    "#data, rows, features, depth, max_depth, cat_features\n",
    "n = Node(df, [627, 655, 133], [7],9,50,['From','To'])\n",
    "n.split()"
   ]
  },
  {
   "cell_type": "code",
   "execution_count": null,
   "metadata": {},
   "outputs": [],
   "source": [
    "left_dict = {0:0, 1:1}\n",
    "right_dict = {0:1,1:1}\n",
    "left = Node.calc_gini_from_props(left_dict)\n",
    "right = Node.calc_gini_from_props(right_dict)\n",
    "left_num = sum([x for x in left_dict.values()])\n",
    "right_num = sum([x for x in right_dict.values()])\n",
    "\n",
    "Node.aggregate_gini(left, right, left_num, right_num)"
   ]
  },
  {
   "cell_type": "code",
   "execution_count": null,
   "metadata": {},
   "outputs": [],
   "source": [
    "Node.calc_gini_from_props({0:1,1:2})"
   ]
  },
  {
   "cell_type": "code",
   "execution_count": null,
   "metadata": {
    "collapsed": true
   },
   "outputs": [],
   "source": [
    "df.loc[[627,655,133]][7]"
   ]
  },
  {
   "cell_type": "code",
   "execution_count": null,
   "metadata": {
    "collapsed": true
   },
   "outputs": [],
   "source": [
    "df.loc[162]['Message-Contents']"
   ]
  },
  {
   "cell_type": "code",
   "execution_count": null,
   "metadata": {
    "collapsed": true
   },
   "outputs": [],
   "source": [
    "df['Message-Contents'][655]"
   ]
  },
  {
   "cell_type": "code",
   "execution_count": null,
   "metadata": {
    "collapsed": true
   },
   "outputs": [],
   "source": [
    "forest.trees[1].visualize()"
   ]
  },
  {
   "cell_type": "code",
   "execution_count": null,
   "metadata": {
    "collapsed": true
   },
   "outputs": [],
   "source": [
    "%%bash \n",
    "cd vis\n",
    "# mac xargs syntax seems different from linux\n",
    "ls *.dot | xargs -I '{}' dot '{}' -Tpng -O\n",
    "ls *.dot | xargs -I '{}' dot '{}' -Tsvg -O\n",
    "dot -Tpng tree.dot -o tree.png\n",
    "dot -Tsvg tree.dot -o tree.svg"
   ]
  },
  {
   "cell_type": "code",
   "execution_count": null,
   "metadata": {
    "collapsed": true
   },
   "outputs": [],
   "source": [
    "from IPython.display import Image\n",
    "Image(filename='vis/tree.png')"
   ]
  },
  {
   "cell_type": "code",
   "execution_count": null,
   "metadata": {
    "collapsed": true
   },
   "outputs": [],
   "source": [
    "type(df.columns.values[0])"
   ]
  }
 ],
 "metadata": {
  "kernelspec": {
   "display_name": "Python 3",
   "language": "python",
   "name": "python3"
  },
  "language_info": {
   "codemirror_mode": {
    "name": "ipython",
    "version": 3
   },
   "file_extension": ".py",
   "mimetype": "text/x-python",
   "name": "python",
   "nbconvert_exporter": "python",
   "pygments_lexer": "ipython3",
   "version": "3.6.2"
  }
 },
 "nbformat": 4,
 "nbformat_minor": 2
}
