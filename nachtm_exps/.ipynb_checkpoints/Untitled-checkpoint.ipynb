{
 "cells": [
  {
   "cell_type": "code",
   "execution_count": 1,
   "metadata": {
    "collapsed": true
   },
   "outputs": [],
   "source": [
    "import pandas as pd\n",
    "import sys\n",
    "sys.path.append('..')\n",
    "from lib import Node"
   ]
  },
  {
   "cell_type": "code",
   "execution_count": 2,
   "metadata": {
    "collapsed": true
   },
   "outputs": [],
   "source": [
    "df = pd.read_pickle('../data/parsed/pickled_data_test.pickle')"
   ]
  },
  {
   "cell_type": "code",
   "execution_count": 3,
   "metadata": {
    "collapsed": true
   },
   "outputs": [],
   "source": [
    "rows = [1, 30, 32, 43, 46]"
   ]
  },
  {
   "cell_type": "code",
   "execution_count": 4,
   "metadata": {
    "collapsed": true
   },
   "outputs": [],
   "source": [
    "members = df.loc[rows]['Label'].values"
   ]
  },
  {
   "cell_type": "code",
   "execution_count": 5,
   "metadata": {},
   "outputs": [
    {
     "data": {
      "text/plain": [
       "array(['-1', '-1', '-1', '-1', '-1'], dtype=object)"
      ]
     },
     "execution_count": 5,
     "metadata": {},
     "output_type": "execute_result"
    }
   ],
   "source": [
    "members"
   ]
  },
  {
   "cell_type": "code",
   "execution_count": 6,
   "metadata": {},
   "outputs": [
    {
     "data": {
      "text/plain": [
       "array([ True,  True,  True,  True,  True], dtype=bool)"
      ]
     },
     "execution_count": 6,
     "metadata": {},
     "output_type": "execute_result"
    }
   ],
   "source": [
    "members == '-1'"
   ]
  },
  {
   "cell_type": "code",
   "execution_count": 7,
   "metadata": {},
   "outputs": [
    {
     "data": {
      "text/plain": [
       "array(['-1', '-1', '-1', '-1', '-1'], dtype=object)"
      ]
     },
     "execution_count": 7,
     "metadata": {},
     "output_type": "execute_result"
    }
   ],
   "source": [
    "a = members[members == '-1']\n",
    "a"
   ]
  },
  {
   "cell_type": "markdown",
   "metadata": {},
   "source": [
    "TODO:\n",
    "\n",
    "- Dates to some kind of number\n",
    "- from, to: split using membership\n",
    "- dates: split on number\n",
    "- subject: find subjects that are equal, or lsa matrix\n"
   ]
  },
  {
   "cell_type": "code",
   "execution_count": 8,
   "metadata": {},
   "outputs": [
    {
     "data": {
      "text/plain": [
       "(710, 21)"
      ]
     },
     "execution_count": 8,
     "metadata": {},
     "output_type": "execute_result"
    }
   ],
   "source": [
    "one = df.loc[df['Scenario'] == '401']\n",
    "one_labeled = one.loc[one['Label'] != '-1']\n",
    "one_labeled.shape"
   ]
  },
  {
   "cell_type": "code",
   "execution_count": 9,
   "metadata": {},
   "outputs": [
    {
     "ename": "NameError",
     "evalue": "name 'get_first' is not defined",
     "output_type": "error",
     "traceback": [
      "\u001b[0;31m---------------------------------------------------------------------------\u001b[0m",
      "\u001b[0;31mNameError\u001b[0m                                 Traceback (most recent call last)",
      "\u001b[0;32m<ipython-input-9-ab09306a1504>\u001b[0m in \u001b[0;36m<module>\u001b[0;34m()\u001b[0m\n\u001b[0;32m----> 1\u001b[0;31m \u001b[0mdf\u001b[0m\u001b[0;34m[\u001b[0m\u001b[0;34m'From'\u001b[0m\u001b[0;34m]\u001b[0m\u001b[0;34m.\u001b[0m\u001b[0mapply\u001b[0m\u001b[0;34m(\u001b[0m\u001b[0mget_first\u001b[0m\u001b[0;34m)\u001b[0m\u001b[0;34m.\u001b[0m\u001b[0munique\u001b[0m\u001b[0;34m(\u001b[0m\u001b[0;34m)\u001b[0m\u001b[0;34m\u001b[0m\u001b[0m\n\u001b[0m",
      "\u001b[0;31mNameError\u001b[0m: name 'get_first' is not defined"
     ]
    }
   ],
   "source": [
    "df['From'].apply(get_first).unique()"
   ]
  },
  {
   "cell_type": "code",
   "execution_count": 10,
   "metadata": {
    "collapsed": true
   },
   "outputs": [],
   "source": [
    "#find all unique from addresses\n",
    "def get_first(l):\n",
    "    return l[0]\n",
    "def long_func():\n",
    "    uniques = one['From'].apply(get_first).unique()[:5]\n",
    "    rows = [x for x in range(one.shape[0])]\n",
    "    features = [x for x in range(one.shape[1] - 2)]\n",
    "    depth = 0\n",
    "    max_depth = 4\n",
    "    #for each from address:\n",
    "    best_gini = 2\n",
    "    best_address = ''\n",
    "\n",
    "    count = 0\n",
    "    for address in uniques:\n",
    "        print(address)\n",
    "\n",
    "        #'split' on that address\n",
    "        this_sender_rows = one.loc[one['From'].apply(get_first) == address].index.values\n",
    "        other_sender_rows = one.loc[one['From'].apply(get_first) != address].index.values\n",
    "\n",
    "        #maybe a little sketch to not remove this feature?\n",
    "        from_this_address = Node(one, this_sender_rows, features, depth + 1, max_depth)\n",
    "        from_other_address = Node(one, other_sender_rows, features, depth + 1, max_depth)\n",
    "\n",
    "        #record gini value\n",
    "        curr_gini = Node.aggregate_gini(from_this_address.calc_gini_index(), from_other_address.calc_gini_index(),\n",
    "                                       len(from_this_address.rows), len(from_other_address.rows))\n",
    "\n",
    "        #take the best gini value\n",
    "        if curr_gini < best_gini:\n",
    "            best_gini = curr_gini\n",
    "            best_address = address\n",
    "        count += 1\n",
    "        print(float(count) / len(uniques))"
   ]
  },
  {
   "cell_type": "code",
   "execution_count": 11,
   "metadata": {},
   "outputs": [
    {
     "name": "stdout",
     "output_type": "stream",
     "text": [
      "david.allan@enron.com\n",
      "0.2\n",
      "stacey.wales@enron.com\n",
      "0.4\n",
      "pppcmail@pppc.org\n",
      "0.6\n",
      "pete.davis@enron.com\n",
      "0.8\n",
      "john.brindle@enron.com\n",
      "1.0\n",
      " "
     ]
    }
   ],
   "source": [
    "%prun long_func()"
   ]
  },
  {
   "cell_type": "code",
   "execution_count": null,
   "metadata": {
    "collapsed": true
   },
   "outputs": [],
   "source": [
    "best_address"
   ]
  }
 ],
 "metadata": {
  "kernelspec": {
   "display_name": "Python 3",
   "language": "python",
   "name": "python3"
  },
  "language_info": {
   "codemirror_mode": {
    "name": "ipython",
    "version": 3
   },
   "file_extension": ".py",
   "mimetype": "text/x-python",
   "name": "python",
   "nbconvert_exporter": "python",
   "pygments_lexer": "ipython3",
   "version": "3.6.2"
  }
 },
 "nbformat": 4,
 "nbformat_minor": 2
}
