{
 "cells": [
  {
   "cell_type": "markdown",
   "metadata": {
    "toc": "true"
   },
   "source": [
    " # Table of Contents\n",
    "<div class=\"toc\" style=\"margin-top: 1em;\"><ul class=\"toc-item\" id=\"toc-level0\"></ul></div>"
   ]
  },
  {
   "cell_type": "code",
   "execution_count": 1,
   "metadata": {
    "ExecuteTime": {
     "end_time": "2017-11-10T04:53:20.904372Z",
     "start_time": "2017-11-10T04:53:20.430298Z"
    },
    "collapsed": true
   },
   "outputs": [],
   "source": [
    "import pandas as pd\n",
    "import sys\n",
    "sys.path.append('..')\n",
    "from lib import Node\n",
    "from lib import Tree"
   ]
  },
  {
   "cell_type": "code",
   "execution_count": 2,
   "metadata": {
    "ExecuteTime": {
     "end_time": "2017-11-10T04:53:23.921415Z",
     "start_time": "2017-11-10T04:53:20.907030Z"
    },
    "collapsed": true
   },
   "outputs": [],
   "source": [
    "df = pd.read_pickle('../data/parsed/pickled_data_test.pickle')"
   ]
  },
  {
   "cell_type": "code",
   "execution_count": 12,
   "metadata": {},
   "outputs": [
    {
     "ename": "SyntaxError",
     "evalue": "invalid syntax (<ipython-input-12-451291fbd356>, line 10)",
     "output_type": "error",
     "traceback": [
      "\u001b[0;36m  File \u001b[0;32m\"<ipython-input-12-451291fbd356>\"\u001b[0;36m, line \u001b[0;32m10\u001b[0m\n\u001b[0;31m    print(test.loc[test['From'])\u001b[0m\n\u001b[0m                               ^\u001b[0m\n\u001b[0;31mSyntaxError\u001b[0m\u001b[0;31m:\u001b[0m invalid syntax\n"
     ]
    }
   ],
   "source": [
    "### Ju Yun's test suite 11-11\n",
    "\n",
    "test = df.loc[df['Scenario'] == '401']\n",
    "test_labeled = test.loc[test['Label'] != '-1']\n",
    "test = test_labeled[0:100]\n",
    "test = test.sample(frac=1)\n",
    "test = test.reset_index(drop=True)\n",
    "\n",
    "# print(test.loc[test['From'].apply(lambda x: x[0]) == 'david.forster@enron.com'].index.values)\n",
    "# print(test.loc[test['From'])\n",
    "\n",
    "ls = ['From']\n",
    "#data, depth, benchmark, rows, features, cat_features)\n",
    "tree = Tree(test, 4, None, range(test.shape[0]), ls, ls)\n",
    "tree.fit()\n",
    "print(tree)\n",
    "\n"
   ]
  },
  {
   "cell_type": "code",
   "execution_count": null,
   "metadata": {
    "ExecuteTime": {
     "end_time": "2017-11-10T04:53:23.927177Z",
     "start_time": "2017-11-10T04:53:23.923646Z"
    },
    "collapsed": true
   },
   "outputs": [],
   "source": [
    "rows = [1, 30, 32, 43, 46]"
   ]
  },
  {
   "cell_type": "code",
   "execution_count": null,
   "metadata": {
    "ExecuteTime": {
     "end_time": "2017-11-10T04:53:23.947876Z",
     "start_time": "2017-11-10T04:53:23.929835Z"
    },
    "collapsed": true
   },
   "outputs": [],
   "source": [
    "members = df.loc[rows]['Label'].values"
   ]
  },
  {
   "cell_type": "code",
   "execution_count": null,
   "metadata": {
    "ExecuteTime": {
     "end_time": "2017-11-10T04:53:23.962355Z",
     "start_time": "2017-11-10T04:53:23.949789Z"
    }
   },
   "outputs": [],
   "source": [
    "members"
   ]
  },
  {
   "cell_type": "code",
   "execution_count": null,
   "metadata": {
    "ExecuteTime": {
     "end_time": "2017-11-10T04:53:23.969247Z",
     "start_time": "2017-11-10T04:53:23.964887Z"
    }
   },
   "outputs": [],
   "source": [
    "members == '-1'"
   ]
  },
  {
   "cell_type": "code",
   "execution_count": null,
   "metadata": {
    "ExecuteTime": {
     "end_time": "2017-11-10T04:53:23.978209Z",
     "start_time": "2017-11-10T04:53:23.971848Z"
    }
   },
   "outputs": [],
   "source": [
    "a = members[members == '-1']\n",
    "a"
   ]
  },
  {
   "cell_type": "markdown",
   "metadata": {},
   "source": [
    "TODO:\n",
    "\n",
    "- Dates to some kind of number\n",
    "- from, to: split using membership\n",
    "- dates: split on number\n",
    "- subject: find subjects that are equal, or lsa matrix\n"
   ]
  },
  {
   "cell_type": "code",
   "execution_count": null,
   "metadata": {
    "ExecuteTime": {
     "end_time": "2017-11-10T04:53:24.083203Z",
     "start_time": "2017-11-10T04:53:23.980586Z"
    }
   },
   "outputs": [],
   "source": [
    "one = df.loc[df['Scenario'] == '401']\n",
    "one_labeled = one.loc[one['Label'] != '-1']\n",
    "one_labeled.shape"
   ]
  },
  {
   "cell_type": "code",
   "execution_count": null,
   "metadata": {
    "ExecuteTime": {
     "end_time": "2017-11-10T04:53:24.088608Z",
     "start_time": "2017-11-10T04:53:24.085583Z"
    },
    "collapsed": true
   },
   "outputs": [],
   "source": [
    "def get_first(l):\n",
    "    return l[0]"
   ]
  },
  {
   "cell_type": "code",
   "execution_count": null,
   "metadata": {
    "ExecuteTime": {
     "end_time": "2017-11-10T04:53:24.196827Z",
     "start_time": "2017-11-10T04:53:24.091823Z"
    },
    "scrolled": true
   },
   "outputs": [],
   "source": [
    "df['From'].apply(lambda x: x[0]).unique()[0]"
   ]
  },
  {
   "cell_type": "code",
   "execution_count": null,
   "metadata": {
    "ExecuteTime": {
     "end_time": "2017-11-10T04:53:24.201291Z",
     "start_time": "2017-11-10T04:53:24.198720Z"
    },
    "collapsed": true
   },
   "outputs": [],
   "source": [
    "##test.loc[test['From'].apply(lambda x: x[0]) == 'david.forster@enron.com'].index.valuestest[0:1]"
   ]
  },
  {
   "cell_type": "code",
   "execution_count": null,
   "metadata": {
    "ExecuteTime": {
     "end_time": "2017-11-10T04:53:24.303954Z",
     "start_time": "2017-11-10T04:53:24.203181Z"
    },
    "collapsed": true
   },
   "outputs": [],
   "source": [
    "test = df.loc[df['Scenario'] == '401']\n",
    "test_labeled = test.loc[test['Label'] != '-1']\n",
    "test = test_labeled[0:100]"
   ]
  },
  {
   "cell_type": "code",
   "execution_count": null,
   "metadata": {
    "ExecuteTime": {
     "end_time": "2017-11-10T04:53:24.312357Z",
     "start_time": "2017-11-10T04:53:24.306474Z"
    }
   },
   "outputs": [],
   "source": [
    "test.shape"
   ]
  },
  {
   "cell_type": "code",
   "execution_count": null,
   "metadata": {
    "ExecuteTime": {
     "end_time": "2017-11-10T04:53:24.318079Z",
     "start_time": "2017-11-10T04:53:24.314506Z"
    },
    "collapsed": true
   },
   "outputs": [],
   "source": [
    "test = test.sample(frac=1)\n",
    "test = test.reset_index(drop=True)"
   ]
  },
  {
   "cell_type": "code",
   "execution_count": null,
   "metadata": {
    "ExecuteTime": {
     "end_time": "2017-11-10T04:53:24.322399Z",
     "start_time": "2017-11-10T04:53:24.319734Z"
    },
    "collapsed": true
   },
   "outputs": [],
   "source": [
    "ls = ['From']"
   ]
  },
  {
   "cell_type": "code",
   "execution_count": null,
   "metadata": {
    "ExecuteTime": {
     "end_time": "2017-11-10T04:53:24.327528Z",
     "start_time": "2017-11-10T04:53:24.324334Z"
    },
    "collapsed": true
   },
   "outputs": [],
   "source": [
    "#data, depth, benchmark, rows, features, cat_features)\n",
    "tree = Tree(test, 4, None, range(test.shape[0]), ls, ls)"
   ]
  },
  {
   "cell_type": "code",
   "execution_count": null,
   "metadata": {
    "ExecuteTime": {
     "end_time": "2017-11-10T04:53:25.070481Z",
     "start_time": "2017-11-10T04:53:24.329325Z"
    }
   },
   "outputs": [],
   "source": [
    "tree.fit()\n",
    "print(tree)"
   ]
  },
  {
   "cell_type": "code",
   "execution_count": null,
   "metadata": {
    "ExecuteTime": {
     "end_time": "2017-11-10T04:53:25.181367Z",
     "start_time": "2017-11-10T04:53:25.073011Z"
    },
    "scrolled": true
   },
   "outputs": [],
   "source": [
    "tree.visualize()"
   ]
  },
  {
   "cell_type": "code",
   "execution_count": null,
   "metadata": {
    "ExecuteTime": {
     "end_time": "2017-11-10T04:53:25.182413Z",
     "start_time": "2017-11-10T04:53:20.440Z"
    },
    "collapsed": true
   },
   "outputs": [],
   "source": [
    "%%bash\n",
    "cd vis\n",
    "dot -Tpng tree.dot -o tree.png\n",
    "dot -Tsvg tree.dot -o tree.svg"
   ]
  },
  {
   "cell_type": "code",
   "execution_count": null,
   "metadata": {
    "ExecuteTime": {
     "end_time": "2017-11-10T04:53:25.183304Z",
     "start_time": "2017-11-10T04:53:20.441Z"
    },
    "collapsed": true
   },
   "outputs": [],
   "source": [
    "from IPython.display import Image\n",
    "Image(filename='vis/tree.png')"
   ]
  },
  {
   "cell_type": "code",
   "execution_count": null,
   "metadata": {
    "ExecuteTime": {
     "end_time": "2017-11-10T04:53:25.184160Z",
     "start_time": "2017-11-10T04:53:20.442Z"
    },
    "collapsed": true
   },
   "outputs": [],
   "source": [
    "test.loc[test['From'].apply(lambda x: x[0]) == 'david.forster@enron.com'].index.values"
   ]
  },
  {
   "cell_type": "code",
   "execution_count": null,
   "metadata": {
    "ExecuteTime": {
     "end_time": "2017-11-10T04:53:25.185399Z",
     "start_time": "2017-11-10T04:53:20.443Z"
    },
    "collapsed": true
   },
   "outputs": [],
   "source": [
    "members = test.loc[range(0,100)]\n",
    "left_members = members.loc[members['From'] == 'david.forster@enron.com'].index.values\n",
    "members.loc[members['From'].apply(lambda x: x [0] == 'david.forster@enron.com')]"
   ]
  },
  {
   "cell_type": "code",
   "execution_count": null,
   "metadata": {
    "collapsed": true
   },
   "outputs": [],
   "source": []
  }
 ],
 "metadata": {
  "kernelspec": {
   "display_name": "Python 3",
   "language": "python",
   "name": "python3"
  },
  "language_info": {
   "codemirror_mode": {
    "name": "ipython",
    "version": 3
   },
   "file_extension": ".py",
   "mimetype": "text/x-python",
   "name": "python",
   "nbconvert_exporter": "python",
   "pygments_lexer": "ipython3",
   "version": "3.6.2"
  },
  "toc": {
   "nav_menu": {},
   "number_sections": true,
   "sideBar": true,
   "skip_h1_title": true,
   "toc_cell": true,
   "toc_position": {
    "height": "944px",
    "left": "0px",
    "right": "934px",
    "top": "92px",
    "width": "26px"
   },
   "toc_section_display": "block",
   "toc_window_display": true
  }
 },
 "nbformat": 4,
 "nbformat_minor": 2
}
