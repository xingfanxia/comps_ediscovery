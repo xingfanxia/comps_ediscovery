{
 "cells": [
  {
   "cell_type": "code",
   "execution_count": 1,
   "metadata": {
    "collapsed": true
   },
   "outputs": [],
   "source": [
    "from lib import dblib\n",
    "import pandas as pd\n",
    "import CompsTFIDF\n",
    "import email_filter"
   ]
  },
  {
   "cell_type": "code",
   "execution_count": 2,
   "metadata": {
    "collapsed": true
   },
   "outputs": [],
   "source": [
    "def tfidf_to_df(tf_matrix, tf_vectorizer, email_id):\n",
    "    newDF = pd.DataFrame(data = tf_matrix, columns = tf_vectorizer.get_feature_names())\n",
    "    sortDF = newDF.apply(lambda x: x.sort_values(ascending = False).values)\n",
    "    sortDF[\"ID\"] = pd.Series(email_id[\"ID\"])\n",
    "#     db =  dblib.Database()\n",
    "#     db.df_to_table(newDF, \"TFIDF_Matrix\")\n",
    "    return sortDF"
   ]
  },
  {
   "cell_type": "code",
   "execution_count": 3,
   "metadata": {
    "collapsed": true
   },
   "outputs": [],
   "source": [
    "df = pd.read_csv(\"./data/parsed/full_dataset.csv\", dtype=str)\n",
    "email_filtered = pd.DataFrame()\n",
    "email_filtered = email_filter.full_filter_email(df)"
   ]
  },
  {
   "cell_type": "code",
   "execution_count": 4,
   "metadata": {},
   "outputs": [
    {
     "data": {
      "text/plain": [
       "(498846, 20)"
      ]
     },
     "execution_count": 4,
     "metadata": {},
     "output_type": "execute_result"
    }
   ],
   "source": [
    "email_filtered.shape"
   ]
  },
  {
   "cell_type": "code",
   "execution_count": 5,
   "metadata": {
    "collapsed": true
   },
   "outputs": [],
   "source": [
    "scenario = pd.DataFrame(email_filtered[0::3])\n",
    "scenario = scenario.reset_index(drop=True)"
   ]
  },
  {
   "cell_type": "code",
   "execution_count": 6,
   "metadata": {},
   "outputs": [
    {
     "data": {
      "text/plain": [
       "(166282, 20)"
      ]
     },
     "execution_count": 6,
     "metadata": {},
     "output_type": "execute_result"
    }
   ],
   "source": [
    "scenario.shape"
   ]
  },
  {
   "cell_type": "code",
   "execution_count": 7,
   "metadata": {
    "collapsed": true
   },
   "outputs": [],
   "source": [
    "vectorizer, matrix = CompsTFIDF.build_TFIDF_Matrix(scenario)\n",
    "matrix = matrix.toarray()"
   ]
  },
  {
   "cell_type": "code",
   "execution_count": 8,
   "metadata": {
    "collapsed": true
   },
   "outputs": [],
   "source": [
    "sorted = tfidf_to_df(matrix, vectorizer, scenario)"
   ]
  },
  {
   "cell_type": "code",
   "execution_count": 9,
   "metadata": {},
   "outputs": [
    {
     "data": {
      "text/html": [
       "<div>\n",
       "<style>\n",
       "    .dataframe thead tr:only-child th {\n",
       "        text-align: right;\n",
       "    }\n",
       "\n",
       "    .dataframe thead th {\n",
       "        text-align: left;\n",
       "    }\n",
       "\n",
       "    .dataframe tbody tr th {\n",
       "        vertical-align: top;\n",
       "    }\n",
       "</style>\n",
       "<table border=\"1\" class=\"dataframe\">\n",
       "  <thead>\n",
       "    <tr style=\"text-align: right;\">\n",
       "      <th></th>\n",
       "      <th>aa</th>\n",
       "      <th>aaa</th>\n",
       "      <th>aaron</th>\n",
       "      <th>ab</th>\n",
       "      <th>abag</th>\n",
       "      <th>abandon</th>\n",
       "      <th>abandoned</th>\n",
       "      <th>abandonment</th>\n",
       "      <th>abb</th>\n",
       "      <th>abbreviation</th>\n",
       "      <th>...</th>\n",
       "      <th>zhiyong</th>\n",
       "      <th>zip</th>\n",
       "      <th>zipper</th>\n",
       "      <th>zisman</th>\n",
       "      <th>zivley</th>\n",
       "      <th>zonal</th>\n",
       "      <th>zone</th>\n",
       "      <th>zones</th>\n",
       "      <th>zufferli</th>\n",
       "      <th>ID</th>\n",
       "    </tr>\n",
       "  </thead>\n",
       "  <tbody>\n",
       "    <tr>\n",
       "      <th>0</th>\n",
       "      <td>0.730498</td>\n",
       "      <td>0.606327</td>\n",
       "      <td>0.617941</td>\n",
       "      <td>0.691769</td>\n",
       "      <td>0.402792</td>\n",
       "      <td>0.288748</td>\n",
       "      <td>0.374989</td>\n",
       "      <td>0.346210</td>\n",
       "      <td>0.722616</td>\n",
       "      <td>0.247170</td>\n",
       "      <td>...</td>\n",
       "      <td>0.642761</td>\n",
       "      <td>1.0</td>\n",
       "      <td>0.772555</td>\n",
       "      <td>0.693653</td>\n",
       "      <td>0.378665</td>\n",
       "      <td>0.476850</td>\n",
       "      <td>0.929009</td>\n",
       "      <td>0.707363</td>\n",
       "      <td>0.662605</td>\n",
       "      <td>3.438093.NRVQMDFEDQVCPPCQH1LAKFSPGODI4KJHA</td>\n",
       "    </tr>\n",
       "    <tr>\n",
       "      <th>1</th>\n",
       "      <td>0.607402</td>\n",
       "      <td>0.604299</td>\n",
       "      <td>0.617941</td>\n",
       "      <td>0.630031</td>\n",
       "      <td>0.402792</td>\n",
       "      <td>0.266218</td>\n",
       "      <td>0.358557</td>\n",
       "      <td>0.319892</td>\n",
       "      <td>0.642221</td>\n",
       "      <td>0.220143</td>\n",
       "      <td>...</td>\n",
       "      <td>0.563810</td>\n",
       "      <td>1.0</td>\n",
       "      <td>0.772271</td>\n",
       "      <td>0.596491</td>\n",
       "      <td>0.368256</td>\n",
       "      <td>0.475136</td>\n",
       "      <td>0.928383</td>\n",
       "      <td>0.600848</td>\n",
       "      <td>0.576540</td>\n",
       "      <td>3.438120.GTSTTLNTZ2LVIWQFALPJFBLRPP2UC0G4A</td>\n",
       "    </tr>\n",
       "    <tr>\n",
       "      <th>2</th>\n",
       "      <td>0.591437</td>\n",
       "      <td>0.488598</td>\n",
       "      <td>0.617941</td>\n",
       "      <td>0.542660</td>\n",
       "      <td>0.395779</td>\n",
       "      <td>0.231448</td>\n",
       "      <td>0.216567</td>\n",
       "      <td>0.309837</td>\n",
       "      <td>0.636322</td>\n",
       "      <td>0.199000</td>\n",
       "      <td>...</td>\n",
       "      <td>0.563810</td>\n",
       "      <td>1.0</td>\n",
       "      <td>0.611167</td>\n",
       "      <td>0.568642</td>\n",
       "      <td>0.368256</td>\n",
       "      <td>0.390183</td>\n",
       "      <td>0.926118</td>\n",
       "      <td>0.519615</td>\n",
       "      <td>0.566607</td>\n",
       "      <td>3.438110.BEGCML4QF0HPGJDULXSULVJBNHGKILNSB</td>\n",
       "    </tr>\n",
       "    <tr>\n",
       "      <th>3</th>\n",
       "      <td>0.591437</td>\n",
       "      <td>0.473845</td>\n",
       "      <td>0.582148</td>\n",
       "      <td>0.496141</td>\n",
       "      <td>0.350052</td>\n",
       "      <td>0.226315</td>\n",
       "      <td>0.212502</td>\n",
       "      <td>0.296480</td>\n",
       "      <td>0.630942</td>\n",
       "      <td>0.163049</td>\n",
       "      <td>...</td>\n",
       "      <td>0.459477</td>\n",
       "      <td>1.0</td>\n",
       "      <td>0.590941</td>\n",
       "      <td>0.532619</td>\n",
       "      <td>0.308525</td>\n",
       "      <td>0.330752</td>\n",
       "      <td>0.917281</td>\n",
       "      <td>0.507347</td>\n",
       "      <td>0.507886</td>\n",
       "      <td>3.437955.IMP2E0OQ0KNINW0SFQEGYFUCF4SF1E5XA</td>\n",
       "    </tr>\n",
       "    <tr>\n",
       "      <th>4</th>\n",
       "      <td>0.570223</td>\n",
       "      <td>0.437498</td>\n",
       "      <td>0.576617</td>\n",
       "      <td>0.476145</td>\n",
       "      <td>0.222856</td>\n",
       "      <td>0.224769</td>\n",
       "      <td>0.169786</td>\n",
       "      <td>0.261469</td>\n",
       "      <td>0.630942</td>\n",
       "      <td>0.153919</td>\n",
       "      <td>...</td>\n",
       "      <td>0.429317</td>\n",
       "      <td>1.0</td>\n",
       "      <td>0.581919</td>\n",
       "      <td>0.520247</td>\n",
       "      <td>0.308525</td>\n",
       "      <td>0.330752</td>\n",
       "      <td>0.914824</td>\n",
       "      <td>0.435260</td>\n",
       "      <td>0.481873</td>\n",
       "      <td>3.437707.B0WRYPW1LIS4MPEVQQTXVYFYKCCOV4TOB</td>\n",
       "    </tr>\n",
       "  </tbody>\n",
       "</table>\n",
       "<p>5 rows × 11414 columns</p>\n",
       "</div>"
      ],
      "text/plain": [
       "         aa       aaa     aaron        ab      abag   abandon  abandoned  \\\n",
       "0  0.730498  0.606327  0.617941  0.691769  0.402792  0.288748   0.374989   \n",
       "1  0.607402  0.604299  0.617941  0.630031  0.402792  0.266218   0.358557   \n",
       "2  0.591437  0.488598  0.617941  0.542660  0.395779  0.231448   0.216567   \n",
       "3  0.591437  0.473845  0.582148  0.496141  0.350052  0.226315   0.212502   \n",
       "4  0.570223  0.437498  0.576617  0.476145  0.222856  0.224769   0.169786   \n",
       "\n",
       "   abandonment       abb  abbreviation  \\\n",
       "0     0.346210  0.722616      0.247170   \n",
       "1     0.319892  0.642221      0.220143   \n",
       "2     0.309837  0.636322      0.199000   \n",
       "3     0.296480  0.630942      0.163049   \n",
       "4     0.261469  0.630942      0.153919   \n",
       "\n",
       "                      ...                       zhiyong  zip    zipper  \\\n",
       "0                     ...                      0.642761  1.0  0.772555   \n",
       "1                     ...                      0.563810  1.0  0.772271   \n",
       "2                     ...                      0.563810  1.0  0.611167   \n",
       "3                     ...                      0.459477  1.0  0.590941   \n",
       "4                     ...                      0.429317  1.0  0.581919   \n",
       "\n",
       "     zisman    zivley     zonal      zone     zones  zufferli  \\\n",
       "0  0.693653  0.378665  0.476850  0.929009  0.707363  0.662605   \n",
       "1  0.596491  0.368256  0.475136  0.928383  0.600848  0.576540   \n",
       "2  0.568642  0.368256  0.390183  0.926118  0.519615  0.566607   \n",
       "3  0.532619  0.308525  0.330752  0.917281  0.507347  0.507886   \n",
       "4  0.520247  0.308525  0.330752  0.914824  0.435260  0.481873   \n",
       "\n",
       "                                           ID  \n",
       "0  3.438093.NRVQMDFEDQVCPPCQH1LAKFSPGODI4KJHA  \n",
       "1  3.438120.GTSTTLNTZ2LVIWQFALPJFBLRPP2UC0G4A  \n",
       "2  3.438110.BEGCML4QF0HPGJDULXSULVJBNHGKILNSB  \n",
       "3  3.437955.IMP2E0OQ0KNINW0SFQEGYFUCF4SF1E5XA  \n",
       "4  3.437707.B0WRYPW1LIS4MPEVQQTXVYFYKCCOV4TOB  \n",
       "\n",
       "[5 rows x 11414 columns]"
      ]
     },
     "execution_count": 9,
     "metadata": {},
     "output_type": "execute_result"
    }
   ],
   "source": [
    "sorted.head()"
   ]
  }
 ],
 "metadata": {
  "kernelspec": {
   "display_name": "Python 3",
   "language": "python",
   "name": "python3"
  },
  "language_info": {
   "codemirror_mode": {
    "name": "ipython",
    "version": 3
   },
   "file_extension": ".py",
   "mimetype": "text/x-python",
   "name": "python",
   "nbconvert_exporter": "python",
   "pygments_lexer": "ipython3",
   "version": "3.6.2"
  }
 },
 "nbformat": 4,
 "nbformat_minor": 2
}
