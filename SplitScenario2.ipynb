{
 "cells": [
  {
   "cell_type": "code",
   "execution_count": 1,
   "metadata": {
    "collapsed": true
   },
   "outputs": [],
   "source": [
    "import pandas as pd"
   ]
  },
  {
   "cell_type": "code",
   "execution_count": 9,
   "metadata": {},
   "outputs": [],
   "source": [
    "full_data = pd.read_csv('./data/parsed/full_dataset.csv',dtype=str)"
   ]
  },
  {
   "cell_type": "code",
   "execution_count": 34,
   "metadata": {},
   "outputs": [
    {
     "data": {
      "text/plain": [
       "(498846, 20)"
      ]
     },
     "execution_count": 34,
     "metadata": {},
     "output_type": "execute_result"
    }
   ],
   "source": [
    "full_data.shape"
   ]
  },
  {
   "cell_type": "code",
   "execution_count": 39,
   "metadata": {},
   "outputs": [
    {
     "data": {
      "text/plain": [
       "(166282, 20)"
      ]
     },
     "execution_count": 39,
     "metadata": {},
     "output_type": "execute_result"
    }
   ],
   "source": [
    "full_data_scenario_2 = pd.DataFrame(full_data.loc[full_data['Scenario']=='402']).reset_index(drop=True)\n",
    "full_data_scenario_2.shape"
   ]
  },
  {
   "cell_type": "code",
   "execution_count": 54,
   "metadata": {},
   "outputs": [
    {
     "data": {
      "text/plain": [
       "(1244, 20)"
      ]
     },
     "execution_count": 54,
     "metadata": {},
     "output_type": "execute_result"
    }
   ],
   "source": [
    "scenario_2_labeled = pd.DataFrame(full_data_scenario_2.loc[full_data_scenario_2['Label'] !='-1']).reset_index(drop=True)\n",
    "scenario_2_labeled_seventy = scenario_2_labeled[:871]\n",
    "scenario_2_labeled_thirty = scenario_2_labeled[871:]"
   ]
  },
  {
   "cell_type": "code",
   "execution_count": 55,
   "metadata": {},
   "outputs": [
    {
     "data": {
      "text/plain": [
       "(115527, 20)"
      ]
     },
     "execution_count": 55,
     "metadata": {},
     "output_type": "execute_result"
    }
   ],
   "source": [
    "scenario_2_unlabeled = pd.DataFrame(full_data_scenario_2[full_data_scenario_2['Label'] =='-1']).reset_index(drop=True)\n",
    "scenario_2_unlabeled.shape[0]*.7\n",
    "scenario_2_unlabeled_seventy = scenario_2_unlabeled[:115527]\n",
    "scenario_2_unlabeled_thirty = scenario_2_unlabeled[115527:]\n",
    "scenario_2_unlabeled_seventy.shape"
   ]
  },
  {
   "cell_type": "code",
   "execution_count": 72,
   "metadata": {},
   "outputs": [
    {
     "data": {
      "text/plain": [
       "(116398, 20)"
      ]
     },
     "execution_count": 72,
     "metadata": {},
     "output_type": "execute_result"
    }
   ],
   "source": [
    "frames_train = [scenario_2_labeled_seventy,scenario_2_unlabeled_seventy]\n",
    "scenario_2_train = pd.concat(frames_train)\n",
    "scenario_2_train = scenario_2_train.reset_index(drop=True)\n",
    "scenario_2_train.shape"
   ]
  },
  {
   "cell_type": "code",
   "execution_count": 73,
   "metadata": {},
   "outputs": [
    {
     "data": {
      "text/plain": [
       "(49884, 20)"
      ]
     },
     "execution_count": 73,
     "metadata": {},
     "output_type": "execute_result"
    }
   ],
   "source": [
    "frames_test = [scenario_2_labeled_thirty,scenario_2_unlabeled_thirty]\n",
    "scenario_2_test = pd.concat(frames_test)\n",
    "scenario_2_test = scenario_2_test.reset_index(drop=True)\n",
    "scenario_2_test.shape"
   ]
  },
  {
   "cell_type": "code",
   "execution_count": 74,
   "metadata": {
    "collapsed": true
   },
   "outputs": [],
   "source": [
    "scenario_2_train.to_csv('./data/parsed/training_scenario_2.csv')\n",
    "scenario_2_test.to_csv('./data/parsed/test_scenario_2.csv')"
   ]
  }
 ],
 "metadata": {
  "kernelspec": {
   "display_name": "Python 3",
   "language": "python",
   "name": "python3"
  },
  "language_info": {
   "codemirror_mode": {
    "name": "ipython",
    "version": 3
   },
   "file_extension": ".py",
   "mimetype": "text/x-python",
   "name": "python",
   "nbconvert_exporter": "python",
   "pygments_lexer": "ipython3",
   "version": "3.6.2"
  }
 },
 "nbformat": 4,
 "nbformat_minor": 2
}
