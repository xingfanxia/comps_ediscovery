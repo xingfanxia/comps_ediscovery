{
 "cells": [
  {
   "cell_type": "markdown",
   "metadata": {
    "toc": "true"
   },
   "source": [
    " # Table of Contents\n",
    "<div class=\"toc\" style=\"margin-top: 1em;\"><ul class=\"toc-item\" id=\"toc-level0\"></ul></div>"
   ]
  },
  {
   "cell_type": "code",
   "execution_count": 2,
   "metadata": {
    "ExecuteTime": {
     "end_time": "2018-01-19T20:43:33.306527Z",
     "start_time": "2018-01-19T20:43:32.766398Z"
    },
    "collapsed": true
   },
   "outputs": [],
   "source": [
    "import pandas as pd"
   ]
  },
  {
   "cell_type": "code",
   "execution_count": 3,
   "metadata": {
    "ExecuteTime": {
     "end_time": "2018-01-19T20:43:36.437066Z",
     "start_time": "2018-01-19T20:43:33.308959Z"
    },
    "collapsed": true
   },
   "outputs": [],
   "source": [
    "data = pd.read_pickle('../data/parsed/pickles/pickled_data_test.pickle')\n",
    "email_key = data[['ID','Date', 'From', 'To', 'Subject']][:5000].copy()"
   ]
  },
  {
   "cell_type": "code",
   "execution_count": 4,
   "metadata": {
    "ExecuteTime": {
     "end_time": "2018-01-19T20:43:36.446049Z",
     "start_time": "2018-01-19T20:43:36.439899Z"
    },
    "collapsed": true
   },
   "outputs": [],
   "source": [
    "IDs = email_key['ID'].tolist()\n",
    "Dates = email_key['Date'].tolist()\n",
    "Froms = email_key['From'].tolist()\n",
    "Tos = email_key['To'].tolist()\n",
    "Subjects = email_key['Subject'].tolist()"
   ]
  },
  {
   "cell_type": "code",
   "execution_count": 7,
   "metadata": {
    "ExecuteTime": {
     "end_time": "2018-01-19T20:44:01.325363Z",
     "start_time": "2018-01-19T20:44:01.257021Z"
    }
   },
   "outputs": [],
   "source": [
    "dump = email_key.to_dict(orient='records')"
   ]
  },
  {
   "cell_type": "code",
   "execution_count": 8,
   "metadata": {
    "ExecuteTime": {
     "end_time": "2018-01-19T20:44:05.814510Z",
     "start_time": "2018-01-19T20:44:05.810070Z"
    }
   },
   "outputs": [
    {
     "data": {
      "text/plain": [
       "list"
      ]
     },
     "execution_count": 8,
     "metadata": {},
     "output_type": "execute_result"
    }
   ],
   "source": [
    "newd = dict()\n",
    "newd['data'] = dump"
   ]
  },
  {
   "cell_type": "code",
   "execution_count": null,
   "metadata": {
    "collapsed": true
   },
   "outputs": [],
   "source": []
  }
 ],
 "metadata": {
  "kernelspec": {
   "display_name": "Python 3",
   "language": "python",
   "name": "python3"
  },
  "language_info": {
   "codemirror_mode": {
    "name": "ipython",
    "version": 3
   },
   "file_extension": ".py",
   "mimetype": "text/x-python",
   "name": "python",
   "nbconvert_exporter": "python",
   "pygments_lexer": "ipython3",
   "version": "3.6.4"
  },
  "toc": {
   "nav_menu": {},
   "number_sections": true,
   "sideBar": true,
   "skip_h1_title": true,
   "toc_cell": true,
   "toc_position": {},
   "toc_section_display": "block",
   "toc_window_display": true
  }
 },
 "nbformat": 4,
 "nbformat_minor": 2
}
