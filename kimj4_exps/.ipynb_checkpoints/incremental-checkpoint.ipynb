{
 "cells": [
  {
   "cell_type": "code",
   "execution_count": 1,
   "metadata": {
    "collapsed": true
   },
   "outputs": [],
   "source": [
    "import sys\n",
    "sys.path.append(\"..\")\n",
    "from lib import *\n",
    "from sklearn.utils import shuffle"
   ]
  },
  {
   "cell_type": "code",
   "execution_count": 2,
   "metadata": {
    "collapsed": true
   },
   "outputs": [],
   "source": [
    "%mkdir -p data/research"
   ]
  },
  {
   "cell_type": "code",
   "execution_count": 5,
   "metadata": {},
   "outputs": [
    {
     "data": {
      "text/plain": [
       "('data/research/sonar.all-data.csv',\n",
       " <http.client.HTTPMessage at 0x7f592d8ef080>)"
      ]
     },
     "execution_count": 5,
     "metadata": {},
     "output_type": "execute_result"
    }
   ],
   "source": [
    "import urllib.request as request\n",
    "file_path = 'data/research/sonar.all-data.csv'\n",
    "d_url = 'https://archive.ics.uci.edu/ml/machine-learning-databases/undocumented/connectionist-bench/sonar/sonar.all-data'\n",
    "request.urlretrieve(d_url, file_path)"
   ]
  },
  {
   "cell_type": "code",
   "execution_count": 6,
   "metadata": {},
   "outputs": [],
   "source": [
    "df = pd.read_csv(file_path, header=None)\n",
    "df = shuffle(df)\n",
    "df = df.reset_index()\n",
    "depth = 3\n",
    "benchmark = None\n",
    "rows = list(range(1, 170))\n",
    "features = list(range(3, 10))"
   ]
  },
  {
   "cell_type": "code",
   "execution_count": 7,
   "metadata": {
    "collapsed": true
   },
   "outputs": [],
   "source": [
    "# f1 = RNF(df.loc[:110], 3, 3, 1, 40, 20)\n",
    "# f1.fit()"
   ]
  },
  {
   "cell_type": "code",
   "execution_count": 8,
   "metadata": {
    "collapsed": true
   },
   "outputs": [],
   "source": [
    "# f1.update(df[:120])\n",
    "# f1.predict(df[150:160])"
   ]
  },
  {
   "cell_type": "code",
   "execution_count": null,
   "metadata": {},
   "outputs": [
    {
     "name": "stdout",
     "output_type": "stream",
     "text": [
      "too many increments specified, running with the max possible...\n",
      "Head is a pure node.\n",
      "Head is a pure node.\n",
      "Head is a pure node.\n",
      "Head is a pure node.\n",
      "Head is a pure node.\n",
      "Head is a pure node.\n",
      "score before incremental training: 1.0\n",
      "120\n",
      "Head is a pure node.\n",
      "Head is a pure node.\n",
      "Head is a pure node.\n",
      "Head is a pure node.\n",
      "Head is a pure node.\n",
      "Head is a pure node.\n",
      "Head is a pure node.\n",
      "Head is a pure node.\n",
      "score at increment 1: 0.8333333333333334\n",
      "140\n",
      "Head is a pure node.\n",
      "Head is a pure node.\n",
      "Head is a pure node.\n",
      "Head is a pure node.\n",
      "Head is a pure node.\n",
      "Head is a pure node.\n",
      "Head is a pure node.\n",
      "Head is a pure node.\n",
      "score at increment 2: 0.8888888888888888\n",
      "160\n"
     ]
    }
   ],
   "source": [
    "cross_val_rnf_incremental(df, 5, 999)"
   ]
  },
  {
   "cell_type": "code",
   "execution_count": null,
   "metadata": {
    "collapsed": true
   },
   "outputs": [],
   "source": [
    "# Issue: predictions are sometimes made on a node that corresponds to no rows.\n",
    "# Assuming that it's an edge-case logic error when updating leaf nodes."
   ]
  }
 ],
 "metadata": {
  "kernelspec": {
   "display_name": "Python 3",
   "language": "python",
   "name": "python3"
  },
  "language_info": {
   "codemirror_mode": {
    "name": "ipython",
    "version": 3
   },
   "file_extension": ".py",
   "mimetype": "text/x-python",
   "name": "python",
   "nbconvert_exporter": "python",
   "pygments_lexer": "ipython3",
   "version": "3.6.2"
  }
 },
 "nbformat": 4,
 "nbformat_minor": 2
}
