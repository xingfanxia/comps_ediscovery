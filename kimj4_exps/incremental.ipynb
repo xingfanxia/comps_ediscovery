{
 "cells": [
  {
   "cell_type": "code",
   "execution_count": 2,
   "metadata": {},
   "outputs": [],
   "source": [
    "# The following is from \"big run\"\n",
    "import sys\n",
    "sys.path.append('..')\n",
    "from lib import *\n",
    "import pandas as pd\n",
    "import numpy as np\n",
    "\n",
    "# Setup\n",
    "lsa_np = np.load('../data/parsed/lsa_output.npy')\n",
    "metadata = pd.read_pickle('../data/parsed/pickles/pickled_data_test.pickle')\n",
    "metadata = metadata.loc[metadata['Scenario'] == '401']\n",
    "metadata = metadata.reset_index(drop=True)\n",
    "lsa_df = pd.DataFrame(lsa_np)\n",
    "df = pd.concat([metadata, lsa_df], axis=1, join_axes=[metadata.index])\n",
    "df = df.loc[df['Label'] != '-1']\n",
    "df = df.reset_index(drop=True)\n",
    "cat_features = ['To','From']\n",
    "features = list(range(100))\n",
    "features.extend(cat_features + ['Date'])\n",
    "# features.extend(cat_features + ['ID'])\n",
    "\n",
    "df = df[features + ['Label'] + ['ID']]\n",
    "# df = df[features + ['ID']]"
   ]
  },
  {
   "cell_type": "markdown",
   "metadata": {},
   "source": [
    "# Built-in incremental learning vs trees training on larger initial sizes"
   ]
  },
  {
   "cell_type": "markdown",
   "metadata": {},
   "source": [
    "## Initializing control variables"
   ]
  },
  {
   "cell_type": "code",
   "execution_count": 3,
   "metadata": {},
   "outputs": [],
   "source": [
    "n_trees = 64\n",
    "tree_depth = 10\n",
    "random_seed = 42\n",
    "n_max_features = 11\n",
    "cat_features = ['To', 'From']"
   ]
  },
  {
   "cell_type": "markdown",
   "metadata": {},
   "source": [
    "## Forests Trained on increasing datasets"
   ]
  },
  {
   "cell_type": "code",
   "execution_count": null,
   "metadata": {},
   "outputs": [],
   "source": [
    "forest_100 = RNF(df[:-100], n_trees, tree_depth, random_seed, n_max_features, 100, cat_features)\n",
    "forest_200 = RNF(df[:-100], n_trees, tree_depth, random_seed, n_max_features, 200, cat_features)\n",
    "forest_300 = RNF(df[:-100], n_trees, tree_depth, random_seed, n_max_features, 300, cat_features)\n",
    "forest_400 = RNF(df[:-100], n_trees, tree_depth, random_seed, n_max_features, 400, cat_features)\n",
    "forest_500 = RNF(df[:-100], n_trees, tree_depth, random_seed, n_max_features, 500, cat_features)\n",
    "incremental_forests = [forest_100, forest_200, forest_300, forest_400, forest_500]"
   ]
  },
  {
   "cell_type": "code",
   "execution_count": null,
   "metadata": {},
   "outputs": [],
   "source": [
    "for forest in incremental_forests:\n",
    "    forest.fit_parallel()"
   ]
  },
  {
   "cell_type": "code",
   "execution_count": null,
   "metadata": {},
   "outputs": [],
   "source": [
    "# evaluation\n",
    "for forest in incremental_forests:\n",
    "    print(evalStats(forest.predict_parallel(df[-100:])[1], df[-100:]), end='\\n\\n')"
   ]
  },
  {
   "cell_type": "markdown",
   "metadata": {},
   "source": [
    "Test with 64, 100, 42, 11:  \n",
    "(0.8285714285714286, 0.8055555555555556, 0.87, 0.8169014084507044)  \n",
    "(0.6285714285714286, 0.9565217391304348, 0.86, 0.7586206896551724)  \n",
    "(0.2571428571428571, 0.75, 0.71, 0.3829787234042553)  \n",
    "(0.2, 0.7777777777777778, 0.7, 0.3181818181818182)  \n",
    "(0.02857142857142857, 0.3333333333333333, 0.64, 0.05263157894736842)  "
   ]
  },
  {
   "cell_type": "markdown",
   "metadata": {},
   "source": [
    "Test with 64, 10, 42, 11:  \n",
    "(0.7428571428571429, 0.7878787878787878, 0.84, 0.7647058823529412)  \n",
    "(0.8, 0.7368421052631579, 0.83, 0.7671232876712328)  \n",
    "(0.9142857142857143, 0.5333333333333333, 0.69, 0.6736842105263158)  \n",
    "(0.9714285714285714, 0.4788732394366197, 0.62, 0.6415094339622641)  \n",
    "(0.9714285714285714, 0.4857142857142857, 0.63, 0.6476190476190476)  "
   ]
  },
  {
   "cell_type": "markdown",
   "metadata": {},
   "source": [
    "##  Incremental Forests"
   ]
  },
  {
   "cell_type": "code",
   "execution_count": 3,
   "metadata": {},
   "outputs": [],
   "source": [
    "incremental_forest = RNF(df[0:100], n_trees, tree_depth, random_seed, n_max_features, 100, cat_features)"
   ]
  },
  {
   "cell_type": "code",
   "execution_count": 4,
   "metadata": {},
   "outputs": [
    {
     "name": "stdout",
     "output_type": "stream",
     "text": [
      "(0.2, 1.0, 0.72, 0.33333333333333337)\n"
     ]
    }
   ],
   "source": [
    "incremental_forest.fit_parallel()\n",
    "print(evalStats(incremental_forest.predict_parallel(df[-100:])[1], df[-100:]))"
   ]
  },
  {
   "cell_type": "code",
   "execution_count": 5,
   "metadata": {},
   "outputs": [
    {
     "name": "stdout",
     "output_type": "stream",
     "text": [
      "[<lib.node.Node object at 0x7fb88d3767b8>, <lib.node.Node object at 0x7fb88d272470>, <lib.node.Node object at 0x7fb88d272240>, <lib.node.Node object at 0x7fb88d2724e0>, <lib.node.Node object at 0x7fb88d2724a8>, <lib.node.Node object at 0x7fb88d272550>, <lib.node.Node object at 0x7fb88d272518>, <lib.node.Node object at 0x7fb88d2725c0>, <lib.node.Node object at 0x7fb88d272588>, <lib.node.Node object at 0x7fb88d2726a0>, <lib.node.Node object at 0x7fb88d2725f8>, <lib.node.Node object at 0x7fb88d272710>, <lib.node.Node object at 0x7fb88d2726d8>, <lib.node.Node object at 0x7fb88d272668>, <lib.node.Node object at 0x7fb88d272630>, <lib.node.Node object at 0x7fb88d2727f0>, <lib.node.Node object at 0x7fb88d272748>, <lib.node.Node object at 0x7fb88d2727b8>, <lib.node.Node object at 0x7fb88d272780>]\n"
     ]
    }
   ],
   "source": [
    "incremental_forest.update(df[100:200])\n",
    "print(incremental_forest.trees[0].traverse())"
   ]
  },
  {
   "cell_type": "code",
   "execution_count": 6,
   "metadata": {},
   "outputs": [
    {
     "name": "stdout",
     "output_type": "stream",
     "text": [
      "37\n"
     ]
    }
   ],
   "source": [
    "for i in range(len(incremental_forest.trees)):\n",
    "    a = [len(n.rows) for n in incremental_forest.trees[i].traverse()]\n",
    "    if 0 in a:\n",
    "        print(i)"
   ]
  },
  {
   "cell_type": "code",
   "execution_count": 7,
   "metadata": {
    "scrolled": true
   },
   "outputs": [
    {
     "ename": "ZeroDivisionError",
     "evalue": "division by zero",
     "output_type": "error",
     "traceback": [
      "\u001b[0;31m---------------------------------------------------------------------------\u001b[0m",
      "\u001b[0;31mKeyError\u001b[0m                                  Traceback (most recent call last)",
      "\u001b[0;32m~/comps_ediscovery/lib/node.py\u001b[0m in \u001b[0;36mget_proportions\u001b[0;34m(self, target_label)\u001b[0m\n\u001b[1;32m    387\u001b[0m         \u001b[0;32mtry\u001b[0m\u001b[0;34m:\u001b[0m\u001b[0;34m\u001b[0m\u001b[0m\n\u001b[0;32m--> 388\u001b[0;31m             \u001b[0;32mreturn\u001b[0m \u001b[0mself\u001b[0m\u001b[0;34m.\u001b[0m\u001b[0mproportions\u001b[0m\u001b[0;34m[\u001b[0m\u001b[0mtarget_label\u001b[0m\u001b[0;34m]\u001b[0m\u001b[0;34m\u001b[0m\u001b[0m\n\u001b[0m\u001b[1;32m    389\u001b[0m         \u001b[0;32mexcept\u001b[0m \u001b[0mKeyError\u001b[0m\u001b[0;34m:\u001b[0m\u001b[0;34m\u001b[0m\u001b[0m\n",
      "\u001b[0;31mKeyError\u001b[0m: '1'",
      "\nDuring handling of the above exception, another exception occurred:\n",
      "\u001b[0;31mZeroDivisionError\u001b[0m                         Traceback (most recent call last)",
      "\u001b[0;32m<ipython-input-7-34eff6beadcf>\u001b[0m in \u001b[0;36m<module>\u001b[0;34m()\u001b[0m\n\u001b[0;32m----> 1\u001b[0;31m \u001b[0mincremental_forest\u001b[0m\u001b[0;34m.\u001b[0m\u001b[0mupdate\u001b[0m\u001b[0;34m(\u001b[0m\u001b[0mdf\u001b[0m\u001b[0;34m[\u001b[0m\u001b[0;36m100\u001b[0m\u001b[0;34m:\u001b[0m\u001b[0;36m200\u001b[0m\u001b[0;34m]\u001b[0m\u001b[0;34m)\u001b[0m\u001b[0;34m\u001b[0m\u001b[0m\n\u001b[0m\u001b[1;32m      2\u001b[0m \u001b[0mprint\u001b[0m\u001b[0;34m(\u001b[0m\u001b[0mlen\u001b[0m\u001b[0;34m(\u001b[0m\u001b[0mset\u001b[0m\u001b[0;34m(\u001b[0m\u001b[0mincremental_forest\u001b[0m\u001b[0;34m.\u001b[0m\u001b[0mtrees\u001b[0m\u001b[0;34m)\u001b[0m\u001b[0;34m)\u001b[0m\u001b[0;34m)\u001b[0m\u001b[0;34m\u001b[0m\u001b[0m\n\u001b[1;32m      3\u001b[0m \u001b[0mprint\u001b[0m\u001b[0;34m(\u001b[0m\u001b[0mevalStats\u001b[0m\u001b[0;34m(\u001b[0m\u001b[0mincremental_forest\u001b[0m\u001b[0;34m.\u001b[0m\u001b[0mpredict_parallel\u001b[0m\u001b[0;34m(\u001b[0m\u001b[0mdf\u001b[0m\u001b[0;34m[\u001b[0m\u001b[0;34m-\u001b[0m\u001b[0;36m100\u001b[0m\u001b[0;34m:\u001b[0m\u001b[0;34m]\u001b[0m\u001b[0;34m)\u001b[0m\u001b[0;34m[\u001b[0m\u001b[0;36m1\u001b[0m\u001b[0;34m]\u001b[0m\u001b[0;34m,\u001b[0m \u001b[0mdf\u001b[0m\u001b[0;34m[\u001b[0m\u001b[0;34m-\u001b[0m\u001b[0;36m100\u001b[0m\u001b[0;34m:\u001b[0m\u001b[0;34m]\u001b[0m\u001b[0;34m)\u001b[0m\u001b[0;34m)\u001b[0m\u001b[0;34m\u001b[0m\u001b[0m\n\u001b[1;32m      4\u001b[0m \u001b[0;34m\u001b[0m\u001b[0m\n\u001b[1;32m      5\u001b[0m \u001b[0mincremental_forest\u001b[0m\u001b[0;34m.\u001b[0m\u001b[0mupdate\u001b[0m\u001b[0;34m(\u001b[0m\u001b[0mdf\u001b[0m\u001b[0;34m[\u001b[0m\u001b[0;36m200\u001b[0m\u001b[0;34m:\u001b[0m\u001b[0;36m300\u001b[0m\u001b[0;34m]\u001b[0m\u001b[0;34m)\u001b[0m\u001b[0;34m\u001b[0m\u001b[0m\n",
      "\u001b[0;32m~/comps_ediscovery/lib/forest.py\u001b[0m in \u001b[0;36mupdate\u001b[0;34m(self, more_data)\u001b[0m\n\u001b[1;32m    213\u001b[0m         \u001b[0mthresh\u001b[0m \u001b[0;34m=\u001b[0m \u001b[0;36m0\u001b[0m\u001b[0;34m\u001b[0m\u001b[0m\n\u001b[1;32m    214\u001b[0m         \u001b[0;32mfor\u001b[0m \u001b[0mtree\u001b[0m \u001b[0;32min\u001b[0m \u001b[0mself\u001b[0m\u001b[0;34m.\u001b[0m\u001b[0mtrees\u001b[0m\u001b[0;34m:\u001b[0m\u001b[0;34m\u001b[0m\u001b[0m\n\u001b[0;32m--> 215\u001b[0;31m             \u001b[0mthresh\u001b[0m \u001b[0;34m+=\u001b[0m \u001b[0mtree\u001b[0m\u001b[0;34m.\u001b[0m\u001b[0mcalc_oob_error\u001b[0m\u001b[0;34m(\u001b[0m\u001b[0;34m)\u001b[0m\u001b[0;34m\u001b[0m\u001b[0m\n\u001b[0m\u001b[1;32m    216\u001b[0m         \u001b[0mthresh\u001b[0m \u001b[0;34m=\u001b[0m \u001b[0mthresh\u001b[0m \u001b[0;34m/\u001b[0m \u001b[0mlen\u001b[0m\u001b[0;34m(\u001b[0m\u001b[0mself\u001b[0m\u001b[0;34m.\u001b[0m\u001b[0mtrees\u001b[0m\u001b[0;34m)\u001b[0m\u001b[0;34m\u001b[0m\u001b[0m\n\u001b[1;32m    217\u001b[0m         \u001b[0mself\u001b[0m\u001b[0;34m.\u001b[0m\u001b[0moob_threshold\u001b[0m \u001b[0;34m=\u001b[0m \u001b[0mthresh\u001b[0m\u001b[0;34m\u001b[0m\u001b[0m\n",
      "\u001b[0;32m~/comps_ediscovery/lib/tree.py\u001b[0m in \u001b[0;36mcalc_oob_error\u001b[0;34m(self)\u001b[0m\n\u001b[1;32m    346\u001b[0m         \u001b[0;31m# rows in the complement:\u001b[0m\u001b[0;34m\u001b[0m\u001b[0;34m\u001b[0m\u001b[0m\n\u001b[1;32m    347\u001b[0m         \u001b[0mcases\u001b[0m \u001b[0;34m=\u001b[0m \u001b[0mself\u001b[0m\u001b[0;34m.\u001b[0m\u001b[0mdata\u001b[0m\u001b[0;34m.\u001b[0m\u001b[0mloc\u001b[0m\u001b[0;34m[\u001b[0m\u001b[0mlist\u001b[0m\u001b[0;34m(\u001b[0m\u001b[0mcomplement\u001b[0m\u001b[0;34m)\u001b[0m\u001b[0;34m]\u001b[0m\u001b[0;34m\u001b[0m\u001b[0m\n\u001b[0;32m--> 348\u001b[0;31m         \u001b[0mpredictions\u001b[0m \u001b[0;34m=\u001b[0m \u001b[0mself\u001b[0m\u001b[0;34m.\u001b[0m\u001b[0mpredict\u001b[0m\u001b[0;34m(\u001b[0m\u001b[0mcases\u001b[0m\u001b[0;34m)\u001b[0m\u001b[0;34m\u001b[0m\u001b[0m\n\u001b[0m\u001b[1;32m    349\u001b[0m         \u001b[0;32mfor\u001b[0m \u001b[0mp\u001b[0m \u001b[0;32min\u001b[0m \u001b[0mpredictions\u001b[0m\u001b[0;34m:\u001b[0m\u001b[0;34m\u001b[0m\u001b[0m\n\u001b[1;32m    350\u001b[0m             \u001b[0;31m# input row for this prediction\u001b[0m\u001b[0;34m\u001b[0m\u001b[0;34m\u001b[0m\u001b[0m\n",
      "\u001b[0;32m~/comps_ediscovery/lib/tree.py\u001b[0m in \u001b[0;36mpredict\u001b[0;34m(self, test_data, visualize)\u001b[0m\n\u001b[1;32m    130\u001b[0m \u001b[0;34m\u001b[0m\u001b[0m\n\u001b[1;32m    131\u001b[0m \u001b[0;34m\u001b[0m\u001b[0m\n\u001b[0;32m--> 132\u001b[0;31m             \u001b[0mrelevant_confidence\u001b[0m \u001b[0;34m=\u001b[0m \u001b[0mcur_node\u001b[0m\u001b[0;34m.\u001b[0m\u001b[0mget_proportions\u001b[0m\u001b[0;34m(\u001b[0m\u001b[0;34m'1'\u001b[0m\u001b[0;34m)\u001b[0m\u001b[0;34m\u001b[0m\u001b[0m\n\u001b[0m\u001b[1;32m    133\u001b[0m             \u001b[0mirrelevant_confidence\u001b[0m \u001b[0;34m=\u001b[0m \u001b[0mcur_node\u001b[0m\u001b[0;34m.\u001b[0m\u001b[0mget_proportions\u001b[0m\u001b[0;34m(\u001b[0m\u001b[0;34m'0'\u001b[0m\u001b[0;34m)\u001b[0m\u001b[0;34m\u001b[0m\u001b[0m\n\u001b[1;32m    134\u001b[0m             \u001b[0mconfidences\u001b[0m\u001b[0;34m.\u001b[0m\u001b[0mappend\u001b[0m\u001b[0;34m(\u001b[0m \u001b[0;34m(\u001b[0m\u001b[0;34m(\u001b[0m\u001b[0mrelevant_confidence\u001b[0m\u001b[0;34m,\u001b[0m \u001b[0mirrelevant_confidence\u001b[0m\u001b[0;34m)\u001b[0m\u001b[0;34m,\u001b[0m \u001b[0mrow\u001b[0m\u001b[0;34m[\u001b[0m\u001b[0;34m\"ID\"\u001b[0m\u001b[0;34m]\u001b[0m\u001b[0;34m)\u001b[0m \u001b[0;34m)\u001b[0m\u001b[0;34m\u001b[0m\u001b[0m\n",
      "\u001b[0;32m~/comps_ediscovery/lib/node.py\u001b[0m in \u001b[0;36mget_proportions\u001b[0;34m(self, target_label)\u001b[0m\n\u001b[1;32m    393\u001b[0m     \u001b[0;31m#         members = self.data.loc[self.data[self.label_index] == target_label]\u001b[0m\u001b[0;34m\u001b[0m\u001b[0;34m\u001b[0m\u001b[0m\n\u001b[1;32m    394\u001b[0m     \u001b[0;31m#         filtered = [x for x in members.index.values if x in self.rows]\u001b[0m\u001b[0;34m\u001b[0m\u001b[0;34m\u001b[0m\u001b[0m\n\u001b[0;32m--> 395\u001b[0;31m             \u001b[0mraw_val\u001b[0m \u001b[0;34m=\u001b[0m \u001b[0;34m(\u001b[0m\u001b[0mlen\u001b[0m\u001b[0;34m(\u001b[0m\u001b[0mfiltered\u001b[0m\u001b[0;34m)\u001b[0m\u001b[0;34m/\u001b[0m\u001b[0mlen\u001b[0m\u001b[0;34m(\u001b[0m\u001b[0mself\u001b[0m\u001b[0;34m.\u001b[0m\u001b[0mrows\u001b[0m\u001b[0;34m)\u001b[0m\u001b[0;34m)\u001b[0m\u001b[0;34m\u001b[0m\u001b[0m\n\u001b[0m\u001b[1;32m    396\u001b[0m             \u001b[0mself\u001b[0m\u001b[0;34m.\u001b[0m\u001b[0mproportions\u001b[0m\u001b[0;34m[\u001b[0m\u001b[0mtarget_label\u001b[0m\u001b[0;34m]\u001b[0m \u001b[0;34m=\u001b[0m \u001b[0mraw_val\u001b[0m\u001b[0;34m\u001b[0m\u001b[0m\n\u001b[1;32m    397\u001b[0m             \u001b[0;32mreturn\u001b[0m \u001b[0mraw_val\u001b[0m\u001b[0;34m\u001b[0m\u001b[0m\n",
      "\u001b[0;31mZeroDivisionError\u001b[0m: division by zero"
     ]
    }
   ],
   "source": [
    "incremental_forest.update(df[100:200])\n",
    "print(len(set(incremental_forest.trees)))\n",
    "print(evalStats(incremental_forest.predict_parallel(df[-100:])[1], df[-100:]))\n",
    "\n",
    "incremental_forest.update(df[200:300])\n",
    "print(len(set(incremental_forest.trees)))\n",
    "print(evalStats(incremental_forest.predict_parallel(df[-100:])[1], df[-100:]))\n",
    "\n",
    "incremental_forest.update(df[300:400])\n",
    "print(len(set(incremental_forest.trees)))\n",
    "print(evalStats(incremental_forest.predict_parallel(df[-100:])[1], df[-100:]))\n",
    "\n",
    "incremental_forest.update(df[400:500])\n",
    "print(len(set(incremental_forest.trees)))\n",
    "print(evalStats(incremental_forest.predict_parallel(df[-100:])[1], df[-100:]))"
   ]
  },
  {
   "cell_type": "markdown",
   "metadata": {},
   "source": [
    "# Testing limited core usage"
   ]
  },
  {
   "cell_type": "code",
   "execution_count": 10,
   "metadata": {},
   "outputs": [
    {
     "name": "stdout",
     "output_type": "stream",
     "text": [
      "when splitting categorically, no best address found: [310 487]\n"
     ]
    }
   ],
   "source": [
    "f = RNF(df[0:500], n_trees, tree_depth, random_seed, n_max_features, 100, cat_features)\n",
    "f.fit_parallel()"
   ]
  },
  {
   "cell_type": "code",
   "execution_count": 14,
   "metadata": {},
   "outputs": [
    {
     "data": {
      "text/plain": [
       "'digraph Tree {\\nnode [shape=box];\\n8934927891 [label=\"X[10] < 0.003076105946907499\\ngini = 0.41794704861111115\\nsamples = 100\\ndistribution = [36, 64]\"];\\n5127460020 [label=\"X[50] < 0.011433239453815455\\ngini = 0.29327286470143604\\nsamples = 36\\ndistribution = [21, 15]\"];\\n8934927891 -> 5127460020 [labeldistance=8, labelangle=30, xlabel=\"True\"]\\n5989794006 [label=\"X[49] < -0.0011506426194517398\\ngini = 0.29699753770390885\\nsamples = 64\\ndistribution = [19, 45]\"];\\n8934927891 -> 5989794006 [labeldistance=8, labelangle=-30, xlabel=\"False\"]\\n5993162332 [label=\"X[92] < 0.03385265871022291\\ngini = 0.08595238095238103\\nsamples = 21\\ndistribution = [20, 1]\"];\\n5127460020 -> 5993162332 [labeldistance=8, labelangle=30, xlabel=\"True\"]\\n6982570830 [label=\"X[49] < 0.03796428181838095\\ngini = 0.20370370370370364\\nsamples = 15\\ndistribution = [12, 3]\"];\\n5127460020 -> 6982570830 [labeldistance=8, labelangle=-30, xlabel=\"False\"]\\n5796857334 [label=\"X[92] < 0.04800362738305229\\ngini = 0.3496630850482607\\nsamples = 19\\ndistribution = [17, 2]\"];\\n5989794006 -> 5796857334 [labeldistance=8, labelangle=30, xlabel=\"True\"]\\n1781618007 [label=\"X[67] < 0.04505118919790609\\ngini = 0.14999098611862274\\nsamples = 45\\ndistribution = [43, 2]\"];\\n5989794006 -> 1781618007 [labeldistance=8, labelangle=-30, xlabel=\"False\"]\\n2257458809 [label=\"X[42] < -0.025222920083422518\\ngini = 0.06666666666666667\\nsamples = 20\\ndistribution = [3, 17]\"];\\n5993162332 -> 2257458809 [labeldistance=8, labelangle=30, xlabel=\"True\"]\\n8075174823 [label=\"samples = 1\\nratio = [0.0, 1.0]\"];\\n5993162332 -> 8075174823 [labeldistance=8, labelangle=-30, xlabel=\"False\"]\\n6929336087 [label=\"X[42] < 0.011742151485145699\\ngini = 0.1111111111111111\\nsamples = 12\\ndistribution = [3, 9]\"];\\n6982570830 -> 6929336087 [labeldistance=8, labelangle=30, xlabel=\"True\"]\\n1271992156 [label=\"samples = 3\\nratio = [1.0, 0.0]\"];\\n6982570830 -> 1271992156 [labeldistance=8, labelangle=-30, xlabel=\"False\"]\\n2068325497 [label=\"X[88] < 0.045550675965176916\\ngini = 0.26352941176470573\\nsamples = 17\\ndistribution = [15, 2]\"];\\n5796857334 -> 2068325497 [labeldistance=8, labelangle=30, xlabel=\"True\"]\\n8739286713 [label=\"samples = 2\\nratio = [0.0, 1.0]\"];\\n5796857334 -> 8739286713 [labeldistance=8, labelangle=-30, xlabel=\"False\"]\\n2349542814 [label=\"X[97] < -0.08240884214616943\\ngini = 0.11937984496124034\\nsamples = 43\\ndistribution = [3, 40]\"];\\n1781618007 -> 2349542814 [labeldistance=8, labelangle=30, xlabel=\"True\"]\\n7657454891 [label=\"samples = 2\\nratio = [1.0, 0.0]\"];\\n1781618007 -> 7657454891 [labeldistance=8, labelangle=-30, xlabel=\"False\"]\\n1947241469 [label=\"X[57] < 0.008144394294559584\\ngini = 0.0\\nsamples = 3\\ndistribution = [2, 1]\"];\\n2257458809 -> 1947241469 [labeldistance=8, labelangle=30, xlabel=\"True\"]\\n9172987868 [label=\"samples = 17\\nratio = [1.0, 0.0]\"];\\n2257458809 -> 9172987868 [labeldistance=8, labelangle=-30, xlabel=\"False\"]\\n5132379669 [label=\"X[97] < 0.0026019917085822043\\ngini = 0.0\\nsamples = 3\\ndistribution = [2, 1]\"];\\n6929336087 -> 5132379669 [labeldistance=8, labelangle=30, xlabel=\"True\"]\\n9551946095 [label=\"samples = 9\\nratio = [0.0, 1.0]\"];\\n6929336087 -> 9551946095 [labeldistance=8, labelangle=-30, xlabel=\"False\"]\\n3405830565 [label=\"X[57] < -0.03684895351915938\\ngini = 0.22857142857142862\\nsamples = 15\\ndistribution = [1, 14]\"];\\n2068325497 -> 3405830565 [labeldistance=8, labelangle=30, xlabel=\"True\"]\\n2998819346 [label=\"samples = 2\\nratio = [0.0, 1.0]\"];\\n2068325497 -> 2998819346 [labeldistance=8, labelangle=-30, xlabel=\"False\"]\\n1304789757 [label=\"X[88] < 0.05894829115986807\\ngini = 0.0\\nsamples = 3\\ndistribution = [2, 1]\"];\\n2349542814 -> 1304789757 [labeldistance=8, labelangle=30, xlabel=\"True\"]\\n3906854033 [label=\"X[5] < -0.06064585755193895\\ngini = 0.04871794871794872\\nsamples = 40\\ndistribution = [1, 39]\"];\\n2349542814 -> 3906854033 [labeldistance=8, labelangle=-30, xlabel=\"False\"]\\n8020646458 [label=\"samples = 2\\nratio = [1.0, 0.0]\"];\\n1947241469 -> 8020646458 [labeldistance=8, labelangle=30, xlabel=\"True\"]\\n6003996522 [label=\"samples = 1\\nratio = [0.0, 1.0]\"];\\n1947241469 -> 6003996522 [labeldistance=8, labelangle=-30, xlabel=\"False\"]\\n5581930135 [label=\"samples = 2\\nratio = [1.0, 0.0]\"];\\n5132379669 -> 5581930135 [labeldistance=8, labelangle=30, xlabel=\"True\"]\\n6630725881 [label=\"samples = 1\\nratio = [0.0, 1.0]\"];\\n5132379669 -> 6630725881 [labeldistance=8, labelangle=-30, xlabel=\"False\"]\\n4555595759 [label=\"samples = 1\\nratio = [0.0, 1.0]\"];\\n3405830565 -> 4555595759 [labeldistance=8, labelangle=30, xlabel=\"True\"]\\n6362421690 [label=\"X[97] < -0.02775067080266287\\ngini = 0.2023809523809525\\nsamples = 14\\ndistribution = [2, 12]\"];\\n3405830565 -> 6362421690 [labeldistance=8, labelangle=-30, xlabel=\"False\"]\\n8150790136 [label=\"samples = 2\\nratio = [1.0, 0.0]\"];\\n1304789757 -> 8150790136 [labeldistance=8, labelangle=30, xlabel=\"True\"]\\n7538814527 [label=\"samples = 1\\nratio = [0.0, 1.0]\"];\\n1304789757 -> 7538814527 [labeldistance=8, labelangle=-30, xlabel=\"False\"]\\n2248254566 [label=\"samples = 1\\nratio = [1.0, 0.0]\"];\\n3906854033 -> 2248254566 [labeldistance=8, labelangle=30, xlabel=\"True\"]\\n1967619645 [label=\"X[50] < -0.06537961994473956\\ngini = 0.0\\nsamples = 39\\ndistribution = [1, 38]\"];\\n3906854033 -> 1967619645 [labeldistance=8, labelangle=-30, xlabel=\"False\"]\\n7829713466 [label=\"X[5] < -0.040172740429422225\\ngini = 0.0\\nsamples = 2\\ndistribution = [1, 1]\"];\\n6362421690 -> 7829713466 [labeldistance=8, labelangle=30, xlabel=\"True\"]\\n3101056509 [label=\"X[41] < -0.019122517215858104\\ngini = 0.1111111111111111\\nsamples = 12\\ndistribution = [3, 9]\"];\\n6362421690 -> 3101056509 [labeldistance=8, labelangle=-30, xlabel=\"False\"]\\n1678872280 [label=\"samples = 1\\nratio = [1.0, 0.0]\"];\\n1967619645 -> 1678872280 [labeldistance=8, labelangle=30, xlabel=\"True\"]\\n2222611266 [label=\"samples = 38\\nratio = [0.0, 1.0]\"];\\n1967619645 -> 2222611266 [labeldistance=8, labelangle=-30, xlabel=\"False\"]\\n9983107996 [label=\"samples = 1\\nratio = [1.0, 0.0]\"];\\n7829713466 -> 9983107996 [labeldistance=8, labelangle=30, xlabel=\"True\"]\\n3586185759 [label=\"samples = 1\\nratio = [0.0, 1.0]\"];\\n7829713466 -> 3586185759 [labeldistance=8, labelangle=-30, xlabel=\"False\"]\\n9398265945 [label=\"X[5] < 0.011134770507447307\\ngini = 0.3333333333333333\\nsamples = 3\\ndistribution = [1, 2]\"];\\n3101056509 -> 9398265945 [labeldistance=8, labelangle=30, xlabel=\"True\"]\\n5452939425 [label=\"samples = 9\\nratio = [1.0, 0.0]\"];\\n3101056509 -> 5452939425 [labeldistance=8, labelangle=-30, xlabel=\"False\"]\\n9629579334 [label=\"samples = 1\\nratio = [1.0, 0.0]\"];\\n9398265945 -> 9629579334 [labeldistance=8, labelangle=30, xlabel=\"True\"]\\n3841024295 [label=\"X[67] < -0.0026283567865053262\\ngini = 0.0\\nsamples = 2\\ndistribution = [1, 1]\"];\\n9398265945 -> 3841024295 [labeldistance=8, labelangle=-30, xlabel=\"False\"]\\n5820712607 [label=\"samples = 1\\nratio = [1.0, 0.0]\"];\\n3841024295 -> 5820712607 [labeldistance=8, labelangle=30, xlabel=\"True\"]\\n7550364174 [label=\"samples = 1\\nratio = [0.0, 1.0]\"];\\n3841024295 -> 7550364174 [labeldistance=8, labelangle=-30, xlabel=\"False\"]\\n}'"
      ]
     },
     "execution_count": 14,
     "metadata": {},
     "output_type": "execute_result"
    }
   ],
   "source": [
    "f.trees[20].visualize()"
   ]
  },
  {
   "cell_type": "code",
   "execution_count": null,
   "metadata": {},
   "outputs": [],
   "source": []
  }
 ],
 "metadata": {
  "kernelspec": {
   "display_name": "Python 3",
   "language": "python",
   "name": "python3"
  },
  "language_info": {
   "codemirror_mode": {
    "name": "ipython",
    "version": 3
   },
   "file_extension": ".py",
   "mimetype": "text/x-python",
   "name": "python",
   "nbconvert_exporter": "python",
   "pygments_lexer": "ipython3",
   "version": "3.4.3"
  }
 },
 "nbformat": 4,
 "nbformat_minor": 2
}
