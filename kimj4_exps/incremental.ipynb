{
 "cells": [
  {
   "cell_type": "code",
   "execution_count": null,
   "metadata": {},
   "outputs": [],
   "source": [
    "# The following is from \"big run\"\n",
    "import sys\n",
    "sys.path.append('..')\n",
    "from lib import *\n",
    "import pandas as pd\n",
    "import numpy as np"
   ]
  },
  {
   "cell_type": "code",
   "execution_count": null,
   "metadata": {},
   "outputs": [],
   "source": [
    "lsa_np = np.load('../data/parsed/lsa_output.npy')"
   ]
  },
  {
   "cell_type": "code",
   "execution_count": null,
   "metadata": {},
   "outputs": [],
   "source": [
    "metadata = pd.read_pickle('../data/parsed/pickles/pickled_data_test.pickle')\n",
    "metadata = metadata.loc[metadata['Scenario'] == '401']\n",
    "metadata = metadata.reset_index(drop=True)"
   ]
  },
  {
   "cell_type": "code",
   "execution_count": null,
   "metadata": {},
   "outputs": [],
   "source": [
    "lsa_df = pd.DataFrame(lsa_np)"
   ]
  },
  {
   "cell_type": "code",
   "execution_count": null,
   "metadata": {},
   "outputs": [],
   "source": [
    "df = pd.concat([metadata, lsa_df], axis=1, join_axes=[metadata.index])\n",
    "df = df.loc[df['Label'] != '-1']\n",
    "df = df.reset_index(drop=True)"
   ]
  },
  {
   "cell_type": "code",
   "execution_count": null,
   "metadata": {},
   "outputs": [],
   "source": [
    "cat_features = ['To','From']\n",
    "features = list(range(100))\n",
    "features.extend(cat_features + ['Date'])\n",
    "\n",
    "df = df[features + ['Label']]"
   ]
  },
  {
   "cell_type": "code",
   "execution_count": null,
   "metadata": {},
   "outputs": [],
   "source": [
    "def cross_val_rnf_incremental(num_trees, df, tries, num_increments, random_seed, cat_features, overall_training_ratio, \n",
    "                              initial_training_ratio, increment_size):\n",
    "    ''' \n",
    "        Testing for incremental learning. \n",
    "        Start some small subset of the dataset and increment with 10 more, see if there's an improvement.\n",
    "        args:\n",
    "            df (dataframe)\n",
    "            tries (int) number of times to repeat the test\n",
    "            num_increments (int) number of times to incrementally train a model\n",
    "            random_seed (some object)\n",
    "            cat_features (list) required to initalize forest\n",
    "            overall_training_ratio (float) fraction of df to use as the training set\n",
    "            initial_training_ratio (float) fraction of df to use as the training set before any increments\n",
    "            increment_size (int) number of new rows to use per incremental step\n",
    "    '''\n",
    "    if (overall_training_ratio >= 1):\n",
    "        print(\"The training set should be samller than the dataset\")\n",
    "        return\n",
    "    if (initial_training_ratio >= 1):\n",
    "        print(\"The initial training set should be smaller than the dataset\")\n",
    "        return\n",
    "    if (initial_training_ratio >= overall_training_ratio):\n",
    "        print(\"The initial training set should be smaller than the overall training set\")\n",
    "        return\n",
    "    \n",
    "    \n",
    "        \n",
    "    dataset_size = df.shape[0]\n",
    "    initial_train_size = math.floor(dataset_size * initial_training_ratio)\n",
    "    overall_train_size = math.floor(dataset_size * overall_training_ratio)\n",
    "    test_size = dataset_size - overall_train_size;\n",
    "    \n",
    "    increment_limit = (overall_train_size - initial_train_size) / increment_size\n",
    "    increment_limit = int(math.floor(increment_limit))\n",
    "    \n",
    "    if num_increments > increment_limit:\n",
    "        print('too many increments specified ({}), running with the max possible: ({})'.format(num_increments, increment_limit))\n",
    "        num_increments = increment_limit;\n",
    "    for i in range(tries):\n",
    "        cur_max = initial_train_size\n",
    "        shuffled_df = df.sample(frac=1, random_state=1)\n",
    "        #shuffled_df = shuffle(df, random_state=random_seed)\n",
    "        shuffled_df = shuffled_df.reset_index(drop=True)\n",
    "        \n",
    "        \n",
    "        \n",
    "    \n",
    "        \n",
    "        # initial fit\n",
    "        initial_df = shuffled_df[0:cur_max]\n",
    "        n_features = math.floor(math.sqrt(df.shape[1]))\n",
    "        tree_depth = 100\n",
    "        forest = RNF(initial_df, num_trees, tree_depth, random_seed, n_features, cur_max, cat_features)\n",
    "        forest.fit_parallel()\n",
    "        print(type(forest.trees[0].head.rows[0]))\n",
    "        print(forest.trees[0].head.rows)\n",
    "        \n",
    "        print(forest.trees[0] == forest.trees[1])\n",
    "        \n",
    "        score = 0\n",
    "        # This is the answer key\n",
    "        labels = [row[\"Label\"] for index, row in shuffled_df[-test_size:].iterrows()]\n",
    "        \n",
    "        print(\"LABELS:\")\n",
    "        print(labels)        \n",
    "        \n",
    "        predicted_classes = forest.predict(shuffled_df[-test_size:])[1]\n",
    "        print(\"predicted_classes:\")\n",
    "        print(predicted_classes)\n",
    "        score = sum( [ 1 for i in range(len(predicted_classes)) if predicted_classes[i] == labels[i]])\n",
    "        print('score before incremental training: ' + str(score / test_size))\n",
    "        \n",
    "        \n",
    "        for j in range(1, num_increments + 1):\n",
    "            last = initial_train_size + j * increment_size\n",
    "            # print(last)\n",
    "            \n",
    "            # put this into RNF later!!!\n",
    "            forest.n_max_input = last\n",
    "            \n",
    "            forest.update(shuffled_df[:last])\n",
    "            # print(type(forest.trees[0].head.rows[0]))\n",
    "            \n",
    "            score = 0\n",
    "            labels = [row[\"Label\"] for index, row in shuffled_df[-test_size:].iterrows()]\n",
    "            predicted_classes = forest.predict(shuffled_df[-test_size:])[1]\n",
    "            print(\"predicted_classes:\")\n",
    "            print(predicted_classes)\n",
    "            score = sum( [ 1 for i in range(len(predicted_classes)) if predicted_classes[i] == labels[i]])\n",
    "            print('score at increment ' + str(j) + ': ' + str(score / test_size))"
   ]
  },
  {
   "cell_type": "code",
   "execution_count": null,
   "metadata": {},
   "outputs": [],
   "source": [
    "# TODO: test tree behavior in ml_master when given .2 of training set to work with\n",
    "# TODO: rather than making each tree its own process, divide the number of trees by the number of cores, and create\n",
    "#       a list of trees that can be processed linearly in its own core.\n",
    "# TODO: double check the order of things that are added to 'r' when doing result.get(), and if it matters in this \n",
    "#       application\n",
    "# TODO: when working, test improvement rate when giving feedback for only things that it is very unsure on\n",
    "# TODO: I think multiprocessing will need to be done at the node level. \n",
    "#       Forest.fit multiprocesses to call tree.fit for each tree\n",
    "#       tree.fit just calls self.head.split\n",
    "#       each splitting node creates a pool of size two, for left and right. (recursively)\n",
    "\n",
    "#https://stackoverflow.com/questions/11055303/python-multiprocessing-global-variable-updates-not-returned-to-parent\n",
    "# TODO: The current problem seems to be that children nodes get spawned, but they are\n",
    "# .     not assigned to their parents, because they exist in a different process.\n",
    "# .     Try getting around this by returning self after node.split, and having the parent\n",
    "#       split function add these nodes on.\n",
    "num_trees = 64\n",
    "tries = 1\n",
    "num_increments = 999\n",
    "# random_seed = 600\n",
    "random_seed = None\n",
    "overall_training_ratio = .8\n",
    "initial_training_ratio = .7\n",
    "increment_size = 10\n",
    "cross_val_rnf_incremental(num_trees, df, tries, num_increments, random_seed,cat_features, overall_training_ratio,\n",
    "                          initial_training_ratio, increment_size)"
   ]
  },
  {
   "cell_type": "code",
   "execution_count": null,
   "metadata": {},
   "outputs": [],
   "source": [
    "# test_forest = RNF(df, 1, 20, None, math.floor(math.sqrt(df.shape[1])), 200, ['To','From'])\n",
    "test_forest = RNF(df, 64, 100, None, math.floor(math.sqrt(df.shape[1])), df.shape[0] - 100, ['To','From'])"
   ]
  },
  {
   "cell_type": "code",
   "execution_count": null,
   "metadata": {},
   "outputs": [],
   "source": [
    "test_forest.fit_parallel()"
   ]
  },
  {
   "cell_type": "code",
   "execution_count": null,
   "metadata": {},
   "outputs": [],
   "source": [
    "predicted_classes = test_forest.predict(df[-100:])[1]\n",
    "labels = [row[\"Label\"] for index, row in df[-100:].iterrows()]\n",
    "score = sum( [ 1 for i in range(len(predicted_classes)) if predicted_classes[i] == labels[i]])"
   ]
  },
  {
   "cell_type": "code",
   "execution_count": null,
   "metadata": {},
   "outputs": [],
   "source": [
    "score"
   ]
  },
  {
   "cell_type": "code",
   "execution_count": null,
   "metadata": {
    "scrolled": true
   },
   "outputs": [],
   "source": [
    "test_forest.trees[2].visualize()"
   ]
  },
  {
   "cell_type": "code",
   "execution_count": null,
   "metadata": {},
   "outputs": [],
   "source": [
    "%%bash \n",
    "cd vis\n",
    "# mac xargs syntax seems different from linux\n",
    "ls *.dot | xargs -I '{}' dot '{}' -Tpng -O\n",
    "ls *.dot | xargs -I '{}' dot '{}' -Tsvg -O\n",
    "dot -Tpng tree.dot -o tree.png\n",
    "dot -Tsvg tree.dot -o tree.svg"
   ]
  },
  {
   "cell_type": "code",
   "execution_count": null,
   "metadata": {},
   "outputs": [],
   "source": [
    "from IPython.display import Image\n",
    "Image(filename='vis/tree.png')"
   ]
  },
  {
   "cell_type": "code",
   "execution_count": null,
   "metadata": {},
   "outputs": [],
   "source": []
  }
 ],
 "metadata": {
  "kernelspec": {
   "display_name": "Python 3",
   "language": "python",
   "name": "python3"
  },
  "language_info": {
   "codemirror_mode": {
    "name": "ipython",
    "version": 3
   },
   "file_extension": ".py",
   "mimetype": "text/x-python",
   "name": "python",
   "nbconvert_exporter": "python",
   "pygments_lexer": "ipython3",
   "version": "3.4.3"
  }
 },
 "nbformat": 4,
 "nbformat_minor": 2
}
