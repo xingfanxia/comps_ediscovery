{
 "cells": [
  {
   "cell_type": "code",
   "execution_count": null,
   "metadata": {
    "collapsed": true
   },
   "outputs": [],
   "source": [
    "# The following is from \"big run\"\n",
    "import sys\n",
    "sys.path.append('..')\n",
    "from lib import *\n",
    "import pandas as pd\n",
    "import numpy as np"
   ]
  },
  {
   "cell_type": "code",
   "execution_count": null,
   "metadata": {
    "collapsed": true
   },
   "outputs": [],
   "source": [
    "lsa_np = np.load('../data/parsed/lsa_output.npy')"
   ]
  },
  {
   "cell_type": "code",
   "execution_count": null,
   "metadata": {
    "collapsed": true
   },
   "outputs": [],
   "source": [
    "metadata = pd.read_pickle('../data/parsed/pickles/pickled_data_test.pickle')\n",
    "metadata = metadata.loc[metadata['Scenario'] == '401']\n",
    "metadata = metadata.reset_index(drop=True)"
   ]
  },
  {
   "cell_type": "code",
   "execution_count": null,
   "metadata": {
    "collapsed": true
   },
   "outputs": [],
   "source": [
    "lsa_df = pd.DataFrame(lsa_np)"
   ]
  },
  {
   "cell_type": "code",
   "execution_count": null,
   "metadata": {
    "collapsed": true
   },
   "outputs": [],
   "source": [
    "df = pd.concat([metadata, lsa_df], axis=1, join_axes=[metadata.index])\n",
    "df = df.loc[df['Label'] != '-1']\n",
    "df = df.reset_index(drop=True)"
   ]
  },
  {
   "cell_type": "code",
   "execution_count": null,
   "metadata": {
    "collapsed": true
   },
   "outputs": [],
   "source": [
    "cat_features = ['To','From']\n",
    "features = list(range(100))\n",
    "features.extend(cat_features + ['Date'])\n",
    "\n",
    "df = df[features + ['Label']]"
   ]
  },
  {
   "cell_type": "code",
   "execution_count": null,
   "metadata": {
    "collapsed": true
   },
   "outputs": [],
   "source": [
    "def cross_val_rnf_incremental(num_trees, df, tries, num_increments, random_seed, cat_features, overall_training_ratio, \n",
    "                              initial_training_ratio, increment_size):\n",
    "    ''' \n",
    "        Testing for incremental learning. \n",
    "        Start some small subset of the dataset and increment with 10 more, see if there's an improvement.\n",
    "        args:\n",
    "            df (dataframe)\n",
    "            tries (int) number of times to repeat the test\n",
    "            num_increments (int) number of times to incrementally train a model\n",
    "            random_seed (some object)\n",
    "            cat_features (list) required to initalize forest\n",
    "            overall_training_ratio (float) fraction of df to use as the training set\n",
    "            initial_training_ratio (float) fraction of df to use as the training set before any increments\n",
    "            increment_size (int) number of new rows to use per incremental step\n",
    "    '''\n",
    "    if (overall_training_ratio >= 1):\n",
    "        print(\"The training set should be samller than the dataset\")\n",
    "        return\n",
    "    if (initial_training_ratio >= 1):\n",
    "        print(\"The initial training set should be smaller than the dataset\")\n",
    "        return\n",
    "    if (initial_training_ratio >= overall_training_ratio):\n",
    "        print(\"The initial training set should be smaller than the overall training set\")\n",
    "        return\n",
    "    \n",
    "    \n",
    "        \n",
    "    dataset_size = df.shape[0]\n",
    "    initial_train_size = math.floor(dataset_size * initial_training_ratio)\n",
    "    overall_train_size = math.floor(dataset_size * overall_training_ratio)\n",
    "    test_size = dataset_size - overall_train_size;\n",
    "    \n",
    "    increment_limit = (overall_train_size - initial_train_size) / increment_size\n",
    "    increment_limit = int(math.floor(increment_limit))\n",
    "    \n",
    "    if num_increments > increment_limit:\n",
    "        print('too many increments specified ({}), running with the max possible: ({})'.format(num_increments, increment_limit))\n",
    "        num_increments = increment_limit;\n",
    "    for i in range(tries):\n",
    "        cur_max = initial_train_size\n",
    "        shuffled_df = df.sample(frac=1, random_state=1)\n",
    "        #shuffled_df = shuffle(df, random_state=random_seed)\n",
    "        shuffled_df = shuffled_df.reset_index(drop=True)\n",
    "        \n",
    "        \n",
    "        \n",
    "    \n",
    "        \n",
    "        # initial fit\n",
    "        initial_df = shuffled_df[0:cur_max]\n",
    "        n_features = math.floor(math.sqrt(df.shape[1]))\n",
    "        tree_depth = 20\n",
    "        forest = RNF(initial_df, num_trees, tree_depth, random_seed, n_features, cur_max, cat_features)\n",
    "        forest.fit()\n",
    "        print(type(forest.trees[0].head.rows[0]))\n",
    "        print(forest.trees[0].head.rows)\n",
    "        \n",
    "        score = 0\n",
    "        # This is the answer key\n",
    "        labels = [row[\"Label\"] for index, row in shuffled_df[-test_size:].iterrows()]\n",
    "        \n",
    "        print(\"LABELS:\")\n",
    "        print(labels)        \n",
    "        \n",
    "        predicted_classes = forest.predict(shuffled_df[-test_size:])[1]\n",
    "        print(\"predicted_classes:\")\n",
    "        print(predicted_classes)\n",
    "        score = sum( [ 1 for i in range(len(predicted_classes)) if predicted_classes[i] == labels[i]])\n",
    "        print('score before incremental training: ' + str(score / test_size))\n",
    "        \n",
    "        \n",
    "        for j in range(1, num_increments + 1):\n",
    "            last = initial_train_size + j * increment_size\n",
    "            # print(last)\n",
    "            \n",
    "            # put this into RNF later!!!\n",
    "            forest.n_max_input = last\n",
    "            \n",
    "            forest.update(shuffled_df[:last])\n",
    "            # print(type(forest.trees[0].head.rows[0]))\n",
    "            \n",
    "            score = 0\n",
    "            labels = [row[\"Label\"] for index, row in shuffled_df[-test_size:].iterrows()]\n",
    "            predicted_classes = forest.predict(shuffled_df[-test_size:])[1]\n",
    "            score = sum( [ 1 for i in range(len(predicted_classes)) if predicted_classes[i] == labels[i]])\n",
    "            print('score at increment ' + str(j) + ': ' + str(score / test_size))"
   ]
  },
  {
   "cell_type": "code",
   "execution_count": null,
   "metadata": {},
   "outputs": [],
   "source": [
    "num_trees = 64\n",
    "tries = 1\n",
    "num_increments = 999\n",
    "# random_seed = 600\n",
    "random_seed = None\n",
    "overall_training_ratio = .8\n",
    "initial_training_ratio = .2\n",
    "increment_size = 50\n",
    "cross_val_rnf_incremental(num_trees, df, tries, num_increments, random_seed,cat_features, overall_training_ratio,\n",
    "                          initial_training_ratio, increment_size)"
   ]
  },
  {
   "cell_type": "code",
   "execution_count": null,
   "metadata": {
    "collapsed": true
   },
   "outputs": [],
   "source": []
  }
 ],
 "metadata": {
  "kernelspec": {
   "display_name": "Python 3",
   "language": "python",
   "name": "python3"
  },
  "language_info": {
   "codemirror_mode": {
    "name": "ipython",
    "version": 3
   },
   "file_extension": ".py",
   "mimetype": "text/x-python",
   "name": "python",
   "nbconvert_exporter": "python",
   "pygments_lexer": "ipython3",
   "version": "3.6.2"
  }
 },
 "nbformat": 4,
 "nbformat_minor": 2
}
