{
 "cells": [
  {
   "cell_type": "markdown",
   "metadata": {
    "toc": "true"
   },
   "source": [
    " # Table of Contents\n",
    "<div class=\"toc\" style=\"margin-top: 1em;\"><ul class=\"toc-item\" id=\"toc-level0\"><li><span><a href=\"#Data-Preparation\" data-toc-modified-id=\"Data-Preparation-1\"><span class=\"toc-item-num\">1&nbsp;&nbsp;</span>Data Preparation</a></span></li><li><span><a href=\"#Running-W2V\" data-toc-modified-id=\"Running-W2V-2\"><span class=\"toc-item-num\">2&nbsp;&nbsp;</span>Running W2V</a></span></li></ul></div>"
   ]
  },
  {
   "cell_type": "markdown",
   "metadata": {},
   "source": [
    "## Data Preparation"
   ]
  },
  {
   "cell_type": "code",
   "execution_count": 2,
   "metadata": {
    "ExecuteTime": {
     "end_time": "2017-09-19T16:32:01.239312Z",
     "start_time": "2017-09-19T16:32:00.675336Z"
    },
    "collapsed": true
   },
   "outputs": [],
   "source": [
    "import pandas as pd"
   ]
  },
  {
   "cell_type": "code",
   "execution_count": 3,
   "metadata": {
    "ExecuteTime": {
     "end_time": "2017-09-19T16:32:12.611902Z",
     "start_time": "2017-09-19T16:32:01.241187Z"
    },
    "collapsed": true
   },
   "outputs": [],
   "source": [
    "df = pd.read_csv(\"emails.csv\")"
   ]
  },
  {
   "cell_type": "code",
   "execution_count": 4,
   "metadata": {
    "ExecuteTime": {
     "end_time": "2017-09-19T16:32:12.629862Z",
     "start_time": "2017-09-19T16:32:12.613994Z"
    }
   },
   "outputs": [
    {
     "data": {
      "text/html": [
       "<div>\n",
       "<style>\n",
       "    .dataframe thead tr:only-child th {\n",
       "        text-align: right;\n",
       "    }\n",
       "\n",
       "    .dataframe thead th {\n",
       "        text-align: left;\n",
       "    }\n",
       "\n",
       "    .dataframe tbody tr th {\n",
       "        vertical-align: top;\n",
       "    }\n",
       "</style>\n",
       "<table border=\"1\" class=\"dataframe\">\n",
       "  <thead>\n",
       "    <tr style=\"text-align: right;\">\n",
       "      <th></th>\n",
       "      <th>file</th>\n",
       "      <th>message</th>\n",
       "    </tr>\n",
       "  </thead>\n",
       "  <tbody>\n",
       "    <tr>\n",
       "      <th>0</th>\n",
       "      <td>allen-p/_sent_mail/1.</td>\n",
       "      <td>Message-ID: &lt;18782981.1075855378110.JavaMail.e...</td>\n",
       "    </tr>\n",
       "    <tr>\n",
       "      <th>1</th>\n",
       "      <td>allen-p/_sent_mail/10.</td>\n",
       "      <td>Message-ID: &lt;15464986.1075855378456.JavaMail.e...</td>\n",
       "    </tr>\n",
       "    <tr>\n",
       "      <th>2</th>\n",
       "      <td>allen-p/_sent_mail/100.</td>\n",
       "      <td>Message-ID: &lt;24216240.1075855687451.JavaMail.e...</td>\n",
       "    </tr>\n",
       "    <tr>\n",
       "      <th>3</th>\n",
       "      <td>allen-p/_sent_mail/1000.</td>\n",
       "      <td>Message-ID: &lt;13505866.1075863688222.JavaMail.e...</td>\n",
       "    </tr>\n",
       "    <tr>\n",
       "      <th>4</th>\n",
       "      <td>allen-p/_sent_mail/1001.</td>\n",
       "      <td>Message-ID: &lt;30922949.1075863688243.JavaMail.e...</td>\n",
       "    </tr>\n",
       "  </tbody>\n",
       "</table>\n",
       "</div>"
      ],
      "text/plain": [
       "                       file                                            message\n",
       "0     allen-p/_sent_mail/1.  Message-ID: <18782981.1075855378110.JavaMail.e...\n",
       "1    allen-p/_sent_mail/10.  Message-ID: <15464986.1075855378456.JavaMail.e...\n",
       "2   allen-p/_sent_mail/100.  Message-ID: <24216240.1075855687451.JavaMail.e...\n",
       "3  allen-p/_sent_mail/1000.  Message-ID: <13505866.1075863688222.JavaMail.e...\n",
       "4  allen-p/_sent_mail/1001.  Message-ID: <30922949.1075863688243.JavaMail.e..."
      ]
     },
     "execution_count": 4,
     "metadata": {},
     "output_type": "execute_result"
    }
   ],
   "source": [
    "df.head()"
   ]
  },
  {
   "cell_type": "code",
   "execution_count": 5,
   "metadata": {
    "ExecuteTime": {
     "end_time": "2017-09-19T16:32:12.636293Z",
     "start_time": "2017-09-19T16:32:12.632400Z"
    },
    "collapsed": true
   },
   "outputs": [],
   "source": [
    "def extract_message(string):\n",
    "    start = string.find('FileName:')\n",
    "    sub = string[start: ].find('\\n')\n",
    "    return string[start: ][sub:]"
   ]
  },
  {
   "cell_type": "code",
   "execution_count": 6,
   "metadata": {
    "ExecuteTime": {
     "end_time": "2017-09-19T16:32:14.287149Z",
     "start_time": "2017-09-19T16:32:12.637854Z"
    },
    "collapsed": true
   },
   "outputs": [],
   "source": [
    "df['content'] = df.message.apply(extract_message)"
   ]
  },
  {
   "cell_type": "code",
   "execution_count": 7,
   "metadata": {
    "ExecuteTime": {
     "end_time": "2017-09-19T16:32:14.297947Z",
     "start_time": "2017-09-19T16:32:14.288948Z"
    }
   },
   "outputs": [
    {
     "data": {
      "text/plain": [
       "0                        \\n\\nHere is our forecast\\n\\n \n",
       "1    \\n\\nTraveling to have a business meeting takes...\n",
       "2                   \\n\\ntest successful.  way to go!!!\n",
       "3    \\n\\nRandy,\\n\\n Can you send me a schedule of t...\n",
       "4              \\n\\nLet's shoot for Tuesday at 11:45.  \n",
       "Name: content, dtype: object"
      ]
     },
     "execution_count": 7,
     "metadata": {},
     "output_type": "execute_result"
    }
   ],
   "source": [
    "df.content.head(5)"
   ]
  },
  {
   "cell_type": "code",
   "execution_count": 8,
   "metadata": {
    "ExecuteTime": {
     "end_time": "2017-09-19T16:32:14.304639Z",
     "start_time": "2017-09-19T16:32:14.300600Z"
    },
    "collapsed": true
   },
   "outputs": [],
   "source": [
    "import re\n",
    "def getWords(text):\n",
    "    return \" \".join(re.compile('\\w*[A-Za-z]\\w*').findall(text))"
   ]
  },
  {
   "cell_type": "code",
   "execution_count": 9,
   "metadata": {
    "ExecuteTime": {
     "end_time": "2017-09-19T16:32:15.206044Z",
     "start_time": "2017-09-19T16:32:14.307238Z"
    },
    "collapsed": true
   },
   "outputs": [],
   "source": [
    "from nltk.tokenize import TreebankWordTokenizer\n",
    "def token(text):\n",
    "    tokenizer = TreebankWordTokenizer()\n",
    "    return tokenizer.tokenize(text)"
   ]
  },
  {
   "cell_type": "code",
   "execution_count": 10,
   "metadata": {
    "ExecuteTime": {
     "end_time": "2017-09-19T16:32:15.211205Z",
     "start_time": "2017-09-19T16:32:15.208130Z"
    },
    "collapsed": true
   },
   "outputs": [],
   "source": [
    "df_test = df[1:50]"
   ]
  },
  {
   "cell_type": "code",
   "execution_count": 11,
   "metadata": {
    "ExecuteTime": {
     "end_time": "2017-09-19T16:32:15.255934Z",
     "start_time": "2017-09-19T16:32:15.213119Z"
    }
   },
   "outputs": [
    {
     "name": "stderr",
     "output_type": "stream",
     "text": [
      "/usr/local/lib/python3.6/site-packages/ipykernel_launcher.py:1: SettingWithCopyWarning: \n",
      "A value is trying to be set on a copy of a slice from a DataFrame.\n",
      "Try using .loc[row_indexer,col_indexer] = value instead\n",
      "\n",
      "See the caveats in the documentation: http://pandas.pydata.org/pandas-docs/stable/indexing.html#indexing-view-versus-copy\n",
      "  \"\"\"Entry point for launching an IPython kernel.\n"
     ]
    }
   ],
   "source": [
    "df_test['words'] = df_test.content.apply(getWords)"
   ]
  },
  {
   "cell_type": "code",
   "execution_count": 12,
   "metadata": {
    "ExecuteTime": {
     "end_time": "2017-09-19T16:32:15.339910Z",
     "start_time": "2017-09-19T16:32:15.257691Z"
    }
   },
   "outputs": [
    {
     "name": "stderr",
     "output_type": "stream",
     "text": [
      "/usr/local/lib/python3.6/site-packages/ipykernel_launcher.py:1: SettingWithCopyWarning: \n",
      "A value is trying to be set on a copy of a slice from a DataFrame.\n",
      "Try using .loc[row_indexer,col_indexer] = value instead\n",
      "\n",
      "See the caveats in the documentation: http://pandas.pydata.org/pandas-docs/stable/indexing.html#indexing-view-versus-copy\n",
      "  \"\"\"Entry point for launching an IPython kernel.\n"
     ]
    }
   ],
   "source": [
    "df_test['words'] = df_test.content.apply(token)"
   ]
  },
  {
   "cell_type": "code",
   "execution_count": 13,
   "metadata": {
    "ExecuteTime": {
     "end_time": "2017-09-19T16:32:15.347756Z",
     "start_time": "2017-09-19T16:32:15.341571Z"
    }
   },
   "outputs": [
    {
     "data": {
      "text/plain": [
       "1    [Traveling, to, have, a, business, meeting, ta...\n",
       "2            [test, successful., way, to, go, !, !, !]\n",
       "3    [Randy, ,, Can, you, send, me, a, schedule, of...\n",
       "4         [Let, 's, shoot, for, Tuesday, at, 11:45, .]\n",
       "5    [Greg, ,, How, about, either, next, Tuesday, o...\n",
       "Name: words, dtype: object"
      ]
     },
     "execution_count": 13,
     "metadata": {},
     "output_type": "execute_result"
    }
   ],
   "source": [
    "df_test.words.head()"
   ]
  },
  {
   "cell_type": "code",
   "execution_count": 14,
   "metadata": {
    "ExecuteTime": {
     "end_time": "2017-09-19T16:33:28.220887Z",
     "start_time": "2017-09-19T16:32:15.350421Z"
    },
    "collapsed": true
   },
   "outputs": [],
   "source": [
    "df['words'] = df.content.apply(getWords)"
   ]
  },
  {
   "cell_type": "code",
   "execution_count": 15,
   "metadata": {
    "ExecuteTime": {
     "end_time": "2017-09-19T16:33:28.227394Z",
     "start_time": "2017-09-19T16:33:28.222674Z"
    }
   },
   "outputs": [
    {
     "data": {
      "text/plain": [
       "0                                 Here is our forecast\n",
       "1    Traveling to have a business meeting takes the...\n",
       "2                            test successful way to go\n",
       "3    Randy Can you send me a schedule of the salary...\n",
       "4                           Let s shoot for Tuesday at\n",
       "Name: words, dtype: object"
      ]
     },
     "execution_count": 15,
     "metadata": {},
     "output_type": "execute_result"
    }
   ],
   "source": [
    "df.words.head()"
   ]
  },
  {
   "cell_type": "code",
   "execution_count": 16,
   "metadata": {
    "ExecuteTime": {
     "end_time": "2017-09-19T16:33:28.905247Z",
     "start_time": "2017-09-19T16:33:28.229445Z"
    }
   },
   "outputs": [],
   "source": [
    "df_shuffled = df.sample(frac=1).reset_index(drop=True)"
   ]
  },
  {
   "cell_type": "code",
   "execution_count": 17,
   "metadata": {
    "ExecuteTime": {
     "end_time": "2017-09-19T16:33:42.040619Z",
     "start_time": "2017-09-19T16:33:42.038213Z"
    },
    "collapsed": true
   },
   "outputs": [],
   "source": [
    "test = df_shuffled[0:1000]"
   ]
  },
  {
   "cell_type": "markdown",
   "metadata": {},
   "source": [
    "## Running W2V"
   ]
  },
  {
   "cell_type": "code",
   "execution_count": 18,
   "metadata": {
    "ExecuteTime": {
     "end_time": "2017-09-19T16:34:19.032864Z",
     "start_time": "2017-09-19T16:34:19.030017Z"
    },
    "collapsed": true
   },
   "outputs": [],
   "source": [
    "from sklearn.feature_extraction.text import TfidfVectorizer, CountVectorizer"
   ]
  },
  {
   "cell_type": "code",
   "execution_count": 19,
   "metadata": {
    "ExecuteTime": {
     "end_time": "2017-09-19T16:34:19.222051Z",
     "start_time": "2017-09-19T16:34:19.219635Z"
    },
    "collapsed": true
   },
   "outputs": [],
   "source": [
    "n_features = 1000"
   ]
  },
  {
   "cell_type": "code",
   "execution_count": 20,
   "metadata": {
    "ExecuteTime": {
     "end_time": "2017-09-19T16:34:19.619394Z",
     "start_time": "2017-09-19T16:34:19.382032Z"
    },
    "collapsed": true
   },
   "outputs": [],
   "source": [
    "tf_vectorizer = CountVectorizer(strip_accents = 'unicode',\n",
    "                                max_features=n_features,\n",
    "                                stop_words='english',\n",
    "                                max_df = 0.5,\n",
    "                                min_df = 10)\n",
    "tf = tf_vectorizer.fit_transform(test.words)"
   ]
  },
  {
   "cell_type": "code",
   "execution_count": 21,
   "metadata": {
    "ExecuteTime": {
     "end_time": "2017-09-19T16:34:20.231134Z",
     "start_time": "2017-09-19T16:34:20.213713Z"
    },
    "collapsed": true
   },
   "outputs": [],
   "source": [
    "from sklearn.decomposition import LatentDirichletAllocation"
   ]
  },
  {
   "cell_type": "code",
   "execution_count": 28,
   "metadata": {
    "ExecuteTime": {
     "end_time": "2017-09-19T16:38:50.649499Z",
     "start_time": "2017-09-19T16:38:50.645701Z"
    },
    "collapsed": true
   },
   "outputs": [],
   "source": [
    "n_topics = 10\n",
    "lda = LatentDirichletAllocation(n_topics=n_topics, max_iter=50,\n",
    "                                learning_method='batch',\n",
    "                                learning_offset=50.,\n",
    "                                random_state=42)"
   ]
  },
  {
   "cell_type": "code",
   "execution_count": 29,
   "metadata": {
    "ExecuteTime": {
     "end_time": "2017-09-19T16:39:06.489702Z",
     "start_time": "2017-09-19T16:38:50.899985Z"
    }
   },
   "outputs": [
    {
     "data": {
      "text/plain": [
       "LatentDirichletAllocation(batch_size=128, doc_topic_prior=None,\n",
       "             evaluate_every=-1, learning_decay=0.7,\n",
       "             learning_method='batch', learning_offset=50.0,\n",
       "             max_doc_update_iter=100, max_iter=50, mean_change_tol=0.001,\n",
       "             n_jobs=1, n_topics=10, perp_tol=0.1, random_state=42,\n",
       "             topic_word_prior=None, total_samples=1000000.0, verbose=0)"
      ]
     },
     "execution_count": 29,
     "metadata": {},
     "output_type": "execute_result"
    }
   ],
   "source": [
    "lda.fit(tf)"
   ]
  },
  {
   "cell_type": "code",
   "execution_count": 30,
   "metadata": {
    "ExecuteTime": {
     "end_time": "2017-09-19T16:39:06.497537Z",
     "start_time": "2017-09-19T16:39:06.491570Z"
    },
    "collapsed": true
   },
   "outputs": [],
   "source": [
    "def print_top_words(model, feature_names, n_top_words):\n",
    "    for topic_idx, topic in enumerate(model.components_):\n",
    "        print(\"Topic #%d:\" % topic_idx)\n",
    "        print(\" \".join([feature_names[i]\n",
    "                        for i in topic.argsort()[:-n_top_words - 1:-1]]))\n",
    "    print()"
   ]
  },
  {
   "cell_type": "code",
   "execution_count": 31,
   "metadata": {
    "ExecuteTime": {
     "end_time": "2017-09-19T16:39:06.502123Z",
     "start_time": "2017-09-19T16:39:06.499408Z"
    },
    "collapsed": true
   },
   "outputs": [],
   "source": [
    "n_top_words = 20"
   ]
  },
  {
   "cell_type": "code",
   "execution_count": 32,
   "metadata": {
    "ExecuteTime": {
     "end_time": "2017-09-19T16:39:06.511117Z",
     "start_time": "2017-09-19T16:39:06.504048Z"
    }
   },
   "outputs": [
    {
     "name": "stdout",
     "output_type": "stream",
     "text": [
      "Topic #0:\n",
      "credit contract gas deal agreement need party shall thanks changes transaction securities counterparty deals time price date cash issues financial\n",
      "Topic #1:\n",
      "power energy gas com california utility new electric http generation plant natural electricity www utilities prices corp markets services pg\n",
      "Topic #2:\n",
      "enron mail information com edu doc email contact attached thank intended questions fax number hotel ena travel office received documents\n",
      "Topic #3:\n",
      "enron subject com pm message sent original thanks cc know october thursday let kay mailto friday monday time tuesday et\n",
      "Topic #4:\n",
      "market new commission ferc need issue issues price order meeting make think day plan like process support believe cost provide\n",
      "Topic #5:\n",
      "com enron company services business group management said million www capital global technology firm new president trading operations internet report\n",
      "Topic #6:\n",
      "com enron ees jeff na comments cc doc subject dasovich california ca pm draft richard forwarded iso energy joe attached\n",
      "Topic #7:\n",
      "ect enron hou ees corp enron_development na cc pm subject forwarded vince kaminski lon mark david enronxgate john thanks mike\n",
      "Topic #8:\n",
      "enron said company year natural final stock game buy jones northwest time hour earnings texas quarter dow portland schedule india\n",
      "Topic #9:\n",
      "com http www free net mail click new asp just like time link today html home check image news email\n",
      "\n"
     ]
    }
   ],
   "source": [
    "tf_feature_names = tf_vectorizer.get_feature_names()\n",
    "print_top_words(lda, tf_feature_names, n_top_words)"
   ]
  },
  {
   "cell_type": "code",
   "execution_count": 33,
   "metadata": {
    "ExecuteTime": {
     "end_time": "2017-09-19T16:39:07.252037Z",
     "start_time": "2017-09-19T16:39:06.512947Z"
    }
   },
   "outputs": [
    {
     "data": {
      "text/html": [
       "\n",
       "<link rel=\"stylesheet\" type=\"text/css\" href=\"https://cdn.rawgit.com/bmabey/pyLDAvis/files/ldavis.v1.0.0.css\">\n",
       "\n",
       "\n",
       "<div id=\"ldavis_el9540248519169924709860288\"></div>\n",
       "<script type=\"text/javascript\">\n",
       "\n",
       "var ldavis_el9540248519169924709860288_data = {\"mdsDat\": {\"Freq\": [15.671119203884306, 13.27791632734588, 13.031672879591854, 10.73082262925142, 9.43399838940335, 8.828165911070665, 8.036451673158538, 7.480787529784905, 7.147234633825428, 6.361830822683648], \"cluster\": [1, 1, 1, 1, 1, 1, 1, 1, 1, 1], \"topics\": [1, 2, 3, 4, 5, 6, 7, 8, 9, 10], \"x\": [-0.173918456625152, -0.3180279194328554, 0.12176550955434103, 0.10457817228039394, 0.09836387505942283, 0.1709305358621893, 0.11319045140195128, -0.009272308808682716, 0.09252259190045219, -0.2001324511920606], \"y\": [-0.08222201153566767, -0.008712497340179924, -0.11114523053943286, -0.016920135958011083, 0.1611742960188171, 0.15065952442325342, -0.25080387635802615, -0.06142766152207098, 0.09688523964317206, 0.12251235316814543]}, \"tinfo\": {\"Category\": [\"Default\", \"Default\", \"Default\", \"Default\", \"Default\", \"Default\", \"Default\", \"Default\", \"Default\", \"Default\", \"Default\", \"Default\", \"Default\", \"Default\", \"Default\", \"Default\", \"Default\", \"Default\", \"Default\", \"Default\", \"Default\", \"Default\", \"Default\", \"Default\", \"Default\", \"Default\", \"Default\", \"Default\", \"Default\", \"Default\", \"Topic1\", \"Topic1\", \"Topic1\", \"Topic1\", \"Topic1\", \"Topic1\", \"Topic1\", \"Topic1\", \"Topic1\", \"Topic1\", \"Topic1\", \"Topic1\", \"Topic1\", \"Topic1\", \"Topic1\", \"Topic1\", \"Topic1\", \"Topic1\", \"Topic1\", \"Topic1\", \"Topic1\", \"Topic1\", \"Topic1\", \"Topic1\", \"Topic1\", \"Topic1\", \"Topic1\", \"Topic1\", \"Topic1\", \"Topic1\", \"Topic1\", \"Topic1\", \"Topic1\", \"Topic1\", \"Topic1\", \"Topic1\", \"Topic1\", \"Topic1\", \"Topic1\", \"Topic1\", \"Topic1\", \"Topic1\", \"Topic1\", \"Topic1\", \"Topic1\", \"Topic1\", \"Topic1\", \"Topic1\", \"Topic1\", \"Topic1\", \"Topic1\", \"Topic1\", \"Topic1\", \"Topic1\", \"Topic2\", \"Topic2\", \"Topic2\", \"Topic2\", \"Topic2\", \"Topic2\", \"Topic2\", \"Topic2\", \"Topic2\", \"Topic2\", \"Topic2\", \"Topic2\", \"Topic2\", \"Topic2\", \"Topic2\", \"Topic2\", \"Topic2\", \"Topic2\", \"Topic2\", \"Topic2\", \"Topic2\", \"Topic2\", \"Topic2\", \"Topic2\", \"Topic2\", \"Topic2\", \"Topic2\", \"Topic2\", \"Topic2\", \"Topic2\", \"Topic2\", \"Topic2\", \"Topic2\", \"Topic2\", \"Topic2\", \"Topic2\", \"Topic2\", \"Topic2\", \"Topic2\", \"Topic2\", \"Topic2\", \"Topic2\", \"Topic2\", \"Topic2\", \"Topic2\", \"Topic2\", \"Topic3\", \"Topic3\", \"Topic3\", \"Topic3\", \"Topic3\", \"Topic3\", \"Topic3\", \"Topic3\", \"Topic3\", \"Topic3\", \"Topic3\", \"Topic3\", \"Topic3\", \"Topic3\", \"Topic3\", \"Topic3\", \"Topic3\", \"Topic3\", \"Topic3\", \"Topic3\", \"Topic3\", \"Topic3\", \"Topic3\", \"Topic3\", \"Topic3\", \"Topic3\", \"Topic3\", \"Topic3\", \"Topic3\", \"Topic3\", \"Topic3\", \"Topic3\", \"Topic3\", \"Topic3\", \"Topic3\", \"Topic3\", \"Topic3\", \"Topic3\", \"Topic3\", \"Topic3\", \"Topic3\", \"Topic3\", \"Topic3\", \"Topic3\", \"Topic3\", \"Topic3\", \"Topic3\", \"Topic3\", \"Topic3\", \"Topic3\", \"Topic3\", \"Topic3\", \"Topic3\", \"Topic3\", \"Topic3\", \"Topic3\", \"Topic3\", \"Topic3\", \"Topic4\", \"Topic4\", \"Topic4\", \"Topic4\", \"Topic4\", \"Topic4\", \"Topic4\", \"Topic4\", \"Topic4\", \"Topic4\", \"Topic4\", \"Topic4\", \"Topic4\", \"Topic4\", \"Topic4\", \"Topic4\", \"Topic4\", \"Topic4\", \"Topic4\", \"Topic4\", \"Topic4\", \"Topic4\", \"Topic4\", \"Topic4\", \"Topic4\", \"Topic4\", \"Topic4\", \"Topic4\", \"Topic4\", \"Topic4\", \"Topic4\", \"Topic4\", \"Topic4\", \"Topic4\", \"Topic4\", \"Topic4\", \"Topic4\", \"Topic4\", \"Topic4\", \"Topic4\", \"Topic4\", \"Topic4\", \"Topic4\", \"Topic4\", \"Topic4\", \"Topic4\", \"Topic4\", \"Topic4\", \"Topic4\", \"Topic4\", \"Topic5\", \"Topic5\", \"Topic5\", \"Topic5\", \"Topic5\", \"Topic5\", \"Topic5\", \"Topic5\", \"Topic5\", \"Topic5\", \"Topic5\", \"Topic5\", \"Topic5\", \"Topic5\", \"Topic5\", \"Topic5\", \"Topic5\", \"Topic5\", \"Topic5\", \"Topic5\", \"Topic5\", \"Topic5\", \"Topic5\", \"Topic5\", \"Topic5\", \"Topic5\", \"Topic5\", \"Topic5\", \"Topic5\", \"Topic5\", \"Topic5\", \"Topic5\", \"Topic5\", \"Topic5\", \"Topic5\", \"Topic5\", \"Topic5\", \"Topic5\", \"Topic5\", \"Topic5\", \"Topic5\", \"Topic5\", \"Topic5\", \"Topic5\", \"Topic5\", \"Topic5\", \"Topic5\", \"Topic5\", \"Topic5\", \"Topic6\", \"Topic6\", \"Topic6\", \"Topic6\", \"Topic6\", \"Topic6\", \"Topic6\", \"Topic6\", \"Topic6\", \"Topic6\", \"Topic6\", \"Topic6\", \"Topic6\", \"Topic6\", \"Topic6\", \"Topic6\", \"Topic6\", \"Topic6\", \"Topic6\", \"Topic6\", \"Topic6\", \"Topic6\", \"Topic6\", \"Topic6\", \"Topic6\", \"Topic6\", \"Topic6\", \"Topic6\", \"Topic6\", \"Topic6\", \"Topic6\", \"Topic6\", \"Topic6\", \"Topic6\", \"Topic6\", \"Topic6\", \"Topic6\", \"Topic6\", \"Topic6\", \"Topic6\", \"Topic6\", \"Topic6\", \"Topic6\", \"Topic6\", \"Topic6\", \"Topic6\", \"Topic6\", \"Topic7\", \"Topic7\", \"Topic7\", \"Topic7\", \"Topic7\", \"Topic7\", \"Topic7\", \"Topic7\", \"Topic7\", \"Topic7\", \"Topic7\", \"Topic7\", \"Topic7\", \"Topic7\", \"Topic7\", \"Topic7\", \"Topic7\", \"Topic7\", \"Topic7\", \"Topic7\", \"Topic7\", \"Topic7\", \"Topic7\", \"Topic7\", \"Topic7\", \"Topic7\", \"Topic7\", \"Topic7\", \"Topic7\", \"Topic7\", \"Topic7\", \"Topic7\", \"Topic7\", \"Topic7\", \"Topic7\", \"Topic7\", \"Topic7\", \"Topic7\", \"Topic7\", \"Topic7\", \"Topic7\", \"Topic7\", \"Topic7\", \"Topic7\", \"Topic7\", \"Topic7\", \"Topic7\", \"Topic7\", \"Topic7\", \"Topic7\", \"Topic7\", \"Topic7\", \"Topic7\", \"Topic7\", \"Topic8\", \"Topic8\", \"Topic8\", \"Topic8\", \"Topic8\", \"Topic8\", \"Topic8\", \"Topic8\", \"Topic8\", \"Topic8\", \"Topic8\", \"Topic8\", \"Topic8\", \"Topic8\", \"Topic8\", \"Topic8\", \"Topic8\", \"Topic8\", \"Topic8\", \"Topic8\", \"Topic8\", \"Topic8\", \"Topic8\", \"Topic8\", \"Topic8\", \"Topic8\", \"Topic8\", \"Topic8\", \"Topic8\", \"Topic8\", \"Topic8\", \"Topic8\", \"Topic8\", \"Topic8\", \"Topic8\", \"Topic8\", \"Topic8\", \"Topic8\", \"Topic8\", \"Topic8\", \"Topic8\", \"Topic8\", \"Topic8\", \"Topic8\", \"Topic8\", \"Topic8\", \"Topic8\", \"Topic8\", \"Topic8\", \"Topic8\", \"Topic9\", \"Topic9\", \"Topic9\", \"Topic9\", \"Topic9\", \"Topic9\", \"Topic9\", \"Topic9\", \"Topic9\", \"Topic9\", \"Topic9\", \"Topic9\", \"Topic9\", \"Topic9\", \"Topic9\", \"Topic9\", \"Topic9\", \"Topic9\", \"Topic9\", \"Topic9\", \"Topic9\", \"Topic9\", \"Topic9\", \"Topic9\", \"Topic9\", \"Topic9\", \"Topic9\", \"Topic9\", \"Topic9\", \"Topic9\", \"Topic9\", \"Topic9\", \"Topic9\", \"Topic9\", \"Topic9\", \"Topic9\", \"Topic9\", \"Topic9\", \"Topic9\", \"Topic9\", \"Topic9\", \"Topic9\", \"Topic9\", \"Topic10\", \"Topic10\", \"Topic10\", \"Topic10\", \"Topic10\", \"Topic10\", \"Topic10\", \"Topic10\", \"Topic10\", \"Topic10\", \"Topic10\", \"Topic10\", \"Topic10\", \"Topic10\", \"Topic10\", \"Topic10\", \"Topic10\", \"Topic10\", \"Topic10\", \"Topic10\", \"Topic10\", \"Topic10\", \"Topic10\", \"Topic10\", \"Topic10\", \"Topic10\", \"Topic10\", \"Topic10\", \"Topic10\", \"Topic10\", \"Topic10\", \"Topic10\", \"Topic10\", \"Topic10\", \"Topic10\", \"Topic10\", \"Topic10\", \"Topic10\", \"Topic10\", \"Topic10\", \"Topic10\", \"Topic10\", \"Topic10\", \"Topic10\", \"Topic10\", \"Topic10\", \"Topic10\", \"Topic10\"], \"Freq\": [2317.0, 1215.0, 2216.0, 3262.0, 631.0, 559.0, 488.0, 452.0, 889.0, 369.0, 730.0, 289.0, 352.0, 395.0, 309.0, 486.0, 457.0, 577.0, 366.0, 347.0, 537.0, 392.0, 185.0, 327.0, 182.0, 203.0, 286.0, 181.0, 225.0, 180.0, 361.40485381228365, 33.49631488281033, 27.602579753603237, 59.86107486585307, 32.48957479374679, 123.33307416067537, 161.40400296628127, 64.57202256613796, 112.0434105163825, 24.814718306943902, 394.2683796591664, 55.5913511974184, 403.35782819875976, 28.101071696966137, 168.24486959660777, 96.4267332305915, 42.83133820523861, 32.57279870305627, 20.501230890169712, 20.410143337893413, 33.554368237573826, 24.865270530037403, 25.338165488820874, 29.50282518702575, 52.664384426312644, 39.327097745363716, 25.11872395909954, 29.95353583818758, 79.73376750460702, 45.77924209488586, 537.2154516621657, 422.2546477879867, 104.78790165546657, 110.99325931653014, 208.5847363850124, 62.80752530278491, 183.95835782723313, 98.37161022526199, 128.64672138686007, 879.334579563421, 207.9559104494042, 500.30068150654455, 84.70501073218774, 93.55596769364917, 70.2122464722549, 90.64297869612612, 68.11615781231073, 98.63080531145766, 72.65749739009581, 70.35802398555175, 86.72479650763114, 75.2830234925524, 71.74567153964352, 75.09072314990459, 1214.2292012964906, 2313.0188895189085, 289.03619218967975, 85.19688683650237, 178.03930087214982, 26.8156391575931, 107.91558041905931, 33.060778555601935, 30.645618922295665, 64.21810170603813, 24.497923453869642, 24.995761338008393, 29.16172729079894, 259.00162199594996, 318.06825718450665, 22.11006645605275, 27.390018160328346, 18.487776617258543, 37.50864294700446, 34.58955503195422, 39.128088686061545, 17.738022279124017, 18.761018300883887, 180.23199552508456, 40.24098501579203, 26.752830571684626, 24.854689045693537, 16.676149248704032, 16.82548537048253, 19.083416066848315, 308.98645457468234, 43.413019660067214, 1371.7813004932489, 256.0064202359364, 65.2140831204661, 42.2652306113823, 203.65199893012564, 202.81830454850453, 71.5243076895732, 41.93469586110723, 48.581090507867344, 54.647955373346896, 41.36786730495871, 50.852128882570234, 40.27141178179184, 36.13023222702888, 30.821744394764437, 55.53574295454733, 34.92830946181608, 25.694577915673086, 42.26653598272006, 110.1696571406637, 36.65319520153262, 33.98433078452088, 107.64466418587936, 27.252762447284265, 45.22869839898301, 25.75249324913654, 45.23786301684355, 100.81050634560327, 54.969710115785304, 25.836208644226087, 33.554141925055184, 24.361090326651652, 20.633013172603064, 27.836073652834834, 44.696140316943925, 29.688250720854462, 42.47821407201951, 48.07626653002083, 33.447931702255595, 25.50398733837352, 19.052107483800302, 23.752231260484642, 46.134079617775285, 24.34969956793128, 271.88311936161523, 57.163456426782034, 32.1736724574722, 73.61252546220123, 64.52384093515205, 41.52179164252334, 47.81638093384322, 60.41695645235106, 77.47247885227407, 87.26065168427678, 67.91914848706479, 48.4902071350707, 85.77414858275358, 86.17486191407346, 80.56942627640896, 102.36532622801694, 78.70571944573035, 83.60748073560347, 81.49256477602063, 111.48220837566419, 75.20902177879034, 59.03757361804483, 55.855596157180024, 52.3061410453981, 52.48550909070155, 52.27150229735768, 54.60326719375642, 48.901987359462936, 34.637670745240314, 32.663990527751096, 90.08843472966177, 39.178334625556424, 29.702571746737693, 30.571081735497433, 67.78487720920796, 65.24896898803674, 23.210304015260533, 66.66209909338231, 90.79994395289927, 41.48774405157887, 386.8375532410237, 65.29453320547688, 31.796032318099112, 53.40094540333688, 27.802062255239598, 21.385055149639925, 139.90432817119594, 28.478173577276312, 30.996348985289664, 56.98369016414669, 21.164010649983567, 65.99254276699338, 37.72916672741345, 26.186257852910977, 24.534928356509308, 20.163832820346897, 23.820019109021466, 19.361967585333463, 57.27419234527472, 206.73637447251778, 98.29512127546919, 45.9103784188912, 50.23656058298074, 460.10973153403796, 64.0223997766225, 81.55708396848823, 46.3768765573524, 93.11669370490992, 80.2280656860163, 46.40922249050351, 66.71762715732767, 90.72685300854893, 62.00889684819863, 73.55478440165035, 53.14620726703245, 48.43520694142941, 45.84501833603981, 46.22658098662636, 66.63955423944275, 40.81801843720695, 40.81791917729704, 31.87951372617314, 28.90024313904637, 37.31938513834965, 48.92914319800251, 35.21678986748736, 56.038152187114356, 31.10209320805042, 38.851304475274965, 45.92865138110713, 76.58142484172492, 79.0320083804092, 48.806081371896795, 45.50912376138373, 40.101265570780086, 76.60532433484742, 24.430817583994685, 44.40554361532165, 33.17839905624173, 26.728611723027438, 26.671058930142273, 66.43843809539683, 37.533147149925895, 74.80559333485162, 26.6574923603588, 72.63234623639892, 37.12493686918762, 111.82994383041768, 46.05394760217673, 133.16484174157094, 127.1395921067602, 130.50833644289557, 87.7815136609195, 138.4917323571183, 56.0848591090377, 61.8283578306334, 61.272276980709705, 65.38115603111498, 254.14145988185192, 68.49058123776456, 91.96332100264101, 229.56122668195997, 82.94603635168527, 66.40411882243221, 73.97075975461561, 54.787890781630644, 50.38331282266361, 83.55269964239352, 602.3684191460194, 34.755298912143566, 78.6921589528723, 46.30325923529825, 25.899880076953963, 94.89751675133671, 46.56669086843045, 69.77754690712158, 55.07746359465504, 84.37568309110813, 451.7677759246258, 111.92628524324884, 41.92308814954945, 25.128846022535747, 41.10390142790901, 29.453387495808535, 21.84663667236086, 42.28414861152667, 51.74545573496569, 19.210650542467658, 18.504467898985, 33.143918004487574, 41.19388328688561, 17.24450934312374, 124.79690628075964, 47.3970993479844, 68.07697189608609, 15.769269558082692, 23.38561610069554, 40.368791519698135, 184.77450330759146, 81.62882161227029, 60.08851982448488, 50.13145526673999, 101.53250248742783, 90.23038260038378, 72.53677296417142, 150.8190813782134, 58.85809195724569, 50.35351361633103, 67.89467097113312, 47.87923314922177, 43.89679998118765, 47.700288117606334, 44.29015343316887, 44.827410193155835, 62.12646711249832, 35.54296883623769, 37.28623750514931, 25.465534118815967, 66.9620607801692, 161.52825957112026, 60.96132560684789, 39.22875237331469, 39.666686293845956, 35.03918122926561, 149.0894284350666, 21.169905905694183, 42.519545017177684, 24.56262353469265, 21.522167881982053, 19.54986362621172, 20.967674904017958, 78.65221986229717, 25.00130613487783, 26.968980841153616, 24.911115417636818, 23.997068068001802, 18.96467548914921, 78.05844815980528, 122.25746352734583, 21.842317577675583, 22.495291278966125, 29.318071376121182, 32.3547294806777, 28.949716217093226, 114.37905943067092, 70.85920291488465, 44.88253663495818, 48.54718842876814, 53.99460884068917, 147.41137728655664, 37.06211577574158, 71.42826434698996, 49.60363687904807, 43.859635932694225, 33.15476676701314, 84.09648802955238, 53.307333634762536, 55.01931514054284, 44.87401626858863, 53.737735153328885, 58.170541897072695, 71.76831410537575, 58.8256291786044, 44.47414019376843, 44.15595922375625, 45.524980270238295, 40.651007978409936, 40.85313702478002, 109.22362051299424, 58.10177273211165, 28.608427283808425, 62.767608213939496, 37.753364155829054, 24.67670412204353, 42.101716116973385, 22.61791231452484, 28.575855500280763, 24.164735576900057, 67.5810399232353, 48.08687104637754, 19.668496226058522, 26.504671120388693, 26.41183773237856, 20.545975113472352, 28.406328566471903, 59.29519917787026, 24.026589635961837, 19.46488605076808, 18.830945800761995, 21.148018104092497, 48.94879181361397, 33.326967466682106, 28.113759628905676, 20.644741967656095, 33.03170301329081, 71.05257232609478, 107.98814539511646, 16.08740048321862, 41.676007468743606, 166.68056452950458, 80.65807948612722, 63.31321118754988, 46.80008175111673, 139.26577889537288, 88.62990964936591, 64.18930799871104, 75.47226264912327, 41.97191006255884, 49.27029927251782, 67.14474746340721, 50.448758102370476, 187.52970878226193, 137.28324517853156, 43.24931181721697, 48.612392144739914, 45.26223492678587, 46.09379306911064, 40.74766445566338, 56.520942853482666, 47.54157588999736, 62.98033265109295, 79.60464179884353, 37.35652002717389, 25.262696835448825, 61.51000512672738, 38.632838053535586, 76.29691633298282, 60.121619933722265, 28.128213245854507, 55.83395229477076, 25.958485995855572, 34.62892134031392, 35.925160465057814, 43.80589318677066, 81.97342384753611, 47.59714675178367, 39.59891830759407, 26.519180513507973, 27.27365098632994, 20.03054929756707, 75.22184700700386, 27.817376970034225, 17.916430595395727, 55.802752444509494, 190.08973073553477, 32.885632894855554, 42.78627475629689, 16.61653574172964, 43.198268256481306, 69.02262018423616, 91.10324934966762, 57.50176125063756, 94.52966833865698, 113.23955698822212, 51.42892277742421, 227.05473086750098, 62.64886060769209, 43.838759126390336, 45.549786075181494, 42.66185332962486, 38.75289288227641, 70.19328362711438, 41.56309444147797, 38.51876273648309, 49.36518731439672, 44.419266294124654, 24.645840984475324, 26.8881330502862, 36.24601779660601, 22.37499685508539, 51.14448003038567, 68.52097221111909, 22.631283909380972, 35.44792152617134, 28.546077796021567, 20.571721345011102, 44.55593252348493, 30.952445251488793, 34.44625189720353, 22.491107561428365, 18.505583886083556, 60.60728405137701, 28.26198647858995, 114.38798595581108, 19.27565537218494, 84.33602417721795, 60.13688242285386, 13.672948072158253, 35.66031690042938, 17.596381920584143, 13.258374550281443, 53.25309914403377, 710.1500423001811, 72.42129826831682, 41.34168070714529, 126.47670338487671, 92.26122082096339, 68.78632280968428, 320.49478552759206, 47.32104370845043, 48.68279366184141, 77.07618877112269, 58.68303650181963, 50.56010869164784, 71.78795593274694, 65.25620943288965, 53.116059521990344, 38.07558133165108, 37.64871143597288], \"Term\": [\"ect\", \"hou\", \"com\", \"enron\", \"power\", \"energy\", \"http\", \"ees\", \"subject\", \"original\", \"pm\", \"enron_development\", \"na\", \"gas\", \"said\", \"message\", \"sent\", \"cc\", \"www\", \"mail\", \"corp\", \"market\", \"credit\", \"company\", \"contract\", \"jeff\", \"forwarded\", \"doc\", \"california\", \"vince\", \"original\", \"drew\", \"hey\", \"sat\", \"dates\", \"kay\", \"thursday\", \"mann\", \"mailto\", \"bass\", \"sent\", \"fw\", \"message\", \"miller\", \"october\", \"et\", \"ge\", \"guys\", \"germany\", \"sun\", \"hi\", \"julie\", \"tony\", \"purpose\", \"scheduled\", \"fri\", \"floor\", \"happy\", \"wednesday\", \"eric\", \"subject\", \"pm\", \"monday\", \"friday\", \"thanks\", \"chris\", \"know\", \"tuesday\", \"let\", \"enron\", \"cc\", \"com\", \"john\", \"meeting\", \"send\", \"just\", \"mike\", \"time\", \"don\", \"good\", \"corp\", \"like\", \"jeff\", \"need\", \"hou\", \"ect\", \"enron_development\", \"lon\", \"vince\", \"shirley\", \"kaminski\", \"stephen\", \"hall\", \"enronxgate\", \"beck\", \"martin\", \"kate\", \"na\", \"ees\", \"beth\", \"lisa\", \"laura\", \"pdx\", \"sally\", \"azurix\", \"moore\", \"model\", \"forwarded\", \"sara\", \"shackleton\", \"elizabeth\", \"karen\", \"rebecca\", \"lunch\", \"corp\", \"mary\", \"enron\", \"cc\", \"david\", \"communications\", \"pm\", \"subject\", \"mark\", \"james\", \"mike\", \"john\", \"richard\", \"thanks\", \"team\", \"meeting\", \"concern\", \"size\", \"bids\", \"economic\", \"concerns\", \"commission\", \"fact\", \"control\", \"ferc\", \"usd\", \"proposal\", \"various\", \"problems\", \"issue\", \"policy\", \"effect\", \"understanding\", \"determine\", \"alternative\", \"pricing\", \"regulatory\", \"rules\", \"proposed\", \"given\", \"level\", \"leslie\", \"filed\", \"court\", \"product\", \"competitive\", \"market\", \"capacity\", \"filing\", \"process\", \"believe\", \"specific\", \"demand\", \"cost\", \"plan\", \"issues\", \"support\", \"needs\", \"order\", \"price\", \"think\", \"need\", \"day\", \"meeting\", \"make\", \"new\", \"like\", \"provide\", \"working\", \"prices\", \"work\", \"week\", \"time\", \"mark\", \"hotmail\", \"class\", \"asp\", \"color\", \"taxes\", \"privacy\", \"link\", \"image\", \"agent\", \"html\", \"click\", \"face\", \"http\", \"check\", \"stop\", \"database\", \"man\", \"yahoo\", \"free\", \"story\", \"unsubscribe\", \"money\", \"learn\", \"home\", \"old\", \"download\", \"life\", \"resume\", \"saturday\", \"registration\", \"left\", \"www\", \"net\", \"world\", \"great\", \"com\", \"news\", \"just\", \"web\", \"mail\", \"like\", \"tax\", \"today\", \"new\", \"email\", \"time\", \"don\", \"ll\", \"end\", \"know\", \"operations\", \"broadband\", \"media\", \"expense\", \"directors\", \"fund\", \"venture\", \"series\", \"partners\", \"investors\", \"dec\", \"ceo\", \"technology\", \"capital\", \"network\", \"software\", \"vice\", \"global\", \"reporting\", \"groups\", \"focus\", \"solutions\", \"notes\", \"internet\", \"executive\", \"firm\", \"commerce\", \"president\", \"chairman\", \"management\", \"products\", \"services\", \"group\", \"business\", \"million\", \"company\", \"board\", \"development\", \"companies\", \"risk\", \"com\", \"trading\", \"said\", \"enron\", \"www\", \"report\", \"new\", \"service\", \"team\", \"plant\", \"power\", \"plants\", \"electricity\", \"edison\", \"crisis\", \"electric\", \"mw\", \"utilities\", \"pg\", \"generation\", \"energy\", \"utility\", \"retail\", \"pdf\", \"calif\", \"generators\", \"bills\", \"htm\", \"transmission\", \"grid\", \"southern\", \"wholesale\", \"rates\", \"sites\", \"california\", \"sell\", \"prices\", \"emergency\", \"corporation\", \"industry\", \"gas\", \"natural\", \"markets\", \"online\", \"new\", \"http\", \"www\", \"com\", \"services\", \"state\", \"corp\", \"access\", \"rate\", \"market\", \"based\", \"report\", \"counterparty\", \"alberta\", \"obligations\", \"settlement\", \"securities\", \"credit\", \"deals\", \"positions\", \"master\", \"isda\", \"contract\", \"canada\", \"payment\", \"phase\", \"sitara\", \"payments\", \"peak\", \"party\", \"flow\", \"confirm\", \"volume\", \"bankruptcy\", \"arnold\", \"shall\", \"deal\", \"entry\", \"ii\", \"different\", \"paid\", \"storage\", \"agreement\", \"transaction\", \"transactions\", \"option\", \"cash\", \"gas\", \"options\", \"changes\", \"position\", \"month\", \"language\", \"need\", \"financial\", \"date\", \"point\", \"issues\", \"price\", \"thanks\", \"time\", \"legal\", \"questions\", \"know\", \"tax\", \"new\", \"edu\", \"travel\", \"university\", \"hotel\", \"delete\", \"ticket\", \"confidential\", \"attachments\", \"rice\", \"copies\", \"intended\", \"recipient\", \"prohibited\", \"card\", \"sender\", \"entities\", \"carol\", \"ena\", \"tx\", \"clair\", \"xls\", \"pa\", \"documents\", \"st\", \"requested\", \"express\", \"oct\", \"thank\", \"doc\", \"telephone\", \"points\", \"mail\", \"contact\", \"number\", \"form\", \"information\", \"email\", \"fax\", \"attached\", \"request\", \"received\", \"questions\", \"office\", \"enron\", \"com\", \"phone\", \"use\", \"list\", \"houston\", \"following\", \"quarter\", \"season\", \"northwest\", \"stock\", \"schedules\", \"goal\", \"hour\", \"sunday\", \"game\", \"earnings\", \"reported\", \"dow\", \"shares\", \"play\", \"percent\", \"billion\", \"final\", \"india\", \"updated\", \"field\", \"reserved\", \"loss\", \"buy\", \"preferred\", \"johnson\", \"portland\", \"said\", \"copyright\", \"details\", \"hit\", \"second\", \"jones\", \"natural\", \"texas\", \"year\", \"company\", \"schedule\", \"enron\", \"time\", \"million\", \"week\", \"gas\", \"general\", \"dasovich\", \"mara\", \"shapiro\", \"cpuc\", \"gov\", \"senate\", \"sanders\", \"steffes\", \"epmi\", \"joe\", \"ca\", \"memo\", \"kean\", \"pge\", \"alan\", \"committee\", \"duke\", \"org\", \"governor\", \"sue\", \"draft\", \"ken\", \"jeff\", \"hearing\", \"comments\", \"richard\", \"cap\", \"steven\", \"calpine\", \"ball\", \"iso\", \"com\", \"doc\", \"susan\", \"ees\", \"na\", \"california\", \"enron\", \"steve\", \"state\", \"cc\", \"forwarded\", \"attached\", \"subject\", \"pm\", \"energy\", \"net\", \"mail\"], \"Total\": [2317.0, 1215.0, 2216.0, 3262.0, 631.0, 559.0, 488.0, 452.0, 889.0, 369.0, 730.0, 289.0, 352.0, 395.0, 309.0, 486.0, 457.0, 577.0, 366.0, 347.0, 537.0, 392.0, 185.0, 327.0, 182.0, 203.0, 286.0, 181.0, 225.0, 180.0, 369.3897099784597, 34.386383849222696, 28.492570645116636, 61.90341664515185, 34.39785362701477, 130.6991661697321, 183.8634762966223, 73.73876624991898, 128.7174238493844, 28.51303117604301, 457.00507499091333, 64.8798226598558, 486.61330198212266, 34.4259797956063, 217.50911465996077, 124.99452480684732, 56.13247847811417, 43.3016600302745, 27.571264660751027, 27.578913970252536, 46.21959508386693, 34.44972761553392, 35.426359280623856, 41.31486463083507, 73.7917474791509, 55.178004676850655, 35.413768274742736, 42.309413450022795, 115.24820014467072, 67.91307609029249, 889.4111873610881, 730.9453354809118, 163.45184751471587, 177.1471413150163, 361.12908260425144, 96.51822760094792, 336.77330142721974, 164.57472259088362, 228.43403089334055, 3262.917485430251, 577.0277834087809, 2216.532111945039, 210.05726191067566, 253.63637483492133, 150.7210528492915, 247.56716206200826, 151.78703922446692, 410.4794100111869, 184.2856002427108, 170.63331869781828, 537.7414827244394, 271.40214851294934, 203.07922322993005, 340.3259579926807, 1215.1184444662103, 2317.4259384577094, 289.92540432052084, 86.08608209843796, 180.09006201191843, 27.7049166969321, 113.77888500770077, 36.61550834048476, 36.598909448618635, 78.0748221675262, 30.653225332797653, 33.59690715415503, 39.521223534581935, 352.053343600576, 452.93282424167694, 31.599842887060586, 40.52326656471765, 27.65105858500455, 56.35956887582275, 52.5049230349686, 59.44026128026558, 27.65464446301443, 29.69960106074376, 286.4962250384745, 64.15627931578453, 43.42129195801613, 40.46908241999473, 27.690404617203306, 28.73652377146068, 32.62417944048898, 537.7414827244394, 76.98683773477872, 3262.917485430251, 577.0277834087809, 134.3016535989956, 84.14659678118537, 730.9453354809118, 889.4111873610881, 201.61585045699897, 106.6010830483778, 151.78703922446692, 210.05726191067566, 116.5762936590806, 361.12908260425144, 150.38362604833125, 253.63637483492133, 31.710842376120087, 58.47022041524749, 38.63707899661642, 28.732305991702123, 47.57858840944769, 126.87245404362781, 44.55833433150199, 41.635596973629035, 132.7538813530484, 33.68976796391521, 56.478815503155424, 32.68034964904749, 57.42843316401335, 130.69444243084806, 71.33010511883089, 33.65423142558454, 44.528161914898625, 32.6642639317628, 27.761930622389578, 37.64772859037874, 60.45212682851515, 40.615815201713275, 58.48907342624669, 66.32770549780328, 46.52926779339991, 35.63943091617166, 26.72211298983184, 33.63570196515551, 65.43925098159546, 34.68150274521195, 392.6095125781122, 84.21286547977225, 46.52138576144505, 113.72756210385835, 100.8231284172832, 61.447529574803596, 72.3209250482201, 95.08691029067826, 127.76306576471013, 163.10107910206418, 123.67900835864832, 78.24718523152538, 175.94629408072456, 210.76731217929117, 189.481456800365, 340.3259579926807, 213.33210620624567, 253.63637483492133, 241.01755790556487, 498.75228057222023, 271.40214851294934, 142.42313220494535, 124.51764573854912, 126.99655132685491, 184.56502479069417, 198.50480116059256, 410.4794100111869, 201.61585045699897, 35.52717674143334, 33.5535158223352, 94.76103846883309, 41.454068892864896, 31.582887462418146, 32.57375885010454, 74.0477043775678, 73.05818954300693, 26.63402112361146, 78.03063232779039, 107.64095258594766, 49.38302341568327, 488.1266236307777, 82.88269522782167, 40.4403233104411, 68.11547789421877, 35.50883298940794, 27.615936171769878, 181.8265131083116, 37.55575339137683, 41.51188263075678, 77.03685881478695, 28.639900448923324, 90.88237875240155, 52.26057368939974, 36.57773699519493, 34.51407741577474, 28.63383883537918, 34.54782463853739, 28.597862167190666, 84.90755991193522, 366.13370665735226, 178.73203995007597, 75.18281621680953, 92.70187165826587, 2216.532111945039, 154.46744849925096, 247.56716206200826, 93.06067992344104, 347.72826367256897, 271.40214851294934, 93.68203919663902, 212.29256932548412, 498.75228057222023, 201.90031688148395, 410.4794100111869, 184.2856002427108, 132.0435952482251, 142.4044270904846, 336.77330142721974, 67.52854865053953, 41.706887196336325, 41.70688695586417, 32.76861781121211, 29.789196591845897, 40.70848540383978, 53.612002698650684, 39.71301569656466, 63.51185238399168, 35.74937684847336, 44.66593562154511, 53.62699573467663, 90.37537314877878, 94.2577779553352, 58.51654250690813, 54.603141741568805, 49.65509210868509, 95.19777681489214, 30.754571778709536, 56.49356156136884, 42.671509416021, 34.749614189278645, 35.68939931383886, 89.29409986656462, 50.64248809029335, 102.17221761681327, 36.72073921358829, 100.23257597179865, 51.641947392466825, 157.64635865780608, 67.38075451260045, 227.31109752546016, 224.00927480402498, 251.61648629112958, 167.6860387951514, 327.9868323292299, 91.24103624811151, 115.96929408551213, 118.0630353021671, 133.86843551614803, 2216.532111945039, 155.55452875571333, 309.1776118551719, 3262.917485430251, 366.13370665735226, 198.20276320143438, 498.75228057222023, 156.50285689042525, 150.38362604833125, 84.44158873706282, 631.7005499959248, 36.746911562982994, 83.42378482502487, 49.65937691360974, 27.805578063471863, 106.27265583345327, 52.63103991276032, 81.39324643000538, 65.48441386757275, 103.23768479815368, 559.8378229601631, 139.96420572403625, 54.59583665497378, 34.66834059108601, 57.6117069625411, 42.67904470092137, 31.720924288030787, 63.43785984503616, 79.37586033139853, 29.71837011848451, 28.762761737454735, 51.6283871413521, 67.4215035623033, 28.780827373556956, 225.96070424515182, 86.28175600325729, 126.99655132685491, 30.70104154090719, 46.47701695586771, 80.43153095434644, 395.85113185165403, 173.52195831612562, 142.88856044565094, 128.89634046607318, 498.75228057222023, 488.1266236307777, 366.13370665735226, 2216.532111945039, 227.31109752546016, 154.38487411323086, 537.7414827244394, 138.3938520458303, 124.754515037679, 392.6095125781122, 143.77552136860223, 198.20276320143438, 63.016192218494, 36.43272967870236, 39.39441848586807, 27.582334121599715, 75.86253664154697, 185.24278075270422, 70.95527109273925, 46.31648891256492, 47.27840808772319, 42.330653448715005, 182.1507987113831, 27.601602162415023, 56.198010152773065, 32.53532556671395, 28.54197845130159, 26.642300518342516, 28.60025712482828, 111.32680791482304, 35.513658375509486, 38.38623303943808, 35.49247039055394, 34.55035781551649, 27.622390128498743, 114.32658923538803, 181.5073428043632, 32.55872130753672, 33.54373991003206, 45.34244855384338, 50.279595106159746, 45.43286874907159, 181.24061557960886, 116.511055480462, 72.10850208352475, 80.81826293953475, 93.75060213536032, 395.85113185165403, 63.17161866528672, 161.96130354659314, 101.7347150501458, 89.90608407107646, 57.202304395893876, 340.3259579926807, 152.32402422724806, 163.78616514482994, 109.70707976071596, 163.10107910206418, 210.76731217929117, 361.12908260425144, 410.4794100111869, 129.2026756353936, 212.85460742669522, 336.77330142721974, 93.68203919663902, 498.75228057222023, 110.11353392399771, 58.99171570002248, 29.49835857048728, 66.89039257115387, 41.29351565142938, 27.53505485779533, 50.172032393890085, 27.52881911897676, 35.42096077470444, 31.481063293990193, 89.5313432789455, 63.90928039766185, 26.55875629951429, 37.400958572098645, 37.391887803647556, 29.535641681905354, 42.36332029649961, 88.74885187264034, 36.455805029194124, 29.557876482047064, 29.517439950730886, 33.538599321719104, 77.75159143263068, 53.2474803155431, 45.27734273868983, 33.51701561042118, 55.20015739853661, 119.0513473406567, 181.2005973062915, 27.555129187144065, 72.00918722739632, 347.72826367256897, 168.20098510941568, 126.25951692087907, 87.73820544908425, 348.23291374692155, 201.90031688148395, 132.85413745940522, 205.79608468422344, 86.76797098962317, 116.42843668766372, 212.85460742669522, 138.87354009987308, 3262.917485430251, 2216.532111945039, 120.06883712836012, 191.4640023692446, 163.53678703533015, 179.41097565470494, 173.80286743340045, 57.41013639705065, 49.48559114179583, 69.30834943648726, 88.11613385351706, 41.57639380281633, 28.713109296728597, 70.28585278279645, 44.52983489943512, 88.0489632853274, 70.28212634862071, 34.626135674583324, 72.31506504506203, 33.638779995349594, 45.497036228568035, 47.55080430464549, 59.44103438452071, 120.63240367124716, 71.3156869326876, 60.32581192925394, 40.55892960006431, 42.5071382827626, 31.652653586283495, 119.67094777941054, 44.51703348912, 28.67344195055026, 89.88864451681108, 309.1776118551719, 53.48993619960344, 71.23814394402203, 27.714354041779877, 77.11563697016902, 127.66267646213224, 173.52195831612562, 117.50968729274013, 234.53226109433183, 327.9868323292299, 123.38340873436552, 3262.917485430251, 410.4794100111869, 167.6860387951514, 198.50480116059256, 395.85113185165403, 122.55254656287444, 71.08273007762118, 42.45253433385221, 39.49097926662031, 53.32035365753189, 49.38892160729092, 29.644139030330606, 32.58141545824347, 44.44374554920953, 29.633409422013475, 72.13068859690257, 97.73834424726331, 32.55952889225067, 52.361665200474164, 42.44452160380592, 30.630297420108825, 69.19426520696423, 48.471854204009745, 54.29148753804505, 36.61222686677405, 30.643763204132586, 100.60393182124159, 48.45560472337415, 203.07922322993005, 34.51577237690458, 156.06128266569803, 116.5762936590806, 26.688136693096155, 70.07347485938396, 36.64319238941572, 27.669135408185575, 117.73668729372173, 2216.532111945039, 181.2005973062915, 96.62279344613853, 452.93282424167694, 352.053343600576, 225.96070424515182, 3262.917485430251, 130.19139589793627, 154.38487411323086, 577.0277834087809, 286.4962250384745, 205.79608468422344, 889.4111873610881, 730.9453354809118, 559.8378229601631, 178.73203995007597, 347.72826367256897], \"loglift\": [30.0, 29.0, 28.0, 27.0, 26.0, 25.0, 24.0, 23.0, 22.0, 21.0, 20.0, 19.0, 18.0, 17.0, 16.0, 15.0, 14.0, 13.0, 12.0, 11.0, 10.0, 9.0, 8.0, 7.0, 6.0, 5.0, 4.0, 3.0, 2.0, 1.0, 1.8315, 1.8271, 1.8216, 1.8198, 1.7963, 1.7953, 1.7231, 1.7206, 1.7146, 1.7144, 1.7057, 1.6988, 1.6657, 1.6503, 1.5965, 1.5939, 1.5829, 1.5686, 1.5571, 1.5523, 1.5331, 1.5273, 1.5182, 1.5166, 1.516, 1.5147, 1.5099, 1.508, 1.485, 1.459, 1.3492, 1.3046, 1.4088, 1.3858, 1.3045, 1.4237, 1.2487, 1.3387, 1.2792, 0.5421, 0.8328, 0.3649, 0.9451, 0.856, 1.0894, 0.8486, 1.0521, 0.4274, 0.9226, 0.9674, 0.0287, 0.571, 0.8129, 0.3421, 2.0183, 2.0172, 2.016, 2.0087, 2.0076, 1.9864, 1.9662, 1.9169, 1.8415, 1.8237, 1.7949, 1.7233, 1.7151, 1.7121, 1.6656, 1.6619, 1.6274, 1.6165, 1.6119, 1.6017, 1.6009, 1.575, 1.5597, 1.5556, 1.5526, 1.5348, 1.5316, 1.512, 1.4838, 1.4828, 1.465, 1.4462, 1.1526, 1.2064, 1.2967, 1.3305, 0.7411, 0.5408, 0.9827, 1.0861, 0.8798, 0.6726, 0.983, 0.0588, 0.7015, 0.0703, 2.0093, 1.9863, 1.9369, 1.926, 1.9194, 1.8966, 1.8425, 1.8347, 1.8281, 1.8257, 1.8157, 1.7995, 1.7992, 1.7782, 1.7773, 1.7734, 1.7548, 1.7445, 1.741, 1.7358, 1.7358, 1.7244, 1.7179, 1.716, 1.7077, 1.7032, 1.6995, 1.6899, 1.6882, 1.6841, 1.6703, 1.6504, 1.669, 1.6028, 1.5915, 1.6458, 1.624, 1.5843, 1.5375, 1.4123, 1.4384, 1.5593, 1.3193, 1.1434, 1.1826, 0.8364, 1.0407, 0.928, 0.9534, 0.5395, 0.7545, 1.1572, 1.2361, 1.1507, 0.7803, 0.7034, 0.0206, 0.6212, 2.2067, 2.2052, 2.1815, 2.1756, 2.1707, 2.1686, 2.1437, 2.119, 2.0945, 2.0746, 2.0619, 2.0578, 1.9995, 1.9935, 1.9916, 1.9887, 1.9874, 1.9763, 1.97, 1.9554, 1.9399, 1.9305, 1.9296, 1.912, 1.9062, 1.8978, 1.8908, 1.8814, 1.8602, 1.842, 1.8383, 1.6605, 1.6341, 1.7388, 1.6194, 0.6598, 1.3513, 1.1217, 1.5356, 0.9145, 1.0133, 1.5296, 1.0746, 0.5278, 1.0516, 0.5128, 0.9886, 1.2291, 1.0986, 0.2462, 2.3476, 2.3393, 2.3393, 2.3333, 2.3306, 2.2739, 2.2695, 2.2407, 2.2357, 2.2216, 2.2214, 2.2059, 2.1952, 2.1847, 2.1794, 2.1787, 2.1472, 2.1436, 2.1307, 2.1201, 2.1092, 2.0984, 2.0696, 2.0652, 2.0613, 2.0491, 2.0406, 2.0388, 2.0308, 2.0175, 1.9803, 1.8261, 1.7944, 1.7044, 1.7136, 1.4987, 1.8742, 1.7319, 1.705, 1.6442, 0.195, 1.5406, 1.1483, -0.2934, 0.876, 1.2673, 0.4524, 1.3112, 1.2673, 2.4166, 2.3797, 2.3715, 2.3688, 2.3572, 2.3562, 2.314, 2.3048, 2.2732, 2.2542, 2.2255, 2.2127, 2.2037, 2.1631, 2.1054, 2.0896, 2.0563, 2.0543, 2.0216, 1.9994, 1.9909, 1.9862, 1.984, 1.9345, 1.915, 1.8335, 1.8282, 1.8037, 1.761, 1.7404, 1.7379, 1.6653, 1.6731, 1.561, 1.4829, 0.8355, 0.739, 0.8083, -0.2604, 1.076, 1.3068, 0.3578, 1.3658, 1.3827, 0.3193, 1.2497, 0.9408, 2.507, 2.4965, 2.4662, 2.4413, 2.3964, 2.3842, 2.3694, 2.3551, 2.3456, 2.3321, 2.3209, 2.2559, 2.2423, 2.2401, 2.2389, 2.2117, 2.2107, 2.1737, 2.1702, 2.1682, 2.1672, 2.1567, 2.1451, 2.1396, 2.126, 2.122, 2.1216, 2.0851, 2.0803, 2.0705, 2.0609, 2.0239, 2.0471, 2.0115, 1.9694, 1.5334, 1.9879, 1.7025, 1.8029, 1.8034, 1.9758, 1.1232, 1.4712, 1.4303, 1.6272, 1.4109, 1.2338, 0.9054, 0.5784, 1.4547, 0.9483, 0.52, 1.6863, 0.0191, 2.5847, 2.5776, 2.5622, 2.5292, 2.5032, 2.4832, 2.4175, 2.3963, 2.3781, 2.3283, 2.3116, 2.3084, 2.2925, 2.2485, 2.2452, 2.2299, 2.1932, 2.1895, 2.1759, 2.1751, 2.1434, 2.1317, 2.1301, 2.1242, 2.1163, 2.1082, 2.0793, 2.0767, 2.0752, 2.0547, 2.046, 1.8575, 1.8579, 1.9026, 1.9644, 1.6763, 1.7695, 1.8654, 1.5897, 1.8666, 1.7329, 1.4391, 1.5802, -0.2636, -0.1888, 1.5717, 1.222, 1.3083, 1.2338, 1.1423, 2.6228, 2.5984, 2.5427, 2.5369, 2.5314, 2.5104, 2.5051, 2.4964, 2.4952, 2.4823, 2.4306, 2.3798, 2.3793, 2.3655, 2.3581, 2.3332, 2.2521, 2.2341, 2.2175, 2.2136, 2.1947, 2.1809, 2.1741, 2.1682, 2.1682, 2.1617, 2.152, 2.152, 2.1286, 2.1269, 2.0589, 2.0235, 1.9941, 1.9237, 1.7298, 1.575, 1.7633, -0.0267, 0.7587, 1.2969, 1.1664, 0.4107, 1.4871, 2.7423, 2.7337, 2.7299, 2.6778, 2.6488, 2.5702, 2.5628, 2.551, 2.4739, 2.411, 2.3997, 2.3911, 2.3647, 2.3582, 2.3568, 2.3147, 2.3063, 2.2999, 2.2676, 2.2505, 2.2481, 2.2157, 2.1809, 2.1723, 2.1394, 2.0929, 2.0861, 2.0793, 2.0213, 2.0192, 1.9615, 1.6166, 1.8377, 1.9059, 1.4792, 1.4157, 1.5655, 0.4343, 1.7428, 1.6007, 0.7418, 1.1693, 1.3511, 0.238, 0.3388, 0.3997, 1.2085, 0.5317], \"logprob\": [30.0, 29.0, 28.0, 27.0, 26.0, 25.0, 24.0, 23.0, 22.0, 21.0, 20.0, 19.0, 18.0, 17.0, 16.0, 15.0, 14.0, 13.0, 12.0, 11.0, 10.0, 9.0, 8.0, 7.0, 6.0, 5.0, 4.0, 3.0, 2.0, 1.0, -3.5734, -5.952, -6.1455, -5.3714, -5.9825, -4.6485, -4.3795, -5.2957, -4.7446, -6.252, -3.4864, -5.4454, -3.4636, -6.1276, -4.338, -4.8947, -5.7062, -5.98, -6.443, -6.4474, -5.9503, -6.25, -6.2311, -6.079, -5.4995, -5.7915, -6.2398, -6.0638, -5.0847, -5.6396, -3.177, -3.4178, -4.8115, -4.754, -4.1231, -5.3234, -4.2487, -4.8747, -4.6064, -2.6843, -4.1261, -3.2482, -5.0243, -4.9249, -5.2119, -4.9565, -5.2422, -4.8721, -5.1777, -5.2098, -5.0007, -5.1422, -5.1903, -5.1447, -2.1959, -1.5514, -3.6312, -4.8528, -4.1157, -6.0087, -4.6164, -5.7994, -5.8752, -5.1354, -6.0991, -6.079, -5.9249, -3.7409, -3.5355, -6.2017, -5.9875, -6.3806, -5.6731, -5.7542, -5.6309, -6.422, -6.3659, -4.1035, -5.6028, -6.0111, -6.0847, -6.4837, -6.4748, -6.3489, -3.5644, -5.527, -2.0739, -3.7525, -5.12, -5.5538, -3.9813, -3.9854, -5.0277, -5.5616, -5.4145, -5.2968, -5.5752, -5.3688, -5.6021, -5.7106, -5.8508, -5.262, -5.7257, -6.0327, -5.535, -4.577, -5.6775, -5.7531, -4.6002, -5.9738, -5.4673, -6.0305, -5.4671, -4.6658, -5.2722, -6.0272, -5.7658, -6.086, -6.2521, -5.9527, -5.4791, -5.8883, -5.53, -5.4062, -5.769, -6.0402, -6.3318, -6.1113, -5.4474, -6.0865, -3.6736, -5.2331, -5.8079, -4.9802, -5.112, -5.5528, -5.4116, -5.1777, -4.9291, -4.8101, -5.0607, -5.3976, -4.8273, -4.8226, -4.8899, -4.6505, -4.9133, -4.8529, -4.8785, -4.5651, -4.9587, -5.2008, -5.2562, -5.3219, -5.3185, -5.3226, -5.2789, -5.3892, -5.5398, -5.5985, -4.5839, -5.4166, -5.6935, -5.6647, -4.8684, -4.9065, -5.9401, -4.8851, -4.5761, -5.3593, -3.1267, -4.9058, -5.6254, -5.1069, -5.7596, -6.022, -4.1438, -5.7356, -5.6509, -5.042, -6.0324, -4.8952, -5.4543, -5.8195, -5.8846, -6.0808, -5.9142, -6.1214, -5.0369, -3.7533, -4.4968, -5.258, -5.168, -2.9533, -4.9255, -4.6834, -5.2479, -4.5509, -4.6999, -5.2472, -4.8843, -4.5769, -4.9575, -4.7867, -5.1117, -5.2045, -5.2595, -5.2512, -4.7566, -5.2468, -5.2468, -5.494, -5.5921, -5.3364, -5.0656, -5.3944, -4.9299, -5.5187, -5.2962, -5.1288, -4.6176, -4.5861, -5.0681, -5.138, -5.2645, -4.6173, -5.7601, -5.1626, -5.454, -5.6702, -5.6724, -4.7597, -5.3307, -4.641, -5.6729, -4.6705, -5.3416, -4.239, -5.1261, -4.0644, -4.1107, -4.0845, -4.4811, -4.0251, -4.9291, -4.8316, -4.8406, -4.7757, -3.418, -4.7292, -4.4345, -3.5198, -4.5377, -4.7602, -4.6523, -4.9525, -5.0363, -4.4641, -2.4887, -5.3412, -4.524, -5.0544, -5.6353, -4.3368, -5.0487, -4.6443, -4.8808, -4.4543, -2.7764, -4.1717, -5.1537, -5.6655, -5.1735, -5.5068, -5.8055, -5.1452, -4.9432, -5.9341, -5.9716, -5.3887, -5.1713, -6.0421, -4.0629, -5.031, -4.6689, -6.1315, -5.7374, -5.1915, -3.6704, -4.4874, -4.7937, -4.9749, -4.2692, -4.3872, -4.6055, -3.8735, -4.8144, -4.9705, -4.6716, -5.0209, -5.1077, -5.0246, -5.0988, -5.0867, -4.6664, -5.2249, -5.177, -5.5583, -4.5915, -3.7109, -4.6854, -5.1262, -5.1151, -5.2391, -3.7911, -5.743, -5.0456, -5.5944, -5.7265, -5.8226, -5.7526, -4.4306, -5.5767, -5.5009, -5.5803, -5.6177, -5.853, -4.4381, -3.9895, -5.7118, -5.6823, -5.4174, -5.3188, -5.43, -4.0561, -4.5349, -4.9916, -4.9131, -4.8067, -3.8024, -5.183, -4.5269, -4.8915, -5.0146, -5.2944, -4.3636, -4.8195, -4.7879, -4.9917, -4.8115, -4.7322, -4.5222, -4.721, -5.0007, -5.0079, -4.9773, -5.0906, -5.0856, -4.0306, -4.6618, -5.3703, -4.5845, -5.0929, -5.5181, -4.9839, -5.6052, -5.3714, -5.5391, -4.5106, -4.8509, -5.7449, -5.4466, -5.4501, -5.7013, -5.3773, -4.6414, -5.5448, -5.7553, -5.7885, -5.6724, -4.8332, -5.2176, -5.3877, -5.6965, -5.2265, -4.4605, -4.0419, -5.9459, -4.994, -3.6079, -4.3337, -4.5759, -4.8781, -3.7876, -4.2395, -4.5621, -4.4002, -4.987, -4.8266, -4.5171, -4.803, -3.49, -3.8019, -4.957, -4.8401, -4.9115, -4.8933, -5.0166, -4.6437, -4.8167, -4.5355, -4.3013, -5.0578, -5.449, -4.5591, -5.0242, -4.3437, -4.582, -5.3416, -4.656, -5.4218, -5.1337, -5.0969, -4.8986, -4.2719, -4.8156, -4.9995, -5.4005, -5.3724, -5.6811, -4.3579, -5.3527, -5.7926, -4.6565, -3.4308, -5.1853, -4.9221, -5.8679, -4.9125, -4.4439, -4.1664, -4.6265, -4.1294, -3.9488, -4.7381, -3.2532, -4.5408, -4.8978, -4.8595, -4.925, -5.0211, -4.3107, -4.8347, -4.9108, -4.6627, -4.7683, -5.3573, -5.2702, -4.9716, -5.454, -4.6273, -4.3348, -5.4426, -4.9939, -5.2104, -5.538, -4.7652, -5.1295, -5.0225, -5.4488, -5.6439, -4.4575, -5.2204, -3.8223, -5.6031, -4.1271, -4.4653, -5.9465, -4.9879, -5.6942, -5.9773, -4.5869, -1.9965, -4.2794, -4.8401, -3.7219, -4.0373, -4.3309, -2.7921, -4.705, -4.6766, -4.2171, -4.4898, -4.6388, -4.2882, -4.3836, -4.5895, -4.9224, -4.9336]}, \"token.table\": {\"Topic\": [1, 4, 5, 6, 8, 10, 1, 4, 1, 5, 6, 7, 9, 2, 5, 10, 7, 3, 6, 3, 7, 4, 5, 1, 2, 3, 7, 8, 10, 1, 8, 2, 5, 4, 9, 10, 6, 7, 3, 5, 6, 8, 9, 10, 1, 2, 2, 5, 8, 1, 3, 5, 8, 9, 1, 2, 1, 3, 6, 5, 6, 9, 1, 4, 6, 10, 2, 3, 5, 9, 10, 5, 2, 3, 4, 5, 6, 7, 8, 9, 1, 2, 4, 5, 6, 9, 1, 3, 5, 6, 10, 5, 6, 6, 9, 10, 6, 10, 6, 7, 8, 2, 9, 10, 1, 3, 5, 6, 5, 10, 4, 8, 2, 8, 2, 4, 6, 7, 9, 1, 2, 3, 7, 8, 10, 5, 6, 5, 6, 1, 2, 3, 5, 6, 7, 8, 10, 1, 3, 4, 6, 1, 2, 5, 10, 2, 8, 4, 2, 3, 4, 6, 3, 4, 1, 2, 4, 5, 6, 8, 10, 1, 3, 4, 9, 10, 5, 6, 9, 10, 3, 6, 10, 2, 3, 5, 9, 10, 2, 5, 8, 10, 3, 4, 5, 6, 8, 9, 1, 2, 4, 5, 6, 7, 9, 3, 4, 6, 3, 3, 6, 1, 3, 8, 7, 8, 1, 2, 4, 7, 8, 9, 10, 1, 5, 6, 7, 3, 5, 1, 5, 8, 10, 4, 5, 6, 9, 1, 2, 5, 6, 8, 9, 6, 8, 9, 3, 5, 6, 8, 7, 3, 6, 8, 9, 10, 4, 6, 7, 4, 6, 10, 1, 4, 5, 1, 2, 3, 4, 5, 6, 7, 8, 9, 10, 1, 6, 1, 2, 4, 5, 6, 8, 10, 1, 2, 3, 4, 6, 7, 9, 1, 5, 6, 7, 9, 4, 5, 7, 4, 5, 9, 1, 8, 3, 5, 6, 8, 2, 4, 5, 9, 3, 6, 7, 1, 2, 3, 5, 6, 7, 2, 4, 7, 5, 8, 10, 7, 8, 10, 1, 2, 3, 4, 5, 7, 9, 10, 6, 9, 4, 6, 1, 2, 10, 1, 4, 6, 10, 4, 6, 9, 3, 4, 9, 2, 10, 2, 6, 8, 2, 5, 10, 3, 4, 7, 3, 6, 6, 10, 1, 2, 8, 1, 2, 4, 5, 6, 8, 4, 6, 10, 1, 5, 8, 2, 3, 4, 5, 6, 7, 8, 9, 5, 6, 8, 9, 10, 1, 2, 3, 5, 8, 9, 10, 2, 1, 2, 2, 8, 10, 3, 7, 2, 9, 10, 1, 2, 5, 10, 1, 2, 3, 10, 5, 6, 9, 5, 5, 8, 9, 3, 4, 6, 1, 3, 4, 1, 2, 4, 8, 9, 10, 3, 6, 10, 1, 6, 7, 9, 3, 6, 8, 3, 7, 10, 3, 7, 8, 9, 10, 4, 5, 6, 7, 9, 5, 6, 7, 9, 10, 1, 4, 10, 3, 5, 7, 5, 9, 1, 2, 3, 4, 5, 6, 7, 8, 2, 3, 5, 6, 7, 8, 1, 2, 4, 10, 2, 4, 6, 1, 5, 1, 3, 4, 6, 8, 9, 3, 5, 1, 10, 1, 4, 9, 3, 6, 7, 9, 1, 5, 2, 5, 6, 8, 9, 10, 6, 9, 10, 3, 6, 10, 1, 6, 9, 2, 3, 5, 7, 9, 2, 5, 7, 5, 6, 9, 1, 3, 4, 9, 6, 10, 6, 10, 1, 4, 6, 9, 2, 6, 7, 1, 2, 3, 5, 6, 8, 9, 10, 1, 5, 10, 1, 2, 9, 2, 10, 1, 2, 4, 7, 1, 6, 8, 9, 10, 1, 1, 4, 6, 7, 4, 6, 9, 1, 4, 5, 6, 6, 8, 4, 2, 2, 3, 9, 1, 2, 3, 4, 5, 8, 9, 1, 4, 6, 4, 5, 6, 4, 5, 6, 8, 2, 3, 7, 4, 5, 10, 3, 5, 6, 9, 4, 5, 6, 1, 2, 3, 4, 5, 6, 7, 8, 10, 1, 3, 7, 8, 9, 4, 5, 6, 5, 6, 7, 8, 3, 6, 9, 10, 3, 4, 5, 6, 7, 1, 2, 3, 4, 6, 7, 10, 1, 2, 5, 9, 10, 1, 2, 5, 10, 2, 3, 10, 1, 2, 5, 6, 7, 8, 10, 2, 8, 9, 1, 2, 4, 6, 9, 1, 2, 1, 2, 3, 4, 5, 6, 7, 9, 2, 4, 2, 3, 10, 1, 2, 10, 1, 2, 2, 10, 2, 3, 5, 10, 1, 2, 3, 4, 7, 9, 3, 4, 7, 10, 2, 8, 4, 5, 6, 8, 10, 4, 8, 9, 10, 1, 2, 3, 4, 6, 7, 1, 2, 3, 1, 2, 3, 4, 6, 7, 3, 4, 9, 1, 4, 8, 9, 1, 2, 3, 4, 7, 9, 4, 5, 2, 7, 9, 1, 2, 4, 5, 7, 8, 10, 1, 3, 4, 5, 2, 4, 5, 9, 10, 2, 3, 4, 1, 2, 4, 5, 6, 8, 10, 1, 4, 8, 1, 3, 4, 5, 6, 8, 9, 10, 1, 4, 5, 1, 2, 5, 6, 8, 1, 2, 10, 1, 2, 3, 5, 9, 10, 2, 3, 5, 6, 9, 10, 3, 4, 5, 6, 10, 1, 2, 6, 1, 2, 7, 10, 4, 7, 5, 1, 2, 3, 6, 7, 8, 9, 2, 8, 10, 1, 3, 4, 6, 8, 10, 1, 2, 7, 9, 10, 1, 2, 3, 5, 6, 9, 2, 3, 1, 3, 4, 6, 8, 9, 10, 4, 5, 8, 9, 3, 5, 6, 7, 9, 1, 2, 9, 2, 3, 6, 2, 10, 6, 9, 1, 2, 3, 4, 6, 7, 8, 9, 1, 2, 3, 4, 5, 6, 1, 4, 5, 6, 7, 10, 4, 5, 8, 1, 2, 3, 4, 5, 6, 7, 8, 9, 4, 5, 6, 9, 6, 9, 5, 7, 9, 3, 4, 5, 6, 7, 8, 9, 3, 7, 6, 7, 8, 9, 1, 3, 9, 1, 2, 5, 6, 8, 1, 4, 7, 3, 4, 5, 6, 5, 3, 6, 7, 8, 9, 10, 3, 5, 6, 7, 8, 9, 2, 3, 4, 5, 6, 7, 8, 4, 10, 1, 3, 7, 10, 5, 8, 9, 10, 4, 6, 7, 8, 9, 10, 5, 8, 9, 1, 3, 7, 8, 10, 5, 6, 7, 8, 5, 6, 7, 1, 6, 2, 10, 3, 7, 6, 9, 6, 7, 10, 7, 9, 10, 2, 6, 7, 9, 1, 2, 4, 8, 1, 2, 3, 5, 6, 10, 6, 6, 10, 4, 8, 9, 1, 2, 6, 7, 10, 3, 5, 6, 7, 8, 9, 3, 6, 8, 9, 3, 4, 6, 5, 8, 9, 10, 3, 5, 6, 7, 8, 9, 2, 5, 7, 9, 3, 6, 7, 10, 4, 6, 9, 1, 4, 5, 6, 2, 3, 6, 7, 9, 3, 6, 10, 2, 3, 6, 4, 5, 1, 3, 7, 9, 1, 2, 3, 8, 9, 3, 5, 6, 9, 4, 5, 6, 7, 1, 4, 8, 3, 6, 8, 10, 1, 3, 6, 2, 3, 5, 7, 8, 10, 1, 2, 3, 4, 8, 9, 1, 2, 3, 4, 5, 6, 7, 8, 3, 6, 7, 10, 3, 4, 6, 7, 2, 5, 6, 3, 4, 5, 6, 7, 8, 1, 4, 8, 4, 5, 8, 3, 6, 10, 2, 3, 4, 5, 6, 7, 10, 4, 9, 2, 5, 7, 1, 2, 3, 6, 8, 10, 1, 2, 7, 8, 4, 8, 9, 4, 5, 10, 5, 6, 9, 10, 1, 5, 8, 2, 6, 8, 9, 10, 1, 2, 3, 5, 6, 3, 4, 6, 1, 5, 6, 7, 9, 10, 2, 5, 2, 8, 10, 1, 2, 4, 1, 5, 4, 8, 9, 1, 2, 9, 1, 2, 3, 4, 7, 10, 3, 9, 7, 9, 3, 5, 8, 9, 6, 7, 9, 4, 5, 6, 9, 6, 10, 1, 2, 3, 4, 5, 6, 7, 8, 10, 1, 4, 8, 9, 1, 2, 3, 4, 6, 7, 8, 10, 3, 5, 3, 4, 5, 6, 7, 8, 9, 2, 3, 5, 6, 8, 6, 7, 1, 2, 2, 3, 7, 8, 10, 4, 6, 9, 2, 1, 7, 4, 5, 6, 3, 5, 9, 4, 5, 6, 3, 5, 6, 3, 6, 7, 2, 3, 5, 8, 2, 3, 6, 8, 3, 4, 6, 8, 9, 10, 2, 10, 2, 5, 9, 1, 2, 5, 7, 10, 1, 2, 10, 2, 5, 6, 9, 1, 4, 5, 5, 6, 7, 4, 6, 1, 2, 3, 4, 5, 6, 7, 10, 2, 5, 6, 10, 1, 5, 2, 8, 9, 1, 2, 3, 4, 5, 10, 1, 2, 3, 10, 3, 4, 7, 4, 9, 1, 2, 4, 5, 7, 9, 5, 6, 1, 6, 8, 1, 2, 4, 6, 8, 9, 1, 2, 4, 8, 1, 2, 4, 6, 7, 8, 10, 1, 3, 4, 7, 1, 6, 8, 9, 7, 8, 1, 2, 3, 4, 5, 6, 7, 8, 9, 1, 3, 4, 5, 6, 9, 10, 1, 2, 4, 10, 1, 3, 5, 6, 7, 9, 5, 6, 7, 9, 5, 6, 7, 3, 6, 10, 8, 1, 2, 4, 6, 7, 10, 4, 5, 8, 3, 7, 8, 4, 5, 6, 4, 5, 7, 9, 3, 5, 9, 1, 3, 4, 5, 6, 7, 8, 6, 10, 5, 6, 9, 10, 3, 8, 9, 10, 5, 9, 5, 6, 2, 9, 6, 7, 8, 9, 4, 5, 6, 1, 3, 5, 6, 9, 10, 1, 3, 4, 6, 7, 8, 9, 10, 2, 3, 5, 6, 1, 2, 3, 4, 5, 7, 8, 9, 1, 2, 3, 4, 5, 7, 8, 10, 4, 5, 6, 4, 5, 6, 8, 10, 7, 8, 10, 1, 4, 10, 2, 3, 4, 5, 6, 7, 8, 9], \"Freq\": [0.16619235363420157, 0.028903018023339402, 0.15174084462253187, 0.34683621628007283, 0.22399838968088037, 0.07948329956418336, 0.11263789219347185, 0.8635571734832842, 0.24277119043812376, 0.022070108221647615, 0.07172785172035474, 0.628998084316957, 0.027587635277059517, 0.26117931178650555, 0.032647413973313194, 0.6855956934395772, 0.9881225018680024, 0.7564315423749318, 0.2161232978214091, 0.2896201220381067, 0.6878477898405034, 0.9497574261979094, 0.04221144116435153, 0.2235222310987261, 0.06802850511700359, 0.024295894684644142, 0.06802850511700359, 0.3644384202696621, 0.24781812578337023, 0.14530227332717782, 0.8354880716312726, 0.6561209382326212, 0.33647227601672886, 0.10842406008510432, 0.3614135336170144, 0.4698375937021187, 0.2894326030831733, 0.694638247399616, 0.3338537710945993, 0.2017033200363204, 0.30603262350338273, 0.06259758208023737, 0.07650815587584568, 0.013910573795608304, 0.8767920830881459, 0.10521504997057751, 0.7829518668732395, 0.03262299445305165, 0.1304919778122066, 0.2479589791791709, 0.6446933458658444, 0.02975507750150051, 0.04959179583583418, 0.01983671833433367, 0.2848115426448938, 0.6962059931319626, 0.0517637474658772, 0.9058655806528509, 0.0258818737329386, 0.13458715991125675, 0.11776376492234966, 0.7402293795119121, 0.06304986518802849, 0.12609973037605698, 0.6935485170683134, 0.12609973037605698, 0.03287994222075808, 0.10959980740252692, 0.6137589214541508, 0.1534397303635377, 0.08767984592202155, 0.9830510679684956, 0.04371732616626954, 0.05564023330252487, 0.06358883806002842, 0.5206336116164827, 0.05166593092377309, 0.03974302378751776, 0.11525476898380152, 0.11128046660504974, 0.025068741040890727, 0.058493729095411694, 0.2506874104089073, 0.016712494027260483, 0.025068741040890727, 0.6267185260222682, 0.15347098536938844, 0.05115699512312948, 0.06138839414775538, 0.03069419707387769, 0.7059665326991869, 0.27772133206195637, 0.7116609134087631, 0.5531935316699297, 0.141617544107502, 0.30536282948180116, 0.49122357595675126, 0.49122357595675126, 0.1449191237690826, 0.7608253997876835, 0.0724595618845413, 0.037469832064322646, 0.4121681527075491, 0.5245776489005171, 0.09499736120393128, 0.6768561985780104, 0.01187467015049141, 0.20186939255835398, 0.8381271202619988, 0.14852885675529093, 0.2673728263066515, 0.721906631027959, 0.30686924228349877, 0.6609491372259974, 0.053332990787417336, 0.11733257973231813, 0.11733257973231813, 0.5759963005041072, 0.1279991778898016, 0.3604679115644031, 0.44365281423311154, 0.019063206861579012, 0.008665094027990459, 0.032927357306363744, 0.13344244803105307, 0.8577769343557536, 0.13053127261935382, 0.7164718192907905, 0.2517333419129804, 0.018522943038285423, 0.024697257384380566, 0.09878902953752226, 0.15435785865237855, 0.09261471519142712, 0.43837631857275505, 0.06791745780704656, 0.10496334388361742, 0.13271769179035545, 0.036195734124642394, 0.7842409060339185, 0.04826097883285652, 0.6527264493549534, 0.05180368645674233, 0.1243288474961816, 0.16577179666157546, 0.30448736753692174, 0.6428066648001681, 0.9835034925917734, 0.009290144466173633, 0.10219158912790996, 0.8454031464218006, 0.03716057786469453, 0.024123084336652913, 0.9408002891294637, 0.22557760264580273, 0.0013534656158748165, 0.20753139443413854, 0.1145934221440678, 0.06812443599903242, 0.061808263124949955, 0.3203201957570399, 0.1089315665591192, 0.2563095683743981, 0.07048513130295948, 0.01922321762807986, 0.538250093586236, 0.735279315673711, 0.13616283623587241, 0.05446513449434896, 0.08169770174152344, 0.867012471928494, 0.10246511031882201, 0.023645794688958926, 0.028904129468213573, 0.08671238840464073, 0.07226032367053394, 0.15897271207517466, 0.6503429130348054, 0.4991289203200542, 0.34463663545908507, 0.10695619721144019, 0.04753608764952897, 0.16093098022909502, 0.016940103182010002, 0.5166731470513051, 0.22869139295713503, 0.05929036113703501, 0.016940103182010002, 0.02744012598336841, 0.006097805774081869, 0.045733543305614015, 0.42074859841164897, 0.09146708661122803, 0.05792915485377775, 0.3445260262356256, 0.6920115364180228, 0.11533525606967047, 0.1730028841045057, 0.9775836173732367, 0.8827500227320753, 0.10508928842048515, 0.059794268975345274, 0.07972569196712703, 0.8371197656548338, 0.7033771709836741, 0.2865610696600154, 0.3150992246895772, 0.03567161034221629, 0.04756214712295505, 0.06539795229406319, 0.48156673961991986, 0.011890536780738762, 0.04161687873258567, 0.14273887451460948, 0.005489956712100365, 0.032939740272602186, 0.8180035501029543, 0.8166089229256102, 0.16812536648468446, 0.09529538351306917, 0.03176512783768972, 0.7623630681045533, 0.06353025567537944, 0.09347552745888428, 0.14956084393421484, 0.130865738442438, 0.6169384812286363, 0.16178777869101527, 0.5746255587991231, 0.02789444460189918, 0.12645481552860963, 0.07066592632481127, 0.03719259280253224, 0.49486824900659326, 0.40880420570109877, 0.06454803247912086, 0.6310016785336859, 0.021033389284456198, 0.1998171982023339, 0.1367170303489653, 0.9838741094515742, 0.7135275495324136, 0.05946062912770113, 0.2378425165108045, 0.05626369283423213, 0.9189736496257915, 0.05398321035436096, 0.07017817346066925, 0.8745280077406475, 0.03596400685205312, 0.9350641781533812, 0.9847680290776838, 0.08808570658959208, 0.7780904082080634, 0.11744760878612277, 0.036633130732955536, 0.036633130732955536, 0.1098993921988666, 0.06716073967708515, 0.04273865252178145, 0.02442208715530369, 0.33580369838542573, 0.18316565366477766, 0.14653252293182215, 0.012211043577651844, 0.9302906032156731, 0.029071581350489786, 0.2531614398547828, 0.4839851056047318, 0.059567397612890066, 0.08190517171772384, 0.029783698806445033, 0.04467554820966755, 0.04467554820966755, 0.19687613246266433, 0.02343763481698385, 0.3703146301083448, 0.21093871335285466, 0.0468752696339677, 0.1265632280117128, 0.02812516178038062, 0.03856593288099047, 0.033056513897991836, 0.0991695416939755, 0.6721491159258339, 0.1542637315239619, 0.04228015697493383, 0.09865369960817892, 0.8596965251569878, 0.02238842612573952, 0.8731486189038413, 0.08955370450295808, 0.07265063176804502, 0.9202413357285704, 0.6637083246376607, 0.09679079734299219, 0.12444531086956138, 0.11061805410627679, 0.15441165913367497, 0.18248650624888857, 0.056149694230427254, 0.603609212977093, 0.7347479205451298, 0.03061449668938041, 0.18368698013628246, 0.04311486104514145, 0.01724594441805658, 0.12072161092639606, 0.534624276959754, 0.13796755534445265, 0.13796755534445265, 0.11027194515229113, 0.22054389030458227, 0.6395772818832886, 0.9735072884757852, 0.5960245253355471, 0.3973496835570314, 0.1800606230951628, 0.6302121808330697, 0.1929220961733887, 0.39612427614450807, 0.03255815968311025, 0.1031008389965158, 0.28759707720080724, 0.010852719894370083, 0.09224811910214571, 0.010852719894370083, 0.0651163193662205, 0.22125403593331272, 0.7743891257665945, 0.710814887301954, 0.2733903412699823, 0.24849923405003024, 0.13915957106801694, 0.6063381310820738, 0.9596821853876317, 0.020630529127092415, 0.30945793690638623, 0.6395464029398649, 0.07114184302276912, 0.07114184302276912, 0.8537021162732294, 0.9049047440713178, 0.034804028618127605, 0.034804028618127605, 0.99809014890864, 0.0017260530028683787, 0.0604115513817052, 0.9263104545194798, 0.9898874018086978, 0.7020908686236457, 0.01766266336160115, 0.2781869479452181, 0.7725625842173992, 0.08914183664046914, 0.11885578218729219, 0.10350734075225154, 0.8939270337694452, 0.9469721394887151, 0.047947956429808355, 0.09884088693900565, 0.6177555433687854, 0.2471022173475141, 0.17335287304449898, 0.01981175691937131, 0.3070822322502553, 0.009905878459685656, 0.04952939229842828, 0.4408115914560117, 0.22800529391398477, 0.5211549575176795, 0.22800529391398477, 0.022535502801434702, 0.29296153641865114, 0.6647973326423238, 0.07724478953881495, 0.1896008470498185, 0.3230236653441352, 0.09128929672769039, 0.021066760783313165, 0.07022253594437722, 0.021066760783313165, 0.21066760783313165, 0.06073187377770182, 0.8073766749270948, 0.01607608423527401, 0.019648547398668236, 0.09467027382994696, 0.26939081479226995, 0.42048259146188216, 0.014404287025297712, 0.0704890641663505, 0.05761714810119085, 0.06956964159026767, 0.09807174144883549, 0.9968081295852992, 0.16650694345618522, 0.8197264908612195, 0.06771479765158701, 0.7110053753416636, 0.23700179178055453, 0.3071373689876817, 0.6757022117728997, 0.16872847564700738, 0.06749139025880295, 0.7424052928468325, 0.6773364225004564, 0.029449409673932888, 0.04417411451089933, 0.25031998222842955, 0.7680336410602605, 0.016000700855422094, 0.20000876069277615, 0.016000700855422094, 0.7503580774358412, 0.1974626519568003, 0.03949253039136006, 0.9765440881382211, 0.02983559191615729, 0.6265474302393031, 0.3281915110777302, 0.06074962188417259, 0.8302448324170255, 0.08099949584556346, 0.022442490613770922, 0.8303721527095241, 0.13465494368262554, 0.27097387170949133, 0.015054103983860631, 0.06774346792737283, 0.4817313274835402, 0.07527051991930316, 0.08279757191123346, 0.8135355358295143, 0.060261891542926986, 0.12805651952871985, 0.09862193207371177, 0.14793289811056765, 0.07396644905528382, 0.6656980414975544, 0.7110216174607817, 0.07484438078534544, 0.1871109519633636, 0.6878556920916195, 0.021495490377863108, 0.2579458845343573, 0.07460681977727314, 0.14092399291262706, 0.04144823320959619, 0.6797510246373776, 0.0663171731353539, 0.12473409953806379, 0.2560331516833941, 0.18381867300346244, 0.3479424881851253, 0.07877943128719818, 0.734054733756294, 0.0978739645008392, 0.11744875740100705, 0.03914958580033568, 0.00978739645008392, 0.7059401249267822, 0.14118802498535643, 0.14118802498535643, 0.22526544337985935, 0.02815818042248242, 0.7039545105620605, 0.7733497233076588, 0.21091356090208876, 0.06329009505102148, 0.06904374005565979, 0.18411664014842613, 0.06904374005565979, 0.1726093501391495, 0.028768225023191582, 0.1726093501391495, 0.23589944519017098, 0.022795086698697398, 0.18236069358957918, 0.011397543349348699, 0.06838526009609219, 0.17096315024023048, 0.5356845374193889, 0.15008923763035759, 0.6282805296154503, 0.013961789547010007, 0.2059363958183976, 0.0384982359301484, 0.769964718602968, 0.1869914316607208, 0.7068033762439045, 0.27184745240150177, 0.6265977490577254, 0.06774029719542976, 0.04516019813028651, 0.011290049532571627, 0.14112561915714533, 0.10725547055943047, 0.07369470935209563, 0.9089014153425128, 0.863134295135024, 0.12330489930500343, 0.03407195142409955, 0.09085853713093213, 0.8631561027438552, 0.05052404399211125, 0.4673474069270291, 0.3713517233420177, 0.1086266945830392, 0.7660449202642197, 0.23159497589383385, 0.04895859097405011, 0.19583436389620043, 0.04895859097405011, 0.3182308413313257, 0.3182308413313257, 0.07343788646107516, 0.8136563713554168, 0.12592300985262403, 0.04843192686639386, 0.2577377276619907, 0.6794903729270665, 0.04686140502945286, 0.7616625591315176, 0.14507858269171764, 0.07253929134585882, 0.045229968042530246, 0.7236794886804839, 0.030153312028353498, 0.15076656014176748, 0.030153312028353498, 0.03151334096628503, 0.8088424181346492, 0.15756670483142518, 0.034827297512984225, 0.034827297512984225, 0.8706824378246055, 0.4102364094785377, 0.2402813255517149, 0.22856028528089956, 0.11134988257274595, 0.08098982261255751, 0.8908880487381325, 0.35507263863803995, 0.6008921576951445, 0.3128307927471514, 0.5393634357709507, 0.09708541843877112, 0.04314907486167606, 0.03364922086955269, 0.6393351965215011, 0.3028429878259742, 0.053569210518172636, 0.05803331139468702, 0.1339230262954316, 0.5669408113173271, 0.06249741227120141, 0.053569210518172636, 0.031248706135600705, 0.04017690788862948, 0.15931018953767534, 0.7788498155175239, 0.053103396512558444, 0.7620954941895517, 0.046187605708457674, 0.1847504228338307, 0.8470197737318111, 0.13661609253738888, 0.7090620633499668, 0.1181770105583278, 0.14181241266999337, 0.02363540211166556, 0.26075035788630185, 0.05794452397473374, 0.08691678596210062, 0.02897226198736687, 0.5504729777599705, 0.9827123129305618, 0.735618733532951, 0.12981507062346195, 0.021635845103910326, 0.10817922551955163, 0.21649431161032634, 0.18041192634193862, 0.6134005495625913, 0.0660193987257563, 0.7262133859833193, 0.04401293248383753, 0.16504849681439074, 0.04484949010889397, 0.9418392922867733, 0.9851613105856926, 0.9990795593044416, 0.014227614241094694, 0.09959329968766287, 0.882112082947871, 0.334427700317935, 0.07803313007418484, 0.14491867013777185, 0.050164155047690256, 0.07245933506888592, 0.2563945702437502, 0.06131174505828809, 0.01576345738085689, 0.31526914761713776, 0.6620652099959893, 0.8586371531445112, 0.025630959795358545, 0.11533931907911345, 0.7928270683566103, 0.014340541288104063, 0.18437838798990938, 0.00819459502177375, 0.029811821898276945, 0.2683063970844925, 0.6558600817620928, 0.8897017624798471, 0.06843859711383439, 0.027375438845533756, 0.19631024536318517, 0.08413296229850793, 0.042066481149253966, 0.6730636983880635, 0.04973174018371515, 0.4475856616534364, 0.4973174018371515, 0.07179103126986085, 0.05743282501588868, 0.11486565003177736, 0.11486565003177736, 0.07179103126986085, 0.08327759627303859, 0.06891939001906641, 0.3991581338604263, 0.017229847504766603, 0.12286200113996054, 0.08935418264724403, 0.011169272830905503, 0.7595105525015742, 0.011169272830905503, 0.1567852749612875, 0.7391305819603554, 0.10079053390368482, 0.8671479822262642, 0.11189006222274377, 0.8268239951080288, 0.16536479902160578, 0.2548058781810123, 0.11890940981780575, 0.1698705854540082, 0.45015705145312174, 0.7727949109499455, 0.015302869523761297, 0.015302869523761297, 0.04590860857128389, 0.15302869523761298, 0.03065583641461463, 0.0245246691316917, 0.5334115536142945, 0.01226233456584585, 0.036787003697537554, 0.331083033277838, 0.03065583641461463, 0.2720422642126365, 0.39399224472174943, 0.028142303194410672, 0.028142303194410672, 0.2814230319441067, 0.3545414388279409, 0.03939349320310454, 0.03939349320310454, 0.5613572781442397, 0.15250097030783594, 0.1386372457343963, 0.7070499532454212, 0.4046515660865142, 0.2618333662912739, 0.09521213319682688, 0.0428454599385721, 0.05236667325825478, 0.0761697065574615, 0.07140909989762016, 0.20925286927002, 0.13950191284667998, 0.6277586078100599, 0.09399771595388322, 0.1723291459154526, 0.015666285992313872, 0.1723291459154526, 0.5404868667348285, 0.7256951427600581, 0.2612502513936209, 0.3675770212901143, 0.008078615852529985, 0.12117923778794978, 0.3312232499537294, 0.008078615852529985, 0.06866823474650488, 0.03231446341011994, 0.06866823474650488, 0.9492095127552916, 0.04394488484978202, 0.6139310795566474, 0.07222718583019382, 0.28890874332077526, 0.17712002245767636, 0.7337829501818021, 0.05060572070219325, 0.9410924614489613, 0.053558107562136005, 0.30556705824273733, 0.6684279399059878, 0.10318723764865298, 0.18573702776757536, 0.12382468517838356, 0.5778485308324567, 0.5463616005788521, 0.05047906092304612, 0.1217436175202877, 0.13659040014471302, 0.13659040014471302, 0.008908069574655198, 0.15733631879078708, 0.10489087919385805, 0.5768998355662193, 0.15733631879078708, 0.6509696525601224, 0.28931984558227664, 0.7332427721755389, 0.06983264496909894, 0.06983264496909894, 0.03491632248454947, 0.03491632248454947, 0.6713183144012088, 0.03533254286322152, 0.17666271431610758, 0.10599762858966454, 0.20897400047808032, 0.20123422268259586, 0.030959111181937827, 0.1393160003187202, 0.07739777795484457, 0.3405502230013161, 0.08417642826722935, 0.1683528565344587, 0.7295290449826544, 0.5647144582421353, 0.06566447188862037, 0.10944078648103396, 0.09193026064406853, 0.013132894377724077, 0.1575947325326889, 0.7092310187756917, 0.23641033959189725, 0.04298369810761768, 0.05794736958797847, 0.724342119849731, 0.1738421087639354, 0.05794736958797847, 0.2763426907669507, 0.04421483052271212, 0.2763426907669507, 0.2947655368180808, 0.04789939973293813, 0.05526853815339015, 0.9183269160279343, 0.06752403794323046, 0.6662838978412481, 0.22209463261374937, 0.07403154420458312, 0.12841147475560472, 0.11006697836194689, 0.25682294951120943, 0.012229664262438543, 0.19567462819901668, 0.27516744590486725, 0.018344496393657813, 0.47711515186759373, 0.12117210206161111, 0.3635163061848333, 0.03786628189425347, 0.9873837666674615, 0.22115049472608553, 0.06318585563602443, 0.6318585563602444, 0.06318585563602443, 0.5823901267665178, 0.06130422387015977, 0.3371732312858787, 0.08339845514343132, 0.005751617596098712, 0.26745021821859005, 0.03450970557659227, 0.02013066158634549, 0.4802600692742424, 0.10928073432587551, 0.8701230699819948, 0.03884477990991048, 0.08545851580180307, 0.19915561512247704, 0.33607510051918, 0.18255931386227062, 0.05808705441072247, 0.037341677835464444, 0.09957780756123852, 0.053937979095670864, 0.02489445189030963, 0.1689720414576779, 0.7885361934691636, 0.028162006909612985, 0.0380598705297333, 0.01902993526486665, 0.7104509165550217, 0.11417961158919991, 0.11417961158919991, 0.8814902025848773, 0.10849110185660028, 0.9893402280699327, 0.22815666474502197, 0.357114779600904, 0.243036447228393, 0.064479057427941, 0.029759564966741998, 0.079358839911312, 0.010188240151731358, 0.6928003303177324, 0.10188240151731358, 0.1222588818207763, 0.06367650094832099, 0.007641180113798518, 0.2239507480528612, 0.06298614788986721, 0.26594151331277266, 0.4199076525991147, 0.020995382629955737, 0.20835251197026594, 0.7441161141795212, 0.029764644567180847, 0.2727739002911828, 0.5585370339295648, 0.05195693338879673, 0.09092463343039427, 0.14805913065033366, 0.8460521751447638, 0.9830510736365381, 0.3706093026332666, 0.14193547760422975, 0.3311827810765361, 0.043369173712403536, 0.015770608622692195, 0.08279569526913402, 0.015770608622692195, 0.09213892528752206, 0.18427785057504412, 0.7063984272043358, 0.8281730038173217, 0.022605218466477763, 0.05343051637531108, 0.01849517874529999, 0.06370561567825551, 0.014385139024122213, 0.4479960894384381, 0.32282071150710984, 0.10541084457375015, 0.05929360007273446, 0.05929360007273446, 0.8133392329351674, 0.1742869784861073, 0.04174467982126609, 0.5247902606102023, 0.16697871928506436, 0.26239513030510114, 0.6397392328987798, 0.33670485942041045, 0.6423910258374208, 0.11012417585784356, 0.03059004884940099, 0.06729810746868217, 0.07341611723856237, 0.018354029309640592, 0.05506208792892178, 0.7399055578971641, 0.10384639409083005, 0.038942397784061264, 0.11682719335218379, 0.33368153345754775, 0.04449087112767303, 0.05561358890959129, 0.48939958240440334, 0.07785902447342781, 0.2531220392061761, 0.6508852436730242, 0.07232058263033603, 0.07600077837394593, 0.019000194593486484, 0.8930091458938647, 0.7356839658192533, 0.2613240341906228, 0.4725626704293576, 0.5244293049886773, 0.22037695990739856, 0.04113703251604773, 0.29971266547406206, 0.0763973461012315, 0.008815078396295943, 0.2468221950962864, 0.08521242449752744, 0.017630156792591885, 0.05112004972657369, 0.12780012431643423, 0.6134405967188843, 0.05112004972657369, 0.05112004972657369, 0.08946008702150396, 0.06713961303945214, 0.5483068398221924, 0.08951948405260284, 0.055949677532876774, 0.027974838766438387, 0.21260877462493175, 0.06835673860135846, 0.837370047866641, 0.08544592325169807, 0.07017511771544058, 0.03208005381277283, 0.22255537332611153, 0.18245530606014548, 0.14837024888407435, 0.20451034305642682, 0.08220513789523039, 0.03208005381277283, 0.024060040359579624, 0.4143267764296006, 0.2136372440965128, 0.24600652350507538, 0.12300326175253769, 0.08656965645240587, 0.9089813927502616, 0.7565271626617298, 0.16811714725816218, 0.05603904908605406, 0.15048370580972847, 0.08712214546879017, 0.07128175538355559, 0.0633615603409383, 0.07920195042617288, 0.49897228768488916, 0.04752117025570373, 0.025384306671736485, 0.9392193468542499, 0.05434767111876988, 0.05434767111876988, 0.5978243823064687, 0.28985424596677273, 0.7723814253147046, 0.17470532239261174, 0.05057259332417709, 0.4104453588423508, 0.021602387307492147, 0.17281909845993718, 0.028803183076656195, 0.36003978845820245, 0.0956744185342568, 0.7271255808603517, 0.17221395336166223, 0.023274516476979656, 0.2637778534057694, 0.318085058518722, 0.3879086079496609, 0.9921729600131823, 0.09898752718782518, 0.012373440898478147, 0.6062986040254292, 0.17322817257869408, 0.07424064539086889, 0.03712032269543444, 0.20578861638610502, 0.03165978713632385, 0.04748968070448577, 0.5857060620219912, 0.03165978713632385, 0.09497936140897154, 0.06251907752574302, 0.4887855152012637, 0.07956973503276385, 0.039784867516381925, 0.028417762511701375, 0.07388618253042357, 0.227342100093611, 0.349962781673382, 0.626249188257631, 0.977287645671156, 0.005414335987097818, 0.005414335987097818, 0.008121503980646726, 0.2981639126928043, 0.626144216654889, 0.02981639126928043, 0.02981639126928043, 0.15911027093811902, 0.05966635160179463, 0.6364410837524761, 0.039777567734529756, 0.05966635160179463, 0.019888783867264878, 0.8817251882597419, 0.04723527794248617, 0.04723527794248617, 0.08084306168992078, 0.11677331132988558, 0.7096224303893046, 0.05389537445994719, 0.044912812049955994, 0.12455957036504767, 0.053382673013591855, 0.7651516465281499, 0.07117689735145581, 0.03753429623359764, 0.1876714811679882, 0.7506859246719528, 0.2596028493591671, 0.7211190259976865, 0.6742422051475507, 0.3193778866488398, 0.24475304433270997, 0.73425913299813, 0.2313315234275722, 0.7570849857629637, 0.8398945146126667, 0.12216647485275152, 0.03054161871318788, 0.18848133275420534, 0.11780083297137833, 0.6832448312339944, 0.09220746827470576, 0.030735822758235255, 0.7683955689558813, 0.09220746827470576, 0.3331422287136655, 0.058299890024891464, 0.24985667153524915, 0.35812789586719046, 0.07826988136317979, 0.10957783390845172, 0.6026780864964844, 0.01565397627263596, 0.14871277459004162, 0.04696192881790787, 0.9947704828430236, 0.9524609963482551, 0.02721317132423586, 0.19781508304817472, 0.021979453672019415, 0.7692808785206795, 0.5773345550147783, 0.2790906379692293, 0.02599373588929096, 0.027361827251885223, 0.08892593856862697, 0.35549209845949403, 0.009115182011781898, 0.12761254816494658, 0.4101831905301854, 0.03646072804712759, 0.05469109207069139, 0.2360809870873289, 0.06943558443744967, 0.5832589092745772, 0.12498405198740942, 0.771062932101024, 0.12617393434380392, 0.09813528226740305, 0.022249751464724306, 0.30037164477377815, 0.6229930410122806, 0.04449950292944861, 0.38334997036927476, 0.019658972839449985, 0.04914743209862497, 0.49147432098624966, 0.02948845925917498, 0.02948845925917498, 0.043181166080519376, 0.043181166080519376, 0.8420327385701277, 0.06477174912077906, 0.014247256868872538, 0.9529831816734743, 0.00633211416394335, 0.0253284566557734, 0.2695597406087899, 0.08985324686959663, 0.6289727280871764, 0.03990718547556272, 0.0498839818444534, 0.7283061349290196, 0.17958233464003223, 0.05219025609930798, 0.40803291132186237, 0.1850381807157283, 0.27518498670544206, 0.07591309978081161, 0.4094599377440259, 0.5354476108960339, 0.04724537743200299, 0.21249621954734557, 0.7437367684157096, 0.026562027443418196, 0.9516862988595653, 0.030699558027727916, 0.06965190898689778, 0.7835839761026, 0.03482595449344889, 0.10447786348034667, 0.017585886508088153, 0.08792943254044076, 0.6506778007992616, 0.21982358135110192, 0.017585886508088153, 0.7029420311203948, 0.18337618203140732, 0.061125394010469104, 0.030562697005234552, 0.10388723086635925, 0.6826875171217893, 0.029682065961816925, 0.17809239577090155, 0.11295709656610933, 0.11295709656610933, 0.7530473104407288, 0.796758919235583, 0.10623452256474439, 0.03541150752158146, 0.053117261282372194, 0.034194420989109214, 0.7180828407712936, 0.23936094692376453, 0.056170650624984754, 0.41425854835926257, 0.17553328320307737, 0.14042662656246188, 0.1334052952343388, 0.07021331328123094, 0.7261309039267602, 0.02420436346422534, 0.07261309039267602, 0.04840872692845068, 0.09681745385690135, 0.9928560281722006, 0.1550354037385112, 0.06107455298789835, 0.0892628082130822, 0.10335693582567414, 0.046980425375306424, 0.01879217015012257, 0.20671387165134827, 0.31476885001455307, 0.3607083878800608, 0.3526926459271706, 0.26451948444537793, 0.01603148390578048, 0.1928168212384477, 0.0889923790331297, 0.6081145900597197, 0.10382444220531799, 0.5915816448502842, 0.208793521711865, 0.17399460142655418, 0.05153380197052612, 0.02576690098526306, 0.24049107586245522, 0.03435586798035074, 0.22331314187227985, 0.42085938275929663, 0.18776615736138103, 0.046941539340345256, 0.7510646294455241, 0.6643853267394946, 0.03496764877576287, 0.24477354143034008, 0.744390683352659, 0.1488781366705318, 0.09925209111368787, 0.010090676677233762, 0.13622413514265577, 0.19676819520605834, 0.3329923303487141, 0.22704022523775963, 0.025226691693084405, 0.06558939840201945, 0.1732795151150577, 0.8086377372036027, 0.13006196375555062, 0.7803717825333037, 0.06503098187777531, 0.10372491020997064, 0.11524990023330071, 0.18439984037328114, 0.046099960093320284, 0.484049580979863, 0.05762495011665036, 0.044172203557586096, 0.1325166106727583, 0.19877491600913744, 0.6184108498062053, 0.2823055252549479, 0.07057638131373697, 0.6351874318236328, 0.6984742812510544, 0.06984742812510543, 0.2095422843753163, 0.07326565989415225, 0.7692894288885986, 0.05494924492061419, 0.09158207486769032, 0.08469561339912673, 0.08469561339912673, 0.8187242628582252, 0.35170100809605165, 0.017156146736392763, 0.07720266031376743, 0.03431229347278553, 0.5146844020917829, 0.04482012489998991, 0.1045802914333098, 0.32121089511659434, 0.48555135308322406, 0.037350104083324925, 0.738628533023622, 0.1477257066047244, 0.09848380440314959, 0.006468773686423518, 0.29756358957548185, 0.06468773686423518, 0.003234386843211759, 0.6145335002102342, 0.009703160529635277, 0.6666041577984941, 0.3237791623592686, 0.09207703096401129, 0.06138468730934086, 0.8286932786761017, 0.3273257150190335, 0.6234775524172066, 0.03117387762086033, 0.9692518321555209, 0.016154197202592015, 0.6946891808993522, 0.08683614761241902, 0.20261767776231107, 0.3566119663197864, 0.21883007024168713, 0.4133456882342979, 0.7182374968823527, 0.06775825442286346, 0.06775825442286346, 0.013551650884572691, 0.08130990530743615, 0.040654952653718074, 0.07215633020574247, 0.8899280725374905, 0.020207902480837377, 0.9699793190801941, 0.10374030889603719, 0.09077277028403255, 0.2334156950160837, 0.5576041603162, 0.013181736918777625, 0.8831763735581009, 0.09227215843144337, 0.04635974260710449, 0.023179871303552244, 0.5447269756334777, 0.3708779408568359, 0.1349339239000118, 0.8433370243750739, 0.46443412301527753, 0.026539092743730144, 0.0928868246030555, 0.20567796876390862, 0.013269546371865072, 0.013269546371865072, 0.05307818548746029, 0.05307818548746029, 0.06634773185932537, 0.0802313062061379, 0.1604626124122758, 0.6953379871198617, 0.053487537470758593, 0.8621348461126694, 0.008752638031600705, 0.006564478523700529, 0.032822392618502644, 0.006564478523700529, 0.02844607360270229, 0.041575030650103345, 0.015317116555301232, 0.10072264545616001, 0.8813231477414002, 0.18530013174330878, 0.12140353459044369, 0.35143128434075804, 0.1341828540210167, 0.01916897914585953, 0.10862421515987067, 0.08945523601401113, 0.048391830050303355, 0.0835858882687058, 0.5851012178809406, 0.259556179360718, 0.02639554366380183, 0.036255089782880286, 0.9063772445720071, 0.3684828174958575, 0.6218147545242595, 0.11370933119708648, 0.08746871630545114, 0.6822559871825189, 0.10496245956654138, 0.9875673058572314, 0.17836556500650358, 0.029727594167750594, 0.7729174483615154, 0.9745562600081682, 0.21021668172853605, 0.7707944996712988, 0.10423605829887707, 0.2432174693640465, 0.5906709970269701, 0.957752503792455, 0.017102723282008125, 0.017102723282008125, 0.054941893530571904, 0.8424423674687692, 0.10988378706114381, 0.08633189374878282, 0.7769870437390454, 0.11510919166504377, 0.20860305608924987, 0.6605763442826246, 0.10430152804462493, 0.04882214176483577, 0.6835099847077009, 0.2278366615692336, 0.03254809450989052, 0.1690220822969697, 0.09390115683164983, 0.11268138819797979, 0.6197476350888889, 0.07125050341351605, 0.045341229444964756, 0.3238659246068911, 0.07125050341351605, 0.16193296230344556, 0.3173886061147533, 0.15750247674893594, 0.8100127375659564, 0.901257458810501, 0.027310832085166697, 0.054621664170333394, 0.31492096476284814, 0.25347297163838994, 0.023042997421671815, 0.038404995702786354, 0.3610069596061918, 0.19979029194846865, 0.28541470278352665, 0.5137464650103479, 0.022697319009987095, 0.056743297524967734, 0.022697319009987095, 0.9078927603994837, 0.1730945607497827, 0.7912894205704352, 0.0247277943928261, 0.06603148959334214, 0.28613645490448264, 0.6383043994023074, 0.7455582027127986, 0.21301662934651386, 0.6037702331958478, 0.228240888898989, 0.043849234813106264, 0.00562169677091106, 0.0022486787083644236, 0.01124339354182212, 0.02361112643782645, 0.08095243350111925, 0.2610645418027877, 0.032633067725348464, 0.06526613545069693, 0.6200282867816208, 0.7251917179034901, 0.21755751537104703, 0.08982741591190453, 0.044913707955952266, 0.8758173051410691, 0.1131962504049382, 0.08893991103245144, 0.5498103591096999, 0.06468357165996469, 0.08085446457495586, 0.09702535748994703, 0.36223336908087245, 0.18629144695587724, 0.020699049661764137, 0.42433051806616484, 0.0640464282316269, 0.49102261644247297, 0.4376505929161172, 0.9498814836261664, 0.031662716120872215, 0.1662415028612579, 0.26598640457801265, 0.03324830057225158, 0.3324830057225158, 0.01994898034335095, 0.17289116297570822, 0.8520020146776067, 0.143844495984531, 0.290327072889661, 0.10887265233362288, 0.580654145779322, 0.1616887972194769, 0.04254968347880971, 0.04254968347880971, 0.07658943026185748, 0.18721860730676274, 0.49357632835419263, 0.20999342349704228, 0.07559763245893522, 0.11759631715834366, 0.5963813227316, 0.5787404284717653, 0.14122374091894752, 0.016614557755170296, 0.0027690929591950493, 0.19937469306204356, 0.04430548734712079, 0.019383650714365343, 0.3588741671521126, 0.42748246381354593, 0.15832683844946147, 0.05277561281648715, 0.8756497116385571, 0.043510544677692276, 0.021755272338846138, 0.05982699893182688, 0.07263468369062605, 0.9079335461328256, 0.2411814029778057, 0.06821292205432888, 0.13398966832100315, 0.1802770082864406, 0.024361757876546028, 0.019489406301236824, 0.14373437147162157, 0.04141498839012825, 0.15347907462223997, 0.22610306216797935, 0.1366039333931542, 0.3156021909428045, 0.03297336323283032, 0.09892008969849096, 0.03297336323283032, 0.1507353747786529, 0.7056892242854189, 0.14113784485708378, 0.028227568971416758, 0.08468270691425027, 0.012857227725853288, 0.10928643566975295, 0.4371457426790118, 0.16714396043609273, 0.21214425747657925, 0.0578575247663398, 0.17165752998739114, 0.05149725899621734, 0.6093842314552386, 0.15449177698865202, 0.20801985295194722, 0.1525478921647613, 0.6240595588558417, 0.22676919563263973, 0.6551110096054037, 0.10078630917006211, 0.9831888988436032, 0.5954741922525869, 0.04253387087518478, 0.09722027628613665, 0.20051681984015682, 0.03645760360730124, 0.024305069071534163, 0.19201331569538346, 0.13715236835384534, 0.6583313680984576, 0.7635617222417613, 0.2245769771299298, 0.9831055491004207, 0.7467741291268644, 0.04817897607270093, 0.16862641625445324, 0.2818030865450507, 0.03315330429941773, 0.03315330429941773, 0.6630660859883546, 0.8014302748810691, 0.029682602773372927, 0.14841301386686465, 0.07834370855296344, 0.17235615881651956, 0.17757907272005044, 0.1305728475882724, 0.03133748342118537, 0.15668741710592687, 0.2559227812730139, 0.8600222140076073, 0.13514634791548114, 0.014289367696933512, 0.8002045910282767, 0.13574899312086836, 0.05001278693926729, 0.7955851231462513, 0.06119885562663471, 0.09179828343995207, 0.06119885562663471, 0.9139744373181798, 0.07461015814842285, 0.8055568583469341, 0.18125029312806018, 0.9883943512009001, 0.005552777253937642, 0.14087495023538044, 0.7043747511769022, 0.11269996018830435, 0.05634998009415217, 0.49430113811593873, 0.3008789536357888, 0.19342218448014994, 0.6941540076077217, 0.09544617604606175, 0.008676925095096523, 0.09544617604606175, 0.06941540076077218, 0.03470770038038609, 0.23173243030421967, 0.2619583994743353, 0.07556492292528902, 0.030225969170115607, 0.050376615283526015, 0.03526363069846821, 0.23173243030421967, 0.08060258445364163, 0.058107567679508816, 0.11621513535901763, 0.17432270303852646, 0.6391832444745971, 0.352179401670025, 0.04334515712861846, 0.28174352133602, 0.13545361602693268, 0.05959959105185038, 0.03792701248754115, 0.016254433923231924, 0.070435880334005, 0.18471277595701832, 0.10440287336701035, 0.4497354545040446, 0.07227891233100717, 0.06424792207200637, 0.07227891233100717, 0.048185941554004776, 0.008030990259000797, 0.6118419382874252, 0.3059209691437126, 0.07980547021140327, 0.565367231249544, 0.22669314103242588, 0.1993807144020131, 0.005462485326082551, 0.0027312426630412756, 0.2710262141077689, 0.6436872585059511, 0.06775655352694222, 0.14484390371994563, 0.7604304945297146, 0.07242195185997281, 0.02558283441264707, 0.11085894912147064, 0.18760745235941184, 0.1577608122113236, 0.03837425161897061, 0.02558283441264707, 0.05116566882529414, 0.4050615448669119], \"Term\": [\"access\", \"access\", \"access\", \"access\", \"access\", \"access\", \"agent\", \"agent\", \"agreement\", \"agreement\", \"agreement\", \"agreement\", \"agreement\", \"alan\", \"alan\", \"alan\", \"alberta\", \"alternative\", \"alternative\", \"arnold\", \"arnold\", \"asp\", \"asp\", \"attached\", \"attached\", \"attached\", \"attached\", \"attached\", \"attached\", \"attachments\", \"attachments\", \"azurix\", \"azurix\", \"ball\", \"ball\", \"ball\", \"bankruptcy\", \"bankruptcy\", \"based\", \"based\", \"based\", \"based\", \"based\", \"based\", \"bass\", \"bass\", \"beck\", \"beck\", \"beck\", \"believe\", \"believe\", \"believe\", \"believe\", \"believe\", \"beth\", \"beth\", \"bids\", \"bids\", \"bids\", \"billion\", \"billion\", \"billion\", \"bills\", \"bills\", \"bills\", \"bills\", \"board\", \"board\", \"board\", \"board\", \"board\", \"broadband\", \"business\", \"business\", \"business\", \"business\", \"business\", \"business\", \"business\", \"business\", \"buy\", \"buy\", \"buy\", \"buy\", \"buy\", \"buy\", \"ca\", \"ca\", \"ca\", \"ca\", \"ca\", \"calif\", \"calif\", \"california\", \"california\", \"california\", \"calpine\", \"calpine\", \"canada\", \"canada\", \"canada\", \"cap\", \"cap\", \"cap\", \"capacity\", \"capacity\", \"capacity\", \"capacity\", \"capital\", \"capital\", \"card\", \"card\", \"carol\", \"carol\", \"cash\", \"cash\", \"cash\", \"cash\", \"cash\", \"cc\", \"cc\", \"cc\", \"cc\", \"cc\", \"cc\", \"ceo\", \"ceo\", \"chairman\", \"chairman\", \"changes\", \"changes\", \"changes\", \"changes\", \"changes\", \"changes\", \"changes\", \"changes\", \"check\", \"check\", \"check\", \"check\", \"chris\", \"chris\", \"chris\", \"chris\", \"clair\", \"clair\", \"class\", \"click\", \"click\", \"click\", \"click\", \"color\", \"color\", \"com\", \"com\", \"com\", \"com\", \"com\", \"com\", \"com\", \"comments\", \"comments\", \"comments\", \"comments\", \"comments\", \"commerce\", \"commerce\", \"commerce\", \"commerce\", \"commission\", \"commission\", \"commission\", \"committee\", \"committee\", \"committee\", \"committee\", \"committee\", \"communications\", \"communications\", \"communications\", \"communications\", \"companies\", \"companies\", \"companies\", \"companies\", \"companies\", \"companies\", \"company\", \"company\", \"company\", \"company\", \"company\", \"company\", \"company\", \"competitive\", \"competitive\", \"competitive\", \"concern\", \"concerns\", \"concerns\", \"confidential\", \"confidential\", \"confidential\", \"confirm\", \"confirm\", \"contact\", \"contact\", \"contact\", \"contact\", \"contact\", \"contact\", \"contact\", \"contract\", \"contract\", \"contract\", \"contract\", \"control\", \"control\", \"copies\", \"copies\", \"copies\", \"copies\", \"copyright\", \"copyright\", \"copyright\", \"copyright\", \"corp\", \"corp\", \"corp\", \"corp\", \"corp\", \"corp\", \"corporation\", \"corporation\", \"corporation\", \"cost\", \"cost\", \"cost\", \"cost\", \"counterparty\", \"court\", \"court\", \"court\", \"cpuc\", \"cpuc\", \"credit\", \"credit\", \"credit\", \"crisis\", \"crisis\", \"dasovich\", \"database\", \"database\", \"database\", \"date\", \"date\", \"date\", \"date\", \"date\", \"date\", \"date\", \"date\", \"date\", \"date\", \"dates\", \"dates\", \"david\", \"david\", \"david\", \"david\", \"david\", \"david\", \"david\", \"day\", \"day\", \"day\", \"day\", \"day\", \"day\", \"day\", \"deal\", \"deal\", \"deal\", \"deal\", \"deal\", \"deals\", \"deals\", \"deals\", \"dec\", \"dec\", \"dec\", \"delete\", \"delete\", \"demand\", \"demand\", \"demand\", \"demand\", \"details\", \"details\", \"details\", \"details\", \"determine\", \"determine\", \"determine\", \"development\", \"development\", \"development\", \"development\", \"development\", \"development\", \"different\", \"different\", \"different\", \"directors\", \"doc\", \"doc\", \"documents\", \"documents\", \"documents\", \"don\", \"don\", \"don\", \"don\", \"don\", \"don\", \"don\", \"don\", \"dow\", \"dow\", \"download\", \"download\", \"draft\", \"draft\", \"draft\", \"drew\", \"duke\", \"duke\", \"duke\", \"earnings\", \"earnings\", \"earnings\", \"economic\", \"economic\", \"economic\", \"ect\", \"ect\", \"edison\", \"edison\", \"edu\", \"ees\", \"ees\", \"ees\", \"effect\", \"effect\", \"effect\", \"electric\", \"electric\", \"electricity\", \"electricity\", \"elizabeth\", \"elizabeth\", \"elizabeth\", \"email\", \"email\", \"email\", \"email\", \"email\", \"email\", \"emergency\", \"emergency\", \"emergency\", \"ena\", \"ena\", \"ena\", \"end\", \"end\", \"end\", \"end\", \"end\", \"end\", \"end\", \"end\", \"energy\", \"energy\", \"energy\", \"energy\", \"energy\", \"enron\", \"enron\", \"enron\", \"enron\", \"enron\", \"enron\", \"enron\", \"enron_development\", \"enronxgate\", \"enronxgate\", \"entities\", \"entities\", \"entities\", \"entry\", \"entry\", \"epmi\", \"epmi\", \"epmi\", \"eric\", \"eric\", \"eric\", \"eric\", \"et\", \"et\", \"et\", \"et\", \"executive\", \"executive\", \"executive\", \"expense\", \"express\", \"express\", \"express\", \"face\", \"face\", \"face\", \"fact\", \"fact\", \"fact\", \"fax\", \"fax\", \"fax\", \"fax\", \"fax\", \"fax\", \"ferc\", \"ferc\", \"ferc\", \"field\", \"field\", \"field\", \"field\", \"filed\", \"filed\", \"filed\", \"filing\", \"filing\", \"filing\", \"final\", \"final\", \"final\", \"final\", \"final\", \"financial\", \"financial\", \"financial\", \"financial\", \"financial\", \"firm\", \"firm\", \"firm\", \"firm\", \"firm\", \"floor\", \"floor\", \"floor\", \"flow\", \"flow\", \"flow\", \"focus\", \"focus\", \"following\", \"following\", \"following\", \"following\", \"following\", \"following\", \"following\", \"following\", \"form\", \"form\", \"form\", \"form\", \"form\", \"form\", \"forwarded\", \"forwarded\", \"forwarded\", \"forwarded\", \"free\", \"free\", \"free\", \"fri\", \"fri\", \"friday\", \"friday\", \"friday\", \"friday\", \"friday\", \"friday\", \"fund\", \"fund\", \"fw\", \"fw\", \"game\", \"game\", \"game\", \"gas\", \"gas\", \"gas\", \"gas\", \"ge\", \"ge\", \"general\", \"general\", \"general\", \"general\", \"general\", \"general\", \"generation\", \"generation\", \"generation\", \"generators\", \"generators\", \"generators\", \"germany\", \"germany\", \"germany\", \"given\", \"given\", \"given\", \"given\", \"given\", \"global\", \"global\", \"global\", \"goal\", \"goal\", \"goal\", \"good\", \"good\", \"good\", \"good\", \"gov\", \"gov\", \"governor\", \"governor\", \"great\", \"great\", \"great\", \"great\", \"grid\", \"grid\", \"grid\", \"group\", \"group\", \"group\", \"group\", \"group\", \"group\", \"group\", \"group\", \"groups\", \"groups\", \"groups\", \"guys\", \"guys\", \"guys\", \"hall\", \"hall\", \"happy\", \"happy\", \"happy\", \"happy\", \"hearing\", \"hearing\", \"hearing\", \"hearing\", \"hearing\", \"hey\", \"hi\", \"hi\", \"hi\", \"hi\", \"hit\", \"hit\", \"hit\", \"home\", \"home\", \"home\", \"home\", \"hotel\", \"hotel\", \"hotmail\", \"hou\", \"hour\", \"hour\", \"hour\", \"houston\", \"houston\", \"houston\", \"houston\", \"houston\", \"houston\", \"houston\", \"htm\", \"htm\", \"htm\", \"html\", \"html\", \"html\", \"http\", \"http\", \"http\", \"http\", \"ii\", \"ii\", \"ii\", \"image\", \"image\", \"image\", \"india\", \"india\", \"india\", \"india\", \"industry\", \"industry\", \"industry\", \"information\", \"information\", \"information\", \"information\", \"information\", \"information\", \"information\", \"information\", \"information\", \"intended\", \"intended\", \"intended\", \"intended\", \"intended\", \"internet\", \"internet\", \"internet\", \"investors\", \"investors\", \"isda\", \"isda\", \"iso\", \"iso\", \"iso\", \"iso\", \"issue\", \"issue\", \"issue\", \"issue\", \"issue\", \"issues\", \"issues\", \"issues\", \"issues\", \"issues\", \"issues\", \"issues\", \"james\", \"james\", \"james\", \"james\", \"james\", \"jeff\", \"jeff\", \"jeff\", \"jeff\", \"joe\", \"joe\", \"joe\", \"john\", \"john\", \"john\", \"john\", \"john\", \"john\", \"john\", \"johnson\", \"johnson\", \"johnson\", \"jones\", \"jones\", \"jones\", \"jones\", \"jones\", \"julie\", \"julie\", \"just\", \"just\", \"just\", \"just\", \"just\", \"just\", \"just\", \"just\", \"kaminski\", \"kaminski\", \"karen\", \"karen\", \"karen\", \"kate\", \"kate\", \"kate\", \"kay\", \"kay\", \"kean\", \"kean\", \"ken\", \"ken\", \"ken\", \"ken\", \"know\", \"know\", \"know\", \"know\", \"know\", \"know\", \"language\", \"language\", \"language\", \"language\", \"laura\", \"laura\", \"learn\", \"learn\", \"learn\", \"learn\", \"learn\", \"left\", \"left\", \"left\", \"left\", \"legal\", \"legal\", \"legal\", \"legal\", \"legal\", \"legal\", \"leslie\", \"leslie\", \"leslie\", \"let\", \"let\", \"let\", \"let\", \"let\", \"let\", \"level\", \"level\", \"level\", \"life\", \"life\", \"life\", \"life\", \"like\", \"like\", \"like\", \"like\", \"like\", \"like\", \"link\", \"link\", \"lisa\", \"lisa\", \"lisa\", \"list\", \"list\", \"list\", \"list\", \"list\", \"list\", \"list\", \"ll\", \"ll\", \"ll\", \"ll\", \"lon\", \"loss\", \"loss\", \"loss\", \"loss\", \"lunch\", \"lunch\", \"lunch\", \"mail\", \"mail\", \"mail\", \"mail\", \"mail\", \"mail\", \"mail\", \"mailto\", \"mailto\", \"mailto\", \"make\", \"make\", \"make\", \"make\", \"make\", \"make\", \"make\", \"make\", \"man\", \"man\", \"man\", \"management\", \"management\", \"management\", \"management\", \"management\", \"mann\", \"mann\", \"mara\", \"mark\", \"mark\", \"mark\", \"mark\", \"mark\", \"mark\", \"market\", \"market\", \"market\", \"market\", \"market\", \"market\", \"markets\", \"markets\", \"markets\", \"markets\", \"markets\", \"martin\", \"martin\", \"martin\", \"mary\", \"mary\", \"mary\", \"mary\", \"master\", \"master\", \"media\", \"meeting\", \"meeting\", \"meeting\", \"meeting\", \"meeting\", \"meeting\", \"meeting\", \"memo\", \"memo\", \"memo\", \"message\", \"message\", \"message\", \"message\", \"message\", \"message\", \"mike\", \"mike\", \"mike\", \"mike\", \"mike\", \"miller\", \"miller\", \"million\", \"million\", \"million\", \"million\", \"model\", \"model\", \"monday\", \"monday\", \"monday\", \"monday\", \"monday\", \"monday\", \"monday\", \"money\", \"money\", \"money\", \"money\", \"month\", \"month\", \"month\", \"month\", \"month\", \"moore\", \"moore\", \"moore\", \"mw\", \"mw\", \"mw\", \"na\", \"na\", \"natural\", \"natural\", \"need\", \"need\", \"need\", \"need\", \"need\", \"need\", \"need\", \"need\", \"needs\", \"needs\", \"needs\", \"needs\", \"needs\", \"needs\", \"net\", \"net\", \"net\", \"net\", \"net\", \"net\", \"network\", \"network\", \"network\", \"new\", \"new\", \"new\", \"new\", \"new\", \"new\", \"new\", \"new\", \"new\", \"news\", \"news\", \"news\", \"news\", \"northwest\", \"northwest\", \"notes\", \"notes\", \"notes\", \"number\", \"number\", \"number\", \"number\", \"number\", \"number\", \"number\", \"obligations\", \"obligations\", \"oct\", \"oct\", \"oct\", \"oct\", \"october\", \"october\", \"october\", \"office\", \"office\", \"office\", \"office\", \"office\", \"old\", \"old\", \"old\", \"online\", \"online\", \"online\", \"online\", \"operations\", \"option\", \"option\", \"option\", \"option\", \"option\", \"option\", \"options\", \"options\", \"options\", \"options\", \"options\", \"options\", \"order\", \"order\", \"order\", \"order\", \"order\", \"order\", \"order\", \"org\", \"org\", \"original\", \"original\", \"original\", \"original\", \"pa\", \"pa\", \"pa\", \"pa\", \"paid\", \"paid\", \"paid\", \"paid\", \"paid\", \"paid\", \"partners\", \"partners\", \"partners\", \"party\", \"party\", \"party\", \"party\", \"party\", \"payment\", \"payment\", \"payment\", \"payment\", \"payments\", \"payments\", \"payments\", \"pdf\", \"pdf\", \"pdx\", \"pdx\", \"peak\", \"peak\", \"percent\", \"percent\", \"pg\", \"pg\", \"pg\", \"pge\", \"pge\", \"pge\", \"phase\", \"phase\", \"phase\", \"phase\", \"phone\", \"phone\", \"phone\", \"phone\", \"plan\", \"plan\", \"plan\", \"plan\", \"plan\", \"plan\", \"plant\", \"plants\", \"plants\", \"play\", \"play\", \"play\", \"pm\", \"pm\", \"pm\", \"pm\", \"pm\", \"point\", \"point\", \"point\", \"point\", \"point\", \"point\", \"points\", \"points\", \"points\", \"points\", \"policy\", \"policy\", \"policy\", \"portland\", \"portland\", \"portland\", \"portland\", \"position\", \"position\", \"position\", \"position\", \"position\", \"position\", \"positions\", \"positions\", \"positions\", \"positions\", \"power\", \"power\", \"power\", \"power\", \"preferred\", \"preferred\", \"preferred\", \"president\", \"president\", \"president\", \"president\", \"price\", \"price\", \"price\", \"price\", \"price\", \"prices\", \"prices\", \"prices\", \"pricing\", \"pricing\", \"pricing\", \"privacy\", \"privacy\", \"problems\", \"problems\", \"problems\", \"problems\", \"process\", \"process\", \"process\", \"process\", \"process\", \"product\", \"product\", \"product\", \"product\", \"products\", \"products\", \"products\", \"products\", \"prohibited\", \"prohibited\", \"prohibited\", \"proposal\", \"proposal\", \"proposal\", \"proposal\", \"proposed\", \"proposed\", \"proposed\", \"provide\", \"provide\", \"provide\", \"provide\", \"provide\", \"provide\", \"purpose\", \"purpose\", \"purpose\", \"purpose\", \"purpose\", \"quarter\", \"questions\", \"questions\", \"questions\", \"questions\", \"questions\", \"questions\", \"questions\", \"questions\", \"rate\", \"rate\", \"rate\", \"rate\", \"rates\", \"rates\", \"rates\", \"rates\", \"rebecca\", \"rebecca\", \"rebecca\", \"received\", \"received\", \"received\", \"received\", \"received\", \"received\", \"recipient\", \"recipient\", \"recipient\", \"registration\", \"registration\", \"registration\", \"regulatory\", \"regulatory\", \"regulatory\", \"report\", \"report\", \"report\", \"report\", \"report\", \"report\", \"report\", \"reported\", \"reported\", \"reporting\", \"reporting\", \"reporting\", \"request\", \"request\", \"request\", \"request\", \"request\", \"request\", \"requested\", \"requested\", \"requested\", \"requested\", \"reserved\", \"reserved\", \"reserved\", \"resume\", \"resume\", \"resume\", \"retail\", \"retail\", \"retail\", \"retail\", \"rice\", \"rice\", \"rice\", \"richard\", \"richard\", \"richard\", \"richard\", \"richard\", \"risk\", \"risk\", \"risk\", \"risk\", \"risk\", \"rules\", \"rules\", \"rules\", \"said\", \"said\", \"said\", \"said\", \"said\", \"said\", \"sally\", \"sally\", \"sanders\", \"sanders\", \"sanders\", \"sara\", \"sara\", \"sara\", \"sat\", \"sat\", \"saturday\", \"saturday\", \"saturday\", \"schedule\", \"schedule\", \"schedule\", \"scheduled\", \"scheduled\", \"scheduled\", \"scheduled\", \"scheduled\", \"scheduled\", \"schedules\", \"schedules\", \"season\", \"season\", \"second\", \"second\", \"second\", \"second\", \"securities\", \"securities\", \"securities\", \"sell\", \"sell\", \"sell\", \"sell\", \"senate\", \"senate\", \"send\", \"send\", \"send\", \"send\", \"send\", \"send\", \"send\", \"send\", \"send\", \"sender\", \"sender\", \"sender\", \"sender\", \"sent\", \"sent\", \"sent\", \"sent\", \"sent\", \"sent\", \"sent\", \"sent\", \"series\", \"series\", \"service\", \"service\", \"service\", \"service\", \"service\", \"service\", \"service\", \"services\", \"services\", \"services\", \"services\", \"services\", \"settlement\", \"settlement\", \"shackleton\", \"shackleton\", \"shall\", \"shall\", \"shall\", \"shall\", \"shapiro\", \"shares\", \"shares\", \"shares\", \"shirley\", \"sitara\", \"sitara\", \"sites\", \"sites\", \"sites\", \"size\", \"size\", \"size\", \"software\", \"software\", \"software\", \"solutions\", \"solutions\", \"solutions\", \"southern\", \"southern\", \"southern\", \"specific\", \"specific\", \"specific\", \"specific\", \"st\", \"st\", \"st\", \"st\", \"state\", \"state\", \"state\", \"state\", \"state\", \"state\", \"steffes\", \"steffes\", \"stephen\", \"stephen\", \"stephen\", \"steve\", \"steve\", \"steve\", \"steve\", \"steve\", \"steven\", \"steven\", \"steven\", \"stock\", \"stock\", \"stock\", \"stock\", \"stop\", \"stop\", \"stop\", \"storage\", \"storage\", \"storage\", \"story\", \"story\", \"subject\", \"subject\", \"subject\", \"subject\", \"subject\", \"subject\", \"subject\", \"subject\", \"sue\", \"sue\", \"sue\", \"sue\", \"sun\", \"sun\", \"sunday\", \"sunday\", \"sunday\", \"support\", \"support\", \"support\", \"support\", \"support\", \"support\", \"susan\", \"susan\", \"susan\", \"susan\", \"tax\", \"tax\", \"tax\", \"taxes\", \"taxes\", \"team\", \"team\", \"team\", \"team\", \"team\", \"team\", \"technology\", \"technology\", \"telephone\", \"telephone\", \"telephone\", \"texas\", \"texas\", \"texas\", \"texas\", \"texas\", \"texas\", \"thank\", \"thank\", \"thank\", \"thank\", \"thanks\", \"thanks\", \"thanks\", \"thanks\", \"thanks\", \"thanks\", \"thanks\", \"think\", \"think\", \"think\", \"think\", \"thursday\", \"thursday\", \"thursday\", \"thursday\", \"ticket\", \"ticket\", \"time\", \"time\", \"time\", \"time\", \"time\", \"time\", \"time\", \"time\", \"time\", \"today\", \"today\", \"today\", \"today\", \"today\", \"today\", \"today\", \"tony\", \"tony\", \"tony\", \"tony\", \"trading\", \"trading\", \"trading\", \"trading\", \"trading\", \"trading\", \"transaction\", \"transaction\", \"transaction\", \"transaction\", \"transactions\", \"transactions\", \"transactions\", \"transmission\", \"transmission\", \"transmission\", \"travel\", \"tuesday\", \"tuesday\", \"tuesday\", \"tuesday\", \"tuesday\", \"tuesday\", \"tx\", \"tx\", \"tx\", \"understanding\", \"understanding\", \"university\", \"unsubscribe\", \"unsubscribe\", \"unsubscribe\", \"updated\", \"updated\", \"updated\", \"updated\", \"usd\", \"usd\", \"usd\", \"use\", \"use\", \"use\", \"use\", \"use\", \"use\", \"use\", \"utilities\", \"utilities\", \"utility\", \"utility\", \"utility\", \"utility\", \"various\", \"various\", \"various\", \"various\", \"venture\", \"venture\", \"vice\", \"vice\", \"vince\", \"vince\", \"volume\", \"volume\", \"volume\", \"volume\", \"web\", \"web\", \"web\", \"wednesday\", \"wednesday\", \"wednesday\", \"wednesday\", \"wednesday\", \"wednesday\", \"week\", \"week\", \"week\", \"week\", \"week\", \"week\", \"week\", \"week\", \"wholesale\", \"wholesale\", \"wholesale\", \"wholesale\", \"work\", \"work\", \"work\", \"work\", \"work\", \"work\", \"work\", \"work\", \"working\", \"working\", \"working\", \"working\", \"working\", \"working\", \"working\", \"working\", \"world\", \"world\", \"world\", \"www\", \"www\", \"www\", \"www\", \"www\", \"xls\", \"xls\", \"xls\", \"yahoo\", \"yahoo\", \"yahoo\", \"year\", \"year\", \"year\", \"year\", \"year\", \"year\", \"year\", \"year\"]}, \"R\": 30, \"lambda.step\": 0.01, \"plot.opts\": {\"xlab\": \"PC1\", \"ylab\": \"PC2\"}, \"topic.order\": [4, 8, 5, 10, 6, 2, 1, 3, 9, 7]};\n",
       "\n",
       "function LDAvis_load_lib(url, callback){\n",
       "  var s = document.createElement('script');\n",
       "  s.src = url;\n",
       "  s.async = true;\n",
       "  s.onreadystatechange = s.onload = callback;\n",
       "  s.onerror = function(){console.warn(\"failed to load library \" + url);};\n",
       "  document.getElementsByTagName(\"head\")[0].appendChild(s);\n",
       "}\n",
       "\n",
       "if(typeof(LDAvis) !== \"undefined\"){\n",
       "   // already loaded: just create the visualization\n",
       "   !function(LDAvis){\n",
       "       new LDAvis(\"#\" + \"ldavis_el9540248519169924709860288\", ldavis_el9540248519169924709860288_data);\n",
       "   }(LDAvis);\n",
       "}else if(typeof define === \"function\" && define.amd){\n",
       "   // require.js is available: use it to load d3/LDAvis\n",
       "   require.config({paths: {d3: \"https://cdnjs.cloudflare.com/ajax/libs/d3/3.5.5/d3.min\"}});\n",
       "   require([\"d3\"], function(d3){\n",
       "      window.d3 = d3;\n",
       "      LDAvis_load_lib(\"https://cdn.rawgit.com/bmabey/pyLDAvis/files/ldavis.v1.0.0.js\", function(){\n",
       "        new LDAvis(\"#\" + \"ldavis_el9540248519169924709860288\", ldavis_el9540248519169924709860288_data);\n",
       "      });\n",
       "    });\n",
       "}else{\n",
       "    // require.js not available: dynamically load d3 & LDAvis\n",
       "    LDAvis_load_lib(\"https://cdnjs.cloudflare.com/ajax/libs/d3/3.5.5/d3.min.js\", function(){\n",
       "         LDAvis_load_lib(\"https://cdn.rawgit.com/bmabey/pyLDAvis/files/ldavis.v1.0.0.js\", function(){\n",
       "                 new LDAvis(\"#\" + \"ldavis_el9540248519169924709860288\", ldavis_el9540248519169924709860288_data);\n",
       "            })\n",
       "         });\n",
       "}\n",
       "</script>"
      ],
      "text/plain": [
       "PreparedData(topic_coordinates=            Freq  cluster  topics         x         y\n",
       "topic                                                \n",
       "3      15.671119        1       1 -0.173918 -0.082222\n",
       "7      13.277916        1       2 -0.318028 -0.008712\n",
       "4      13.031673        1       3  0.121766 -0.111145\n",
       "9      10.730823        1       4  0.104578 -0.016920\n",
       "5       9.433998        1       5  0.098364  0.161174\n",
       "1       8.828166        1       6  0.170931  0.150660\n",
       "0       8.036452        1       7  0.113190 -0.250804\n",
       "2       7.480788        1       8 -0.009272 -0.061428\n",
       "8       7.147235        1       9  0.092523  0.096885\n",
       "6       6.361831        1      10 -0.200132  0.122512, topic_info=     Category         Freq               Term        Total  loglift  logprob\n",
       "term                                                                        \n",
       "258   Default  2317.000000                ect  2317.000000  30.0000  30.0000\n",
       "398   Default  1215.000000                hou  1215.000000  29.0000  29.0000\n",
       "136   Default  2216.000000                com  2216.000000  28.0000  28.0000\n",
       "278   Default  3262.000000              enron  3262.000000  27.0000  27.0000\n",
       "672   Default   631.000000              power   631.000000  26.0000  26.0000\n",
       "277   Default   559.000000             energy   559.000000  25.0000  25.0000\n",
       "405   Default   488.000000               http   488.000000  24.0000  24.0000\n",
       "262   Default   452.000000                ees   452.000000  23.0000  23.0000\n",
       "868   Default   889.000000            subject   889.000000  22.0000  22.0000\n",
       "616   Default   369.000000           original   369.000000  21.0000  21.0000\n",
       "660   Default   730.000000                 pm   730.000000  20.0000  20.0000\n",
       "279   Default   289.000000  enron_development   289.000000  19.0000  19.0000\n",
       "568   Default   352.000000                 na   352.000000  18.0000  18.0000\n",
       "352   Default   395.000000                gas   395.000000  17.0000  17.0000\n",
       "773   Default   309.000000               said   309.000000  16.0000  16.0000\n",
       "551   Default   486.000000            message   486.000000  15.0000  15.0000\n",
       "804   Default   457.000000               sent   457.000000  14.0000  14.0000\n",
       "113   Default   577.000000                 cc   577.000000  13.0000  13.0000\n",
       "992   Default   366.000000                www   366.000000  12.0000  12.0000\n",
       "518   Default   347.000000               mail   347.000000  11.0000  11.0000\n",
       "173   Default   537.000000               corp   537.000000  10.0000  10.0000\n",
       "532   Default   392.000000             market   392.000000   9.0000   9.0000\n",
       "186   Default   185.000000             credit   185.000000   8.0000   8.0000\n",
       "149   Default   327.000000            company   327.000000   7.0000   7.0000\n",
       "167   Default   182.000000           contract   182.000000   6.0000   6.0000\n",
       "448   Default   203.000000               jeff   203.000000   5.0000   5.0000\n",
       "338   Default   286.000000          forwarded   286.000000   4.0000   4.0000\n",
       "237   Default   181.000000                doc   181.000000   3.0000   3.0000\n",
       "101   Default   225.000000         california   225.000000   2.0000   2.0000\n",
       "963   Default   180.000000              vince   180.000000   1.0000   1.0000\n",
       "...       ...          ...                ...          ...      ...      ...\n",
       "368   Topic10    22.491108           governor    36.612227   2.2676  -5.4488\n",
       "870   Topic10    18.505584                sue    30.643763   2.2505  -5.6439\n",
       "247   Topic10    60.607284              draft   100.603932   2.2481  -4.4575\n",
       "468   Topic10    28.261986                ken    48.455605   2.2157  -5.2204\n",
       "448   Topic10   114.387986               jeff   203.079223   2.1809  -3.8223\n",
       "385   Topic10    19.275655            hearing    34.515772   2.1723  -5.6031\n",
       "140   Topic10    84.336024           comments   156.061283   2.1394  -4.1271\n",
       "760   Topic10    60.136882            richard   116.576294   2.0929  -4.4653\n",
       "106   Topic10    13.672948                cap    26.688137   2.0861  -5.9465\n",
       "858   Topic10    35.660317             steven    70.073475   2.0793  -4.9879\n",
       "103   Topic10    17.596382            calpine    36.643192   2.0213  -5.6942\n",
       "65    Topic10    13.258375               ball    27.669135   2.0192  -5.9773\n",
       "439   Topic10    53.253099                iso   117.736687   1.9615  -4.5869\n",
       "136   Topic10   710.150042                com  2216.532112   1.6166  -1.9965\n",
       "237   Topic10    72.421298                doc   181.200597   1.8377  -4.2794\n",
       "879   Topic10    41.341681              susan    96.622793   1.9059  -4.8401\n",
       "262   Topic10   126.476703                ees   452.932824   1.4792  -3.7219\n",
       "568   Topic10    92.261221                 na   352.053344   1.4157  -4.0373\n",
       "101   Topic10    68.786323         california   225.960704   1.5655  -4.3309\n",
       "278   Topic10   320.494786              enron  3262.917485   0.4343  -2.7921\n",
       "857   Topic10    47.321044              steve   130.191396   1.7428  -4.7050\n",
       "851   Topic10    48.682794              state   154.384874   1.6007  -4.6766\n",
       "113   Topic10    77.076189                 cc   577.027783   0.7418  -4.2171\n",
       "338   Topic10    58.683037          forwarded   286.496225   1.1693  -4.4898\n",
       "56    Topic10    50.560109           attached   205.796085   1.3511  -4.6388\n",
       "868   Topic10    71.787956            subject   889.411187   0.2380  -4.2882\n",
       "660   Topic10    65.256209                 pm   730.945335   0.3388  -4.3836\n",
       "277   Topic10    53.116060             energy   559.837823   0.3997  -4.5895\n",
       "577   Topic10    38.075581                net   178.732040   1.2085  -4.9224\n",
       "518   Topic10    37.648711               mail   347.728264   0.5317  -4.9336\n",
       "\n",
       "[529 rows x 6 columns], token_table=      Topic      Freq         Term\n",
       "term                              \n",
       "3         1  0.166192       access\n",
       "3         4  0.028903       access\n",
       "3         5  0.151741       access\n",
       "3         6  0.346836       access\n",
       "3         8  0.223998       access\n",
       "3        10  0.079483       access\n",
       "19        1  0.112638        agent\n",
       "19        4  0.863557        agent\n",
       "23        1  0.242771    agreement\n",
       "23        5  0.022070    agreement\n",
       "23        6  0.071728    agreement\n",
       "23        7  0.628998    agreement\n",
       "23        9  0.027588    agreement\n",
       "28        2  0.261179         alan\n",
       "28        5  0.032647         alan\n",
       "28       10  0.685596         alan\n",
       "29        7  0.988123      alberta\n",
       "32        3  0.756432  alternative\n",
       "32        6  0.216123  alternative\n",
       "49        3  0.289620       arnold\n",
       "49        7  0.687848       arnold\n",
       "53        4  0.949757          asp\n",
       "53        5  0.042211          asp\n",
       "56        1  0.223522     attached\n",
       "56        2  0.068029     attached\n",
       "56        3  0.024296     attached\n",
       "56        7  0.068029     attached\n",
       "56        8  0.364438     attached\n",
       "56       10  0.247818     attached\n",
       "57        1  0.145302  attachments\n",
       "...     ...       ...          ...\n",
       "988       1  0.184713      working\n",
       "988       2  0.104403      working\n",
       "988       3  0.449735      working\n",
       "988       4  0.072279      working\n",
       "988       5  0.064248      working\n",
       "988       7  0.072279      working\n",
       "988       8  0.048186      working\n",
       "988      10  0.008031      working\n",
       "990       4  0.611842        world\n",
       "990       5  0.305921        world\n",
       "990       6  0.079805        world\n",
       "992       4  0.565367          www\n",
       "992       5  0.226693          www\n",
       "992       6  0.199381          www\n",
       "992       8  0.005462          www\n",
       "992      10  0.002731          www\n",
       "993       7  0.271026          xls\n",
       "993       8  0.643687          xls\n",
       "993      10  0.067757          xls\n",
       "994       1  0.144844        yahoo\n",
       "994       4  0.760430        yahoo\n",
       "994      10  0.072422        yahoo\n",
       "995       2  0.025583         year\n",
       "995       3  0.110859         year\n",
       "995       4  0.187607         year\n",
       "995       5  0.157761         year\n",
       "995       6  0.038374         year\n",
       "995       7  0.025583         year\n",
       "995       8  0.051166         year\n",
       "995       9  0.405062         year\n",
       "\n",
       "[1595 rows x 3 columns], R=30, lambda_step=0.01, plot_opts={'xlab': 'PC1', 'ylab': 'PC2'}, topic_order=[4, 8, 5, 10, 6, 2, 1, 3, 9, 7])"
      ]
     },
     "execution_count": 33,
     "metadata": {},
     "output_type": "execute_result"
    }
   ],
   "source": [
    "import pyLDAvis\n",
    "import pyLDAvis.sklearn\n",
    "pyLDAvis.enable_notebook()\n",
    "pyLDAvis.sklearn.prepare(lda, tf, tf_vectorizer)"
   ]
  },
  {
   "cell_type": "code",
   "execution_count": null,
   "metadata": {
    "collapsed": true
   },
   "outputs": [],
   "source": []
  }
 ],
 "metadata": {
  "kernelspec": {
   "display_name": "Python 3",
   "language": "python",
   "name": "python3"
  },
  "language_info": {
   "codemirror_mode": {
    "name": "ipython",
    "version": 3
   },
   "file_extension": ".py",
   "mimetype": "text/x-python",
   "name": "python",
   "nbconvert_exporter": "python",
   "pygments_lexer": "ipython3",
   "version": "3.6.2"
  },
  "toc": {
   "nav_menu": {},
   "number_sections": true,
   "sideBar": true,
   "skip_h1_title": true,
   "toc_cell": true,
   "toc_position": {},
   "toc_section_display": "block",
   "toc_window_display": true
  }
 },
 "nbformat": 4,
 "nbformat_minor": 2
}
