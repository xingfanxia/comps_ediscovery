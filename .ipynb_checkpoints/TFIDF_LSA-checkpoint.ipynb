{
 "cells": [
  {
   "cell_type": "code",
   "execution_count": 14,
   "metadata": {},
   "outputs": [
    {
     "name": "stderr",
     "output_type": "stream",
     "text": [
      "/Users/ediscovery/anaconda3/lib/python3.6/site-packages/IPython/core/interactiveshell.py:2698: DtypeWarning: Columns (12) have mixed types. Specify dtype option on import or set low_memory=False.\n",
      "  interactivity=interactivity, compiler=compiler, result=result)\n"
     ]
    }
   ],
   "source": [
    "import numpy as np\n",
    "import pandas as pd\n",
    "from sklearn.feature_extraction import text\n",
    "from sklearn.feature_extraction.text import TfidfVectorizer\n",
    "from sklearn.decomposition import TruncatedSVD\n",
    "from sklearn.preprocessing import Normalizer\n",
    "\n",
    "stop_Words = text.ENGLISH_STOP_WORDS\n",
    "\n",
    "df = pd.read_csv(\"./data/parsed/training.csv\")\n",
    "\n",
    "\n"
   ]
  },
  {
   "cell_type": "code",
   "execution_count": 4,
   "metadata": {},
   "outputs": [
    {
     "data": {
      "text/html": [
       "<div>\n",
       "<style>\n",
       "    .dataframe thead tr:only-child th {\n",
       "        text-align: right;\n",
       "    }\n",
       "\n",
       "    .dataframe thead th {\n",
       "        text-align: left;\n",
       "    }\n",
       "\n",
       "    .dataframe tbody tr th {\n",
       "        vertical-align: top;\n",
       "    }\n",
       "</style>\n",
       "<table border=\"1\" class=\"dataframe\">\n",
       "  <thead>\n",
       "    <tr style=\"text-align: right;\">\n",
       "      <th></th>\n",
       "      <th>Unnamed: 0</th>\n",
       "      <th>Unnamed: 0.1</th>\n",
       "      <th>Date</th>\n",
       "      <th>From</th>\n",
       "      <th>To</th>\n",
       "      <th>Subject</th>\n",
       "      <th>Mime-Version</th>\n",
       "      <th>Content-Type</th>\n",
       "      <th>Content-Transfer-Encoding</th>\n",
       "      <th>X-From</th>\n",
       "      <th>...</th>\n",
       "      <th>X-cc</th>\n",
       "      <th>X-bcc</th>\n",
       "      <th>X-Folder</th>\n",
       "      <th>X-Origin</th>\n",
       "      <th>X-FileName</th>\n",
       "      <th>Message-ID</th>\n",
       "      <th>Message-Contents</th>\n",
       "      <th>ID</th>\n",
       "      <th>Label</th>\n",
       "      <th>Scenario</th>\n",
       "    </tr>\n",
       "  </thead>\n",
       "  <tbody>\n",
       "    <tr>\n",
       "      <th>0</th>\n",
       "      <td>0</td>\n",
       "      <td>0</td>\n",
       "      <td>Fri, 15 Jun 2001 11:37:53 -0700 (PDT)</td>\n",
       "      <td>david.allan@enron.com</td>\n",
       "      <td>david.allan@enron.com, e..carter@enron.com, el...</td>\n",
       "      <td>pdated: weekly warrior meeting</td>\n",
       "      <td>1.0</td>\n",
       "      <td>text/plain; charset=us-ascii</td>\n",
       "      <td>7bit</td>\n",
       "      <td>Allan, David &lt;/O=ENRON/OU=NA/CN=RECIPIENTS/CN=...</td>\n",
       "      <td>...</td>\n",
       "      <td>NaN</td>\n",
       "      <td>NaN</td>\n",
       "      <td>\\MCAUSHOL (Non-Privileged)\\Calendar</td>\n",
       "      <td>causholli-m</td>\n",
       "      <td>MCAUSHOL (Non-Privileged).pst</td>\n",
       "      <td>&lt;22329315.1075853164077.JavaMail.evans@thyme&gt;</td>\n",
       "      <td>Team room - EB2942, NC</td>\n",
       "      <td>3.438093.NRVQMDFEDQVCPPCQH1LAKFSPGODI4KJHA</td>\n",
       "      <td>-1</td>\n",
       "      <td>401</td>\n",
       "    </tr>\n",
       "    <tr>\n",
       "      <th>1</th>\n",
       "      <td>1</td>\n",
       "      <td>1</td>\n",
       "      <td>Fri, 15 Jun 2001 11:37:53 -0700 (PDT)</td>\n",
       "      <td>david.allan@enron.com</td>\n",
       "      <td>david.allan@enron.com, e..carter@enron.com, el...</td>\n",
       "      <td>pdated: weekly warrior meeting</td>\n",
       "      <td>1.0</td>\n",
       "      <td>text/plain; charset=us-ascii</td>\n",
       "      <td>7bit</td>\n",
       "      <td>Allan, David &lt;/O=ENRON/OU=NA/CN=RECIPIENTS/CN=...</td>\n",
       "      <td>...</td>\n",
       "      <td>NaN</td>\n",
       "      <td>NaN</td>\n",
       "      <td>\\MCAUSHOL (Non-Privileged)\\Calendar</td>\n",
       "      <td>causholli-m</td>\n",
       "      <td>MCAUSHOL (Non-Privileged).pst</td>\n",
       "      <td>&lt;22329315.1075853164077.JavaMail.evans@thyme&gt;</td>\n",
       "      <td>Team room - EB2942, NC</td>\n",
       "      <td>3.438093.NRVQMDFEDQVCPPCQH1LAKFSPGODI4KJHA</td>\n",
       "      <td>-1</td>\n",
       "      <td>402</td>\n",
       "    </tr>\n",
       "    <tr>\n",
       "      <th>2</th>\n",
       "      <td>2</td>\n",
       "      <td>2</td>\n",
       "      <td>Fri, 15 Jun 2001 11:37:53 -0700 (PDT)</td>\n",
       "      <td>david.allan@enron.com</td>\n",
       "      <td>david.allan@enron.com, e..carter@enron.com, el...</td>\n",
       "      <td>pdated: weekly warrior meeting</td>\n",
       "      <td>1.0</td>\n",
       "      <td>text/plain; charset=us-ascii</td>\n",
       "      <td>7bit</td>\n",
       "      <td>Allan, David &lt;/O=ENRON/OU=NA/CN=RECIPIENTS/CN=...</td>\n",
       "      <td>...</td>\n",
       "      <td>NaN</td>\n",
       "      <td>NaN</td>\n",
       "      <td>\\MCAUSHOL (Non-Privileged)\\Calendar</td>\n",
       "      <td>causholli-m</td>\n",
       "      <td>MCAUSHOL (Non-Privileged).pst</td>\n",
       "      <td>&lt;22329315.1075853164077.JavaMail.evans@thyme&gt;</td>\n",
       "      <td>Team room - EB2942, NC</td>\n",
       "      <td>3.438093.NRVQMDFEDQVCPPCQH1LAKFSPGODI4KJHA</td>\n",
       "      <td>-1</td>\n",
       "      <td>403</td>\n",
       "    </tr>\n",
       "    <tr>\n",
       "      <th>3</th>\n",
       "      <td>3</td>\n",
       "      <td>3</td>\n",
       "      <td>Mon, 6 Aug 2001 10:47:06 -0700 (PDT)</td>\n",
       "      <td>stacey.wales@enron.com</td>\n",
       "      <td>stacey.wales@enron.com, e..carter@enron.com, p...</td>\n",
       "      <td>Canceled: Pulp Origination Strategy</td>\n",
       "      <td>1.0</td>\n",
       "      <td>text/plain; charset=us-ascii</td>\n",
       "      <td>7bit</td>\n",
       "      <td>Wales, Stacey &lt;/O=ENRON/OU=NA/CN=RECIPIENTS/CN...</td>\n",
       "      <td>...</td>\n",
       "      <td>NaN</td>\n",
       "      <td>NaN</td>\n",
       "      <td>\\MCAUSHOL (Non-Privileged)\\Calendar</td>\n",
       "      <td>causholli-m</td>\n",
       "      <td>MCAUSHOL (Non-Privileged).pst</td>\n",
       "      <td>&lt;19614702.1075853164028.JavaMail.evans@thyme&gt;</td>\n",
       "      <td>Dear Team,\\n\\n\\nI would like to brainstorm ide...</td>\n",
       "      <td>3.438120.GTSTTLNTZ2LVIWQFALPJFBLRPP2UC0G4A</td>\n",
       "      <td>-1</td>\n",
       "      <td>401</td>\n",
       "    </tr>\n",
       "    <tr>\n",
       "      <th>4</th>\n",
       "      <td>4</td>\n",
       "      <td>4</td>\n",
       "      <td>Mon, 6 Aug 2001 10:47:06 -0700 (PDT)</td>\n",
       "      <td>stacey.wales@enron.com</td>\n",
       "      <td>stacey.wales@enron.com, e..carter@enron.com, p...</td>\n",
       "      <td>Canceled: Pulp Origination Strategy</td>\n",
       "      <td>1.0</td>\n",
       "      <td>text/plain; charset=us-ascii</td>\n",
       "      <td>7bit</td>\n",
       "      <td>Wales, Stacey &lt;/O=ENRON/OU=NA/CN=RECIPIENTS/CN...</td>\n",
       "      <td>...</td>\n",
       "      <td>NaN</td>\n",
       "      <td>NaN</td>\n",
       "      <td>\\MCAUSHOL (Non-Privileged)\\Calendar</td>\n",
       "      <td>causholli-m</td>\n",
       "      <td>MCAUSHOL (Non-Privileged).pst</td>\n",
       "      <td>&lt;19614702.1075853164028.JavaMail.evans@thyme&gt;</td>\n",
       "      <td>Dear Team,\\n\\n\\nI would like to brainstorm ide...</td>\n",
       "      <td>3.438120.GTSTTLNTZ2LVIWQFALPJFBLRPP2UC0G4A</td>\n",
       "      <td>-1</td>\n",
       "      <td>402</td>\n",
       "    </tr>\n",
       "  </tbody>\n",
       "</table>\n",
       "<p>5 rows × 21 columns</p>\n",
       "</div>"
      ],
      "text/plain": [
       "   Unnamed: 0  Unnamed: 0.1                                   Date  \\\n",
       "0           0             0  Fri, 15 Jun 2001 11:37:53 -0700 (PDT)   \n",
       "1           1             1  Fri, 15 Jun 2001 11:37:53 -0700 (PDT)   \n",
       "2           2             2  Fri, 15 Jun 2001 11:37:53 -0700 (PDT)   \n",
       "3           3             3   Mon, 6 Aug 2001 10:47:06 -0700 (PDT)   \n",
       "4           4             4   Mon, 6 Aug 2001 10:47:06 -0700 (PDT)   \n",
       "\n",
       "                     From                                                 To  \\\n",
       "0   david.allan@enron.com  david.allan@enron.com, e..carter@enron.com, el...   \n",
       "1   david.allan@enron.com  david.allan@enron.com, e..carter@enron.com, el...   \n",
       "2   david.allan@enron.com  david.allan@enron.com, e..carter@enron.com, el...   \n",
       "3  stacey.wales@enron.com  stacey.wales@enron.com, e..carter@enron.com, p...   \n",
       "4  stacey.wales@enron.com  stacey.wales@enron.com, e..carter@enron.com, p...   \n",
       "\n",
       "                               Subject  Mime-Version  \\\n",
       "0       pdated: weekly warrior meeting           1.0   \n",
       "1       pdated: weekly warrior meeting           1.0   \n",
       "2       pdated: weekly warrior meeting           1.0   \n",
       "3  Canceled: Pulp Origination Strategy           1.0   \n",
       "4  Canceled: Pulp Origination Strategy           1.0   \n",
       "\n",
       "                   Content-Type Content-Transfer-Encoding  \\\n",
       "0  text/plain; charset=us-ascii                      7bit   \n",
       "1  text/plain; charset=us-ascii                      7bit   \n",
       "2  text/plain; charset=us-ascii                      7bit   \n",
       "3  text/plain; charset=us-ascii                      7bit   \n",
       "4  text/plain; charset=us-ascii                      7bit   \n",
       "\n",
       "                                              X-From    ...    X-cc X-bcc  \\\n",
       "0  Allan, David </O=ENRON/OU=NA/CN=RECIPIENTS/CN=...    ...     NaN   NaN   \n",
       "1  Allan, David </O=ENRON/OU=NA/CN=RECIPIENTS/CN=...    ...     NaN   NaN   \n",
       "2  Allan, David </O=ENRON/OU=NA/CN=RECIPIENTS/CN=...    ...     NaN   NaN   \n",
       "3  Wales, Stacey </O=ENRON/OU=NA/CN=RECIPIENTS/CN...    ...     NaN   NaN   \n",
       "4  Wales, Stacey </O=ENRON/OU=NA/CN=RECIPIENTS/CN...    ...     NaN   NaN   \n",
       "\n",
       "                              X-Folder     X-Origin  \\\n",
       "0  \\MCAUSHOL (Non-Privileged)\\Calendar  causholli-m   \n",
       "1  \\MCAUSHOL (Non-Privileged)\\Calendar  causholli-m   \n",
       "2  \\MCAUSHOL (Non-Privileged)\\Calendar  causholli-m   \n",
       "3  \\MCAUSHOL (Non-Privileged)\\Calendar  causholli-m   \n",
       "4  \\MCAUSHOL (Non-Privileged)\\Calendar  causholli-m   \n",
       "\n",
       "                      X-FileName  \\\n",
       "0  MCAUSHOL (Non-Privileged).pst   \n",
       "1  MCAUSHOL (Non-Privileged).pst   \n",
       "2  MCAUSHOL (Non-Privileged).pst   \n",
       "3  MCAUSHOL (Non-Privileged).pst   \n",
       "4  MCAUSHOL (Non-Privileged).pst   \n",
       "\n",
       "                                      Message-ID  \\\n",
       "0  <22329315.1075853164077.JavaMail.evans@thyme>   \n",
       "1  <22329315.1075853164077.JavaMail.evans@thyme>   \n",
       "2  <22329315.1075853164077.JavaMail.evans@thyme>   \n",
       "3  <19614702.1075853164028.JavaMail.evans@thyme>   \n",
       "4  <19614702.1075853164028.JavaMail.evans@thyme>   \n",
       "\n",
       "                                    Message-Contents  \\\n",
       "0                             Team room - EB2942, NC   \n",
       "1                             Team room - EB2942, NC   \n",
       "2                             Team room - EB2942, NC   \n",
       "3  Dear Team,\\n\\n\\nI would like to brainstorm ide...   \n",
       "4  Dear Team,\\n\\n\\nI would like to brainstorm ide...   \n",
       "\n",
       "                                           ID Label  Scenario  \n",
       "0  3.438093.NRVQMDFEDQVCPPCQH1LAKFSPGODI4KJHA    -1       401  \n",
       "1  3.438093.NRVQMDFEDQVCPPCQH1LAKFSPGODI4KJHA    -1       402  \n",
       "2  3.438093.NRVQMDFEDQVCPPCQH1LAKFSPGODI4KJHA    -1       403  \n",
       "3  3.438120.GTSTTLNTZ2LVIWQFALPJFBLRPP2UC0G4A    -1       401  \n",
       "4  3.438120.GTSTTLNTZ2LVIWQFALPJFBLRPP2UC0G4A    -1       402  \n",
       "\n",
       "[5 rows x 21 columns]"
      ]
     },
     "execution_count": 4,
     "metadata": {},
     "output_type": "execute_result"
    }
   ],
   "source": [
    "df.head()"
   ]
  },
  {
   "cell_type": "code",
   "execution_count": 5,
   "metadata": {
    "collapsed": true
   },
   "outputs": [],
   "source": [
    "import nltk, re"
   ]
  },
  {
   "cell_type": "code",
   "execution_count": 6,
   "metadata": {
    "collapsed": true
   },
   "outputs": [],
   "source": [
    "words = set(nltk.corpus.words.words())\n",
    "\n",
    "#df[\"Message-Contents\"].apply(len)\n",
    "#df[\"Message-Contents\"][16]\n",
    "gross_email = df[df[\"Message-Contents\"].str.contains(\"----\")]\n"
   ]
  },
  {
   "cell_type": "code",
   "execution_count": 7,
   "metadata": {
    "collapsed": true
   },
   "outputs": [],
   "source": [
    "import re"
   ]
  },
  {
   "cell_type": "code",
   "execution_count": 8,
   "metadata": {
    "collapsed": true
   },
   "outputs": [],
   "source": [
    "class Email_filter:\n",
    "     def __init__(self):\n",
    "        ##regexes#\n",
    "        self.quoted = re.compile(r\"^>(\\s)*\", re.MULTILINE)\n",
    "        self.original_or_forward = re.compile(r\"(^(\\s)*-*(\\s)*Original Message(\\s)*-.*$)|(^____.*$)\", re.MULTILINE)\n",
    "        self.metadata = re.compile(r\"(^From:.*$)|(^Sent:.*$)|(^To:.*$)|(^Subject:.*$)|(^Cc:.*$)|(^Date:.*$)|(^Encoding:.*$)\", re.MULTILINE)\n",
    "        self.ole_object = re.compile(r\"(<<.*?>>)+\", re.DOTALL|re.MULTILINE)\n",
    "        self.smtp_header = re.compile(r\"^Message-id:.*?X-Mozilla-Status.*?$\", re.DOTALL|re.MULTILINE)\n",
    "        self.received = re.compile(r\"^Received:(.*?)\\([A-Z]{3}\\)\", re.DOTALL|re.MULTILINE)\n",
    "\n",
    "def filter_email(s):\n",
    "    e = Email_filter()\n",
    "    ret = s\n",
    "    for variable_name, regex in e.__dict__.items():  \n",
    "        ret = re.sub(regex, \"\", ret)\n",
    "    \n",
    "    return ret\n",
    "\n",
    "\n",
    "    "
   ]
  },
  {
   "cell_type": "code",
   "execution_count": 9,
   "metadata": {
    "collapsed": true
   },
   "outputs": [],
   "source": [
    "gross_email_filtered = pd.DataFrame()\n",
    "gross_email_filtered[\"Message-Contents\"] = gross_email[\"Message-Contents\"][:20000].apply(filter_email)"
   ]
  },
  {
   "cell_type": "code",
   "execution_count": 10,
   "metadata": {
    "collapsed": true
   },
   "outputs": [
    {
     "data": {
      "text/plain": [
       "42       Start Date: 10/17/01; HourAhead hour: 14;  No ...\n",
       "43       Start Date: 10/17/01; HourAhead hour: 14;  No ...\n",
       "44       Start Date: 10/17/01; HourAhead hour: 14;  No ...\n",
       "63       Very catchy title!  They didn't have anything ...\n",
       "64       Very catchy title!  They didn't have anything ...\n",
       "65       Very catchy title!  They didn't have anything ...\n",
       "87       sounds great. :)\\n\\n\\n\\n\\n\\n\\nYes sure.  I won...\n",
       "88       sounds great. :)\\n\\n\\n\\n\\n\\n\\nYes sure.  I won...\n",
       "89       sounds great. :)\\n\\n\\n\\n\\n\\n\\nYes sure.  I won...\n",
       "102      revised.\\n\\n\\n\\n\\n\\n\\n\\n                      ...\n",
       "103      revised.\\n\\n\\n\\n\\n\\n\\n\\n                      ...\n",
       "104      revised.\\n\\n\\n\\n\\n\\n\\n\\n                      ...\n",
       "117      There is a column in the spreadsheet that you ...\n",
       "118      There is a column in the spreadsheet that you ...\n",
       "119      There is a column in the spreadsheet that you ...\n",
       "141      Monika, if Bryja and Karen are OK with this, g...\n",
       "142      Monika, if Bryja and Karen are OK with this, g...\n",
       "143      Monika, if Bryja and Karen are OK with this, g...\n",
       "144      Monika,\\n\\nI think an important point to make ...\n",
       "145      Monika,\\n\\nI think an important point to make ...\n",
       "146      Monika,\\n\\nI think an important point to make ...\n",
       "147      :-)\\n\\n\\n\\n\\n\\n\\nSorry Morela. I will remove y...\n",
       "148      :-)\\n\\n\\n\\n\\n\\n\\nSorry Morela. I will remove y...\n",
       "149      :-)\\n\\n\\n\\n\\n\\n\\nSorry Morela. I will remove y...\n",
       "171      \\n\\n\\n\\n\\n\\n\\nJuly 23, 2001\\n\\nDick, I know El...\n",
       "172      \\n\\n\\n\\n\\n\\n\\nJuly 23, 2001\\n\\nDick, I know El...\n",
       "173      \\n\\n\\n\\n\\n\\n\\nJuly 23, 2001\\n\\nDick, I know El...\n",
       "174      \\n\\n\\n\\n\\n\\n\\n\\nDATE: \\t08/29/2001 21:23:34 \\t...\n",
       "175      \\n\\n\\n\\n\\n\\n\\n\\nDATE: \\t08/29/2001 21:23:34 \\t...\n",
       "176      \\n\\n\\n\\n\\n\\n\\n\\nDATE: \\t08/29/2001 21:23:34 \\t...\n",
       "                               ...                        \n",
       "50846    Please check with Maria Lebeau who has been co...\n",
       "50847    awesome Dana -- congratulations! I know it wil...\n",
       "50848    awesome Dana -- congratulations! I know it wil...\n",
       "50849    awesome Dana -- congratulations! I know it wil...\n",
       "50856    Dana,\\n\\nI will send your resume to the hiring...\n",
       "50857    Dana,\\n\\nI will send your resume to the hiring...\n",
       "50858    Dana,\\n\\nI will send your resume to the hiring...\n",
       "50859    Dana,\\n\\nI am the person handling this opening...\n",
       "50860    Dana,\\n\\nI am the person handling this opening...\n",
       "50861    Dana,\\n\\nI am the person handling this opening...\n",
       "50862    \\n\\n\\n\\n\\n\\n\\nI am delighted to let you all kn...\n",
       "50863    \\n\\n\\n\\n\\n\\n\\nI am delighted to let you all kn...\n",
       "50864    \\n\\n\\n\\n\\n\\n\\nI am delighted to let you all kn...\n",
       "50865    Last day to cancel without a charge is Wednesd...\n",
       "50866    Last day to cancel without a charge is Wednesd...\n",
       "50867    Last day to cancel without a charge is Wednesd...\n",
       "50868    I won't charge you.\\n\\nMC\\n\\n\\n\\n\\n\\n\\nWill se...\n",
       "50869    I won't charge you.\\n\\nMC\\n\\n\\n\\n\\n\\n\\nWill se...\n",
       "50870    I won't charge you.\\n\\nMC\\n\\n\\n\\n\\n\\n\\nWill se...\n",
       "50871    At this time, we are not having an Excel Intro...\n",
       "50872    At this time, we are not having an Excel Intro...\n",
       "50873    At this time, we are not having an Excel Intro...\n",
       "50880    Hi Nicole,\\n\\nCan you set up a room for Dana a...\n",
       "50881    Hi Nicole,\\n\\nCan you set up a room for Dana a...\n",
       "50882    Hi Nicole,\\n\\nCan you set up a room for Dana a...\n",
       "50886    \\n\\n\\n\\n\\n\\nCandis has informed me that you ar...\n",
       "50887    \\n\\n\\n\\n\\n\\nCandis has informed me that you ar...\n",
       "50888    \\n\\n\\n\\n\\n\\nCandis has informed me that you ar...\n",
       "50889    She was supposed to have written a paper over ...\n",
       "50890    She was supposed to have written a paper over ...\n",
       "Name: Message-Contents, Length: 20000, dtype: object"
      ]
     },
     "execution_count": 10,
     "metadata": {},
     "output_type": "execute_result"
    }
   ],
   "source": [
    "gross_email_filtered[\"Message-Contents\"]"
   ]
  },
  {
   "cell_type": "code",
   "execution_count": 11,
   "metadata": {
    "collapsed": true
   },
   "outputs": [
    {
     "name": "stdout",
     "output_type": "stream",
     "text": [
      "Start Date: 10/17/01; HourAhead hour: 14;  <CODESITE>\n",
      "Start Date: 10/17/01; HourAhead hour: 14;  No ancillary schedules awarded.  No variances detected. \n",
      "\n",
      "    LOG MESSAGES:\n",
      "\n",
      "PARSING FILE -->> O:\\Portland\\WestDesk\\California Scheduling\\ISO Final Schedules\\2001101714.txt\n",
      "\n",
      "Error retrieving HourAhead price data - process continuing...\n",
      "---- Energy Import/Export Schedule ----\n",
      "*** Final schedule not found for preferred schedule.\n",
      "     Details:\n",
      "\n",
      "  TRANS_TYPE: FINAL\n",
      "  SC_ID: ECTRT\n",
      "  MKT_TYPE: 2\n",
      "  TRANS_DATE: 10/17/01\n",
      "  TIE_POINT: PVERDE_5_DEVERS\n",
      "  INTERCHG_ID: CISO_EPMI_APS\n",
      "  ENGY_TYPE: NFRM\n"
     ]
    }
   ],
   "source": [
    "print(gross_email[\"Subject\"][42])\n",
    "print(gross_email_filtered[\"Message-Contents\"][42])"
   ]
  },
  {
   "cell_type": "code",
   "execution_count": 12,
   "metadata": {
    "scrolled": true
   },
   "outputs": [
    {
     "name": "stdout",
     "output_type": "stream",
     "text": [
      "Please check with Maria Lebeau who has been coordinating hiring in the GCP group.\n",
      "\n",
      " -----Original Message-----\n",
      "From: \tMcLoughlin, Hector  \n",
      "Sent:\tFriday, November 02, 2001 2:20 PM\n",
      "To:\tBoals, Adrial; Davis, Dana; Scribner, James; Carrizales, Blanca\n",
      "Cc:\tCampos, Karen E.; Ormston, Kevin; Perkins, Ramona\n",
      "Subject:\tTransfer of Dana Davis\n",
      "\n",
      "I'm seeking some clarification about the possible transfer of Dana Davis into James Scribner's cost center.    It is my understanding that she was to transfer effective 11/1/01?    Was the position by any chance posted?  Do we need to create a position or is it a transfer into an existing position?\n",
      "Thanks for your help, \n",
      "h\n"
     ]
    }
   ],
   "source": [
    "print(gross_email[\"Message-Contents\"][50846])"
   ]
  },
  {
   "cell_type": "markdown",
   "metadata": {},
   "source": [
    "## TF-IDF"
   ]
  },
  {
   "cell_type": "code",
   "execution_count": 28,
   "metadata": {},
   "outputs": [],
   "source": [
    "vectorizer = TfidfVectorizer(stop_words = stop_Words)\n",
    "vectorized = vectorizer.fit_transform(gross_email_filtered[\"Message-Contents\"][:500])\n",
    "\n",
    "#vectorizer = TfidfVectorizer(stop_words = stop_Words)\n",
    "#vectorized = vectorizer.fit_transform(our_Corpus)\n",
    "\n",
    "#print(vectorized.shape)\n",
    "#print(vectorized)\n",
    "#print(vectorized.toarray())\n",
    "##print(vectorizer.idf_)\n",
    "#print(vectorizer.get_feature_names())\n",
    "#\n",
    "# for item in vectorized:\n",
    "#     print(item)\n",
    "#     for j in range(len(vectorizer.get_feature_names())):\n",
    "#         print(vectorizer.get_feature_names()[j], vectorized.toarray()[i][j])"
   ]
  },
  {
   "cell_type": "markdown",
   "metadata": {},
   "source": [
    "## LSA\n",
    "We take the tf-idf matrix and run TruncatedSVD on it with whatever number of dimensions we want to reduce it to. The issue is I don't believe I can pull the categories. I can pull the highest ranking words from each category, but there is no storage of the category iteself. Currently a WIP on pulling each category, but for right now I'm doing the dot product so I can map term to term."
   ]
  },
  {
   "cell_type": "code",
   "execution_count": 75,
   "metadata": {},
   "outputs": [
    {
     "name": "stdout",
     "output_type": "stream",
     "text": [
      "[[  2.12103525e+00   3.61509066e+00  -2.33146511e-01 ...,  -5.29702190e-04\n",
      "   -1.67906652e-03   6.70518892e-04]\n",
      " [  6.29932816e-02  -3.19861834e-02   2.60552182e-02 ...,   2.42535390e-03\n",
      "   -8.38848981e-03   7.35732443e-04]\n",
      " [  5.12047618e-04  -2.54518820e-04   2.72452806e-03 ...,  -1.23300382e-04\n",
      "    1.13562405e-04  -6.30741958e-05]\n",
      " ..., \n",
      " [  2.74962044e-02  -1.76636630e-02  -1.40860377e-02 ...,  -7.91970362e-03\n",
      "    6.32496853e-03  -1.19838711e-03]\n",
      " [  2.18556766e-02  -5.67358824e-03  -1.02971139e-02 ...,   4.79882970e-03\n",
      "   -3.49597633e-03  -4.91326766e-03]\n",
      " [  2.86396843e-03  -1.19305797e-03   8.61488392e-03 ...,   1.06139196e-04\n",
      "   -1.28891769e-05  -1.87767834e-04]]\n"
     ]
    }
   ],
   "source": [
    "# Implemented without stemming to better work with current tf-idf code and the nasty documents\n",
    "\n",
    "svd = TruncatedSVD(n_components = 100, algorithm='randomized')\n",
    "lsa = svd.fit_transform(vectorized.T)\n",
    "\n",
    "print(lsa)\n",
    "\n",
    "def get_closest(term, vectorizer ,model):\n",
    " \n",
    "    index = vectorizer.vocabulary_[term]\n",
    "\n",
    "    model = np.dot(model, model.T)\n",
    "    search_space = np.concatenate( (model[index][:index] , model[index][(index+1):]) )  \n",
    "    out = np.argmax(search_space)\n",
    "    if out<index:\n",
    "        return vectorizer.get_feature_names()[out]\n",
    "    else:\n",
    "        return vectorizer.get_feature_names()[(out+1)]\n",
    "    \n",
    "def get_k_closest(k,term,vectorizer,model):\n",
    "    index = vectorizer.vocabulary_[term]\n",
    "    print(\"index: \", index)\n",
    "\n",
    "    # This is one approach where we take the dot product\n",
    "    # This results in a mapping of terms to terms based on similarity to each other\n",
    "    model = np.dot(model,model.T)\n",
    "    print(model.shape)\n",
    "\n",
    "    closest_terms = {}\n",
    "    print(len(model))\n",
    "    for i in range(len(model)):\n",
    "        closest_terms[vectorizer.get_feature_names()[i]] = model[index][i]\n",
    "    #print(closest_terms)\n",
    "    sorted_list = sorted(closest_terms , key = lambda l : closest_terms[l])\n",
    "    return sorted_list[::-1][0:k]\n",
    "\n",
    "# WIP\n",
    "def get_topics(transformer, model): \n",
    "    model = np.dot(model,model.T)\n",
    "    \n",
    "    closest_terms = {}\n",
    "    for i in range(len(model)):\n",
    "        for i in range(len(model)):\n",
    "            closest_terms[vectorizer.get_feature_names()[i]] = model[index][i]\n",
    "\n",
    "    \n"
   ]
  },
  {
   "cell_type": "code",
   "execution_count": 76,
   "metadata": {},
   "outputs": [
    {
     "name": "stdout",
     "output_type": "stream",
     "text": [
      "correlate\n",
      "index:  4034\n",
      "(4590, 4590)\n",
      "4590\n",
      "['correlate', 'stock', 'tough', 'nbskp', 'dividend']\n"
     ]
    }
   ],
   "source": [
    "print(get_closest(\"stock\", vectorizer, lsa))\n",
    "print(get_k_closest(5, \"stock\", vectorizer, lsa))"
   ]
  },
  {
   "cell_type": "code",
   "execution_count": null,
   "metadata": {
    "collapsed": true
   },
   "outputs": [],
   "source": [
    "# WIP\n",
    "print(get_topics(vectorizer, lsa))"
   ]
  }
 ],
 "metadata": {
  "kernelspec": {
   "display_name": "Python 3",
   "language": "python",
   "name": "python3"
  },
  "language_info": {
   "codemirror_mode": {
    "name": "ipython",
    "version": 3
   },
   "file_extension": ".py",
   "mimetype": "text/x-python",
   "name": "python",
   "nbconvert_exporter": "python",
   "pygments_lexer": "ipython3",
   "version": "3.6.2"
  }
 },
 "nbformat": 4,
 "nbformat_minor": 2
}
