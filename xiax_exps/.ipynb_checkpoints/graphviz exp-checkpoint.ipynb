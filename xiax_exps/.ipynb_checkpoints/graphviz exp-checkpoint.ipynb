{
 "cells": [
  {
   "cell_type": "markdown",
   "metadata": {
    "toc": "true"
   },
   "source": [
    " # Table of Contents\n",
    "<div class=\"toc\" style=\"margin-top: 1em;\"><ul class=\"toc-item\" id=\"toc-level0\"></ul></div>"
   ]
  },
  {
   "cell_type": "code",
   "execution_count": 1,
   "metadata": {
    "ExecuteTime": {
     "end_time": "2017-10-27T07:53:40.569445Z",
     "start_time": "2017-10-27T07:53:40.564901Z"
    }
   },
   "outputs": [],
   "source": [
    "import os, sys\n",
    "root_dir = os.path.dirname(os.getcwd())\n",
    "sys.path.insert(0, root_dir)"
   ]
  },
  {
   "cell_type": "code",
   "execution_count": 2,
   "metadata": {
    "ExecuteTime": {
     "end_time": "2017-10-27T07:53:41.064267Z",
     "start_time": "2017-10-27T07:53:40.571672Z"
    }
   },
   "outputs": [],
   "source": [
    "import random\n",
    "import numpy as np\n",
    "import pandas as pd\n",
    "from lib.node import Node"
   ]
  },
  {
   "cell_type": "code",
   "execution_count": 3,
   "metadata": {
    "ExecuteTime": {
     "end_time": "2017-10-27T07:53:41.074932Z",
     "start_time": "2017-10-27T07:53:41.066313Z"
    }
   },
   "outputs": [],
   "source": [
    "file_path = '../data/research/sonar.all-data.csv'\n",
    "df = pd.read_csv(file_path, header=None)"
   ]
  },
  {
   "cell_type": "code",
   "execution_count": 4,
   "metadata": {
    "ExecuteTime": {
     "end_time": "2017-10-27T07:53:41.079531Z",
     "start_time": "2017-10-27T07:53:41.076954Z"
    },
    "collapsed": true
   },
   "outputs": [],
   "source": [
    "dot_string = '''graph hello {\n",
    "\n",
    "// Comment: Hello World from ``dot``\n",
    "// a graph with a single node Node1\n",
    "\n",
    "Node1 [label=\"Hello, World!\"]\n",
    "\n",
    "}'''"
   ]
  },
  {
   "cell_type": "code",
   "execution_count": 5,
   "metadata": {
    "ExecuteTime": {
     "end_time": "2017-10-27T07:53:41.084587Z",
     "start_time": "2017-10-27T07:53:41.081206Z"
    },
    "collapsed": true
   },
   "outputs": [],
   "source": [
    "with open(\"tree.dot\", \"w\") as f:\n",
    "    f.write(dot_string)"
   ]
  },
  {
   "cell_type": "code",
   "execution_count": 6,
   "metadata": {
    "ExecuteTime": {
     "end_time": "2017-10-27T07:53:41.153045Z",
     "start_time": "2017-10-27T07:53:41.086592Z"
    }
   },
   "outputs": [],
   "source": [
    "%%bash\n",
    "dot -Tpng tree.dot -o tree.png"
   ]
  },
  {
   "cell_type": "code",
   "execution_count": 7,
   "metadata": {
    "ExecuteTime": {
     "end_time": "2017-10-27T07:53:41.166248Z",
     "start_time": "2017-10-27T07:53:41.155316Z"
    }
   },
   "outputs": [
    {
     "data": {
      "image/png": "[encoded data removed]",
      "text/plain": [
       "<IPython.core.display.Image object>"
      ]
     },
     "execution_count": 7,
     "metadata": {},
     "output_type": "execute_result"
    }
   ],
   "source": [
    "from IPython.display import Image\n",
    "Image(filename='tree.png')"
   ]
  },
  {
   "cell_type": "code",
   "execution_count": 8,
   "metadata": {
    "ExecuteTime": {
     "end_time": "2017-10-27T07:53:41.445166Z",
     "start_time": "2017-10-27T07:53:41.168205Z"
    }
   },
   "outputs": [],
   "source": [
    "ls = [x for x in range(60)]\n",
    "dummy = Node(df, [1,2,2,7,4,5,200,150, 175, 175, 130], ls, 0, 4)\n",
    "dummy.split()"
   ]
  },
  {
   "cell_type": "code",
   "execution_count": 9,
   "metadata": {
    "ExecuteTime": {
     "end_time": "2017-10-27T07:53:41.458897Z",
     "start_time": "2017-10-27T07:53:41.447831Z"
    }
   },
   "outputs": [
    {
     "name": "stdout",
     "output_type": "stream",
     "text": [
      "[1425867875, 0.49586776859504145, 11, 1, 0.0453, [('l', 4219810709), ('r', 6298694652)]]\n",
      "\n",
      "--------------------------------------------------\n",
      "[4219810709, 0.0, 5, None, None, []]\n",
      "[6298694652, 0.0, 6, None, None, []]\n",
      "\n",
      "--------------------------------------------------\n"
     ]
    }
   ],
   "source": [
    "nodes = [dummy]\n",
    "while(len(nodes) > 0):\n",
    "    new_nodes = []\n",
    "    level_str = ''\n",
    "    for node in nodes:\n",
    "        level_str += str(node) + \"\\n\"\n",
    "        if node.left:\n",
    "            new_nodes.append(node.left)\n",
    "        if node.right:\n",
    "            new_nodes.append(node.right)\n",
    "    print(level_str+\"\\n--------------------------------------------------\", end='\\n')\n",
    "    nodes = new_nodes"
   ]
  },
  {
   "cell_type": "code",
   "execution_count": 10,
   "metadata": {
    "ExecuteTime": {
     "end_time": "2017-10-27T07:53:41.902001Z",
     "start_time": "2017-10-27T07:53:41.461690Z"
    },
    "collapsed": true
   },
   "outputs": [],
   "source": [
    "class Tree:\n",
    "    \n",
    "    '''\n",
    "    params:\n",
    "    train_data - training data to trainthe tree\n",
    "    depth - max recursion depth of the tree\n",
    "    benchmark - benchmark for geni/entropy\n",
    "    '''\n",
    "    def __init__(self, data, depth, benchmark, rows, features): #should we include data here\n",
    "        self.depth = depth\n",
    "        self.rows = rows\n",
    "        self.features = features\n",
    "        self.data = data\n",
    "        self.benchmark = benchmark\n",
    "        self.head = Node(data, rows, features, 0, depth)\n",
    "        self.oob_error = -1\n",
    "    \n",
    "    def visualize(self):\n",
    "        cur = self.head\n",
    "        to_put = []\n",
    "        nodes = [cur]\n",
    "        depth = 0\n",
    "        dot_string = '''digraph Tree {\n",
    "        node [shape=box]\n",
    "        {to_put}\n",
    "        }'''.format()\n",
    "        while len(nodes) > 0 and cur_depth < self.depth:\n",
    "            children = []           \n",
    "            for node in nodes:\n",
    "                node_string = '{ID} [label=\"X[{min_feature}] < {min_break}\\ngini = {min_gini}\\nsamples = {rows}\\nvalues = [{left}, {right}]\"];'.format(ID=node_index, min_feature=cur.min_feature, min_break=cur.min_break_point, rows=len(cur.rows), left=len(cur.left.rows), right=(cur.right.rows))\n",
    "                to_put.append(node_string)\n",
    "                if node.parent != None:\n",
    "                    if node.side == 'l':\n",
    "                        edge = '{par} -> {me} [labeldistance=2.5, labelangle=45, headlabel=\"True\"]'.format(node.parent.id, node.id)\n",
    "                    else:\n",
    "                        edge = '{par} -> {me} [labeldistance=2.5, labelangle=45, headlabel=\"False\"]'.format(node.parent.id, node.id)\n",
    "                if node.left:\n",
    "                    children.append(node.left)\n",
    "                if node.right:\n",
    "                    children.append(node.right)\n",
    "            print(level_str+\"\\n--------------------------------------------------\", end='\\n')\n",
    "            nodes = new_nodes\n",
    "            \n",
    "        \n",
    "        \n",
    "    '''\n",
    "    Recursively split until geni/entropy benchmark met or max_depth reached\n",
    "    '''\n",
    "    def fit(self):\n",
    "        #think about behavior of pure nodes more\n",
    "        try:\n",
    "            self.head.split()\n",
    "        except ValueError: #change this to whatever node.split() throws\n",
    "            print('Head is a pure node.')\n",
    "    '''\n",
    "    params: \n",
    "    test_data - test data to run the prediction on\n",
    "    \n",
    "    return: \n",
    "    outputs confidence/probability of each category\n",
    "    '''\n",
    "    def predict(self, test_data):\n",
    "#         assuming input data is a dataframe right now\n",
    "        confidences = []\n",
    "        for index, row in test_data.iterrows():\n",
    "            cur_node = self.head\n",
    "            while (cur_node.left and cur_node.right):\n",
    "                if (row[cur_node.min_feature] < cur_node.min_break_point):\n",
    "                    cur_node = cur_node.left\n",
    "                else:\n",
    "                    cur_node = cur_node.right\n",
    "#         here, cur_node should be the leaf\n",
    "            r_confidence = cur_node.get_proportions('R')\n",
    "            m_confidence = cur_node.get_proportions('M')\n",
    "            confidences.append((r_confidence, m_confidence))\n",
    "        return confidences\n",
    "    \n",
    "    '''\n",
    "    params: \n",
    "    more_data - more training data to update the tree\n",
    "    \n",
    "    return: \n",
    "    Null or we can say something like which nodes are changed\n",
    "    '''\n",
    "    def update(more_data):\n",
    "        #decide whether to call alg 3 or alg 4\n",
    "        #call the relevant one\n",
    "        pass\n",
    "    \n",
    "    '''\n",
    "    return:\n",
    "    The number of ignored data pieces that we get incorrect (n) divided by the number of rows we ignored (l)\n",
    "    That is, n/l\n",
    "    '''\n",
    "    def calc_oob_error(self):\n",
    "        #complement of rows\n",
    "        test_data = self.data.loc[~self.data.index.isin(self.rows)]\n",
    "        complement = set(range(self.data.shape[1])) - set(self.rows)\n",
    "        #predict each of those (TODO: update this once we have batch training)\n",
    "        num_incorrect = 0\n",
    "        for row in complement:\n",
    "            case = self.data.loc[[row]]\n",
    "            prediction = self.predict(case)\n",
    "            if prediction[0] > prediction[1]:\n",
    "                num_incorrect += 1 if case[60].values[0] == 'M' else 0\n",
    "            else:\n",
    "                num_incorrect += 1 if case[60].values[0] == 'R' else 0\n",
    "        return num_incorrect / len(test_data)\n",
    "        #calculate incorrect / total\n",
    "        \n",
    "    def store_tree(self, file_path):\n",
    "        f = open('file_path', 'wb')\n",
    "        pickle.dump(self, f)\n",
    "        f.close()\n",
    "        \n",
    "    \n",
    "    def load_tree(self, file_path):\n",
    "        f = open('file_path', 'rb')\n",
    "        temp = pickle.load(f)\n",
    "        f.close()\n",
    "        \n",
    "#         reinitialize some variables\n",
    "        self.__init__(temp.data, temp.depth, temp.benchmark, temp.rows, temp.features)\n",
    "#         reassign the head\n",
    "        self.head = temp.head\n",
    "    \n",
    "    '''\n",
    "    String representation\n",
    "    '''\n",
    "    def __str__(self):\n",
    "        string = ''\n",
    "        string += str(sorted(self.features))\n",
    "        string += '\\n'\n",
    "        nodes = [self.head]\n",
    "        while(len(nodes) > 0):\n",
    "            new_nodes = []\n",
    "            level_str = ''\n",
    "            for node in nodes:\n",
    "                level_str += str(node) + \"\\n\"\n",
    "                if node.left:\n",
    "                    new_nodes.append(node.left)\n",
    "                if node.right:\n",
    "                    new_nodes.append(node.right)\n",
    "            string += level_str+\"\\n--------------------------------------------------\\n\"\n",
    "            nodes = new_nodes\n",
    "        return string"
   ]
  }
 ],
 "metadata": {
  "kernelspec": {
   "display_name": "Python 3",
   "language": "python",
   "name": "python3"
  },
  "language_info": {
   "codemirror_mode": {
    "name": "ipython",
    "version": 3
   },
   "file_extension": ".py",
   "mimetype": "text/x-python",
   "name": "python",
   "nbconvert_exporter": "python",
   "pygments_lexer": "ipython3",
   "version": "3.6.2"
  },
  "toc": {
   "nav_menu": {},
   "number_sections": true,
   "sideBar": true,
   "skip_h1_title": true,
   "toc_cell": true,
   "toc_position": {
    "height": "988px",
    "left": "0px",
    "right": "890px",
    "top": "92px",
    "width": "70px"
   },
   "toc_section_display": "block",
   "toc_window_display": true
  }
 },
 "nbformat": 4,
 "nbformat_minor": 2
}
