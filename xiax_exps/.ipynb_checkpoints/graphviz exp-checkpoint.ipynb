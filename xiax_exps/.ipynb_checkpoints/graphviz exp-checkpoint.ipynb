{
 "cells": [
  {
   "cell_type": "markdown",
   "metadata": {
    "toc": "true"
   },
   "source": [
    " # Table of Contents\n",
    "<div class=\"toc\" style=\"margin-top: 1em;\"><ul class=\"toc-item\" id=\"toc-level0\"></ul></div>"
   ]
  },
  {
   "cell_type": "code",
   "execution_count": 15,
   "metadata": {
    "ExecuteTime": {
     "end_time": "2017-10-27T22:19:55.911709Z",
     "start_time": "2017-10-27T22:19:55.908331Z"
    }
   },
   "outputs": [],
   "source": [
    "import os, sys\n",
    "root_dir = os.path.dirname(os.getcwd())\n",
    "sys.path.insert(0, root_dir)"
   ]
  },
  {
   "cell_type": "code",
   "execution_count": 16,
   "metadata": {
    "ExecuteTime": {
     "end_time": "2017-10-27T22:19:55.916991Z",
     "start_time": "2017-10-27T22:19:55.913433Z"
    }
   },
   "outputs": [],
   "source": [
    "import random\n",
    "import numpy as np\n",
    "import pandas as pd\n",
    "from lib.node import Node\n",
    "from lib.tree import Tree"
   ]
  },
  {
   "cell_type": "code",
   "execution_count": 17,
   "metadata": {
    "ExecuteTime": {
     "end_time": "2017-10-27T22:19:55.927252Z",
     "start_time": "2017-10-27T22:19:55.919074Z"
    }
   },
   "outputs": [],
   "source": [
    "file_path = '../data/research/sonar.all-data.csv'\n",
    "df = pd.read_csv(file_path, header=None)"
   ]
  },
  {
   "cell_type": "code",
   "execution_count": 18,
   "metadata": {
    "ExecuteTime": {
     "end_time": "2017-10-27T22:20:12.889602Z",
     "start_time": "2017-10-27T22:19:55.929121Z"
    },
    "collapsed": true
   },
   "outputs": [],
   "source": [
    "ls = [x for x in range(60)]\n",
    "tree = Tree(df, 6, None, range(df.shape[0]-20), ls)\n",
    "tree.fit()"
   ]
  },
  {
   "cell_type": "code",
   "execution_count": 19,
   "metadata": {
    "ExecuteTime": {
     "end_time": "2017-10-27T22:20:12.900769Z",
     "start_time": "2017-10-27T22:20:12.891324Z"
    }
   },
   "outputs": [
    {
     "name": "stdout",
     "output_type": "stream",
     "text": [
      "digraph Tree {\n",
      "node [shape=box];\n",
      "1481444012 [label=\"X[10] < 0.1734\n",
      "gini = 0.3866231853353914\n",
      "samples = 188\n",
      "distribution = [74, 114]\"];\n",
      "9619683196 [label=\"X[3] < 0.0525\n",
      "gini = 0.1908688349366316\n",
      "samples = 74\n",
      "distribution = [59, 15]\"];\n",
      "1481444012 -> 9619683196 [labeldistance=8, labelangle=30, xlabel=\"True\"]\n",
      "7883953841 [label=\"X[44] < 0.2662\n",
      "gini = 0.3526099198613819\n",
      "samples = 114\n",
      "distribution = [81, 33]\"];\n",
      "1481444012 -> 7883953841 [labeldistance=8, labelangle=-30, xlabel=\"False\"]\n",
      "6800601235 [label=\"X[0] < 0.0412\n",
      "gini = 0.06541778174249183\n",
      "samples = 59\n",
      "distribution = [57, 2]\"];\n",
      "9619683196 -> 6800601235 [labeldistance=8, labelangle=30, xlabel=\"True\"]\n",
      "3825293012 [label=\"X[44] < 0.1675\n",
      "gini = 0.1904761904761905\n",
      "samples = 15\n",
      "distribution = [7, 8]\"];\n",
      "9619683196 -> 3825293012 [labeldistance=8, labelangle=-30, xlabel=\"False\"]\n",
      "5976503282 [label=\"X[35] < 0.5564\n",
      "gini = 0.35099715099715095\n",
      "samples = 81\n",
      "distribution = [65, 16]\"];\n",
      "7883953841 -> 5976503282 [labeldistance=8, labelangle=30, xlabel=\"True\"]\n",
      "1138778432 [label=\"samples = 33\n",
      "ratio = [0.0, 1.0]\"];\n",
      "7883953841 -> 1138778432 [labeldistance=8, labelangle=-30, xlabel=\"False\"]\n",
      "6008376467 [label=\"X[2] < 0.0024\n",
      "gini = 0.03446115288220553\n",
      "samples = 57\n",
      "distribution = [1, 56]\"];\n",
      "6800601235 -> 6008376467 [labeldistance=8, labelangle=30, xlabel=\"True\"]\n",
      "7737839605 [label=\"samples = 2\n",
      "ratio = [0.0, 1.0]\"];\n",
      "6800601235 -> 7737839605 [labeldistance=8, labelangle=-30, xlabel=\"False\"]\n",
      "9490674145 [label=\"X[8] < 0.0889\n",
      "gini = 0.0\n",
      "samples = 7\n",
      "distribution = [2, 5]\"];\n",
      "3825293012 -> 9490674145 [labeldistance=8, labelangle=30, xlabel=\"True\"]\n",
      "1216407956 [label=\"samples = 8\n",
      "ratio = [0.0, 1.0]\"];\n",
      "3825293012 -> 1216407956 [labeldistance=8, labelangle=-30, xlabel=\"False\"]\n",
      "9837614871 [label=\"X[50] < 0.0125\n",
      "gini = 0.3152658152658153\n",
      "samples = 65\n",
      "distribution = [27, 38]\"];\n",
      "5976503282 -> 9837614871 [labeldistance=8, labelangle=30, xlabel=\"True\"]\n",
      "3659008073 [label=\"samples = 16\n",
      "ratio = [1.0, 0.0]\"];\n",
      "5976503282 -> 3659008073 [labeldistance=8, labelangle=-30, xlabel=\"False\"]\n",
      "9861073705 [label=\"samples = 1\n",
      "ratio = [0.0, 1.0]\"];\n",
      "6008376467 -> 9861073705 [labeldistance=8, labelangle=30, xlabel=\"True\"]\n",
      "1643398521 [label=\"X[27] < 1.0\n",
      "gini = 0.0\n",
      "samples = 56\n",
      "distribution = [55, 1]\"];\n",
      "6008376467 -> 1643398521 [labeldistance=8, labelangle=-30, xlabel=\"False\"]\n",
      "5319167794 [label=\"samples = 2\n",
      "ratio = [0.0, 1.0]\"];\n",
      "9490674145 -> 5319167794 [labeldistance=8, labelangle=30, xlabel=\"True\"]\n",
      "6116398006 [label=\"samples = 5\n",
      "ratio = [1.0, 0.0]\"];\n",
      "9490674145 -> 6116398006 [labeldistance=8, labelangle=-30, xlabel=\"False\"]\n",
      "5195282807 [label=\"X[51] < 0.0095\n",
      "gini = 0.28001628001627993\n",
      "samples = 27\n",
      "distribution = [13, 14]\"];\n",
      "9837614871 -> 5195282807 [labeldistance=8, labelangle=30, xlabel=\"True\"]\n",
      "7339679292 [label=\"X[41] < 0.0866\n",
      "gini = 0.1385448916408668\n",
      "samples = 38\n",
      "distribution = [4, 34]\"];\n",
      "9837614871 -> 7339679292 [labeldistance=8, labelangle=-30, xlabel=\"False\"]\n",
      "2179720813 [label=\"samples = 55\n",
      "ratio = [1.0, 0.0]\"];\n",
      "1643398521 -> 2179720813 [labeldistance=8, labelangle=30, xlabel=\"True\"]\n",
      "5788380520 [label=\"samples = 1\n",
      "ratio = [0.0, 1.0]\"];\n",
      "1643398521 -> 5788380520 [labeldistance=8, labelangle=-30, xlabel=\"False\"]\n",
      "7794037104 [label=\"X[0] < 0.01\n",
      "gini = 0.0\n",
      "samples = 13\n",
      "distribution = [1, 12]\"];\n",
      "5195282807 -> 7794037104 [labeldistance=8, labelangle=30, xlabel=\"True\"]\n",
      "6849477963 [label=\"X[14] < 0.6479\n",
      "gini = 0.12987012987012994\n",
      "samples = 14\n",
      "distribution = [11, 3]\"];\n",
      "5195282807 -> 6849477963 [labeldistance=8, labelangle=-30, xlabel=\"False\"]\n",
      "1205466260 [label=\"X[0] < 0.0587\n",
      "gini = 0.0\n",
      "samples = 4\n",
      "distribution = [3, 1]\"];\n",
      "7339679292 -> 1205466260 [labeldistance=8, labelangle=30, xlabel=\"True\"]\n",
      "7698960657 [label=\"X[18] < 0.2745\n",
      "gini = 0.0\n",
      "samples = 34\n",
      "distribution = [2, 32]\"];\n",
      "7339679292 -> 7698960657 [labeldistance=8, labelangle=-30, xlabel=\"False\"]\n",
      "3934303407 [label=\"samples = 1\n",
      "ratio = [0.0, 1.0]\"];\n",
      "7794037104 -> 3934303407 [labeldistance=8, labelangle=30, xlabel=\"True\"]\n",
      "7324905588 [label=\"samples = 12\n",
      "ratio = [1.0, 0.0]\"];\n",
      "7794037104 -> 7324905588 [labeldistance=8, labelangle=-30, xlabel=\"False\"]\n",
      "9858139607 [label=\"samples = 11\n",
      "ratio = [0.09090909090909091, 0.9090909090909091]\"];\n",
      "6849477963 -> 9858139607 [labeldistance=8, labelangle=30, xlabel=\"True\"]\n",
      "5328763732 [label=\"samples = 3\n",
      "ratio = [1.0, 0.0]\"];\n",
      "6849477963 -> 5328763732 [labeldistance=8, labelangle=-30, xlabel=\"False\"]\n",
      "8978318241 [label=\"samples = 3\n",
      "ratio = [1.0, 0.0]\"];\n",
      "1205466260 -> 8978318241 [labeldistance=8, labelangle=30, xlabel=\"True\"]\n",
      "7678738007 [label=\"samples = 1\n",
      "ratio = [0.0, 1.0]\"];\n",
      "1205466260 -> 7678738007 [labeldistance=8, labelangle=-30, xlabel=\"False\"]\n",
      "6303898653 [label=\"samples = 2\n",
      "ratio = [1.0, 0.0]\"];\n",
      "7698960657 -> 6303898653 [labeldistance=8, labelangle=30, xlabel=\"True\"]\n",
      "4422090120 [label=\"samples = 32\n",
      "ratio = [0.0, 1.0]\"];\n",
      "7698960657 -> 4422090120 [labeldistance=8, labelangle=-30, xlabel=\"False\"]\n",
      "}\n"
     ]
    }
   ],
   "source": [
    "print(tree.visualize())"
   ]
  },
  {
   "cell_type": "code",
   "execution_count": 20,
   "metadata": {
    "ExecuteTime": {
     "end_time": "2017-10-27T22:20:13.010438Z",
     "start_time": "2017-10-27T22:20:12.903102Z"
    },
    "scrolled": false
   },
   "outputs": [
    {
     "ename": "FileNotFoundError",
     "evalue": "[Errno 2] No such file or directory: 'vis/188_predict_vis.dot'",
     "output_type": "error",
     "traceback": [
      "\u001b[0;31m---------------------------------------------------------------------------\u001b[0m",
      "\u001b[0;31mFileNotFoundError\u001b[0m                         Traceback (most recent call last)",
      "\u001b[0;32m<ipython-input-20-17e6d67070f0>\u001b[0m in \u001b[0;36m<module>\u001b[0;34m()\u001b[0m\n\u001b[0;32m----> 1\u001b[0;31m \u001b[0mtree\u001b[0m\u001b[0;34m.\u001b[0m\u001b[0mpredict\u001b[0m\u001b[0;34m(\u001b[0m\u001b[0mdf\u001b[0m\u001b[0;34m[\u001b[0m\u001b[0;36m188\u001b[0m\u001b[0;34m:\u001b[0m\u001b[0;36m208\u001b[0m\u001b[0;34m]\u001b[0m\u001b[0;34m)\u001b[0m\u001b[0;34m\u001b[0m\u001b[0m\n\u001b[0m",
      "\u001b[0;32m~/comps_ediscovery/lib/tree.py\u001b[0m in \u001b[0;36mpredict\u001b[0;34m(self, test_data)\u001b[0m\n\u001b[1;32m     91\u001b[0m                     \u001b[0mcur_node\u001b[0m \u001b[0;34m=\u001b[0m \u001b[0mcur_node\u001b[0m\u001b[0;34m.\u001b[0m\u001b[0mright\u001b[0m\u001b[0;34m\u001b[0m\u001b[0m\n\u001b[1;32m     92\u001b[0m \u001b[0;31m#         here, cur_node should be the leaf\u001b[0m\u001b[0;34m\u001b[0m\u001b[0;34m\u001b[0m\u001b[0m\n\u001b[0;32m---> 93\u001b[0;31m             \u001b[0mr_confidence\u001b[0m \u001b[0;34m=\u001b[0m \u001b[0mcur_node\u001b[0m\u001b[0;34m.\u001b[0m\u001b[0mget_proportions\u001b[0m\u001b[0;34m(\u001b[0m\u001b[0;34m'R'\u001b[0m\u001b[0;34m)\u001b[0m\u001b[0;34m\u001b[0m\u001b[0m\n\u001b[0m\u001b[1;32m     94\u001b[0m             \u001b[0mm_confidence\u001b[0m \u001b[0;34m=\u001b[0m \u001b[0mcur_node\u001b[0m\u001b[0;34m.\u001b[0m\u001b[0mget_proportions\u001b[0m\u001b[0;34m(\u001b[0m\u001b[0;34m'M'\u001b[0m\u001b[0;34m)\u001b[0m\u001b[0;34m\u001b[0m\u001b[0m\n\u001b[1;32m     95\u001b[0m             \u001b[0mconfidences\u001b[0m\u001b[0;34m.\u001b[0m\u001b[0mappend\u001b[0m\u001b[0;34m(\u001b[0m\u001b[0;34m(\u001b[0m\u001b[0mr_confidence\u001b[0m\u001b[0;34m,\u001b[0m \u001b[0mm_confidence\u001b[0m\u001b[0;34m)\u001b[0m\u001b[0;34m)\u001b[0m\u001b[0;34m\u001b[0m\u001b[0m\n",
      "\u001b[0;31mFileNotFoundError\u001b[0m: [Errno 2] No such file or directory: 'vis/188_predict_vis.dot'"
     ]
    }
   ],
   "source": [
    "tree.predict(df[188:208])"
   ]
  },
  {
   "cell_type": "code",
   "execution_count": null,
   "metadata": {
    "ExecuteTime": {
     "end_time": "2017-10-27T22:20:13.011495Z",
     "start_time": "2017-10-27T22:19:55.911Z"
    }
   },
   "outputs": [],
   "source": [
    "%%bash \n",
    "cd vis\n",
    "# mac xargs syntax seems different from linux\n",
    "ls *.dot | xargs -I '{}' dot '{}' -Tpng -O\n",
    "ls *.dot | xargs -I '{}' dot '{}' -Tsvg -O"
   ]
  },
  {
   "cell_type": "code",
   "execution_count": null,
   "metadata": {
    "ExecuteTime": {
     "end_time": "2017-10-27T22:20:13.012501Z",
     "start_time": "2017-10-27T22:19:55.912Z"
    },
    "collapsed": true
   },
   "outputs": [],
   "source": [
    "%%bash\n",
    "dot -Tpng tree.dot -o tree.png\n",
    "dot -Tsvg tree.dot -o tree.svg"
   ]
  },
  {
   "cell_type": "code",
   "execution_count": null,
   "metadata": {
    "ExecuteTime": {
     "end_time": "2017-10-27T22:20:13.013379Z",
     "start_time": "2017-10-27T22:19:55.913Z"
    }
   },
   "outputs": [],
   "source": [
    "from IPython.display import Image\n",
    "Image(filename='tree.png')"
   ]
  },
  {
   "cell_type": "code",
   "execution_count": null,
   "metadata": {
    "collapsed": true
   },
   "outputs": [],
   "source": []
  }
 ],
 "metadata": {
  "kernelspec": {
   "display_name": "Python 3",
   "language": "python",
   "name": "python3"
  },
  "language_info": {
   "codemirror_mode": {
    "name": "ipython",
    "version": 3
   },
   "file_extension": ".py",
   "mimetype": "text/x-python",
   "name": "python",
   "nbconvert_exporter": "python",
   "pygments_lexer": "ipython3",
   "version": "3.6.2"
  },
  "toc": {
   "nav_menu": {},
   "number_sections": true,
   "sideBar": true,
   "skip_h1_title": true,
   "toc_cell": true,
   "toc_position": {
    "height": "988px",
    "left": "0px",
    "right": "890px",
    "top": "92px",
    "width": "70px"
   },
   "toc_section_display": "block",
   "toc_window_display": true
  }
 },
 "nbformat": 4,
 "nbformat_minor": 2
}
